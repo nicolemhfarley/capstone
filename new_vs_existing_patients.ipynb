{
 "cells": [
  {
   "cell_type": "code",
   "execution_count": null,
   "metadata": {
    "scrolled": true
   },
   "outputs": [],
   "source": [
    "import numpy as np\n",
    "import pandas as pd\n",
    "import matplotlib.pyplot as plt\n",
    "%matplotlib inline\n",
    "from statsmodels.graphics import tsaplots\n",
    "import statsmodels.api as sm\n",
    "from statsmodels.tsa.arima_model import ARIMA, ARIMAResults, ARMA\n",
    "from statsmodels.tsa.arima_process import ArmaProcess\n",
    "from sklearn.metrics import mean_squared_error\n",
    "%load_ext autoreload\n",
    "%autoreload 2\n",
    "import warnings\n",
    "warnings.filterwarnings(\"ignore\")\n",
    "import re"
   ]
  },
  {
   "cell_type": "code",
   "execution_count": null,
   "metadata": {},
   "outputs": [],
   "source": [
    "from timeseries_functions import index_to_datetime, weekly_resample, plot_all_df_columns, plot_series,\\\n",
    "plot_series_save_fig, plot_series_and_differences, run_augmented_Dickey_Fuller_test, \\\n",
    "plot_autocorrelation, plot_partial_autocorrelation, plot_decomposition"
   ]
  },
  {
   "cell_type": "code",
   "execution_count": null,
   "metadata": {},
   "outputs": [],
   "source": [
    "from timeseries_functions import make_col_vector, make_design_matrix, fit_linear_trend,\\\n",
    "plot_trend_data, plot_linear_trend"
   ]
  },
  {
   "cell_type": "code",
   "execution_count": null,
   "metadata": {},
   "outputs": [],
   "source": [
    "from AR_MA_functions import get_AR_model, plot_AR_model, get_AR_model_order_BIC,\\\n",
    "plot_BIC_AR_model, get_MA_model, plot_MA_model, get_MA_train_test_predictions,\\\n",
    "get_MA_train_test_MSE"
   ]
  },
  {
   "cell_type": "code",
   "execution_count": null,
   "metadata": {},
   "outputs": [],
   "source": [
    "from ARIMA_functions import get_ARIMA_model, plot_ARIMA_model, plot_ARIMAX_model_save_fig, plot_ARIMA_resids,\\\n",
    "get_ARIMA_forecast, plot_ARIMA_forecast_and_CI, plot_data_plus_ARIMA_predictions, \\\n",
    "test_rolling_ARIMA_forecast,get_predictions_df_and_plot_rolling_ARIMA_forecast, get_ARIMAX_predictions"
   ]
  },
  {
   "cell_type": "raw",
   "metadata": {},
   "source": [
    "import data from folowing csv files: Appointments, CallsRingCentral, MettingReasonForVisits, MeetingStatus, Offices, ProvidersSchedules"
   ]
  },
  {
   "cell_type": "markdown",
   "metadata": {},
   "source": [
    "### import data"
   ]
  },
  {
   "cell_type": "code",
   "execution_count": null,
   "metadata": {},
   "outputs": [],
   "source": [
    "# appointments = pd.read_csv('Appointments.csv')\n",
    "appointments = pd.read_csv('./data/AppointmentsSince2015.csv')"
   ]
  },
  {
   "cell_type": "code",
   "execution_count": null,
   "metadata": {},
   "outputs": [],
   "source": [
    "appointments.shape"
   ]
  },
  {
   "cell_type": "code",
   "execution_count": null,
   "metadata": {},
   "outputs": [],
   "source": [
    "calls = pd.read_csv('./data/CallsRingCentral.csv')"
   ]
  },
  {
   "cell_type": "code",
   "execution_count": null,
   "metadata": {},
   "outputs": [],
   "source": [
    "reason_for_visit = pd.read_csv('./data/MeetingReasonForVisits.csv')"
   ]
  },
  {
   "cell_type": "code",
   "execution_count": null,
   "metadata": {},
   "outputs": [],
   "source": [
    "meeting_status = pd.read_csv('./data/MeetingStatus.csv')"
   ]
  },
  {
   "cell_type": "code",
   "execution_count": null,
   "metadata": {},
   "outputs": [],
   "source": [
    "offices = pd.read_csv('./data/Offices.csv')"
   ]
  },
  {
   "cell_type": "code",
   "execution_count": null,
   "metadata": {},
   "outputs": [],
   "source": [
    "providers_schedules = pd.read_csv('./data/ProvidersSchedulesLastest.csv')"
   ]
  },
  {
   "cell_type": "markdown",
   "metadata": {},
   "source": [
    "### combine/merge dataframes"
   ]
  },
  {
   "cell_type": "raw",
   "metadata": {},
   "source": [
    "- regroup provider specialty into following categories: doctor, RN/PA, therapist\n",
    "- Fill in id columns in Appointments df: reason for visit id, status id, office id with names/descriptions from the other dataframes"
   ]
  },
  {
   "cell_type": "code",
   "execution_count": null,
   "metadata": {},
   "outputs": [],
   "source": [
    "doctors = ['Psychiatry', 'Child & Adolescent Psychiatry', ]\n",
    "RN_PAs = ['Medical', 'Psych/Mental Health, Child & Adolescent', 'Psych/Mental Health', 'Physician Assistant']\n",
    "therapists = ['Marriage & Family Therapist', 'Psychologist', 'Specialist/Technologist, Other', 'Clinical' ]"
   ]
  },
  {
   "cell_type": "code",
   "execution_count": null,
   "metadata": {},
   "outputs": [],
   "source": [
    "appointments['Specialty'].loc[appointments['Specialty'].isin(doctors)]= 'doctor'\n",
    "appointments['Specialty'].loc[appointments['Specialty'].isin(RN_PAs)] = 'RN/PA'\n",
    "appointments['Specialty'].loc[appointments['Specialty'].isin(therapists)] = 'therapist'"
   ]
  },
  {
   "cell_type": "code",
   "execution_count": null,
   "metadata": {},
   "outputs": [],
   "source": [
    "merged1 = pd.merge(left=appointments, right=reason_for_visit, how='left', left_on='MeetingReasonForVisitId',\\\n",
    "                  right_on='Id')"
   ]
  },
  {
   "cell_type": "code",
   "execution_count": null,
   "metadata": {},
   "outputs": [],
   "source": [
    "merged1 = merged1.rename(columns={'MeetingReasonForVisitId': 'ReasonForVisitId', 'Name':'ReasonForVisitName', 'Description':'ReasonForVisitDescription'})"
   ]
  },
  {
   "cell_type": "code",
   "execution_count": null,
   "metadata": {},
   "outputs": [],
   "source": [
    "merged1.drop('Id', axis=1, inplace=True)"
   ]
  },
  {
   "cell_type": "code",
   "execution_count": null,
   "metadata": {},
   "outputs": [],
   "source": [
    "# merge in office name from offices df\n",
    "merged1 = pd.merge(left=merged1, right=offices, how='left', left_on='OfficeId', right_on='id')"
   ]
  },
  {
   "cell_type": "code",
   "execution_count": null,
   "metadata": {},
   "outputs": [],
   "source": [
    "merged1 = merged1.rename(columns={'Name':'OfficeName', 'id_x':'id'})"
   ]
  },
  {
   "cell_type": "code",
   "execution_count": null,
   "metadata": {},
   "outputs": [],
   "source": [
    "merged1.drop('id_y', axis=1, inplace=True)"
   ]
  },
  {
   "cell_type": "code",
   "execution_count": null,
   "metadata": {},
   "outputs": [],
   "source": [
    "merged1 = pd.merge(left=merged1, right=meeting_status, how='left', left_on='MeetingStatusId', right_on='Id')"
   ]
  },
  {
   "cell_type": "code",
   "execution_count": null,
   "metadata": {},
   "outputs": [],
   "source": [
    "merged1 = merged1.rename(columns={'Name':'MeetingStatusName', 'Description':'MeetingStatusDescription'})"
   ]
  },
  {
   "cell_type": "code",
   "execution_count": null,
   "metadata": {},
   "outputs": [],
   "source": [
    "merged1.drop('Id', axis=1, inplace=True)"
   ]
  },
  {
   "cell_type": "code",
   "execution_count": null,
   "metadata": {},
   "outputs": [],
   "source": [
    "# reorder columns within the df\n",
    "ordered_columns = ['id', 'Patient', 'PatientAgeMeetingDate', 'PatientGender',\n",
    "       'PatientState', 'PatientCity', 'PatientInsurance', 'Provider',\n",
    "       'Specialty', 'AppointmentDate', 'AppointmentCreated', 'AppointmentDuration', 'ReasonForVisitId', 'ReasonForVisitName',\n",
    "       'ReasonForVisitDescription','MeetingStatusId', 'MeetingStatusName',\n",
    "       'MeetingStatusDescription', 'OfficeId',  'OfficeName', 'CreatedBy']"
   ]
  },
  {
   "cell_type": "code",
   "execution_count": null,
   "metadata": {},
   "outputs": [],
   "source": [
    "merged1 = merged1[ordered_columns]"
   ]
  },
  {
   "cell_type": "markdown",
   "metadata": {},
   "source": [
    "### Data Cleaning: \n",
    "#### filling NaN values"
   ]
  },
  {
   "cell_type": "code",
   "execution_count": null,
   "metadata": {},
   "outputs": [],
   "source": [
    "# filling NaN values in Specialty\n",
    "implied_therapy = ['Therapy', 'New Patient Therapy', ]\n",
    "implied_doctor = ['Therapy Telepsychiatry','Follow up Telepsychiatry', 'New Patient Therapy Telepsychiatry',\\\n",
    "                  'New Patient MD Adult', 'New Patient MD Adult Telepsychiatry']\n",
    "merged1['Specialty'].loc[merged1['ReasonForVisitName'].isin(implied_therapy)] = 'therapist'\n",
    "merged1['Specialty'].loc[merged1['ReasonForVisitName'].isin(implied_doctor)] = 'doctor'"
   ]
  },
  {
   "cell_type": "raw",
   "metadata": {},
   "source": [
    "Need to remove outliers for visit Duration --> QME testing (workers comp) & initial child appointments"
   ]
  },
  {
   "cell_type": "code",
   "execution_count": null,
   "metadata": {},
   "outputs": [],
   "source": [
    "# # convert date columns to datetime \n",
    "merged1['AppointmentCreated'] = pd.to_datetime(merged1['AppointmentCreated'], errors='coerce')#.apply(lambda x: x.date()) #, format='%Y-%m-%d')\n",
    "merged1['AppointmentDate'] = pd.to_datetime(merged1['AppointmentDate'], errors='coerce')#.apply(lambda x: x.date()) #, format='%Y-%m-%d')"
   ]
  },
  {
   "cell_type": "code",
   "execution_count": null,
   "metadata": {},
   "outputs": [],
   "source": [
    "# calculate time between AppointmentCreated and AppointmentDate\n",
    "merged1['DaysFromAppointmentCreatedToVisit'] = (merged1['AppointmentDate'] - merged1['AppointmentCreated']).dt.days"
   ]
  },
  {
   "cell_type": "code",
   "execution_count": null,
   "metadata": {},
   "outputs": [],
   "source": [
    "merged1 = merged1.set_index('AppointmentDate')"
   ]
  },
  {
   "cell_type": "code",
   "execution_count": null,
   "metadata": {},
   "outputs": [],
   "source": [
    "merged1.to_csv('./data/appointments_full.csv')"
   ]
  },
  {
   "cell_type": "code",
   "execution_count": null,
   "metadata": {},
   "outputs": [],
   "source": [
    "merged2 = merged1.copy()"
   ]
  },
  {
   "cell_type": "code",
   "execution_count": null,
   "metadata": {},
   "outputs": [],
   "source": [
    "# drop rows with missing specialty\n",
    "merged2.dropna(subset=['Specialty'], how='all', inplace=True)"
   ]
  },
  {
   "cell_type": "markdown",
   "metadata": {
    "collapsed": true
   },
   "source": [
    "### Use the number of hours per day per provider for each specialty"
   ]
  },
  {
   "cell_type": "code",
   "execution_count": null,
   "metadata": {},
   "outputs": [],
   "source": [
    "merged2['Hours_Spent'] = merged2['AppointmentDuration'] /60"
   ]
  },
  {
   "cell_type": "code",
   "execution_count": null,
   "metadata": {},
   "outputs": [],
   "source": [
    "merged2['AppointmentDate'] = pd.to_datetime(merged2.index,format='%Y-%m-%d')"
   ]
  },
  {
   "cell_type": "code",
   "execution_count": null,
   "metadata": {},
   "outputs": [],
   "source": [
    "merged2.shape\n",
    "#merged2.columns, merged2.index"
   ]
  },
  {
   "cell_type": "code",
   "execution_count": null,
   "metadata": {},
   "outputs": [],
   "source": [
    "# drop outlier appointments that are > 90 minutes long\n",
    "merged2 = merged2[merged2['AppointmentDuration'] <= 90]"
   ]
  },
  {
   "cell_type": "code",
   "execution_count": null,
   "metadata": {},
   "outputs": [],
   "source": [
    "merged2.index"
   ]
  },
  {
   "cell_type": "code",
   "execution_count": null,
   "metadata": {},
   "outputs": [],
   "source": [
    "# change appointmentduration to hours\n",
    "merged2['AppointmentDuration'] = merged2['AppointmentDuration'] / 60.0"
   ]
  },
  {
   "cell_type": "code",
   "execution_count": null,
   "metadata": {},
   "outputs": [],
   "source": [
    "# group by specialty\n",
    "doctors = merged2[merged2['Specialty'] == 'doctor']\n",
    "RNPA = merged2[merged2['Specialty'] == 'RN/PA']\n",
    "therapists = merged2[merged2['Specialty'] == 'therapist']"
   ]
  },
  {
   "cell_type": "code",
   "execution_count": null,
   "metadata": {},
   "outputs": [],
   "source": [
    "doctors.columns"
   ]
  },
  {
   "cell_type": "code",
   "execution_count": null,
   "metadata": {},
   "outputs": [],
   "source": [
    "columns = ['id', 'Patient', 'Provider', 'Specialty', 'AppointmentCreated', 'AppointmentDuration', 'ReasonForVisitId', 'ReasonForVisitName', 'ReasonForVisitDescription']"
   ]
  },
  {
   "cell_type": "code",
   "execution_count": null,
   "metadata": {},
   "outputs": [],
   "source": [
    "# keep only some columns\n",
    "doctors = doctors[columns]\n",
    "RNPA = RNPA[columns]\n",
    "therapists = therapists[columns]"
   ]
  },
  {
   "cell_type": "markdown",
   "metadata": {},
   "source": [
    "### doctors category"
   ]
  },
  {
   "cell_type": "code",
   "execution_count": null,
   "metadata": {},
   "outputs": [],
   "source": [
    "doctors.head()"
   ]
  },
  {
   "cell_type": "code",
   "execution_count": null,
   "metadata": {},
   "outputs": [],
   "source": [
    "doctors.index"
   ]
  },
  {
   "cell_type": "code",
   "execution_count": null,
   "metadata": {},
   "outputs": [],
   "source": [
    "pd.value_counts(doctors['AppointmentDuration'])"
   ]
  },
  {
   "cell_type": "markdown",
   "metadata": {},
   "source": [
    "#### separate new from existing patients"
   ]
  },
  {
   "cell_type": "code",
   "execution_count": null,
   "metadata": {
    "scrolled": true
   },
   "outputs": [],
   "source": [
    "# doctors\n",
    "dr_new = doctors[doctors['ReasonForVisitDescription'].str.contains('New')]\n",
    "dr_existing = doctors[~doctors['ReasonForVisitDescription'].str.contains('New')]"
   ]
  },
  {
   "cell_type": "code",
   "execution_count": null,
   "metadata": {
    "scrolled": true
   },
   "outputs": [],
   "source": [
    "pd.value_counts(dr_new['ReasonForVisitName'])"
   ]
  },
  {
   "cell_type": "code",
   "execution_count": null,
   "metadata": {},
   "outputs": [],
   "source": [
    "pd.value_counts(dr_existing['ReasonForVisitName'])"
   ]
  },
  {
   "cell_type": "code",
   "execution_count": null,
   "metadata": {},
   "outputs": [],
   "source": [
    "# drop columns where reason for visit name = Follow up, THerapy, returning patient existing patient dataframee\n",
    "keep_cols = ['Follow up Telepsychiatry', 'Follow up', 'Therapy Telepsychiatry', 'Returning Patient', 'Returning Patient MD Adult']\n",
    "dr_existing = dr_existing[dr_existing['ReasonForVisitName'].isin(keep_cols)]"
   ]
  },
  {
   "cell_type": "code",
   "execution_count": null,
   "metadata": {},
   "outputs": [],
   "source": [
    "pd.value_counts(dr_existing['ReasonForVisitName'])"
   ]
  },
  {
   "cell_type": "code",
   "execution_count": null,
   "metadata": {},
   "outputs": [],
   "source": [
    "dr_existing.columns"
   ]
  },
  {
   "cell_type": "code",
   "execution_count": null,
   "metadata": {},
   "outputs": [],
   "source": [
    "# Get dr appointment hours\n",
    "dr_new_hours = weekly_resample(dr_new['AppointmentDuration'])\n",
    "dr_existing_hours = weekly_resample(dr_existing['AppointmentDuration'])"
   ]
  },
  {
   "cell_type": "code",
   "execution_count": null,
   "metadata": {},
   "outputs": [],
   "source": [
    "dr_new_hours.index"
   ]
  },
  {
   "cell_type": "code",
   "execution_count": null,
   "metadata": {},
   "outputs": [],
   "source": [
    "# keep data through April of this year\n",
    "dr_new_hours = dr_new_hours[:'2018-04-30']\n",
    "dr_existing_hours = dr_existing_hours[:'2018-04-30']"
   ]
  },
  {
   "cell_type": "code",
   "execution_count": null,
   "metadata": {
    "scrolled": true
   },
   "outputs": [],
   "source": [
    "dr_new_hours\n",
    "# dr_existing_hours"
   ]
  },
  {
   "cell_type": "code",
   "execution_count": null,
   "metadata": {},
   "outputs": [],
   "source": [
    "# drop partial first week from dr_existing_hours\n",
    "dr_existing_hours = dr_existing_hours[1:]"
   ]
  },
  {
   "cell_type": "code",
   "execution_count": null,
   "metadata": {},
   "outputs": [],
   "source": [
    "# dr_existing_hours"
   ]
  },
  {
   "cell_type": "markdown",
   "metadata": {},
   "source": [
    "#### get number of unique providers seeing new and existing patients to use as exogenous variable"
   ]
  },
  {
   "cell_type": "code",
   "execution_count": null,
   "metadata": {},
   "outputs": [],
   "source": [
    "# get dr number of unique providers for each dataframe\n",
    "num_dr_new = dr_new['Provider'].resample('W-MON', lambda x: x.nunique())\n",
    "num_dr_existing = dr_existing['Provider'].resample('W-MON', lambda x: x.nunique())"
   ]
  },
  {
   "cell_type": "code",
   "execution_count": null,
   "metadata": {},
   "outputs": [],
   "source": [
    "# keep data through April of this year\n",
    "num_dr_new = num_dr_new[:'2018-04-30']\n",
    "# keep data through April of this year\n",
    "num_dr_existing = num_dr_existing[:'2018-04-30']"
   ]
  },
  {
   "cell_type": "code",
   "execution_count": null,
   "metadata": {},
   "outputs": [],
   "source": [
    "# drop partial first week\n",
    "num_dr_existing = num_dr_existing[1:]"
   ]
  },
  {
   "cell_type": "code",
   "execution_count": null,
   "metadata": {},
   "outputs": [],
   "source": [
    "# num_dr_new\n",
    "# num_dr_existing"
   ]
  },
  {
   "cell_type": "code",
   "execution_count": null,
   "metadata": {},
   "outputs": [],
   "source": [
    "num_dr_new.index"
   ]
  },
  {
   "cell_type": "markdown",
   "metadata": {},
   "source": [
    "#### test for stationarity"
   ]
  },
  {
   "cell_type": "code",
   "execution_count": null,
   "metadata": {},
   "outputs": [],
   "source": [
    "# dr hours with new patients\n",
    "run_augmented_Dickey_Fuller_test(series=dr_new_hours, num_diffs=2)"
   ]
  },
  {
   "cell_type": "code",
   "execution_count": null,
   "metadata": {},
   "outputs": [],
   "source": [
    "# dr hours with existing patients\n",
    "run_augmented_Dickey_Fuller_test(series=dr_existing_hours, num_diffs=2)"
   ]
  },
  {
   "cell_type": "raw",
   "metadata": {},
   "source": [
    "Use the first difference for both doctors dataframes"
   ]
  },
  {
   "cell_type": "markdown",
   "metadata": {},
   "source": [
    "#### determine number of AR and MA terms to add for each time series"
   ]
  },
  {
   "cell_type": "code",
   "execution_count": null,
   "metadata": {},
   "outputs": [],
   "source": [
    "# Plot PACF of first difference of each series\n",
    "params = {'figure.figsize': [4,3],'axes.grid.axis': 'both', 'axes.grid': True, 'axes.labelsize': 'Medium', 'font.size': 12.0, \\\n",
    "'lines.linewidth': 2}\n",
    "plot_partial_autocorrelation(series=dr_new_hours.diff()[1:], params=params, lags=30, alpha=0.05, title='PACF {}'.format('first difference of dr hours new patients'))\n",
    "plot_partial_autocorrelation(series=dr_existing_hours.diff()[1:], params=params, lags=30, alpha=0.05, title='PACF {}'.format('first difference of dr hours existing patients'))"
   ]
  },
  {
   "cell_type": "code",
   "execution_count": null,
   "metadata": {},
   "outputs": [],
   "source": [
    "# Plot ACF of first difference of each series\n",
    "plot_autocorrelation(series=dr_new_hours.diff()[1:], params=params, lags=30, alpha=0.05, title='ACF {}'.format('first difference of dr hours new patients'))\n",
    "plot_autocorrelation(series=dr_existing_hours.diff()[1:], params=params, lags=30, alpha=0.05, title='ACF {}'.format('first difference of dr hours existing patients'))"
   ]
  },
  {
   "cell_type": "raw",
   "metadata": {},
   "source": [
    "dr_new_hours use: AR2/MA2\n",
    "dr_existing_hours use: AR4/MA3"
   ]
  },
  {
   "cell_type": "markdown",
   "metadata": {},
   "source": [
    "#### plot ARIMAX model for each Dr dataframe and save figure"
   ]
  },
  {
   "cell_type": "code",
   "execution_count": null,
   "metadata": {},
   "outputs": [],
   "source": [
    "start_date = '2015-01-19' # b/c first row of data was differenced away\n",
    "end_date = '2018-04-30'\n",
    "end_pred = '2018-09-30'"
   ]
  },
  {
   "cell_type": "code",
   "execution_count": null,
   "metadata": {
    "scrolled": true
   },
   "outputs": [],
   "source": [
    "num_dr_new.index"
   ]
  },
  {
   "cell_type": "code",
   "execution_count": null,
   "metadata": {},
   "outputs": [],
   "source": [
    "dr_new_hours.values[1].dtype"
   ]
  },
  {
   "cell_type": "code",
   "execution_count": null,
   "metadata": {},
   "outputs": [],
   "source": [
    "def plot_ARIMAX_model_save_fig(data, order, exog_var, start, end, title='', xlabel='', ylabel='',\n",
    "                              figname='figure.png'):\n",
    "    \"\"\"Plots ARIMAX model\n",
    "    data: pandas Series\n",
    "    order: (p,d,q) format\n",
    "    exog_var = exogenous variable as pandas Series\n",
    "    start/end: starting/ending dates for plot (x_axis)\n",
    "    \"\"\"\n",
    "    results = ARIMA(endog=data, order=order, exog=exog_var).fit()\n",
    "    fig = results.plot_predict(start=start, end=end,exog=exog_var)\n",
    "    plt.title(title)\n",
    "    plt.ylabel(ylabel)\n",
    "    plt.xlabel(xlabel)\n",
    "    plt.show()\n",
    "    fig.savefig(figname)"
   ]
  },
  {
   "cell_type": "code",
   "execution_count": null,
   "metadata": {},
   "outputs": [],
   "source": [
    "# new patients\n",
    "params = {'figure.figsize': [12,6],'axes.grid.axis': 'both', 'axes.grid': True, 'axes.labelsize': 'Medium', 'font.size': 12.0, \\\n",
    "'lines.linewidth': 2}\n",
    "plt.rcParams.update(params)\n",
    "\n",
    "plot_ARIMAX_model_save_fig(data=dr_new_hours, order=(2,1,2), exog_var=num_dr_new, start=start_date,\\\n",
    "                end=end_pred, title='Dr new patients AR2/MA2', xlabel='Time', ylabel='Appointment Hours',\\\n",
    "                              figname='./images/dr_new_patients_AR[2]IMA[2]X.png')"
   ]
  },
  {
   "cell_type": "code",
   "execution_count": null,
   "metadata": {},
   "outputs": [],
   "source": [
    "# existing patients\n",
    "params = {'figure.figsize': [12,6],'axes.grid.axis': 'both', 'axes.grid': True, 'axes.labelsize': 'Medium', 'font.size': 12.0, \\\n",
    "'lines.linewidth': 2}\n",
    "plt.rcParams.update(params)\n",
    "\n",
    "plot_ARIMAX_model_save_fig(data=dr_existing_hours, order=(4,1,3), exog_var=num_dr_existing, start=start_date,\\\n",
    "                end=end_pred, title='Dr existing patients AR4/MA3', xlabel='Time', ylabel='Appointment Hours',\n",
    "                              figname='./images/dr_existing_patients_AR[4]IMA[3]X.png')"
   ]
  },
  {
   "cell_type": "markdown",
   "metadata": {},
   "source": [
    "#### get ARIMAX predictions for each Dr dataframe"
   ]
  },
  {
   "cell_type": "code",
   "execution_count": null,
   "metadata": {},
   "outputs": [],
   "source": [
    "# get ARIMAX predictions and data+predictions dataframe for each Dr dataframe\n",
    "# new patients\n",
    "dr_new_forecast, dr_new_data_plus_forecast = get_ARIMAX_predictions(data=dr_new_hours, order=(2,1,2), start=start_date,\\\n",
    "                    end=end_pred, exog=num_dr_new, typ='levels')"
   ]
  },
  {
   "cell_type": "code",
   "execution_count": null,
   "metadata": {},
   "outputs": [],
   "source": [
    "# existing patients\n",
    "dr_existing_forecast, dr_existing_data_plus_forecast = get_ARIMAX_predictions(data=dr_existing_hours, order=(4,1,3), start=start_date,\\\n",
    "                    end=end_pred, exog=num_dr_existing, typ='levels')"
   ]
  },
  {
   "cell_type": "code",
   "execution_count": null,
   "metadata": {},
   "outputs": [],
   "source": [
    "def get_ARIMAX_output_df(forecast_df, number_providers):\n",
    "    # rename columns\n",
    "    forecast_df.columns = ['Appointment_Hours', 'Predicted_Hours']\n",
    "    # round hours columns\n",
    "    forecast_df['Appointment_Hours'] = round(forecast_df['Appointment_Hours'], 2)\n",
    "    forecast_df['Predicted_Hours'] = round(forecast_df['Predicted_Hours'], 2)\n",
    "    # add number providers columns\n",
    "    forecast_df['Number_Providers'] = number_providers\n",
    "    # calculate hours per provider\n",
    "    forecast_df['Hours_per_Provider'] = round(forecast_df['Appointment_Hours'] / forecast_df['Number_Providers'],2)\n",
    "    # get average hours per provider\n",
    "    avg_hours = forecast_df['Hours_per_Provider'].mean()\n",
    "    # get predicted number of providers, rounded \n",
    "    forecast_df['Predicted_Num_Providers'] = round(forecast_df['Predicted_Hours'] / avg_hours, 1)\n",
    "    return forecast_df"
   ]
  },
  {
   "cell_type": "code",
   "execution_count": null,
   "metadata": {},
   "outputs": [],
   "source": [
    "# get full predictions dataframes\n",
    "dr_new_data_plus_forecast = get_ARIMAX_output_df(dr_new_data_plus_forecast, num_dr_new)\n",
    "dr_existing_data_plus_forecast = get_ARIMAX_output_df(dr_existing_data_plus_forecast, num_dr_existing)"
   ]
  },
  {
   "cell_type": "code",
   "execution_count": null,
   "metadata": {},
   "outputs": [],
   "source": [
    "# output full forecast dataframes to csv\n",
    "dr_new_data_plus_forecast.to_csv('./data/dr_new_patients_arimax_forecast.csv')\n",
    "dr_existing_data_plus_forecast.to_csv('./data/dr_existing_patients_arimax_forecast.csv')"
   ]
  },
  {
   "cell_type": "code",
   "execution_count": null,
   "metadata": {
    "scrolled": true
   },
   "outputs": [],
   "source": [
    "# dr_new_data_plus_forecast\n",
    "dr_existing_data_plus_forecast"
   ]
  },
  {
   "cell_type": "code",
   "execution_count": null,
   "metadata": {},
   "outputs": [],
   "source": [
    "# get 8-16 week forecast new patients\n",
    "dr_new_8_to_16wk_arimax = dr_new_data_plus_forecast['2018-06-25':'2018-08-26'][['Predicted_Hours', 'Predicted_Num_Providers']]\n",
    "# keep only date in index, drop time\n",
    "dr_new_8_to_16wk_arimax.index = dr_new_8_to_16wk_arimax.index.date"
   ]
  },
  {
   "cell_type": "code",
   "execution_count": null,
   "metadata": {},
   "outputs": [],
   "source": [
    "dr_new_8_to_16wk_arimax"
   ]
  },
  {
   "cell_type": "code",
   "execution_count": null,
   "metadata": {},
   "outputs": [],
   "source": [
    "# get 8-16 week forecast existing patients\n",
    "dr_existing_8_to_16wk_arimax = dr_existing_data_plus_forecast['2018-06-25':'2018-08-26'][['Predicted_Hours', 'Predicted_Num_Providers']]\n",
    "# keep only date in index, drop time\n",
    "dr_existing_8_to_16wk_arimax.index = dr_existing_8_to_16wk_arimax.index.date"
   ]
  },
  {
   "cell_type": "markdown",
   "metadata": {},
   "source": [
    "### RN/PAs"
   ]
  },
  {
   "cell_type": "code",
   "execution_count": null,
   "metadata": {},
   "outputs": [],
   "source": [
    "RNPA = merged2[merged2['Specialty'] == 'RN/PA']"
   ]
  },
  {
   "cell_type": "code",
   "execution_count": null,
   "metadata": {},
   "outputs": [],
   "source": [
    "# get new and existing patient dataframes\n",
    "RNPA_new = RNPA[RNPA['ReasonForVisitDescription'].str.contains('New')]\n",
    "RNPA_existing = RNPA[~RNPA['ReasonForVisitDescription'].str.contains('New')]"
   ]
  },
  {
   "cell_type": "code",
   "execution_count": null,
   "metadata": {},
   "outputs": [],
   "source": [
    "# check value counts\n",
    "# pd.value_counts(RNPA_new['ReasonForVisitName'])\n",
    "pd.value_counts(RNPA_existing['ReasonForVisitName'])"
   ]
  },
  {
   "cell_type": "code",
   "execution_count": null,
   "metadata": {},
   "outputs": [],
   "source": [
    "# drop columns where reason for visit name = Follow up, returning patient\n",
    "# existing patient dataframe\n",
    "keep_RNPA_cols = ['follow up Telepsyche', 'Follow up', 'follow', 'Returning Patient']\n",
    "RNPA_existing = RNPA_existing[RNPA_existing['ReasonForVisitName'].isin(keep_RNPA_cols)]\n",
    "pd.value_counts(RNPA_existing['ReasonForVisitName'])"
   ]
  },
  {
   "cell_type": "code",
   "execution_count": null,
   "metadata": {},
   "outputs": [],
   "source": [
    "# Get RNPA appointment hours\n",
    "RNPA_new_hours = weekly_resample(RNPA_new['AppointmentDuration'])\n",
    "RNPA_existing_hours = weekly_resample(RNPA_existing['AppointmentDuration'])\n",
    "# keep data through April of this year\n",
    "RNPA_new_hours = RNPA_new_hours[:'2018-04-30']\n",
    "RNPA_existing_hours = RNPA_existing_hours[:'2018-04-30']"
   ]
  },
  {
   "cell_type": "code",
   "execution_count": null,
   "metadata": {
    "scrolled": true
   },
   "outputs": [],
   "source": [
    "# RNPA_new_hours\n",
    "RNPA_existing_hours"
   ]
  },
  {
   "cell_type": "code",
   "execution_count": null,
   "metadata": {},
   "outputs": [],
   "source": [
    "# drop partial first week from RNPA_existing\n",
    "RNPA_existing_hours = RNPA_existing_hours[1:]"
   ]
  },
  {
   "cell_type": "code",
   "execution_count": null,
   "metadata": {},
   "outputs": [],
   "source": [
    "# get RNPA number of unique providers for each dataframe\n",
    "num_RNPA_new = RNPA_new['Provider'].resample('W-MON', lambda x: x.nunique())\n",
    "num_RNPA_existing = RNPA_existing['Provider'].resample('W-MON', lambda x: x.nunique())\n",
    "# keep data through April of this year\n",
    "num_RNPA_new = num_RNPA_new[:'2018-04-30']\n",
    "# keep data through April of this year\n",
    "num_RNPA_existing = num_RNPA_existing[:'2018-04-30']\n",
    "# drop partial first week\n",
    "num_RNPA_existing = num_RNPA_existing[1:]"
   ]
  },
  {
   "cell_type": "code",
   "execution_count": null,
   "metadata": {},
   "outputs": [],
   "source": [
    "# test for stationarity of hours data\n",
    "# RNPA hours with new patients\n",
    "run_augmented_Dickey_Fuller_test(series=RNPA_new_hours, num_diffs=2)"
   ]
  },
  {
   "cell_type": "code",
   "execution_count": null,
   "metadata": {},
   "outputs": [],
   "source": [
    "# RNPA hours with existing patients\n",
    "run_augmented_Dickey_Fuller_test(series=RNPA_existing_hours, num_diffs=2)"
   ]
  },
  {
   "cell_type": "code",
   "execution_count": null,
   "metadata": {},
   "outputs": [],
   "source": [
    "# Plot PACF of first difference of each series\n",
    "params = {'figure.figsize': [4,3],'axes.grid.axis': 'both', 'axes.grid': True, 'axes.labelsize': 'Medium', 'font.size': 12.0, \\\n",
    "'lines.linewidth': 2}\n",
    "\n",
    "plot_partial_autocorrelation(series=RNPA_new_hours.diff()[1:], params=params, lags=30, alpha=0.05, title='PACF {}'.format('first difference of RNPA hours new patients'))\n",
    "plot_partial_autocorrelation(series=RNPA_existing_hours.diff()[1:], params=params, lags=30, alpha=0.05, title='PACF {}'.format('first difference of RNPA hours existing patients'))"
   ]
  },
  {
   "cell_type": "code",
   "execution_count": null,
   "metadata": {},
   "outputs": [],
   "source": [
    "# Plot ACF of first difference of each series\n",
    "plot_autocorrelation(series=RNPA_new_hours.diff()[1:], params=params, lags=30, alpha=0.05, title='ACF {}'.format('first difference of RNPA hours new patients'))\n",
    "plot_autocorrelation(series=RNPA_existing_hours.diff()[1:], params=params, lags=30, alpha=0.05, title='ACF {}'.format('first difference of RNPA hours new patients'))"
   ]
  },
  {
   "cell_type": "raw",
   "metadata": {},
   "source": [
    "Take first difference of both series\n",
    "RNPA_new_hours use: AR3/MA1\n",
    "RNPA_existing_hours use: AR4/MA2"
   ]
  },
  {
   "cell_type": "code",
   "execution_count": null,
   "metadata": {},
   "outputs": [],
   "source": [
    "num_RNPA_new.index"
   ]
  },
  {
   "cell_type": "code",
   "execution_count": null,
   "metadata": {},
   "outputs": [],
   "source": [
    "start_date = '2015-09-07' # b/c no new patients recorded until 8/31/15 and then had to take first difference\n",
    "end_date = '2018-04-30'\n",
    "end_pred = '2018-09-30'\n",
    "# new patients\n",
    "params = {'figure.figsize': [12,6],'axes.grid.axis': 'both', 'axes.grid': True, 'axes.labelsize': 'Medium', 'font.size': 12.0, \\\n",
    "'lines.linewidth': 2}\n",
    "plt.rcParams.update(params)\n",
    "\n",
    "plot_ARIMAX_model_save_fig(data=RNPA_new_hours, order=(3,1,1), exog_var=num_RNPA_new, start=start_date,\\\n",
    "                end=end_pred, title='RNPA new patients AR3/MA1', xlabel='Time', ylabel='Appointment Hours',\\\n",
    "                              figname='./images/RNPA_new_patients_AR[3]IMA[1]X.png')"
   ]
  },
  {
   "cell_type": "code",
   "execution_count": null,
   "metadata": {},
   "outputs": [],
   "source": [
    "start_date = '2015-09-07' # b/c no new patients recorded until 8/31/15 and then had to take first difference\n",
    "end_date = '2018-04-30'\n",
    "end_pred = '2018-09-30'\n",
    "# new patients\n",
    "params = {'figure.figsize': [12,6],'axes.grid.axis': 'both', 'axes.grid': True, 'axes.labelsize': 'Medium', 'font.size': 12.0, \\\n",
    "'lines.linewidth': 2}\n",
    "plt.rcParams.update(params)\n",
    "\n",
    "plot_ARIMAX_model_save_fig(data=RNPA_existing_hours, order=(4,1,2), exog_var=num_RNPA_existing, start=start_date,\\\n",
    "                end=end_pred, title='RNPA existing patients AR4/MA2', xlabel='Time', ylabel='Appointment Hours',\\\n",
    "                              figname='./images/RNPA_existing_patients_AR[4]IMA[2]X.png')"
   ]
  },
  {
   "cell_type": "code",
   "execution_count": null,
   "metadata": {},
   "outputs": [],
   "source": [
    "# get ARIMAX predictions and data+predictions dataframe for each dataframe\n",
    "# new patients\n",
    "RNPA_new_forecast, RNPA_new_data_plus_forecast = get_ARIMAX_predictions(data=RNPA_new_hours, order=(3,1,1), start=start_date,\\\n",
    "                    end=end_pred, exog=num_RNPA_new, typ='levels')\n",
    "# get full predictions dataframe\n",
    "RNPA_new_data_plus_forecast = get_ARIMAX_output_df(RNPA_new_data_plus_forecast, num_dr_new)"
   ]
  },
  {
   "cell_type": "code",
   "execution_count": null,
   "metadata": {},
   "outputs": [],
   "source": [
    "# existing patients\n",
    "RNPA_existing_forecast, RNPA_existing_data_plus_forecast = get_ARIMAX_predictions(data=RNPA_existing_hours, order=(4,1,2), start=start_date,\\\n",
    "                    end=end_pred, exog=num_RNPA_existing, typ='levels')\n",
    "# get full predictions dataframe\n",
    "RNPA_existing_data_plus_forecast = get_ARIMAX_output_df(RNPA_existing_data_plus_forecast, num_RNPA_existing)"
   ]
  },
  {
   "cell_type": "code",
   "execution_count": null,
   "metadata": {},
   "outputs": [],
   "source": [
    "# get 8-16 week forecast new patients\n",
    "RNPA_new_8_to_16wk_arimax = RNPA_new_data_plus_forecast['2018-06-25':'2018-08-26'][['Predicted_Hours', 'Predicted_Num_Providers']]\n",
    "# keep only date in index, drop time\n",
    "RNPA_new_8_to_16wk_arimax.index = RNPA_new_8_to_16wk_arimax.index.date"
   ]
  },
  {
   "cell_type": "code",
   "execution_count": null,
   "metadata": {},
   "outputs": [],
   "source": [
    "# get 8-16 week forecast existing patients\n",
    "RNPA_existing_8_to_16wk_arimax = RNPA_existing_data_plus_forecast['2018-06-25':'2018-08-26'][['Predicted_Hours', 'Predicted_Num_Providers']]\n",
    "# keep only date in index, drop time\n",
    "RNPA_existing_8_to_16wk_arimax.index = RNPA_existing_8_to_16wk_arimax.index.date"
   ]
  },
  {
   "cell_type": "code",
   "execution_count": null,
   "metadata": {},
   "outputs": [],
   "source": []
  },
  {
   "cell_type": "markdown",
   "metadata": {},
   "source": [
    "### Therapists"
   ]
  },
  {
   "cell_type": "code",
   "execution_count": null,
   "metadata": {},
   "outputs": [],
   "source": [
    "therapists = merged2[merged2['Specialty'] == 'therapist']"
   ]
  },
  {
   "cell_type": "code",
   "execution_count": null,
   "metadata": {},
   "outputs": [],
   "source": []
  },
  {
   "cell_type": "code",
   "execution_count": null,
   "metadata": {},
   "outputs": [],
   "source": []
  },
  {
   "cell_type": "code",
   "execution_count": null,
   "metadata": {},
   "outputs": [],
   "source": [
    "# # doctors\n",
    "# dr_new = doctors[doctors['ReasonForVisitDescription'].str.contains('New')]\n",
    "# dr_existing = doctors[~doctors['ReasonForVisitDescription'].str.contains('New')]\n",
    "# pd.value_counts(dr_new['ReasonForVisitName'])\n",
    "# pd.value_counts(dr_existing['ReasonForVisitName'])\n",
    "# # drop columns where reason for visit name = Follow up, THerapy, returning patient existing patient dataframee\n",
    "# keep_cols = ['Follow up Telepsychiatry', 'Follow up', 'Therapy Telepsychiatry', 'Returning Patient', 'Returning Patient MD Adult']\n",
    "# dr_existing = dr_existing[dr_existing['ReasonForVisitName'].isin(keep_cols)]\n",
    "# pd.value_counts(dr_existing['ReasonForVisitName'])\n",
    "# # Get dr appointment hours\n",
    "# dr_new_hours = weekly_resample(dr_new['AppointmentDuration'])\n",
    "# dr_existing_hours = weekly_resample(dr_existing['AppointmentDuration'])\n",
    "# # keep data through April of this year\n",
    "# dr_new_hours = dr_new_hours[:'2018-04-30']\n",
    "# dr_existing_hours = dr_existing_hours[:'2018-04-30']\n",
    "# # drop partial first week from dr_existing_hours\n",
    "# dr_existing_hours = dr_existing_hours[1:]\n",
    "# # get dr number of unique providers for each dataframe\n",
    "# num_dr_new = dr_new['Provider'].resample('W-MON', lambda x: x.nunique())\n",
    "# num_dr_existing = dr_existing['Provider'].resample('W-MON', lambda x: x.nunique())\n",
    "# # keep data through April of this year\n",
    "# num_dr_new = num_dr_new[:'2018-04-30']\n",
    "# # keep data through April of this year\n",
    "# num_dr_existing = num_dr_existing[:'2018-04-30']\n",
    "# # drop partial first week\n",
    "# num_dr_existing = num_dr_existing[1:]\n",
    "# # test for stationarity\n",
    "# # dr hours with new patients\n",
    "# run_augmented_Dickey_Fuller_test(series=dr_new_hours, num_diffs=2)\n",
    "# # dr hours with existing patients\n",
    "# run_augmented_Dickey_Fuller_test(series=dr_existing_hours, num_diffs=2)\n",
    "# # Plot PACF of first difference of each series\n",
    "# params = {'figure.figsize': [4,3],'axes.grid.axis': 'both', 'axes.grid': True, 'axes.labelsize': 'Medium', 'font.size': 12.0, \\\n",
    "# 'lines.linewidth': 2}\n",
    "# plot_partial_autocorrelation(series=dr_new_hours.diff()[1:], params=params, lags=30, alpha=0.05, title='PACF {}'.format('first difference of dr hours new patients'))\n",
    "# plot_partial_autocorrelation(series=dr_existing_hours.diff()[1:], params=params, lags=30, alpha=0.05, title='PACF {}'.format('first difference of dr hours existing patients'))\n",
    "# # Plot ACF of first difference of each series\n",
    "# plot_autocorrelation(series=dr_new_hours.diff()[1:], params=params, lags=30, alpha=0.05, title='ACF {}'.format('first difference of dr hours new patients'))\n",
    "# plot_autocorrelation(series=dr_existing_hours.diff()[1:], params=params, lags=30, alpha=0.05, title='ACF {}'.format('first difference of dr hours existing patients'))\n",
    "# # dr_new_hours use: AR2/MA2\n",
    "# # dr_existing_hours use: AR4/MA3\n",
    "# start_date = '2015-01-19' # b/c first row of data was differenced away\n",
    "# end_date = '2018-04-30'\n",
    "# end_pred = '2018-09-30'\n",
    "# # new patients\n",
    "# params = {'figure.figsize': [12,6],'axes.grid.axis': 'both', 'axes.grid': True, 'axes.labelsize': 'Medium', 'font.size': 12.0, \\\n",
    "# 'lines.linewidth': 2}\n",
    "# plt.rcParams.update(params)\n",
    "\n",
    "# plot_ARIMAX_model_save_fig(data=dr_new_hours, order=(2,1,2), exog_var=num_dr_new, start=start_date,\\\n",
    "#                 end=end_pred, title='Dr new patients AR2/MA2', xlabel='Time', ylabel='Appointment Hours',\\\n",
    "#                               figname='./images/dr_new_patients_AR[2]IMA[2]X.png')\n",
    "# # get ARIMAX predictions and data+predictions dataframe for each Dr dataframe\n",
    "# # new patients\n",
    "# dr_new_forecast, dr_new_data_plus_forecast = get_ARIMAX_predictions(data=dr_new_hours, order=(2,1,2), start=start_date,\\\n",
    "#                     end=end_pred, exog=num_dr_new, typ='levels')\n",
    "# # get full predictions dataframes\n",
    "# dr_new_data_plus_forecast = get_ARIMAX_output_df(dr_new_data_plus_forecast, num_dr_new)\n",
    "# dr_existing_data_plus_forecast = get_ARIMAX_output_df(dr_existing_data_plus_forecast, num_dr_existing)\n",
    "# # get 8-16 week forecast new patients\n",
    "# dr_new_8_to_16wk_arimax = dr_new_data_plus_forecast['2018-06-25':'2018-08-26'][['Predicted_Hours', 'Predicted_Num_Providers']]\n",
    "# # keep only date in index, drop time\n",
    "# dr_new_8_to_16wk_arimax.index = dr_new_8_to_16wk_arimax.index.date"
   ]
  },
  {
   "cell_type": "markdown",
   "metadata": {},
   "source": [
    "### number of patients vs number of doctors"
   ]
  },
  {
   "cell_type": "markdown",
   "metadata": {},
   "source": [
    "#### look at ratio of providers to patients"
   ]
  },
  {
   "cell_type": "code",
   "execution_count": null,
   "metadata": {},
   "outputs": [],
   "source": [
    "dr_num_patients = doctors['id'].resample('W-MON', lambda x: x.nunique())"
   ]
  },
  {
   "cell_type": "code",
   "execution_count": null,
   "metadata": {},
   "outputs": [],
   "source": [
    "dr_num_providers = doctors['Provider'].resample('W-MON', lambda x: x.nunique())"
   ]
  },
  {
   "cell_type": "code",
   "execution_count": null,
   "metadata": {},
   "outputs": [],
   "source": [
    "dr_num_patients.index"
   ]
  },
  {
   "cell_type": "code",
   "execution_count": null,
   "metadata": {},
   "outputs": [],
   "source": [
    "patients_to_dr = dr_num_patients / dr_num_providers "
   ]
  },
  {
   "cell_type": "code",
   "execution_count": null,
   "metadata": {},
   "outputs": [],
   "source": [
    "dr_to_patient = (dr_num_providers / dr_num_patients) * 100"
   ]
  },
  {
   "cell_type": "code",
   "execution_count": null,
   "metadata": {
    "scrolled": true
   },
   "outputs": [],
   "source": [
    "dr_to_patient"
   ]
  },
  {
   "cell_type": "code",
   "execution_count": null,
   "metadata": {},
   "outputs": [],
   "source": [
    "patients_to_dr"
   ]
  },
  {
   "cell_type": "code",
   "execution_count": null,
   "metadata": {},
   "outputs": [],
   "source": []
  },
  {
   "cell_type": "code",
   "execution_count": null,
   "metadata": {},
   "outputs": [],
   "source": []
  },
  {
   "cell_type": "code",
   "execution_count": null,
   "metadata": {},
   "outputs": [],
   "source": [
    "# resample data to weekly\n",
    "doctors = doctors['Provider'].resample('W-MON', lambda x: x.nunique())\n",
    "RN_PA = RN_PA['Provider'].resample('W-MON', lambda x: x.nunique())\n",
    "therapists = therapists['Provider'].resample('W-MON', lambda x: x.nunique())"
   ]
  },
  {
   "cell_type": "code",
   "execution_count": null,
   "metadata": {},
   "outputs": [],
   "source": []
  },
  {
   "cell_type": "code",
   "execution_count": null,
   "metadata": {},
   "outputs": [],
   "source": []
  },
  {
   "cell_type": "code",
   "execution_count": null,
   "metadata": {},
   "outputs": [],
   "source": []
  },
  {
   "cell_type": "code",
   "execution_count": null,
   "metadata": {},
   "outputs": [],
   "source": []
  }
 ],
 "metadata": {
  "kernelspec": {
   "display_name": "Python 3",
   "language": "python",
   "name": "python3"
  },
  "language_info": {
   "codemirror_mode": {
    "name": "ipython",
    "version": 3
   },
   "file_extension": ".py",
   "mimetype": "text/x-python",
   "name": "python",
   "nbconvert_exporter": "python",
   "pygments_lexer": "ipython3",
   "version": "3.6.5"
  }
 },
 "nbformat": 4,
 "nbformat_minor": 2
}
