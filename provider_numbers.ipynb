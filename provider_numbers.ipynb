{
 "cells": [
  {
   "cell_type": "code",
   "execution_count": null,
   "metadata": {
    "scrolled": true
   },
   "outputs": [],
   "source": [
    "import numpy as np\n",
    "import pandas as pd\n",
    "import matplotlib.pyplot as plt\n",
    "%matplotlib inline\n",
    "from statsmodels.graphics import tsaplots\n",
    "import statsmodels.api as sm\n",
    "from statsmodels.tsa.arima_model import ARIMA, ARIMAResults, ARMA\n",
    "from statsmodels.tsa.arima_process import ArmaProcess\n",
    "from sklearn.metrics import mean_squared_error\n",
    "\n",
    "import pyflux as pf\n",
    "import math\n",
    "from keras.models import Sequential\n",
    "from keras.layers import Dense\n",
    "from keras.layers import LSTM\n",
    "from sklearn.preprocessing import MinMaxScaler\n",
    "from sklearn.metrics import mean_squared_error\n",
    "np.random.seed(42)\n",
    "%load_ext autoreload\n",
    "%autoreload 2"
   ]
  },
  {
   "cell_type": "code",
   "execution_count": null,
   "metadata": {},
   "outputs": [],
   "source": [
    "from timeseries_functions import index_to_datetime, downsample_data_week, plot_series,\\\n",
    "plot_series_save_fig, plot_series_and_differences, run_augmented_Dickey_Fuller_test, \\\n",
    "plot_autocorrelation, plot_partial_autocorrelation, plot_decomposition,\\\n",
    "get_seasonal_decomposition, plot_2_series_double_yaxis"
   ]
  },
  {
   "cell_type": "code",
   "execution_count": null,
   "metadata": {},
   "outputs": [],
   "source": [
    "from timeseries_functions import make_col_vector, make_design_matrix, fit_linear_trend,\\\n",
    "plot_trend_data, plot_linear_trend"
   ]
  },
  {
   "cell_type": "code",
   "execution_count": null,
   "metadata": {},
   "outputs": [],
   "source": [
    "# plt.rcParams.keys()"
   ]
  },
  {
   "cell_type": "markdown",
   "metadata": {},
   "source": [
    "### Next look at number of providers in each category over time"
   ]
  },
  {
   "cell_type": "raw",
   "metadata": {},
   "source": [
    "Check that Provider in appointments.csv corresponds to ProviderId in ProvidersSchedulsLastest.csv\n",
    "- it does"
   ]
  },
  {
   "cell_type": "markdown",
   "metadata": {},
   "source": [
    "### Load data"
   ]
  },
  {
   "cell_type": "code",
   "execution_count": null,
   "metadata": {},
   "outputs": [],
   "source": [
    "appointments_full = pd.read_csv('appointments_full.csv')"
   ]
  },
  {
   "cell_type": "code",
   "execution_count": null,
   "metadata": {},
   "outputs": [],
   "source": [
    "appointments_full.shape"
   ]
  },
  {
   "cell_type": "code",
   "execution_count": null,
   "metadata": {},
   "outputs": [],
   "source": [
    "appointments = appointments_full[['AppointmentDate', 'Provider', 'Specialty', 'AppointmentDuration']]"
   ]
  },
  {
   "cell_type": "code",
   "execution_count": null,
   "metadata": {},
   "outputs": [],
   "source": [
    "appointments = appointments.set_index('AppointmentDate')"
   ]
  },
  {
   "cell_type": "code",
   "execution_count": null,
   "metadata": {},
   "outputs": [],
   "source": [
    "appointments.index = pd.to_datetime(appointments.index)"
   ]
  },
  {
   "cell_type": "code",
   "execution_count": null,
   "metadata": {},
   "outputs": [],
   "source": [
    "# keep data through April 2018\n",
    "appointments = appointments['2018-04-30':]"
   ]
  },
  {
   "cell_type": "code",
   "execution_count": null,
   "metadata": {},
   "outputs": [],
   "source": [
    "# save appointments through April as separate csv\n",
    "appointments.to_csv('appointments_through_04-2018.csv')"
   ]
  },
  {
   "cell_type": "code",
   "execution_count": null,
   "metadata": {},
   "outputs": [],
   "source": [
    "# group by specialty\n",
    "doctors = appointments[appointments['Specialty'] == 'doctor']\n",
    "RN_PA = appointments[appointments['Specialty'] == 'RN/PA']\n",
    "therapists = appointments[appointments['Specialty'] == 'therapist']"
   ]
  },
  {
   "cell_type": "code",
   "execution_count": null,
   "metadata": {},
   "outputs": [],
   "source": [
    "# get count of unique providers for each specialty\n",
    "# groupby provider and get count\n",
    "doctors = doctors.groupby([doctors.index.date])['Provider'].nunique()\n",
    "RN_PA = RN_PA.groupby([RN_PA.index.date])['Provider'].nunique()\n",
    "therapists = therapists.groupby([therapists.index.date])['Provider'].nunique()"
   ]
  },
  {
   "cell_type": "code",
   "execution_count": null,
   "metadata": {},
   "outputs": [],
   "source": [
    "provider = [doctors, RN_PA, therapists]"
   ]
  },
  {
   "cell_type": "code",
   "execution_count": null,
   "metadata": {},
   "outputs": [],
   "source": [
    "for p in provider:\n",
    "    index_to_datetime(p)"
   ]
  },
  {
   "cell_type": "code",
   "execution_count": null,
   "metadata": {},
   "outputs": [],
   "source": [
    "for p in provider:\n",
    "    p = downsample_data_week(p)"
   ]
  },
  {
   "cell_type": "code",
   "execution_count": null,
   "metadata": {},
   "outputs": [],
   "source": [
    "doctors = downsample_data_week(doctors)\n",
    "RN_PA = downsample_data_week(RN_PA)\n",
    "therapists = downsample_data_week(therapists)"
   ]
  },
  {
   "cell_type": "code",
   "execution_count": null,
   "metadata": {},
   "outputs": [],
   "source": [
    "plot_series(doctors, figsize=(8,4), plot_name='Number of Doctors')"
   ]
  },
  {
   "cell_type": "code",
   "execution_count": null,
   "metadata": {},
   "outputs": [],
   "source": [
    "plot_series(RN_PA, figsize=(8,4), plot_name='Number of RN/PAs')"
   ]
  },
  {
   "cell_type": "code",
   "execution_count": null,
   "metadata": {},
   "outputs": [],
   "source": [
    "plot_series(therapists, figsize=(8,4), plot_name='Number of therapists')"
   ]
  },
  {
   "cell_type": "code",
   "execution_count": null,
   "metadata": {},
   "outputs": [],
   "source": [
    "provider = [doctors, RN_PA, therapists]"
   ]
  },
  {
   "cell_type": "code",
   "execution_count": null,
   "metadata": {
    "scrolled": false
   },
   "outputs": [],
   "source": [
    "params = {'figure.figsize': [8,8],'axes.grid.axis': 'both','axes.grid': True, 'axes.labelsize': 'Medium', 'font.size': 12.0, \\\n",
    "'lines.linewidth': 2}\n",
    "fig, axes = plt.subplots(3, figsize=(10,12))\n",
    "fig = plot_series_and_differences(series=doctors, ax=axes, num_diff=2, params=params,title='Number of Doctors')\n",
    "plt.tight_layout()"
   ]
  },
  {
   "cell_type": "code",
   "execution_count": null,
   "metadata": {},
   "outputs": [],
   "source": [
    "params = {'figure.figsize': [8,8],'axes.grid.axis': 'both','axes.grid': True, 'axes.labelsize': 'Medium', 'font.size': 12.0, \\\n",
    "'lines.linewidth': 2}\n",
    "fig, axes = plt.subplots(3, figsize=(10,12))\n",
    "fig = plot_series_and_differences(series=RN_PA, ax=axes, num_diff=2, params=params, \\\n",
    "                            title='Number of RN/PAs')\n",
    "plt.tight_layout()"
   ]
  },
  {
   "cell_type": "code",
   "execution_count": null,
   "metadata": {},
   "outputs": [],
   "source": [
    "params = {'figure.figsize': [8,8],'axes.grid.axis': 'both','axes.grid': True, 'axes.labelsize': 'Medium', 'font.size': 12.0, \\\n",
    "'lines.linewidth': 2}\n",
    "fig, axes = plt.subplots(3, figsize=(10,12))\n",
    "fig = plot_series_and_differences(series=therapists, ax=axes, num_diff=2, params=params, \\\n",
    "                            title='Number of Therapists')\n",
    "plt.tight_layout()"
   ]
  },
  {
   "cell_type": "code",
   "execution_count": null,
   "metadata": {},
   "outputs": [],
   "source": [
    "params = {'figure.figsize': [8,8],'axes.grid.axis': 'both','axes.grid': True, 'axes.labelsize': 'Medium', 'font.size': 12.0, \\\n",
    "'lines.linewidth': 2}\n",
    "plot_decomposition(doctors, params)"
   ]
  },
  {
   "cell_type": "code",
   "execution_count": null,
   "metadata": {},
   "outputs": [],
   "source": [
    "params = {'figure.figsize': [8,8],'axes.grid.axis': 'both','axes.grid': True, 'axes.labelsize': 'Medium', 'font.size': 12.0, \\\n",
    "'lines.linewidth': 2}\n",
    "plot_decomposition(RN_PA, params)"
   ]
  },
  {
   "cell_type": "code",
   "execution_count": null,
   "metadata": {},
   "outputs": [],
   "source": [
    "params = {'figure.figsize': [8,8],'axes.grid.axis': 'both','axes.grid': True, 'axes.labelsize': 'Medium', 'font.size': 12.0, \\\n",
    "'lines.linewidth': 2}\n",
    "plot_decomposition(therapists, params)"
   ]
  },
  {
   "cell_type": "code",
   "execution_count": null,
   "metadata": {},
   "outputs": [],
   "source": []
  },
  {
   "cell_type": "markdown",
   "metadata": {},
   "source": [
    "### determine demand/provider number ratio"
   ]
  },
  {
   "cell_type": "raw",
   "metadata": {},
   "source": [
    "ratio = appointment hours/ # providers"
   ]
  },
  {
   "cell_type": "markdown",
   "metadata": {},
   "source": [
    "#### import hours data"
   ]
  },
  {
   "cell_type": "code",
   "execution_count": null,
   "metadata": {},
   "outputs": [],
   "source": [
    "dr_hours = pd.read_csv('all_dr_hours.csv', index_col=0, header=None)\n",
    "dr_hours.index = pd.to_datetime(dr_hours.index)"
   ]
  },
  {
   "cell_type": "code",
   "execution_count": null,
   "metadata": {},
   "outputs": [],
   "source": [
    "RNPA_hours = pd.read_csv('all_RN_PA_hours.csv', index_col=0, header=None)\n",
    "RNPA_hours.index = pd.to_datetime(RNPA_hours.index)"
   ]
  },
  {
   "cell_type": "code",
   "execution_count": null,
   "metadata": {},
   "outputs": [],
   "source": [
    "ther_hours = pd.read_csv('all_therapist_hours.csv', index_col=0, header=None)\n",
    "ther_hours.index = pd.to_datetime(ther_hours.index)"
   ]
  },
  {
   "cell_type": "code",
   "execution_count": null,
   "metadata": {},
   "outputs": [],
   "source": [
    "hours_data = [dr_hours, RNPA_hours, ther_hours]"
   ]
  },
  {
   "cell_type": "code",
   "execution_count": null,
   "metadata": {},
   "outputs": [],
   "source": [
    "# provider = [doctors, RN_PA, therapists]\n",
    "# plot hours and num providers on same plot, shared x axis"
   ]
  },
  {
   "cell_type": "code",
   "execution_count": null,
   "metadata": {},
   "outputs": [],
   "source": [
    "def plot_2_series_double_yaxis(x, y1, y2, figsize=(10,10), fontsize=12, title='', \\\n",
    "                               y1_label='', y2_label='', xlabel=''):\n",
    "    x = x\n",
    "    y1 = y1\n",
    "    y2 = y2\n",
    "    fig, ax = plt.subplots(figsize=figsize, sharex=True)\n",
    "    ax2 = ax.twinx()\n",
    "    ax.set_title(title, fontsize=fontsize+4)\n",
    "    ax.plot(x, y1, 'r-', label=y1_label)\n",
    "    ax.set_xlabel(xlabel, fontsize=fontsize)\n",
    "    ax.set_xticklabels(labels=x, rotation=45)\n",
    "    ax2.plot(x, y2, 'b-', label=y2_label)\n",
    "    ax.legend(loc='upper left')\n",
    "    ax2.legend(loc='lower right')\n",
    "    plt.show()\n",
    "    "
   ]
  },
  {
   "cell_type": "code",
   "execution_count": null,
   "metadata": {},
   "outputs": [],
   "source": [
    "x = dr_hours.index.date\n",
    "dr_y1 = dr_hours.values\n",
    "dr_y2 = doctors.values\n",
    "fig, ax1 = plt.subplots(figsize=(8,6), sharex=True)\n",
    "ax2 = ax1.twinx()\n",
    "ax1.set_title('Doctors', fontsize=20)\n",
    "ax1.plot(x, dr_y1, 'r-')\n",
    "ax1.set_ylabel('Dr Appointment Hours', fontsize=16)\n",
    "ax1.set_xlabel('Date', fontsize=16)\n",
    "ax1.set_xticklabels(labels=dr_hours.index.date, rotation=45)\n",
    "ax2.plot(x, dr_y2, 'b-')\n",
    "ax2.set_ylabel('# of Doctors', fontsize=16)\n",
    "plt.show()"
   ]
  },
  {
   "cell_type": "code",
   "execution_count": null,
   "metadata": {},
   "outputs": [],
   "source": [
    "dr_seasonal, dr_trend, dr_resids = get_seasonal_decomposition(dr_hours)"
   ]
  },
  {
   "cell_type": "code",
   "execution_count": null,
   "metadata": {},
   "outputs": [],
   "source": [
    "plot_2_series_double_yaxis(x=RNPA_hours.index.date, y1=RNPA_hours.values, \\\n",
    "    y2=RN_PA.values, figsize=(8,6), fontsize=16, title='RN/PAs', \\\n",
    "    y1_label='RN/PA Appointment Hours', y2_label='Number of RN/PAs', xlabel='Date')"
   ]
  },
  {
   "cell_type": "code",
   "execution_count": null,
   "metadata": {
    "scrolled": false
   },
   "outputs": [],
   "source": [
    "plot_2_series_double_yaxis(x=ther_hours.index.date, y1=ther_hours.values, \\\n",
    "    y2=therapists.values, figsize=(8,6), fontsize=16, title='Therapists', \\\n",
    "    y1_label='Therapist Appointment Hours', y2_label='Number of Therapists', xlabel='Date')"
   ]
  },
  {
   "cell_type": "markdown",
   "metadata": {},
   "source": [
    "### average hours/# providers"
   ]
  },
  {
   "cell_type": "markdown",
   "metadata": {},
   "source": [
    "#### combine dataframes by specialty and downsample to weekly"
   ]
  },
  {
   "cell_type": "code",
   "execution_count": null,
   "metadata": {},
   "outputs": [],
   "source": [
    "# provider counts timeseries\n",
    "# provider = [doctors, RN_PA, therapists]\n",
    "# hours_data = [dr_hours, RNPA_hours, ther_hours]"
   ]
  },
  {
   "cell_type": "code",
   "execution_count": null,
   "metadata": {},
   "outputs": [],
   "source": [
    "# convert provider counts to dataframes for merging\n",
    "doctors_df = doctors.to_frame()\n",
    "RN_PA_df = RN_PA.to_frame()\n",
    "therapists_df = therapists.to_frame()"
   ]
  },
  {
   "cell_type": "code",
   "execution_count": null,
   "metadata": {},
   "outputs": [],
   "source": [
    "type(doctors), doctors.index"
   ]
  },
  {
   "cell_type": "code",
   "execution_count": null,
   "metadata": {},
   "outputs": [],
   "source": [
    "doctors_df = pd.merge(left=doctors_df, right=dr_hours, how='outer', left_index=True, right_index=True)\n",
    "RNPA_df = pd.merge(left=RN_PA_df, right=RNPA_hours, how='outer', left_index=True, right_index=True)\n",
    "therapists_df = pd.merge(left=therapists_df, right=ther_hours, left_index=True, right_index=True)"
   ]
  },
  {
   "cell_type": "code",
   "execution_count": null,
   "metadata": {},
   "outputs": [],
   "source": [
    "doctors_df.columns = ['Number_Providers', 'Hours']\n",
    "RNPA_df.columns = ['Number_Providers', 'Hours']\n",
    "therapists_df.columns = ['Number_Providers', 'Hours']"
   ]
  },
  {
   "cell_type": "code",
   "execution_count": null,
   "metadata": {},
   "outputs": [],
   "source": [
    "doctors_df['Hours_per_Provider'] = doctors_df['Hours'] / doctors_df['Number_Providers']\n",
    "RNPA_df['Hours_per_Provider'] = RNPA_df['Hours'] / RNPA_df['Number_Providers']\n",
    "therapists_df['Hours_per_Provider'] = therapists_df['Hours'] / therapists_df['Number_Providers']"
   ]
  },
  {
   "cell_type": "markdown",
   "metadata": {},
   "source": [
    "#### save to csv file"
   ]
  },
  {
   "cell_type": "code",
   "execution_count": null,
   "metadata": {},
   "outputs": [],
   "source": [
    "doctors_df.to_csv('doctors_hours_per_provider.csv')"
   ]
  },
  {
   "cell_type": "code",
   "execution_count": null,
   "metadata": {},
   "outputs": [],
   "source": [
    "RNPA_df.to_csv('RNPA_hours_per_provider.csv')"
   ]
  },
  {
   "cell_type": "code",
   "execution_count": null,
   "metadata": {},
   "outputs": [],
   "source": [
    "therapists_df.to_csv('therapists_hours_per_provider.csv')"
   ]
  },
  {
   "cell_type": "markdown",
   "metadata": {},
   "source": [
    "#### get overall average hours/provider"
   ]
  },
  {
   "cell_type": "code",
   "execution_count": null,
   "metadata": {},
   "outputs": [],
   "source": [
    "avg_dr_hours = doctors_df['Hours_per_Provider'].mean()"
   ]
  },
  {
   "cell_type": "code",
   "execution_count": null,
   "metadata": {},
   "outputs": [],
   "source": [
    "providers_df_list = [doctors_df, RNPA_df, therapists_df]"
   ]
  },
  {
   "cell_type": "code",
   "execution_count": null,
   "metadata": {},
   "outputs": [],
   "source": [
    "avg_provider_hours = []\n",
    "for p in providers_df_list:\n",
    "    avg = p['Hours_per_Provider'].mean()\n",
    "    avg_provider_hours.append(round(avg, 2))"
   ]
  },
  {
   "cell_type": "code",
   "execution_count": null,
   "metadata": {},
   "outputs": [],
   "source": [
    "avg_provider_hours"
   ]
  },
  {
   "cell_type": "code",
   "execution_count": null,
   "metadata": {},
   "outputs": [],
   "source": [
    "providers = ['Doctors', 'RN/PA', 'Therapists']\n",
    "providers_avg_hours = list(zip(providers, avg_provider_hours))"
   ]
  },
  {
   "cell_type": "code",
   "execution_count": null,
   "metadata": {},
   "outputs": [],
   "source": [
    "providers_avg_hours"
   ]
  },
  {
   "cell_type": "code",
   "execution_count": null,
   "metadata": {
    "scrolled": false
   },
   "outputs": [],
   "source": [
    "plot_series(series=doctors_df['Hours_per_Provider'], figsize=(10,4), xlabel='', ylabel='Hours', \\\n",
    "            plot_name='Avg Hours per Doctor', v_lines=None)"
   ]
  },
  {
   "cell_type": "code",
   "execution_count": null,
   "metadata": {},
   "outputs": [],
   "source": [
    "plot_series(series=RNPA_df['Hours_per_Provider'], figsize=(10,4), xlabel='', ylabel='Hours', \\\n",
    "            plot_name='Avg Hours per RN/PA', v_lines=None)"
   ]
  },
  {
   "cell_type": "code",
   "execution_count": null,
   "metadata": {},
   "outputs": [],
   "source": [
    "fig, axes = plt.subplots()\n",
    "axes = plot_series(series=therapists_df['Hours_per_Provider'], figsize=(10,4), xlabel='', ylabel='Hours', \\\n",
    "            plot_name='Avg Hours per Therapist', v_lines=None)\n"
   ]
  },
  {
   "cell_type": "code",
   "execution_count": null,
   "metadata": {
    "scrolled": false
   },
   "outputs": [],
   "source": [
    "therapists_df.columns"
   ]
  },
  {
   "cell_type": "code",
   "execution_count": null,
   "metadata": {},
   "outputs": [],
   "source": [
    "plot_2_series_double_yaxis(x=ther_hours.index.date, y1=therapists_df['Number_Providers'], \\\n",
    "    y2=therapists_df['Hours'], figsize=(8,6), fontsize=16, title='Therapists', \\\n",
    "    y1_label='Therapist Appointment Hours', y2_label='Number of Therapists', xlabel='Date')"
   ]
  },
  {
   "cell_type": "markdown",
   "metadata": {
    "collapsed": true
   },
   "source": [
    "#### Plot moving averages for each category on same plot, double y-axis"
   ]
  },
  {
   "cell_type": "code",
   "execution_count": null,
   "metadata": {},
   "outputs": [],
   "source": [
    "doctors_df['MA4_hours'] = doctors_df['Hours'].rolling(window=4).mean()\n",
    "doctors_df['MA4_num_providers'] = doctors_df['Number_Providers'].rolling(window=4).mean()"
   ]
  },
  {
   "cell_type": "code",
   "execution_count": null,
   "metadata": {},
   "outputs": [],
   "source": [
    "plot_2_series_double_yaxis(x=doctors_df.index.date, y1=doctors_df['MA4_hours'],\\\n",
    "    y2=doctors_df['MA4_num_providers'],figsize=(8,6), fontsize=16, title='Doctors MA 4 Weeks', \\\n",
    "    y1_label='Doctors MA: Hours', y2_label='Doctors MA: Number Providers', xlabel='Date')"
   ]
  },
  {
   "cell_type": "code",
   "execution_count": null,
   "metadata": {},
   "outputs": [],
   "source": [
    "RNPA_df['MA4_hours'] = RNPA_df['Hours'].rolling(window=4).mean()\n",
    "RNPA_df['MA4_num_providers'] = RNPA_df['Number_Providers'].rolling(window=4).mean()"
   ]
  },
  {
   "cell_type": "code",
   "execution_count": null,
   "metadata": {
    "scrolled": false
   },
   "outputs": [],
   "source": [
    "plot_2_series_double_yaxis(x=RNPA_df.index.date, y1=RNPA_df['MA4_hours'],\\\n",
    "    y2=RNPA_df['MA4_num_providers'],figsize=(8,6), fontsize=16, title='RN/PAs MA 4 Weeks', \\\n",
    "    y1_label='RN/PAs MA: Hours', y2_label='RN/PAs MA: Number Providers', xlabel='Date')"
   ]
  },
  {
   "cell_type": "code",
   "execution_count": null,
   "metadata": {},
   "outputs": [],
   "source": [
    "therapists_df['MA4_hours'] = therapists_df['Hours'].rolling(window=4).mean()\n",
    "therapists_df['MA4_num_providers'] = therapists_df['Number_Providers'].rolling(window=4).mean()"
   ]
  },
  {
   "cell_type": "code",
   "execution_count": null,
   "metadata": {},
   "outputs": [],
   "source": [
    "# therapists_df"
   ]
  },
  {
   "cell_type": "code",
   "execution_count": null,
   "metadata": {},
   "outputs": [],
   "source": [
    "plot_2_series_double_yaxis(x=therapists_df.index.date, y1=therapists_df['MA4_hours'],\\\n",
    "    y2=therapists_df['MA4_num_providers'],figsize=(8,6), fontsize=16, title='Therapists MA 4 Weeks', \\\n",
    "    y1_label='Therapists MA: Hours', y2_label='Therapists MA: Number Providers', xlabel='Date')"
   ]
  },
  {
   "cell_type": "code",
   "execution_count": null,
   "metadata": {},
   "outputs": [],
   "source": [
    "doctors.index"
   ]
  },
  {
   "cell_type": "markdown",
   "metadata": {},
   "source": [
    "#### split into training and test sets"
   ]
  },
  {
   "cell_type": "code",
   "execution_count": null,
   "metadata": {},
   "outputs": [],
   "source": [
    "train_start = '2015-01-11'\n",
    "train_end = '2018-02-25'\n",
    "test_start = '2018-03-04'"
   ]
  },
  {
   "cell_type": "code",
   "execution_count": null,
   "metadata": {},
   "outputs": [],
   "source": [
    "dr_train = doctors_df.loc[train_start:train_end]\n",
    "dr_test = doctors_df.loc[test_start:]"
   ]
  },
  {
   "cell_type": "code",
   "execution_count": null,
   "metadata": {},
   "outputs": [],
   "source": [
    "RNPA_train = RNPA_df.loc[train_start:train_end]\n",
    "RNPA_test = RNPA_df.loc[test_start:]"
   ]
  },
  {
   "cell_type": "code",
   "execution_count": null,
   "metadata": {},
   "outputs": [],
   "source": [
    "therapist_train = therapists_df.loc[train_start:train_end]\n",
    "therapist_test = therapists_df.loc[test_start:]"
   ]
  },
  {
   "cell_type": "code",
   "execution_count": null,
   "metadata": {},
   "outputs": [],
   "source": []
  },
  {
   "cell_type": "code",
   "execution_count": null,
   "metadata": {},
   "outputs": [],
   "source": []
  },
  {
   "cell_type": "code",
   "execution_count": null,
   "metadata": {},
   "outputs": [],
   "source": []
  },
  {
   "cell_type": "code",
   "execution_count": null,
   "metadata": {},
   "outputs": [],
   "source": []
  },
  {
   "cell_type": "code",
   "execution_count": null,
   "metadata": {},
   "outputs": [],
   "source": []
  }
 ],
 "metadata": {
  "kernelspec": {
   "display_name": "Python 3",
   "language": "python",
   "name": "python3"
  },
  "language_info": {
   "codemirror_mode": {
    "name": "ipython",
    "version": 3
   },
   "file_extension": ".py",
   "mimetype": "text/x-python",
   "name": "python",
   "nbconvert_exporter": "python",
   "pygments_lexer": "ipython3",
   "version": "3.6.5"
  }
 },
 "nbformat": 4,
 "nbformat_minor": 2
}
