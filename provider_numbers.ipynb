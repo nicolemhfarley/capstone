{
 "cells": [
  {
   "cell_type": "code",
   "execution_count": null,
   "metadata": {
    "scrolled": true
   },
   "outputs": [],
   "source": [
    "import numpy as np\n",
    "import pandas as pd\n",
    "import matplotlib.pyplot as plt\n",
    "%matplotlib inline\n",
    "from statsmodels.graphics import tsaplots\n",
    "import statsmodels.api as sm\n",
    "from statsmodels.tsa.arima_model import ARIMA, ARIMAResults, ARMA\n",
    "from statsmodels.tsa.arima_process import ArmaProcess\n",
    "from sklearn.metrics import mean_squared_error\n",
    "\n",
    "import pyflux as pf\n",
    "import math\n",
    "from keras.models import Sequential\n",
    "from keras.layers import Dense\n",
    "from keras.layers import LSTM\n",
    "from sklearn.preprocessing import MinMaxScaler\n",
    "from sklearn.metrics import mean_squared_error\n",
    "np.random.seed(42)\n",
    "%load_ext autoreload\n",
    "%autoreload 2"
   ]
  },
  {
   "cell_type": "code",
   "execution_count": null,
   "metadata": {
    "collapsed": true
   },
   "outputs": [],
   "source": [
    "from timeseries_functions import index_to_datetime, downsample_data_week, plot_series,\\\n",
    "plot_series_save_fig, plot_series_and_differences, run_augmented_Dickey_Fuller_test, \\\n",
    "plot_autocorrelation, plot_partial_autocorrelation, plot_decomposition,\\\n",
    "get_seasonal_decomposition, plot_2_series_double_yaxis"
   ]
  },
  {
   "cell_type": "code",
   "execution_count": null,
   "metadata": {
    "collapsed": true
   },
   "outputs": [],
   "source": [
    "from timeseries_functions import make_col_vector, make_design_matrix, fit_linear_trend,\\\n",
    "plot_trend_data, plot_linear_trend"
   ]
  },
  {
   "cell_type": "code",
   "execution_count": null,
   "metadata": {
    "collapsed": true
   },
   "outputs": [],
   "source": [
    "# plt.rcParams.keys()"
   ]
  },
  {
   "cell_type": "markdown",
   "metadata": {},
   "source": [
    "### Next look at number of providers in each category over time"
   ]
  },
  {
   "cell_type": "raw",
   "metadata": {},
   "source": [
    "Check that Provider in appointments.csv corresponds to ProviderId in ProvidersSchedulsLastest.csv\n",
    "- it does"
   ]
  },
  {
   "cell_type": "markdown",
   "metadata": {},
   "source": [
    "### Load data"
   ]
  },
  {
   "cell_type": "code",
   "execution_count": null,
   "metadata": {
    "collapsed": true
   },
   "outputs": [],
   "source": [
    "appointments_full = pd.read_csv('appointments_full.csv')"
   ]
  },
  {
   "cell_type": "code",
   "execution_count": null,
   "metadata": {},
   "outputs": [],
   "source": [
    "appointments_full.shape"
   ]
  },
  {
   "cell_type": "code",
   "execution_count": null,
   "metadata": {
    "collapsed": true
   },
   "outputs": [],
   "source": [
    "appointments = appointments_full[['AppointmentDate', 'Provider', 'Specialty', 'AppointmentDuration']]"
   ]
  },
  {
   "cell_type": "code",
   "execution_count": null,
   "metadata": {
    "collapsed": true
   },
   "outputs": [],
   "source": [
    "appointments = appointments.set_index('AppointmentDate')"
   ]
  },
  {
   "cell_type": "code",
   "execution_count": null,
   "metadata": {
    "collapsed": true
   },
   "outputs": [],
   "source": [
    "appointments.index = pd.to_datetime(appointments.index)"
   ]
  },
  {
   "cell_type": "code",
   "execution_count": null,
   "metadata": {
    "collapsed": true
   },
   "outputs": [],
   "source": [
    "# keep data through April 2018\n",
    "appointments = appointments['2018-04-30':]"
   ]
  },
  {
   "cell_type": "code",
   "execution_count": null,
   "metadata": {},
   "outputs": [],
   "source": [
    "# save appointments through April as separate csv\n",
    "appointments.to_csv('appointments_through_04-2018.csv')"
   ]
  },
  {
   "cell_type": "code",
   "execution_count": null,
   "metadata": {
    "collapsed": true
   },
   "outputs": [],
   "source": [
    "# group by specialty\n",
    "doctors = appointments[appointments['Specialty'] == 'doctor']\n",
    "RN_PA = appointments[appointments['Specialty'] == 'RN/PA']\n",
    "therapists = appointments[appointments['Specialty'] == 'therapist']"
   ]
  },
  {
   "cell_type": "code",
   "execution_count": null,
   "metadata": {
    "collapsed": true
   },
   "outputs": [],
   "source": [
    "# get count of unique providers for each specialty\n",
    "# groupby provider and get count\n",
    "doctors = doctors.groupby([doctors.index.date])['Provider'].nunique()\n",
    "RN_PA = RN_PA.groupby([RN_PA.index.date])['Provider'].nunique()\n",
    "therapists = therapists.groupby([therapists.index.date])['Provider'].nunique()"
   ]
  },
  {
   "cell_type": "code",
   "execution_count": null,
   "metadata": {
    "collapsed": true
   },
   "outputs": [],
   "source": [
    "provider = [doctors, RN_PA, therapists]"
   ]
  },
  {
   "cell_type": "code",
   "execution_count": null,
   "metadata": {
    "collapsed": true
   },
   "outputs": [],
   "source": [
    "for p in provider:\n",
    "    index_to_datetime(p)"
   ]
  },
  {
   "cell_type": "code",
   "execution_count": null,
   "metadata": {
    "collapsed": true
   },
   "outputs": [],
   "source": [
    "def downsample_data_week(data, fill_method='bfill'):\n",
    "    downsampled = data.resample(rule='W').nunique()\n",
    "    downsampled.fillna(method=fill_method, inplace=True)\n",
    "    return downsampled"
   ]
  },
  {
   "cell_type": "code",
   "execution_count": null,
   "metadata": {
    "collapsed": true
   },
   "outputs": [],
   "source": [
    "for p in provider:\n",
    "    p = downsample_data_week(p)"
   ]
  },
  {
   "cell_type": "code",
   "execution_count": null,
   "metadata": {
    "collapsed": true
   },
   "outputs": [],
   "source": [
    "doctors = downsample_data_week(doctors)\n",
    "RN_PA = downsample_data_week(RN_PA)\n",
    "therapists = downsample_data_week(therapists)"
   ]
  },
  {
   "cell_type": "code",
   "execution_count": null,
   "metadata": {},
   "outputs": [],
   "source": [
    "plot_series(doctors, figsize=(8,4), plot_name='Number of Doctors')"
   ]
  },
  {
   "cell_type": "code",
   "execution_count": null,
   "metadata": {},
   "outputs": [],
   "source": [
    "plot_series(RN_PA, figsize=(8,4), plot_name='Number of RN/PAs')"
   ]
  },
  {
   "cell_type": "code",
   "execution_count": null,
   "metadata": {},
   "outputs": [],
   "source": [
    "plot_series(therapists, figsize=(8,4), plot_name='Number of therapists')"
   ]
  },
  {
   "cell_type": "code",
   "execution_count": null,
   "metadata": {},
   "outputs": [],
   "source": [
    "pd.value_counts(doctors)"
   ]
  },
  {
   "cell_type": "code",
   "execution_count": null,
   "metadata": {
    "collapsed": true
   },
   "outputs": [],
   "source": [
    "provider = [doctors, RN_PA, therapists]"
   ]
  },
  {
   "cell_type": "code",
   "execution_count": null,
   "metadata": {
    "collapsed": true
   },
   "outputs": [],
   "source": [
    "def plot_series_and_differences(series, ax, num_diff, params, title=''):\n",
    "    \"Plot raw data and specified number of differences\"\n",
    "    plt.rcParams.update(params)\n",
    "#     plt.xticks(rotation=30)\n",
    "    ax[0].plot(series.index, series)\n",
    "    ax[0].set_title('Raw series: {}'.format(title))\n",
    "    ax[0].set_xticklabels(labels=series.index.date, rotation=30)\n",
    "    for i in range(1, num_diff+1):\n",
    "        diff = series.diff(i)\n",
    "        ax[i].plot(series.index, diff)\n",
    "        ax[i].set_title('Difference # {}'.format(str(i)))\n",
    "        ax[i].set_xticklabels(labels=series.index.date, rotation=30)\n"
   ]
  },
  {
   "cell_type": "code",
   "execution_count": null,
   "metadata": {
    "scrolled": false
   },
   "outputs": [],
   "source": [
    "params = {'figure.figsize': [8,8],'axes.grid.axis': 'both','axes.grid': True, 'axes.labelsize': 'Medium', 'font.size': 12.0, \\\n",
    "'lines.linewidth': 2}\n",
    "fig, axes = plt.subplots(3, figsize=(10,12))\n",
    "fig = plot_series_and_differences(series=doctors, ax=axes, num_diff=2, params=params,title='Number of Doctors')\n",
    "plt.tight_layout()"
   ]
  },
  {
   "cell_type": "code",
   "execution_count": null,
   "metadata": {},
   "outputs": [],
   "source": [
    "params = {'figure.figsize': [8,8],'axes.grid.axis': 'both','axes.grid': True, 'axes.labelsize': 'Medium', 'font.size': 12.0, \\\n",
    "'lines.linewidth': 2}\n",
    "fig, axes = plt.subplots(3, figsize=(10,12))\n",
    "fig = plot_series_and_differences(series=RN_PA, ax=axes, num_diff=2, params=params, \\\n",
    "                            title='Number of RN/PAs')\n",
    "plt.tight_layout()"
   ]
  },
  {
   "cell_type": "code",
   "execution_count": null,
   "metadata": {},
   "outputs": [],
   "source": [
    "params = {'figure.figsize': [8,8],'axes.grid.axis': 'both','axes.grid': True, 'axes.labelsize': 'Medium', 'font.size': 12.0, \\\n",
    "'lines.linewidth': 2}\n",
    "fig, axes = plt.subplots(3, figsize=(10,12))\n",
    "fig = plot_series_and_differences(series=therapists, ax=axes, num_diff=2, params=params, \\\n",
    "                            title='Number of Therapists')\n",
    "plt.tight_layout()"
   ]
  },
  {
   "cell_type": "code",
   "execution_count": null,
   "metadata": {},
   "outputs": [],
   "source": [
    "params = {'figure.figsize': [8,8],'axes.grid.axis': 'both','axes.grid': True, 'axes.labelsize': 'Medium', 'font.size': 12.0, \\\n",
    "'lines.linewidth': 2}\n",
    "plot_decomposition(doctors, params)"
   ]
  },
  {
   "cell_type": "code",
   "execution_count": null,
   "metadata": {},
   "outputs": [],
   "source": [
    "params = {'figure.figsize': [8,8],'axes.grid.axis': 'both','axes.grid': True, 'axes.labelsize': 'Medium', 'font.size': 12.0, \\\n",
    "'lines.linewidth': 2}\n",
    "plot_decomposition(RN_PA, params)"
   ]
  },
  {
   "cell_type": "code",
   "execution_count": null,
   "metadata": {},
   "outputs": [],
   "source": [
    "params = {'figure.figsize': [8,8],'axes.grid.axis': 'both','axes.grid': True, 'axes.labelsize': 'Medium', 'font.size': 12.0, \\\n",
    "'lines.linewidth': 2}\n",
    "plot_decomposition(therapists, params)"
   ]
  },
  {
   "cell_type": "code",
   "execution_count": null,
   "metadata": {
    "collapsed": true
   },
   "outputs": [],
   "source": []
  },
  {
   "cell_type": "markdown",
   "metadata": {},
   "source": [
    "### determine demand/provider number ratio"
   ]
  },
  {
   "cell_type": "raw",
   "metadata": {},
   "source": [
    "ratio = appointment hours/ # providers"
   ]
  },
  {
   "cell_type": "markdown",
   "metadata": {},
   "source": [
    "#### import hours data"
   ]
  },
  {
   "cell_type": "code",
   "execution_count": null,
   "metadata": {
    "collapsed": true
   },
   "outputs": [],
   "source": [
    "dr_hours = pd.read_csv('all_dr_hours.csv', index_col=0, header=None)\n",
    "dr_hours.index = pd.to_datetime(dr_hours.index)"
   ]
  },
  {
   "cell_type": "code",
   "execution_count": null,
   "metadata": {
    "collapsed": true
   },
   "outputs": [],
   "source": [
    "RNPA_hours = pd.read_csv('all_RN_PA_hours.csv', index_col=0, header=None)\n",
    "RNPA_hours.index = pd.to_datetime(RNPA_hours.index)"
   ]
  },
  {
   "cell_type": "code",
   "execution_count": null,
   "metadata": {
    "collapsed": true
   },
   "outputs": [],
   "source": [
    "ther_hours = pd.read_csv('all_therapist_hours.csv', index_col=0, header=None)\n",
    "ther_hours.index = pd.to_datetime(ther_hours.index)"
   ]
  },
  {
   "cell_type": "code",
   "execution_count": null,
   "metadata": {
    "collapsed": true
   },
   "outputs": [],
   "source": [
    "# provider = [doctors, RN_PA, therapists]\n",
    "# plot hours and num providers on same plot, shared x axis"
   ]
  },
  {
   "cell_type": "code",
   "execution_count": null,
   "metadata": {
    "collapsed": true
   },
   "outputs": [],
   "source": [
    "def plot_2_series_double_yaxis(x, y1, y2, figsize=(10,10), fontsize=12, title='', \\\n",
    "                               y1_label='', y2_label='', xlabel=''):\n",
    "    x = x\n",
    "    y1 = y1\n",
    "    y2 = y2\n",
    "    fig, ax = plt.subplots(figsize=figsize, sharex=True)\n",
    "    ax2 = ax.twinx()\n",
    "    ax.set_title(title, fontsize=fontsize+4)\n",
    "    ax.plot(x, y1, 'r-')\n",
    "    ax.set_ylabel(y1_label, fontsize=fontsize)\n",
    "    ax.set_xlabel(xlabel, fontsize=fontsize)\n",
    "    ax.set_xticklabels(labels=x, rotation=45)\n",
    "    ax2.plot(x, y2, 'b-')\n",
    "    ax2.set_ylabel(y2_label, fontsize=fontsize)\n",
    "    plt.show()\n",
    "    "
   ]
  },
  {
   "cell_type": "code",
   "execution_count": null,
   "metadata": {},
   "outputs": [],
   "source": [
    "x = dr_hours.index.date\n",
    "dr_y1 = dr_hours.values\n",
    "dr_y2 = doctors.values\n",
    "fig, ax1 = plt.subplots(figsize=(14,8), sharex=True)\n",
    "ax2 = ax1.twinx()\n",
    "ax1.set_title('Doctors', fontsize=20)\n",
    "ax1.plot(x, dr_y1, 'r-')\n",
    "ax1.set_ylabel('Dr Appointment Hours', fontsize=16)\n",
    "ax1.set_xlabel('Date', fontsize=16)\n",
    "ax1.set_xticklabels(labels=dr_hours.index.date, rotation=45)\n",
    "ax2.plot(x, dr_y2, 'b-')\n",
    "ax2.set_ylabel('# of Doctors', fontsize=16)\n",
    "plt.show()"
   ]
  },
  {
   "cell_type": "code",
   "execution_count": null,
   "metadata": {},
   "outputs": [],
   "source": [
    "dr_seasonal, dr_trend, dr_resids = get_seasonal_decomposition(dr_hours)"
   ]
  },
  {
   "cell_type": "code",
   "execution_count": null,
   "metadata": {},
   "outputs": [],
   "source": [
    "plot_2_series_double_yaxis(x=dr_hours.index.date, y1=dr_trend, \\\n",
    "    y2=doctors.values, figsize=(14,8), fontsize=16, title='Therapists', \\\n",
    "    y1_label='Dr Appointment Hours Trend', y2_label='# Doctors', xlabel='Date')"
   ]
  },
  {
   "cell_type": "code",
   "execution_count": null,
   "metadata": {},
   "outputs": [],
   "source": [
    "plot_2_series_double_yaxis(x=RNPA_hours.index.date, y1=RNPA_hours.values, \\\n",
    "    y2=RN_PA.values, figsize=(14,8), fontsize=16, title='RN/PAs', \\\n",
    "    y1_label='RN/PA Appointment Hours', y2_label='# RN/PAs', xlabel='Date')"
   ]
  },
  {
   "cell_type": "code",
   "execution_count": null,
   "metadata": {
    "scrolled": false
   },
   "outputs": [],
   "source": [
    "plot_2_series_double_yaxis(x=ther_hours.index.date, y1=ther_hours.values, \\\n",
    "    y2=RN_PA.values, figsize=(14,8), fontsize=16, title='Therapists', \\\n",
    "    y1_label='Therapist Appointment Hours', y2_label='# Therapists', xlabel='Date')"
   ]
  },
  {
   "cell_type": "code",
   "execution_count": null,
   "metadata": {
    "collapsed": true
   },
   "outputs": [],
   "source": []
  }
 ],
 "metadata": {
  "kernelspec": {
   "display_name": "Python 3",
   "language": "python",
   "name": "python3"
  },
  "language_info": {
   "codemirror_mode": {
    "name": "ipython",
    "version": 3
   },
   "file_extension": ".py",
   "mimetype": "text/x-python",
   "name": "python",
   "nbconvert_exporter": "python",
   "pygments_lexer": "ipython3",
   "version": "3.6.3"
  }
 },
 "nbformat": 4,
 "nbformat_minor": 2
}
