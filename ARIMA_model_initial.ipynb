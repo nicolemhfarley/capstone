{
 "cells": [
  {
   "cell_type": "code",
   "execution_count": null,
   "metadata": {},
   "outputs": [],
   "source": [
    "import numpy as np\n",
    "import pandas as pd\n",
    "import matplotlib.pyplot as plt\n",
    "%matplotlib inline\n",
    "from statsmodels.graphics import tsaplots\n",
    "import statsmodels.api as sm\n",
    "from statsmodels.tsa.arima_model import ARIMA, ARIMAResults, ARMA\n",
    "from statsmodels.tsa.arima_process import ArmaProcess\n",
    "from sklearn.metrics import mean_squared_error"
   ]
  },
  {
   "cell_type": "markdown",
   "metadata": {},
   "source": [
    "### import data"
   ]
  },
  {
   "cell_type": "code",
   "execution_count": null,
   "metadata": {},
   "outputs": [],
   "source": [
    "duration_train_df = pd.read_csv('hours_training_data.csv', parse_dates=True, index_col='AppointmentDate')"
   ]
  },
  {
   "cell_type": "code",
   "execution_count": null,
   "metadata": {},
   "outputs": [],
   "source": [
    "duration_test_df = pd.read_csv('hours_test_data.csv', parse_dates=True, index_col='AppointmentDate')"
   ]
  },
  {
   "cell_type": "code",
   "execution_count": null,
   "metadata": {},
   "outputs": [],
   "source": [
    "all_data_df = pd.concat([duration_train_df, duration_test_df], axis=0)"
   ]
  },
  {
   "cell_type": "code",
   "execution_count": null,
   "metadata": {
    "scrolled": false
   },
   "outputs": [],
   "source": [
    "all_data_df.isnull().sum()"
   ]
  },
  {
   "cell_type": "code",
   "execution_count": null,
   "metadata": {},
   "outputs": [],
   "source": [
    "all_data_df.shape"
   ]
  },
  {
   "cell_type": "markdown",
   "metadata": {},
   "source": [
    "### Separate training and test df by specialty, then downsample to get hours/week"
   ]
  },
  {
   "cell_type": "markdown",
   "metadata": {},
   "source": [
    "#### training data"
   ]
  },
  {
   "cell_type": "code",
   "execution_count": null,
   "metadata": {},
   "outputs": [],
   "source": [
    "doctors = duration_train_df[duration_train_df['Specialty'] == 'doctor']\n",
    "therapists = duration_train_df[duration_train_df['Specialty'] == 'therapist']\n",
    "RN_PA = duration_train_df[duration_train_df['Specialty'] == 'RN/PA']"
   ]
  },
  {
   "cell_type": "code",
   "execution_count": null,
   "metadata": {},
   "outputs": [],
   "source": [
    "# Group by hours per day\n",
    "doc_duration = doctors.groupby(doctors.index.date)['Hours_Spent'].sum()\n",
    "RN_PA_duration = RN_PA.groupby(RN_PA.index.date)['Hours_Spent'].sum()\n",
    "therapist_duration = therapists.groupby(therapists.index.date)['Hours_Spent'].sum()"
   ]
  },
  {
   "cell_type": "code",
   "execution_count": null,
   "metadata": {},
   "outputs": [],
   "source": [
    "def index_to_datetime(series):\n",
    "    \"Converts series object indext to datetime\"\n",
    "    series.index = pd.to_datetime(series.index, errors='coerce')"
   ]
  },
  {
   "cell_type": "code",
   "execution_count": null,
   "metadata": {},
   "outputs": [],
   "source": [
    "training_duration = [doc_duration, RN_PA_duration, therapist_duration]"
   ]
  },
  {
   "cell_type": "code",
   "execution_count": null,
   "metadata": {},
   "outputs": [],
   "source": [
    "# convert training data index to datetime\n",
    "for item in training_duration:\n",
    "    index_to_datetime(item)"
   ]
  },
  {
   "cell_type": "code",
   "execution_count": null,
   "metadata": {},
   "outputs": [],
   "source": [
    "# downsample from daily to weekly data, filling missing data w/ the mean\n",
    "def downsample_data_week(data, fill_method='bfill'):\n",
    "    downsampled = data.resample(rule='W').mean() \n",
    "    downsampled.fillna(method=fill_method, inplace=True)\n",
    "    return downsampled"
   ]
  },
  {
   "cell_type": "code",
   "execution_count": null,
   "metadata": {},
   "outputs": [],
   "source": [
    "dr_train_data = downsample_data_week(doc_duration, fill_method='bfill')\n",
    "RN_PA_train_data = downsample_data_week(RN_PA_duration, fill_method='bfill')\n",
    "therapist_train_data = downsample_data_week(therapist_duration, fill_method='bfill')"
   ]
  },
  {
   "cell_type": "markdown",
   "metadata": {},
   "source": [
    "#### all data"
   ]
  },
  {
   "cell_type": "code",
   "execution_count": null,
   "metadata": {},
   "outputs": [],
   "source": [
    "all_doctors = all_data_df[all_data_df['Specialty'] == 'doctor']\n",
    "all_therapists = all_data_df[all_data_df['Specialty'] == 'therapist']\n",
    "all_RN_PA = all_data_df[all_data_df['Specialty'] == 'RN/PA']"
   ]
  },
  {
   "cell_type": "code",
   "execution_count": null,
   "metadata": {},
   "outputs": [],
   "source": [
    "# Group by hours per day\n",
    "all_doc_duration = all_doctors.groupby(all_doctors.index.date)['Hours_Spent'].sum()\n",
    "all_RN_PA_duration = all_RN_PA.groupby(all_RN_PA.index.date)['Hours_Spent'].sum()\n",
    "all_therapist_duration = all_therapists.groupby(all_therapists.index.date)['Hours_Spent'].sum()"
   ]
  },
  {
   "cell_type": "code",
   "execution_count": null,
   "metadata": {},
   "outputs": [],
   "source": [
    "all_data = [all_doc_duration, all_RN_PA_duration, all_therapist_duration]"
   ]
  },
  {
   "cell_type": "code",
   "execution_count": null,
   "metadata": {},
   "outputs": [],
   "source": [
    "for item in all_data:\n",
    "    index_to_datetime(item)"
   ]
  },
  {
   "cell_type": "code",
   "execution_count": null,
   "metadata": {},
   "outputs": [],
   "source": [
    "all_dr = downsample_data_week(all_doc_duration, fill_method='bfill')\n",
    "all_RN_PA = downsample_data_week(all_RN_PA_duration, fill_method='bfill')\n",
    "all_therapist = downsample_data_week(all_therapist_duration, fill_method='bfill')"
   ]
  },
  {
   "cell_type": "code",
   "execution_count": null,
   "metadata": {},
   "outputs": [],
   "source": [
    "all_data_sets = [all_dr, all_RN_PA, all_therapist]"
   ]
  },
  {
   "cell_type": "code",
   "execution_count": null,
   "metadata": {},
   "outputs": [],
   "source": [
    "all_dr.index\n",
    "# all_RN_PA.index\n",
    "# all_therapist.index"
   ]
  },
  {
   "cell_type": "markdown",
   "metadata": {},
   "source": [
    "### export weekly hours data to csv for each category"
   ]
  },
  {
   "cell_type": "code",
   "execution_count": null,
   "metadata": {},
   "outputs": [],
   "source": [
    "all_dr.to_csv('all_dr_hours.csv')"
   ]
  },
  {
   "cell_type": "code",
   "execution_count": null,
   "metadata": {},
   "outputs": [],
   "source": [
    "all_RN_PA.to_csv('all_RN_PA_hours.csv')"
   ]
  },
  {
   "cell_type": "code",
   "execution_count": null,
   "metadata": {},
   "outputs": [],
   "source": [
    "all_therapist.to_csv('all_therapist_hours.csv')"
   ]
  },
  {
   "cell_type": "markdown",
   "metadata": {},
   "source": [
    "#### test data"
   ]
  },
  {
   "cell_type": "code",
   "execution_count": null,
   "metadata": {},
   "outputs": [],
   "source": [
    "dr_test_data = duration_test_df[duration_test_df['Specialty'] == 'doctor']\n",
    "RN_PA_test_data = duration_test_df[duration_test_df['Specialty'] == 'RN/PA']\n",
    "therapist_test_data = duration_test_df[duration_test_df['Specialty'] == 'therapist']"
   ]
  },
  {
   "cell_type": "code",
   "execution_count": null,
   "metadata": {},
   "outputs": [],
   "source": [
    "# dr_test_data = duration_test_data[duration_test_data['Specialty'] == 'doctor']\n",
    "# RN_PA_test_data = duration_test_data[duration_test_data['Specialty'] == 'RN/PA']\n",
    "# therapist_test_data = duration_test_data[duration_test_data['Specialty'] == 'therapist']"
   ]
  },
  {
   "cell_type": "code",
   "execution_count": null,
   "metadata": {},
   "outputs": [],
   "source": [
    "dr_test_data = dr_test_data.groupby(dr_test_data.index.date)['Hours_Spent'].sum()\n",
    "RN_PA_test_data = RN_PA_test_data.groupby(RN_PA_test_data.index.date)['Hours_Spent'].sum()\n",
    "therapist_test_data = therapist_test_data.groupby(therapist_test_data.index.date)['Hours_Spent'].sum()"
   ]
  },
  {
   "cell_type": "code",
   "execution_count": null,
   "metadata": {},
   "outputs": [],
   "source": [
    "test_data = [dr_test_data, RN_PA_test_data, therapist_test_data]"
   ]
  },
  {
   "cell_type": "code",
   "execution_count": null,
   "metadata": {},
   "outputs": [],
   "source": [
    "# convert test data index to datetime\n",
    "for item in test_data:\n",
    "    index_to_datetime(item)"
   ]
  },
  {
   "cell_type": "code",
   "execution_count": null,
   "metadata": {},
   "outputs": [],
   "source": [
    "# def get_test_data(data):\n",
    "#     data = data['AppointmentDuration']\n",
    "#     data = data.resample(rule='W').mean()\n",
    "#     data.fillna(method='bfill', inplace=True)\n",
    "#     return data"
   ]
  },
  {
   "cell_type": "code",
   "execution_count": null,
   "metadata": {},
   "outputs": [],
   "source": [
    "dr_test_set = downsample_data_week(dr_test_data)\n",
    "RN_PA_test_set = downsample_data_week(RN_PA_test_data)\n",
    "therapist_test_set = downsample_data_week(therapist_test_data)"
   ]
  },
  {
   "cell_type": "code",
   "execution_count": null,
   "metadata": {},
   "outputs": [],
   "source": [
    "def plot_series(series, xlabel, ylabel, plot_name):\n",
    "    \"Plots simple time series from Pandas Series\"\n",
    "    ax = series.plot(figsize=(8,3), linewidth = 3, fontsize=10, grid=True, rot=30)\n",
    "    ax.set_title(plot_name, fontsize=18)\n",
    "    ax.set_xlabel(xlabel, fontsize=15)\n",
    "    ax.set_ylabel(ylabel, fontsize=15)\n",
    "    plt.show()"
   ]
  },
  {
   "cell_type": "code",
   "execution_count": null,
   "metadata": {},
   "outputs": [],
   "source": [
    "def plot_series_and_differences(series, ax, num_diff, params, title=''):\n",
    "    \"Plot raw data and specified number of differences\"\n",
    "    plt.rcParams.update(params)\n",
    "    ax[0].plot(series.index, series)\n",
    "    ax[0].set_title('Raw series: {}'.format(title))\n",
    "    for i in range(1, num_diff+1):\n",
    "        diff = series.diff(i)\n",
    "        ax[i].plot(series.index, diff)\n",
    "        ax[i].set_title('Difference # {}'.format(str(i)))"
   ]
  },
  {
   "cell_type": "code",
   "execution_count": null,
   "metadata": {},
   "outputs": [],
   "source": [
    "plot_series(series=dr_train_data, xlabel='', ylabel='', plot_name='Doctors')"
   ]
  },
  {
   "cell_type": "code",
   "execution_count": null,
   "metadata": {
    "scrolled": false
   },
   "outputs": [],
   "source": [
    "# plot raw data and first and second differences for doctors\n",
    "fig, axes = plt.subplots(3, figsize=(10, 8))\n",
    "params = {'figure.figsize': [8,8],'axes.grid.axis': 'both','axes.labelsize': 'Medium', 'font.size': 12.0, 'lines.linewidth': 2}\n",
    "\n",
    "plot_series_and_differences(series=dr_train_data, ax=axes, num_diff=2, params=params, title='Doctors')\n",
    "fig.tight_layout()"
   ]
  },
  {
   "cell_type": "code",
   "execution_count": null,
   "metadata": {},
   "outputs": [],
   "source": [
    "def run_augmented_Dickey_Fuller_test(series, num_diffs=None):\n",
    "    test = sm.tsa.stattools.adfuller(series)\n",
    "    if test[1] >= 0.05:\n",
    "        print('The p-value for the series is: {p}, which is not significant'.format(p=test[1]))\n",
    "    else:\n",
    "        print('The p-value for the series is: {p}, which is significant'.format(p=test[1]))  \n",
    "    if num_diffs:\n",
    "        for i in range(1, num_diffs +1):\n",
    "            test = sm.tsa.stattools.adfuller(series.diff(i)[i:])\n",
    "            if test[1] >= 0.05:\n",
    "                print('The p-value for difference {diff} is: {p}, which is not significant'.format(diff=str(i), p=test[1]))\n",
    "            else:\n",
    "                print('The p-value for difference {diff} is: {p}, which is significant'.format(diff=str(i), p=test[1]))   "
   ]
  },
  {
   "cell_type": "code",
   "execution_count": null,
   "metadata": {},
   "outputs": [],
   "source": [
    "doc_duration.shape, doc_duration.index"
   ]
  },
  {
   "cell_type": "code",
   "execution_count": null,
   "metadata": {},
   "outputs": [],
   "source": [
    "# test for stationarity of doctors data, 1st and 2nd diff\n",
    "run_augmented_Dickey_Fuller_test(doc_duration, num_diffs=2)"
   ]
  },
  {
   "cell_type": "code",
   "execution_count": null,
   "metadata": {},
   "outputs": [],
   "source": [
    "# plot raw data and first and second differences for RN/PA\n",
    "fig, axes = plt.subplots(3, figsize=(10, 8))\n",
    "params = {'figure.figsize': [8,8],'axes.grid.axis': 'both','axes.labelsize': 'Medium', 'font.size': 12.0, 'lines.linewidth': 2}\n",
    "\n",
    "plot_series_and_differences(series=RN_PA_train_data, ax=axes, num_diff=2,params=params, title='RN/PA')\n",
    "fig.tight_layout()"
   ]
  },
  {
   "cell_type": "code",
   "execution_count": null,
   "metadata": {},
   "outputs": [],
   "source": [
    "# test for stationarity of RN/PA data, 1st and 2nd diff\n",
    "run_augmented_Dickey_Fuller_test(RN_PA_duration, num_diffs=2)"
   ]
  },
  {
   "cell_type": "code",
   "execution_count": null,
   "metadata": {},
   "outputs": [],
   "source": [
    "# plot raw data and first and second differences for therapists\n",
    "fig, axes = plt.subplots(3, figsize=(10, 8))\n",
    "params = {'figure.figsize': [8,8],'axes.grid.axis': 'both','axes.labelsize': 'Medium', 'font.size': 12.0, 'lines.linewidth': 2}\n",
    "\n",
    "plot_series_and_differences(series=therapist_train_data, ax=axes, num_diff=2,params=params, title='Therapists')\n",
    "fig.tight_layout()"
   ]
  },
  {
   "cell_type": "code",
   "execution_count": null,
   "metadata": {
    "scrolled": true
   },
   "outputs": [],
   "source": [
    "# test for stationarity of therapist data, 1st and 2nd diff\n",
    "run_augmented_Dickey_Fuller_test(therapist_duration, num_diffs=2)"
   ]
  },
  {
   "cell_type": "code",
   "execution_count": null,
   "metadata": {},
   "outputs": [],
   "source": [
    "def plot_autocorrelation(series, params, lags, alpha, title):\n",
    "    plt.rcParams.update(params)\n",
    "    acf_plot = tsaplots.plot_acf(series, lags=lags, alpha=alpha)\n",
    "    plt.title(title)\n",
    "    plt.xlabel('Number of Lags')\n",
    "    plt.show()\n",
    "\n",
    "def plot_partial_autocorrelation(series, params, lags, alpha, title):\n",
    "    plt.rcParams.update(params)\n",
    "    acf_plot = tsaplots.plot_pacf(series, lags=lags, alpha=alpha)\n",
    "    plt.xlabel('Number of Lags')\n",
    "    plt.title(title)\n",
    "    plt.show()"
   ]
  },
  {
   "cell_type": "markdown",
   "metadata": {},
   "source": [
    "#### plot decomposition for all categories weekly data"
   ]
  },
  {
   "cell_type": "code",
   "execution_count": null,
   "metadata": {},
   "outputs": [],
   "source": [
    "def plot_decomposition(series, params, freq, title=''):\n",
    "    \"Plots observed, trend, seasonal, residual\"\n",
    "    plt.rcParams.update(params)\n",
    "    decomp = sm.tsa.seasonal_decompose(series, freq=freq)\n",
    "    fig = decomp.plot()\n",
    "    plt.title(title)\n",
    "    plt.show()"
   ]
  },
  {
   "cell_type": "code",
   "execution_count": null,
   "metadata": {
    "scrolled": false
   },
   "outputs": [],
   "source": [
    "# series_list = training_datasets\n",
    "# for i in range(3):\n",
    "#     params = {'figure.figsize': [12, 8], 'axes.labelsize': 'Medium', 'font.size': 12.0, 'lines.linewidth': 2}\n",
    "#     axes[i] = plot_decomposition(series=series_list[i], params=params, freq=31)"
   ]
  },
  {
   "cell_type": "code",
   "execution_count": null,
   "metadata": {
    "scrolled": false
   },
   "outputs": [],
   "source": [
    "# doctors\n",
    "params = {'figure.figsize': [8, 8],'axes.labelsize': 'Medium', 'font.size': 12.0, 'lines.linewidth': 2}\n",
    "plot_decomposition(dr_train_data, params=params, freq=31, title='Doctors Decomposition')"
   ]
  },
  {
   "cell_type": "code",
   "execution_count": null,
   "metadata": {},
   "outputs": [],
   "source": [
    "# RN/PA\n",
    "params = {'figure.figsize': [8,8],'axes.labelsize': 'Medium', 'font.size': 12.0, 'lines.linewidth': 2}\n",
    "plot_decomposition(RN_PA_train_data, params=params, freq=31, title='RN/PA Decomposition')"
   ]
  },
  {
   "cell_type": "code",
   "execution_count": null,
   "metadata": {
    "scrolled": true
   },
   "outputs": [],
   "source": [
    "# plot_series(weekly_doc_dur, xlabel='Date', ylabel='Hours', plot_name='Doctor Hours per Week')"
   ]
  },
  {
   "cell_type": "code",
   "execution_count": null,
   "metadata": {},
   "outputs": [],
   "source": [
    "# therapists\n",
    "params = {'figure.figsize': [8,8],'axes.labelsize': 'Medium', 'font.size': 12.0, 'lines.linewidth': 2}\n",
    "plot_decomposition(therapist_train_data, params=params, freq=31, title='Therapist Decomposition')"
   ]
  },
  {
   "cell_type": "markdown",
   "metadata": {},
   "source": [
    "### ARIMA models: weekly hours data"
   ]
  },
  {
   "cell_type": "code",
   "execution_count": null,
   "metadata": {},
   "outputs": [],
   "source": [
    "def get_ARIMA_Model(data, order):\n",
    "    \"Fits ARIMA model\"\n",
    "    arima = ARIMA(data, order=order)\n",
    "    results = arima.fit()\n",
    "    summary = results.summary()\n",
    "    params = results.params\n",
    "    residuals = results.resid\n",
    "    return results, summary, params, residuals"
   ]
  },
  {
   "cell_type": "code",
   "execution_count": null,
   "metadata": {},
   "outputs": [],
   "source": [
    "# get_ARIMA_Model(data=therapist_train_data, order=(5,1,0))"
   ]
  },
  {
   "cell_type": "code",
   "execution_count": null,
   "metadata": {},
   "outputs": [],
   "source": [
    "def plot_ARIMA_model(data, order, start, end, title='', xlabel='', ylabel=''):\n",
    "    \"Plots ARIMA model\"\n",
    "    results, summary, params, residuals = get_ARIMA_Model(data, order)\n",
    "    fig = results.plot_predict(start=start, end=end)\n",
    "    plt.title(title)\n",
    "    plt.ylabel(xlabel)\n",
    "    plt.xlabel(ylabel)\n",
    "    plt.show()"
   ]
  },
  {
   "cell_type": "code",
   "execution_count": null,
   "metadata": {},
   "outputs": [],
   "source": [
    "start= '2015-01-18'\n",
    "end = '2018-07-29'\n",
    "plot_ARIMA_model(data=therapist_train_data, order=(5,1,0), start=start, end=end, title='', xlabel='', ylabel='')"
   ]
  },
  {
   "cell_type": "code",
   "execution_count": null,
   "metadata": {},
   "outputs": [],
   "source": [
    "def plot_ARIMA_resids(data, order, start, end, title='', xlabel='', ylabel=''):\n",
    "    \"Plots ARIMA model residuals\"\n",
    "    results, summary, params, residuals = get_ARIMA_Model(data, order)\n",
    "    residuals.plot(figsize=(5,5))\n",
    "    plt.title(title)\n",
    "    plt.ylabel(xlabel)\n",
    "    plt.xlabel(ylabel)\n",
    "    plt.show()"
   ]
  },
  {
   "cell_type": "code",
   "execution_count": null,
   "metadata": {},
   "outputs": [],
   "source": [
    "plot_ARIMA_resids(data=therapist_train_data, order=(5,1,0), start=3, end=20, title='', xlabel='', ylabel='')"
   ]
  },
  {
   "cell_type": "markdown",
   "metadata": {},
   "source": [
    "#### Weekly Hours"
   ]
  },
  {
   "cell_type": "code",
   "execution_count": null,
   "metadata": {},
   "outputs": [],
   "source": [
    "training_datasets = [dr_train_data, RN_PA_train_data, therapist_train_data]\n",
    "test_sets = [dr_test_set, RN_PA_test_set, therapist_test_set]"
   ]
  },
  {
   "cell_type": "code",
   "execution_count": null,
   "metadata": {},
   "outputs": [],
   "source": [
    "def plot_series(series, plot_name='', xlabel='', ylabel=''):\n",
    "    \"Plots simple time series from Pandas Series\"\n",
    "    ax = series.plot(figsize=(8,3), linewidth = 3, fontsize=10, grid=True, rot=30)\n",
    "    ax.set_title(plot_name, fontsize=18)\n",
    "    ax.set_xlabel(xlabel, fontsize=15)\n",
    "    ax.set_ylabel(ylabel, fontsize=15)\n",
    "    plt.show()"
   ]
  },
  {
   "cell_type": "code",
   "execution_count": null,
   "metadata": {},
   "outputs": [],
   "source": [
    "# Plot raw series for all categories\n",
    "i=0\n",
    "for data in training_datasets:\n",
    "    fig = plot_series(data, plot_name='', xlabel='Date', ylabel='Hours')\n",
    "    i += 1\n",
    "    plt.show()"
   ]
  },
  {
   "cell_type": "markdown",
   "metadata": {},
   "source": [
    "### ARIMA models and predictions"
   ]
  },
  {
   "cell_type": "code",
   "execution_count": null,
   "metadata": {},
   "outputs": [],
   "source": [
    "def get_ARIMA_forecast(data, order, start, end, typ=None):\n",
    "    results = ARIMA(data, order=order).fit()\n",
    "    forecast = results.predict(start=start, end=end, typ=typ)\n",
    "    return forecast\n"
   ]
  },
  {
   "cell_type": "code",
   "execution_count": null,
   "metadata": {},
   "outputs": [],
   "source": [
    "get_ARIMA_forecast(data=therapist_train_data, order=(5,1,0), start=3, end=20, typ='levels')"
   ]
  },
  {
   "cell_type": "code",
   "execution_count": null,
   "metadata": {},
   "outputs": [],
   "source": [
    "def test_rolling_ARIMA_forecast(train_data, test_data, order):\n",
    "    \"Calculates rolling ARIMA forecast, returns predicted vs actual\"\n",
    "    history = [x for x in train_data]\n",
    "    predictions = []\n",
    "    for t in range(len(test_data)):\n",
    "        arima = ARIMA(history, order=order)\n",
    "        arima_fitted = arima.fit()\n",
    "        forecast = arima_fitted.forecast()\n",
    "        yhat = forecast[0]\n",
    "        predictions.append(yhat)\n",
    "        observed = test_data[t]\n",
    "        history.append(observed)\n",
    "    return predictions, test_data\n",
    "\n",
    "\n",
    "def get_predictions_df_and_plot_rolling_ARIMA_forecast(train_data, test_data, \\\n",
    "order, figsize=(10,5),title=''):\n",
    "    \"Calculates and plots rolling ARIMA forecast\"\n",
    "    predicted, expected = test_rolling_ARIMA_forecast(train_data, test_data, order)\n",
    "    predictions = np.hstack(predicted)\n",
    "    actual = pd.concat([train_data, test_data], axis=0 )\n",
    "    df = pd.DataFrame({'predicted': predictions, 'actual':expected})\n",
    "    real_and_predicted_df = pd.DataFrame({'actual': actual, 'predicted':df['predicted']})\n",
    "    real_and_predicted_df.plot(figsize=figsize)\n",
    "    plt.title(title)\n",
    "    plt.show()\n",
    "    return df\n",
    "\n",
    "def plot_data_plus_ARIMA_predictions(data, order, start, end, typ='levels', figsize=(10,10), \\\n",
    "                        title='', ylabel='', xlabel=''):\n",
    "    \"Make forecast and plot as extension of the data\"\n",
    "    results = ARIMA(data, order=order).fit()\n",
    "    forecast = results.predict(start=start, end=end, typ=typ)    \n",
    "    data_plus_forecast = pd.concat([data, forecast], axis=1)\n",
    "    data_plus_forecast.columns = ['data', 'predicted']\n",
    "    data_plus_forecast.plot(figsize=figsize, grid=True)\n",
    "    plt.title(title)\n",
    "    plt.ylabel(xlabel)\n",
    "    plt.xlabel(ylabel)\n",
    "    plt.show()"
   ]
  },
  {
   "cell_type": "code",
   "execution_count": null,
   "metadata": {},
   "outputs": [],
   "source": [
    "# plot_data_plus_ARIMA_predictions(train_data=dr_train_data, order=(5,1,0),start=3, end=20, typ='levels')"
   ]
  },
  {
   "cell_type": "code",
   "execution_count": null,
   "metadata": {},
   "outputs": [],
   "source": [
    "test_rolling_ARIMA_forecast(train_data=dr_train_data, test_data=dr_test_set, order=(5,1,0))\n",
    "\n"
   ]
  },
  {
   "cell_type": "code",
   "execution_count": null,
   "metadata": {},
   "outputs": [],
   "source": [
    "def plot_ARIMA_forecast_and_CI(train_data, order, start, end, params, alpha=0.05, title=''):\n",
    "    start=start\n",
    "    end=end\n",
    "    fitted_model = ARIMA(train_data, order=order).fit()\n",
    "#     predicted, expected = test_rolling_ARIMA_forecast(train_data, test_data, order=order)\n",
    "    params = params\n",
    "    plt.rcParams.update(params)\n",
    "    fig = fitted_model.plot_predict(start=start, end=end, alpha=alpha)\n",
    "    plt.title(title)\n",
    "    plt.show()\n",
    "    "
   ]
  },
  {
   "cell_type": "markdown",
   "metadata": {},
   "source": [
    "#### plot data and forecast w/ 95% CI"
   ]
  },
  {
   "cell_type": "raw",
   "metadata": {},
   "source": [
    "Lists of datasets in order: dr, RN/PA, therapist\n",
    "# training_datasets\n",
    "# test_sets"
   ]
  },
  {
   "cell_type": "code",
   "execution_count": null,
   "metadata": {},
   "outputs": [],
   "source": [
    "# using all_data_sets\n",
    "titles = ['Dr Predicted', 'RN/PA Predicted', 'Therapist Predicted' ]\n",
    "start= '2015-01-18'\n",
    "end = '2018-07-29'\n",
    "order=(5,1,0)\n",
    "params = {'figure.figsize': [8,8],'axes.labelsize': 'Medium', 'font.size': 12.0, \\\n",
    "'lines.linewidth': 2}\n",
    "\n",
    "for i in range(len(all_data)):\n",
    "    plot_ARIMA_forecast_and_CI(train_data=all_data_sets[i], order=order, start=start,\\\n",
    "        end=end, params=params, alpha=0.05, title=titles[i])"
   ]
  },
  {
   "cell_type": "code",
   "execution_count": null,
   "metadata": {},
   "outputs": [],
   "source": [
    "# trying to add CI to this function\n",
    "def get_predictions_df_and_plot_rolling_ARIMA_forecast(train_data, test_data, \\\n",
    "order, figsize=(10,5),title=''):\n",
    "    \"Calculates and plots rolling ARIMA forecast\"\n",
    "    fitted_model = ARIMA(train_data, order=order).fit()\n",
    "    predicted, expected = test_rolling_ARIMA_forecast(train_data, test_data, order)\n",
    "    predictions = np.hstack(predicted)\n",
    "    actual = pd.concat([train_data, test_data], axis=0 )\n",
    "    df = pd.DataFrame({'predicted': predictions, 'actual':expected})\n",
    "    real_and_predicted_df = pd.DataFrame({'actual': actual, 'predicted':df['predicted']})\n",
    "    fig = real_and_predicted_df.plot(figsize=figsize)\n",
    "    plt.title(title)\n",
    "    plt.show()\n",
    "    return df"
   ]
  },
  {
   "cell_type": "code",
   "execution_count": null,
   "metadata": {
    "scrolled": false
   },
   "outputs": [],
   "source": [
    "# plot rolling forecast against actual data for March/April 2018\n",
    "p_ = [5, 4, 3]\n",
    "title = 'Actual vs Predicted values (ARIMA)'\n",
    "order = (5,1,1)\n",
    "\n",
    "for i in range(len(training_datasets)):\n",
    "    train = training_datasets[i]\n",
    "    test = test_sets[i]\n",
    "    df_forecasts = get_predictions_df_and_plot_rolling_ARIMA_forecast(train_data=train, test_data=test,\\\n",
    "                    order=order, title=title)"
   ]
  },
  {
   "cell_type": "code",
   "execution_count": null,
   "metadata": {},
   "outputs": [],
   "source": [
    "# training_datasets = [dr_train_data, RN_PA_train_data, therapist_train_data]\n",
    "# test_sets = [dr_test_set, RN_PA_test_set, therapist_test_set]"
   ]
  },
  {
   "cell_type": "code",
   "execution_count": null,
   "metadata": {},
   "outputs": [],
   "source": [
    "# plot longer-term predictions \n",
    "start= '2018-03-04'\n",
    "end = '2018-12-30'\n",
    "p_ = [5, 4, 3]\n",
    "title = 'Actual vs Predicted values (ARIMA)'\n",
    "order = (5,1,1)\n",
    "for i in range(len(training_datasets)):\n",
    "    train = training_datasets[i]\n",
    "    plot_data_plus_ARIMA_predictions(data=train, order=order, start=start, end=end, typ='levels', \\\n",
    "                    figsize=(12,6), title='', ylabel='', xlabel='')"
   ]
  },
  {
   "cell_type": "code",
   "execution_count": null,
   "metadata": {},
   "outputs": [],
   "source": [
    "# mse = mean_squared_error(predicted, expected)\n",
    "# mse"
   ]
  },
  {
   "cell_type": "code",
   "execution_count": null,
   "metadata": {},
   "outputs": [],
   "source": []
  },
  {
   "cell_type": "code",
   "execution_count": null,
   "metadata": {},
   "outputs": [],
   "source": []
  },
  {
   "cell_type": "code",
   "execution_count": null,
   "metadata": {},
   "outputs": [],
   "source": []
  },
  {
   "cell_type": "code",
   "execution_count": null,
   "metadata": {},
   "outputs": [],
   "source": []
  },
  {
   "cell_type": "code",
   "execution_count": null,
   "metadata": {},
   "outputs": [],
   "source": []
  }
 ],
 "metadata": {
  "kernelspec": {
   "display_name": "Python 3",
   "language": "python",
   "name": "python3"
  },
  "language_info": {
   "codemirror_mode": {
    "name": "ipython",
    "version": 3
   },
   "file_extension": ".py",
   "mimetype": "text/x-python",
   "name": "python",
   "nbconvert_exporter": "python",
   "pygments_lexer": "ipython3",
   "version": "3.6.5"
  }
 },
 "nbformat": 4,
 "nbformat_minor": 2
}
