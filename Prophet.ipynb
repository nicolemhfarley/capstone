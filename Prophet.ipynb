{
 "cells": [
  {
   "cell_type": "code",
   "execution_count": null,
   "metadata": {},
   "outputs": [],
   "source": [
    "import numpy as np\n",
    "import pandas as pd\n",
    "from pandas.tools.plotting import table\n",
    "import matplotlib.pyplot as plt\n",
    "%matplotlib inline\n",
    "from sklearn.metrics import mean_squared_error\n",
    "import warnings\n",
    "warnings.filterwarnings(\"ignore\")\n",
    "%load_ext autoreload\n",
    "%autoreload 2"
   ]
  },
  {
   "cell_type": "code",
   "execution_count": null,
   "metadata": {},
   "outputs": [],
   "source": [
    "from timeseries_functions import index_to_datetime, plot_all_df_columns, plot_series,\\\n",
    "plot_series_save_fig, plot_series_and_differences, run_augmented_Dickey_Fuller_test, \\\n",
    "plot_autocorrelation, plot_partial_autocorrelation, plot_decomposition"
   ]
  },
  {
   "cell_type": "code",
   "execution_count": null,
   "metadata": {},
   "outputs": [],
   "source": [
    "from timeseries_functions import make_col_vector, make_design_matrix, fit_linear_trend,\\\n",
    "plot_trend_data, plot_linear_trend"
   ]
  },
  {
   "cell_type": "code",
   "execution_count": null,
   "metadata": {},
   "outputs": [],
   "source": [
    "from fbprophet import Prophet"
   ]
  },
  {
   "cell_type": "code",
   "execution_count": null,
   "metadata": {},
   "outputs": [],
   "source": [
    "from prophet_functions import get_prophet_training_mse, get_prophet_test_mse,\\\n",
    "get_prophet_forecast, plot_prophet_forecast, get_prophet_forecast_w_holidays,\\\n",
    "prophet_forecast_to_csv"
   ]
  },
  {
   "cell_type": "markdown",
   "metadata": {},
   "source": [
    "#### add holiday component"
   ]
  },
  {
   "cell_type": "code",
   "execution_count": null,
   "metadata": {},
   "outputs": [],
   "source": [
    "christmas_dates = ['2015-12-25', '2016-12-25', '2017-12-25']\n",
    "new_year_dates = ['2016-01-01', '2017-01-01', '2018-01-01']\n",
    "thanksgiving_dates = ['2015-11-26', '2016-11-24', '2017-11-23']"
   ]
  },
  {
   "cell_type": "code",
   "execution_count": null,
   "metadata": {},
   "outputs": [],
   "source": [
    "christmas = pd.DataFrame({'holiday':'Christams', 'ds': pd.to_datetime(christmas_dates)})"
   ]
  },
  {
   "cell_type": "code",
   "execution_count": null,
   "metadata": {},
   "outputs": [],
   "source": [
    "thanksgiving = pd.DataFrame({'holiday':'Thanksgiving', 'ds': pd.to_datetime(thanksgiving_dates)})"
   ]
  },
  {
   "cell_type": "code",
   "execution_count": null,
   "metadata": {},
   "outputs": [],
   "source": [
    "new_years = pd.DataFrame({'holiday':'New Years', 'ds': pd.to_datetime(new_year_dates)})"
   ]
  },
  {
   "cell_type": "code",
   "execution_count": null,
   "metadata": {},
   "outputs": [],
   "source": [
    "holidays = pd.concat([christmas, thanksgiving, new_years])"
   ]
  },
  {
   "cell_type": "code",
   "execution_count": null,
   "metadata": {},
   "outputs": [],
   "source": [
    "holidays1 = holidays.copy()\n",
    "holidays2 = holidays.copy()\n",
    "holidays1_2 = holidays.copy()\n",
    "holidays2_1 = holidays.copy()"
   ]
  },
  {
   "cell_type": "code",
   "execution_count": null,
   "metadata": {},
   "outputs": [],
   "source": [
    "holidays1['lower_window'] = -1\n",
    "holidays1['upper_window'] = 1"
   ]
  },
  {
   "cell_type": "code",
   "execution_count": null,
   "metadata": {},
   "outputs": [],
   "source": [
    "holidays2['lower_window'] = -2\n",
    "holidays2['upper_window'] = 2"
   ]
  },
  {
   "cell_type": "code",
   "execution_count": null,
   "metadata": {},
   "outputs": [],
   "source": [
    "holidays1_2['lower_window'] = -1\n",
    "holidays1_2['upper_window'] = 2"
   ]
  },
  {
   "cell_type": "code",
   "execution_count": null,
   "metadata": {},
   "outputs": [],
   "source": [
    "holidays2_1['lower_window'] = -2\n",
    "holidays2_1['upper_window'] = 1"
   ]
  },
  {
   "cell_type": "code",
   "execution_count": null,
   "metadata": {},
   "outputs": [],
   "source": [
    "holiday_windows = [holidays1, holidays2, holidays1_2, holidays2_1]"
   ]
  },
  {
   "cell_type": "markdown",
   "metadata": {},
   "source": [
    "### using weekly data"
   ]
  },
  {
   "cell_type": "code",
   "execution_count": null,
   "metadata": {},
   "outputs": [],
   "source": [
    "dr_df = pd.read_csv('./data/doctors_hours_per_provider.csv')\n",
    "RNPA_df = pd.read_csv('./data/RNPA_hours_per_provider.csv')\n",
    "ther_df = pd.read_csv('./data/therapists_hours_per_provider.csv')"
   ]
  },
  {
   "cell_type": "code",
   "execution_count": null,
   "metadata": {},
   "outputs": [],
   "source": [
    "train_start = '2015-01-12'\n",
    "train_end = '2018-02-26'\n",
    "test_start = '2018-03-05'\n",
    "test_end = '2018-04-30'"
   ]
  },
  {
   "cell_type": "code",
   "execution_count": null,
   "metadata": {},
   "outputs": [],
   "source": [
    "dr_df.columns"
   ]
  },
  {
   "cell_type": "code",
   "execution_count": null,
   "metadata": {},
   "outputs": [],
   "source": [
    "def get_prophet_forecast(df, df_name, df_cols, date_hours_cols, pred_cols, periods):\n",
    "    \"\"\"\n",
    "    \"\"\"\n",
    "    df.columns = df_cols\n",
    "    df = df[date_hours_cols]\n",
    "    df.columns = ['ds', 'y']\n",
    "    model = Prophet()\n",
    "    model.fit(df)\n",
    "    future = model.make_future_dataframe(periods=periods)\n",
    "    forecast = model.predict(future)\n",
    "    df_pred = pd.concat([df, forecast[pred_cols]], axis=1)\n",
    "    predictions = forecast.iloc[-periods:]\n",
    "    get_prophet_training_mse(df_pred, df_name, periods)\n",
    "    get_prophet_test_mse(df_pred, df_name, periods)\n",
    "    return model, forecast, df_pred"
   ]
  },
  {
   "cell_type": "code",
   "execution_count": null,
   "metadata": {},
   "outputs": [],
   "source": [
    "df_cols = ['date', 'Number_Providers', 'Hours', 'Hours_per_Provider']\n",
    "date_hours_cols = ['date', 'Hours']\n",
    "periods = 90\n",
    "pred_cols = ['yhat', 'yhat_lower', 'yhat_upper']"
   ]
  },
  {
   "cell_type": "code",
   "execution_count": null,
   "metadata": {},
   "outputs": [],
   "source": [
    "# get doctors forecast and save to csv file\n",
    "dr_model, forecast, dr_pred = get_prophet_forecast(dr_df, 'Doctors', df_cols, date_hours_cols,\\\n",
    "                pred_cols, periods)"
   ]
  },
  {
   "cell_type": "code",
   "execution_count": null,
   "metadata": {},
   "outputs": [],
   "source": [
    "prophet_forecast_to_csv(dr_pred, 'doctors_prophet')"
   ]
  },
  {
   "cell_type": "code",
   "execution_count": null,
   "metadata": {},
   "outputs": [],
   "source": [
    "dr_forecast = pd.read_csv('./data/doctors_prophet_predictions.csv', index_col=0)"
   ]
  },
  {
   "cell_type": "code",
   "execution_count": null,
   "metadata": {},
   "outputs": [],
   "source": [
    "weekly_data = [dr_df, RNPA_df, ther_df]\n",
    "df_names = ['Doctors', 'RN/PAs', 'therapists']"
   ]
  },
  {
   "cell_type": "code",
   "execution_count": null,
   "metadata": {
    "scrolled": false
   },
   "outputs": [],
   "source": [
    "# Get forecast and plot for all 3 categories\n",
    "for i in range(len(weekly_data)):\n",
    "    model, forecast, predictions_df = get_prophet_forecast(df=weekly_data[i], df_name=df_names[i], df_cols=df_cols,\\\n",
    "                     date_hours_cols=date_hours_cols, pred_cols=pred_cols, periods=periods)\n",
    "    plot_prophet_forecast(model, forecast)"
   ]
  },
  {
   "cell_type": "code",
   "execution_count": null,
   "metadata": {
    "scrolled": false
   },
   "outputs": [],
   "source": [
    "# get MSE for forecasts with holidays w/ different windows included\n",
    "holiday_windows = [holidays1, holidays2, holidays1_2, holidays2_1]\n",
    "for i in range(len(weekly_data)):\n",
    "    for h in holiday_windows:\n",
    "        model, forecast, predictions_df = get_prophet_forecast_w_holidays(df=weekly_data[i], df_name=df_names[i], df_cols=df_cols,\\\n",
    "                     date_hours_cols=date_hours_cols, pred_cols=pred_cols, periods=periods, holidays=h)"
   ]
  },
  {
   "cell_type": "raw",
   "metadata": {},
   "source": [
    "adding holidays: decreased MSE for all categories, the best window for doctors = -1,+1, RN/PA = -1,+2, therapists = -1,+1"
   ]
  },
  {
   "cell_type": "code",
   "execution_count": null,
   "metadata": {},
   "outputs": [],
   "source": [
    "# Doctor's forecast + holidays\n",
    "dr_model_h, dr_forecast_h, dr_pred_h = get_prophet_forecast_w_holidays(dr_df, 'Doctors', df_cols, date_hours_cols,\\\n",
    "                pred_cols, periods, holidays=h)\n",
    "# plot forecast & decomposition w holidays\n",
    "plot_prophet_forecast(dr_model_h, dr_forecast_h)"
   ]
  },
  {
   "cell_type": "code",
   "execution_count": null,
   "metadata": {},
   "outputs": [],
   "source": [
    "# fig = plot_prophet_forecast(dr_model_h, dr_forecast_h, xlabel='Date', ylabel='Hours')\n",
    "dr_fig = dr_model_h.plot(dr_forecast_h, xlabel='Date', ylabel='Hours')\n",
    "dr_fig.savefig('./images/dr_prophet_model.png')"
   ]
  },
  {
   "cell_type": "code",
   "execution_count": null,
   "metadata": {},
   "outputs": [],
   "source": [
    "prophet_forecast_to_csv(dr_pred_h, 'doctors_prophet_holidays')"
   ]
  },
  {
   "cell_type": "markdown",
   "metadata": {},
   "source": [
    "#### RN/PAs"
   ]
  },
  {
   "cell_type": "code",
   "execution_count": null,
   "metadata": {},
   "outputs": [],
   "source": [
    "# RN/PA forecast + holidays\n",
    "RNPA_model_h, RNPA_forecast_h, RNPA_pred_h = get_prophet_forecast_w_holidays(RNPA_df, 'RN/PAs', df_cols, date_hours_cols,\\\n",
    "                pred_cols, periods, holidays=h)\n",
    "# plot forecast & decomposition w holidays\n",
    "plot_prophet_forecast(RNPA_model_h, RNPA_forecast_h)"
   ]
  },
  {
   "cell_type": "code",
   "execution_count": null,
   "metadata": {},
   "outputs": [],
   "source": [
    "# fig = plot_prophet_forecast(dr_model_h, dr_forecast_h, xlabel='Date', ylabel='Hours')\n",
    "RNPA_fig = RNPA_model_h.plot(RNPA_forecast_h, xlabel='Date', ylabel='Hours')\n",
    "RNPA_fig.savefig('./images/RNPA_prophet_model.png')"
   ]
  },
  {
   "cell_type": "code",
   "execution_count": null,
   "metadata": {},
   "outputs": [],
   "source": [
    "prophet_forecast_to_csv(RNPA_pred_h, 'RNPA_prophet_holidays')"
   ]
  },
  {
   "cell_type": "markdown",
   "metadata": {},
   "source": [
    "#### therapists"
   ]
  },
  {
   "cell_type": "code",
   "execution_count": null,
   "metadata": {},
   "outputs": [],
   "source": [
    "# Therapists forecast + holidays\n",
    "ther_model_h, ther_forecast_h, ther_pred_h = get_prophet_forecast_w_holidays(ther_df, 'Therapists', df_cols, date_hours_cols,\\\n",
    "                pred_cols, periods, holidays=h)\n",
    "# plot forecast & decomposition w holidays\n",
    "plot_prophet_forecast(ther_model_h, ther_forecast_h)"
   ]
  },
  {
   "cell_type": "code",
   "execution_count": null,
   "metadata": {},
   "outputs": [],
   "source": [
    "# fig = plot_prophet_forecast(dr_model_h, dr_forecast_h, xlabel='Date', ylabel='Hours')\n",
    "ther_fig = ther_model_h.plot(ther_forecast_h, xlabel='Date', ylabel='Hours')\n",
    "ther_fig.savefig('./images/ther_prophet_model.png')"
   ]
  },
  {
   "cell_type": "code",
   "execution_count": null,
   "metadata": {},
   "outputs": [],
   "source": [
    "prophet_forecast_to_csv(ther_pred_h, './data/therapist_prophet_holidays')"
   ]
  },
  {
   "cell_type": "code",
   "execution_count": null,
   "metadata": {},
   "outputs": [],
   "source": []
  },
  {
   "cell_type": "markdown",
   "metadata": {},
   "source": [
    "#### predict number providers for 3 month forecast"
   ]
  },
  {
   "cell_type": "code",
   "execution_count": null,
   "metadata": {},
   "outputs": [],
   "source": [
    "# import data\n",
    "dr_num = pd.read_csv('./data/doctors_hours_per_provider.csv', index_col=0)\n",
    "RNPA_num = pd.read_csv('./data/RNPA_hours_per_provider.csv',  index_col=0)\n",
    "therapists_num = pd.read_csv('./data/therapists_hours_per_provider.csv',  index_col=0)"
   ]
  },
  {
   "cell_type": "code",
   "execution_count": null,
   "metadata": {},
   "outputs": [],
   "source": [
    "dr_num.tail()"
   ]
  },
  {
   "cell_type": "code",
   "execution_count": null,
   "metadata": {},
   "outputs": [],
   "source": [
    "# calculate average hours/provider category\n",
    "providers = [dr_num, RNPA_num, therapists_num]\n",
    "avg_provider_hours = []\n",
    "for p in providers:\n",
    "    avg = p['Hours_per_Provider'].mean()\n",
    "    avg_provider_hours.append(round(avg, 2))"
   ]
  },
  {
   "cell_type": "code",
   "execution_count": null,
   "metadata": {},
   "outputs": [],
   "source": [
    "dr_num.columns"
   ]
  },
  {
   "cell_type": "code",
   "execution_count": null,
   "metadata": {},
   "outputs": [],
   "source": [
    "dr_avg_hours = dr_num['Hours_per_Provider'].mean()"
   ]
  },
  {
   "cell_type": "code",
   "execution_count": null,
   "metadata": {},
   "outputs": [],
   "source": [
    "dr_avg_hours"
   ]
  },
  {
   "cell_type": "code",
   "execution_count": null,
   "metadata": {},
   "outputs": [],
   "source": [
    "avg_provider_hours"
   ]
  },
  {
   "cell_type": "code",
   "execution_count": null,
   "metadata": {},
   "outputs": [],
   "source": [
    "# import forecast data\n",
    "dr_forecast_h = pd.read_csv('./data/doctors_prophet_holidays_predictions.csv', index_col=0)\n",
    "RNPA_forecast_h = pd.read_csv('./data/RNPA_prophet_holidays_predictions.csv', index_col=0)\n",
    "ther_forecast_h = pd.read_csv('./data/therapist_prophet_holidays_predictions.csv', index_col=0)"
   ]
  },
  {
   "cell_type": "code",
   "execution_count": null,
   "metadata": {},
   "outputs": [],
   "source": [
    "forecasts = [dr_forecast_h, RNPA_forecast_h, ther_forecast_h]"
   ]
  },
  {
   "cell_type": "code",
   "execution_count": null,
   "metadata": {},
   "outputs": [],
   "source": [
    "dr_3mo_forecast = dr_forecast_h[174:186]\n",
    "RNPA_3mo_forecast = RNPA_forecast_h[174:186]\n",
    "ther_3mo_forecast = ther_forecast_h[174:186]"
   ]
  },
  {
   "cell_type": "code",
   "execution_count": null,
   "metadata": {},
   "outputs": [],
   "source": [
    "dr_3mo_forecast.columns"
   ]
  },
  {
   "cell_type": "code",
   "execution_count": null,
   "metadata": {},
   "outputs": [],
   "source": [
    "dr_3mo_forecast['Est_Num_Providers'] = round(dr_3mo_forecast['Predicted_Hours'] / 19.62)\n",
    "RNPA_3mo_forecast['Est_Num_Providers'] = round(RNPA_3mo_forecast['Predicted_Hours'] / 13.21)\n",
    "ther_3mo_forecast['Est_Num_Providers'] = round(ther_3mo_forecast['Predicted_Hours'] / 11.05)"
   ]
  },
  {
   "cell_type": "code",
   "execution_count": null,
   "metadata": {},
   "outputs": [],
   "source": [
    "# reset index to forecast week number\n",
    "dr_3mo_forecast = dr_3mo_forecast.reset_index()"
   ]
  },
  {
   "cell_type": "code",
   "execution_count": null,
   "metadata": {},
   "outputs": [],
   "source": [
    "dr_3mo_forecast.index = dr_3mo_forecast.index+1"
   ]
  },
  {
   "cell_type": "code",
   "execution_count": null,
   "metadata": {},
   "outputs": [],
   "source": [
    "# round up hours column\n",
    "dr_3mo_forecast['Predicted_Hours'] = round(dr_3mo_forecast['Predicted_Hours'])"
   ]
  },
  {
   "cell_type": "code",
   "execution_count": null,
   "metadata": {},
   "outputs": [],
   "source": [
    "dr_3mo_forecast =  dr_3mo_forecast[['Predicted_Hours', 'Est_Num_Providers']]\n",
    "dr_3mo_forecast.rename_axis('Week')"
   ]
  },
  {
   "cell_type": "code",
   "execution_count": null,
   "metadata": {},
   "outputs": [],
   "source": [
    "# save df to image\n",
    "dr_3mo_forecast.to_csv('./data/dr_12_week_prophet_forecast.csv')"
   ]
  },
  {
   "cell_type": "code",
   "execution_count": null,
   "metadata": {},
   "outputs": [],
   "source": [
    "dr_8_to_16_wk_prophet = dr_forecast_h[184:193]"
   ]
  },
  {
   "cell_type": "code",
   "execution_count": null,
   "metadata": {},
   "outputs": [],
   "source": [
    "dr_8_to_16_wk_prophet['Est_Num_Providers'] = round(dr_8_to_16_wk_prophet['Predicted_Hours'] / 19.62)"
   ]
  },
  {
   "cell_type": "code",
   "execution_count": null,
   "metadata": {},
   "outputs": [],
   "source": [
    "# reset index to forecast week number\n",
    "dr_8_to_16_wk_prophet = dr_8_to_16_wk_prophet.reset_index()"
   ]
  },
  {
   "cell_type": "code",
   "execution_count": null,
   "metadata": {},
   "outputs": [],
   "source": [
    "dr_8_to_16_wk_prophet.index = dr_8_to_16_wk_prophet.index+8"
   ]
  },
  {
   "cell_type": "code",
   "execution_count": null,
   "metadata": {},
   "outputs": [],
   "source": [
    "# round up hours column\n",
    "dr_8_to_16_wk_prophet['Predicted_Hours'] = round(dr_8_to_16_wk_prophet['Predicted_Hours'])"
   ]
  },
  {
   "cell_type": "code",
   "execution_count": null,
   "metadata": {},
   "outputs": [],
   "source": [
    "dr_8_to_16_wk_prophet =  dr_8_to_16_wk_prophet[['Predicted_Hours', 'Est_Num_Providers']]\n",
    "dr_8_to_16_wk_prophet.rename_axis('Week')"
   ]
  },
  {
   "cell_type": "code",
   "execution_count": null,
   "metadata": {},
   "outputs": [],
   "source": [
    "# save df to image\n",
    "dr_8_to_16_wk_prophet.to_csv('./data/dr_8_to_16_wk_prophet.csv')"
   ]
  },
  {
   "cell_type": "markdown",
   "metadata": {},
   "source": [
    "#### save doctors predictions as images for presentation"
   ]
  },
  {
   "cell_type": "code",
   "execution_count": null,
   "metadata": {},
   "outputs": [],
   "source": [
    "from pandas.tools.plotting import table\n",
    "fig, ax = plt.subplots(figsize=(10,10)) # set size frame\n",
    "ax.xaxis.set_visible(False)  # hide axes\n",
    "ax.yaxis.set_visible(False)  \n",
    "ax.set_frame_on(False)  \n",
    "tabla = table(ax, dr_3mo_forecast, loc='center', colWidths=[0.2]*len(dr_3mo_forecast.columns))\n",
    "tabla.auto_set_font_size(False) \n",
    "tabla.set_fontsize(16)\n",
    "tabla.scale(1.5, 2) \n",
    "plt.savefig('./images/dr_12wk_Prophet_forecast.png', transparent=True)"
   ]
  },
  {
   "cell_type": "code",
   "execution_count": null,
   "metadata": {},
   "outputs": [],
   "source": [
    "from pandas.tools.plotting import table\n",
    "fig, ax = plt.subplots(figsize=(10,10)) # set size frame\n",
    "ax.xaxis.set_visible(False)  # hide axes\n",
    "ax.yaxis.set_visible(False)  \n",
    "ax.set_frame_on(False)  \n",
    "tabla = table(ax, dr_8_to_16_wk_prophet, loc='center', colWidths=[0.2]*len(dr_8_to_16_wk_prophet.columns))\n",
    "tabla.auto_set_font_size(False) \n",
    "tabla.set_fontsize(16)\n",
    "tabla.scale(1.5, 2) \n",
    "plt.savefig('./images/dr_8_to_16_wk_prophet.png', transparent=True)"
   ]
  },
  {
   "cell_type": "markdown",
   "metadata": {},
   "source": [
    "#### add regressor for adding additional variable: number of providers"
   ]
  },
  {
   "cell_type": "code",
   "execution_count": null,
   "metadata": {},
   "outputs": [],
   "source": [
    "# Potential next steps: add exogenous variable - number of providers to each model\n",
    "# help(Prophet.add_regressor)"
   ]
  }
 ],
 "metadata": {
  "kernelspec": {
   "display_name": "Python 3",
   "language": "python",
   "name": "python3"
  },
  "language_info": {
   "codemirror_mode": {
    "name": "ipython",
    "version": 3
   },
   "file_extension": ".py",
   "mimetype": "text/x-python",
   "name": "python",
   "nbconvert_exporter": "python",
   "pygments_lexer": "ipython3",
   "version": "3.6.5"
  }
 },
 "nbformat": 4,
 "nbformat_minor": 2
}
