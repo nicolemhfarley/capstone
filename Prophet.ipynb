{
 "cells": [
  {
   "cell_type": "code",
   "execution_count": null,
   "metadata": {},
   "outputs": [],
   "source": [
    "import numpy as np\n",
    "import pandas as pd\n",
    "import matplotlib.pyplot as plt\n",
    "%matplotlib inline\n",
    "from sklearn.metrics import mean_squared_error\n",
    "import warnings\n",
    "warnings.filterwarnings(\"ignore\")"
   ]
  },
  {
   "cell_type": "code",
   "execution_count": 1,
   "metadata": {},
   "outputs": [
    {
     "name": "stderr",
     "output_type": "stream",
     "text": [
      "/home/nicole/anaconda3/lib/python3.6/site-packages/statsmodels/compat/pandas.py:56: FutureWarning: The pandas.core.datetools module is deprecated and will be removed in a future version. Please use the pandas.tseries module instead.\n",
      "  from pandas.core import datetools\n"
     ]
    }
   ],
   "source": [
    "from timeseries_functions import index_to_datetime, plot_all_df_columns, plot_series,\\\n",
    "plot_series_save_fig, plot_series_and_differences, run_augmented_Dickey_Fuller_test, \\\n",
    "plot_autocorrelation, plot_partial_autocorrelation, plot_decomposition"
   ]
  },
  {
   "cell_type": "code",
   "execution_count": null,
   "metadata": {},
   "outputs": [],
   "source": [
    "from timeseries_functions import make_col_vector, make_design_matrix, fit_linear_trend,\\\n",
    "plot_trend_data, plot_linear_trend"
   ]
  },
  {
   "cell_type": "code",
   "execution_count": null,
   "metadata": {},
   "outputs": [],
   "source": [
    "from fbprophet import Prophet"
   ]
  },
  {
   "cell_type": "code",
   "execution_count": null,
   "metadata": {},
   "outputs": [],
   "source": [
    "from prophet_functions import get_prophet_training_mse, get_prophet_test_mse,\\\n",
    "get_prophet_forecast, plot_prophet_forecast"
   ]
  },
  {
   "cell_type": "markdown",
   "metadata": {},
   "source": [
    "#### add holiday component"
   ]
  },
  {
   "cell_type": "code",
   "execution_count": null,
   "metadata": {},
   "outputs": [],
   "source": [
    "christmas_dates = ['2015-12-25', '2016-12-25', '2017-12-25']\n",
    "new_year_dates = ['2016-01-01', '2017-01-01', '2018-01-01']\n",
    "thanksgiving_dates = ['2015-11-26', '2016-11-24', '2017-11-23']"
   ]
  },
  {
   "cell_type": "code",
   "execution_count": null,
   "metadata": {},
   "outputs": [],
   "source": [
    "christmas = pd.DataFrame({'holiday':'Christams', 'ds': pd.to_datetime(christmas_dates)})"
   ]
  },
  {
   "cell_type": "code",
   "execution_count": null,
   "metadata": {},
   "outputs": [],
   "source": [
    "thanksgiving = pd.DataFrame({'holiday':'Thanksgiving', 'ds': pd.to_datetime(thanksgiving_dates)})"
   ]
  },
  {
   "cell_type": "code",
   "execution_count": null,
   "metadata": {},
   "outputs": [],
   "source": [
    "new_years = pd.DataFrame({'holiday':'New Years', 'ds': pd.to_datetime(new_year_dates)})"
   ]
  },
  {
   "cell_type": "code",
   "execution_count": null,
   "metadata": {},
   "outputs": [],
   "source": [
    "holidays = pd.concat([christmas, thanksgiving, new_years])"
   ]
  },
  {
   "cell_type": "code",
   "execution_count": null,
   "metadata": {},
   "outputs": [],
   "source": [
    "holidays1 = holidays.copy()\n",
    "holidays2 = holidays.copy()\n",
    "holidays1_2 = holidays.copy()\n",
    "holidays2_1 = holidays.copy()"
   ]
  },
  {
   "cell_type": "code",
   "execution_count": null,
   "metadata": {},
   "outputs": [],
   "source": [
    "holidays1['lower_window'] = -1\n",
    "holidays1['upper_window'] = 1"
   ]
  },
  {
   "cell_type": "code",
   "execution_count": null,
   "metadata": {},
   "outputs": [],
   "source": [
    "holidays2['lower_window'] = -2\n",
    "holidays2['upper_window'] = 2"
   ]
  },
  {
   "cell_type": "code",
   "execution_count": null,
   "metadata": {},
   "outputs": [],
   "source": [
    "holidays1_2['lower_window'] = -1\n",
    "holidays1_2['upper_window'] = 2"
   ]
  },
  {
   "cell_type": "code",
   "execution_count": null,
   "metadata": {},
   "outputs": [],
   "source": [
    "holidays2_1['lower_window'] = -2\n",
    "holidays2_1['upper_window'] = 1"
   ]
  },
  {
   "cell_type": "code",
   "execution_count": null,
   "metadata": {},
   "outputs": [],
   "source": [
    "holiday_windows = [holidays1, holidays2, holidays1_2, holidays2_1]"
   ]
  },
  {
   "cell_type": "markdown",
   "metadata": {},
   "source": [
    "#### add regressor"
   ]
  },
  {
   "cell_type": "code",
   "execution_count": null,
   "metadata": {},
   "outputs": [],
   "source": [
    "help(Prophet.add_regressor)"
   ]
  },
  {
   "cell_type": "markdown",
   "metadata": {},
   "source": [
    "### using weekly data"
   ]
  },
  {
   "cell_type": "code",
   "execution_count": null,
   "metadata": {},
   "outputs": [],
   "source": [
    "dr_df = pd.read_csv('doctors_hours_per_provider.csv')\n",
    "RNPA_df = pd.read_csv('RNPA_hours_per_provider.csv')\n",
    "ther_df = pd.read_csv('therapists_hours_per_provider.csv')"
   ]
  },
  {
   "cell_type": "code",
   "execution_count": null,
   "metadata": {},
   "outputs": [],
   "source": [
    "dr_dt_index = pd.read_csv('doctors_hours_per_provider.csv', index_col=0)\n",
    "RNPA_dt_index = pd.read_csv('RNPA_hours_per_provider.csv', index_col=0)\n",
    "ther_dt_index = pd.read_csv('therapists_hours_per_provider.csv', index_col=0)"
   ]
  },
  {
   "cell_type": "code",
   "execution_count": null,
   "metadata": {},
   "outputs": [],
   "source": [
    "all_df = [dr_dt_index, RNPA_dt_index, ther_dt_index]"
   ]
  },
  {
   "cell_type": "code",
   "execution_count": null,
   "metadata": {},
   "outputs": [],
   "source": [
    "train_start = '2015-01-12'\n",
    "train_end = '2018-02-26'\n",
    "test_start = '2018-03-05'\n",
    "test_end = '2018-04-30'"
   ]
  },
  {
   "cell_type": "code",
   "execution_count": null,
   "metadata": {},
   "outputs": [],
   "source": [
    "dr_train = dr_dt_index.loc[train_start:train_end]\n",
    "dr_test = dr_dt_index.loc[test_start:]"
   ]
  },
  {
   "cell_type": "code",
   "execution_count": null,
   "metadata": {},
   "outputs": [],
   "source": [
    "len(dr_train), len(dr_test)"
   ]
  },
  {
   "cell_type": "code",
   "execution_count": null,
   "metadata": {},
   "outputs": [],
   "source": [
    "def get_prophet_training_mse(forecast, df_name, periods):\n",
    "    \"\"\"compute error over all known dates, actual vs yhat\"\"\"\n",
    "    predictions = forecast.iloc[0:-periods]\n",
    "    mse = mean_squared_error(predictions['y'], predictions['yhat'])\n",
    "    print('MSE for {name} training set is {error}'.format(name=df_name, error=mse))"
   ]
  },
  {
   "cell_type": "code",
   "execution_count": null,
   "metadata": {},
   "outputs": [],
   "source": [
    "def get_prophet_test_mse(forecast, df_name, periods):\n",
    "    \"\"\"compute error over all known dates, actual vs yhat\"\"\"\n",
    "    predictions = forecast.iloc[-155:-periods]\n",
    "    predictions.dropna(inplace=True, axis=0)\n",
    "    mse = mean_squared_error(predictions['y'], predictions['yhat'])\n",
    "    print('MSE for {name} test set is {error}'.format(name=df_name, error=mse))"
   ]
  },
  {
   "cell_type": "code",
   "execution_count": null,
   "metadata": {},
   "outputs": [],
   "source": [
    "def test_prophet_forecast(test_df, df_name, df_cols, date_hours_cols, pred_cols, periods):\n",
    "    test_df.columns = df_cols\n",
    "    test_df = df[date_hours_cols]\n",
    "    test_df.columns = ['ds', 'y']\n",
    "    model = Prophet()\n",
    "    model.fit(test_df)\n",
    "    future = model.make_future_dataframe(periods=periods)\n",
    "    forecast = model.predict(future)\n",
    "    df_pred = pd.concat([test_df, forecast[pred_cols]], axis=1)\n",
    "    predictions = forecast.iloc[-periods:]\n",
    "    get_training_mse(df_pred, df_name, periods)\n",
    "    get_test_mse(df_pred, df_name, periods)\n",
    "    return model, forecast, df_pred"
   ]
  },
  {
   "cell_type": "code",
   "execution_count": null,
   "metadata": {},
   "outputs": [],
   "source": [
    "def get_prophet_forecast(df, df_name, df_cols, date_hours_cols, pred_cols, periods):\n",
    "    df.columns = df_cols\n",
    "    df = df[date_hours_cols]\n",
    "    df.columns = ['ds', 'y']\n",
    "    model = Prophet()\n",
    "    model.fit(df)\n",
    "    future = model.make_future_dataframe(periods=periods)\n",
    "    forecast = model.predict(future)\n",
    "    df_pred = pd.concat([df, forecast[pred_cols]], axis=1)\n",
    "    predictions = forecast.iloc[-periods:]\n",
    "    get_prophet_training_mse(df_pred, df_name, periods)\n",
    "    get_prophet_test_mse(df_pred, df_name, periods)\n",
    "    return model, forecast, df_pred"
   ]
  },
  {
   "cell_type": "code",
   "execution_count": null,
   "metadata": {},
   "outputs": [],
   "source": [
    "def get_prophet_forecast_w_holidays(df, df_name, df_cols, date_hours_cols, \\\n",
    "                pred_cols, periods, holidays=holidays):\n",
    "    df.columns = df_cols\n",
    "    df = df[date_hours_cols]\n",
    "    df.columns = ['ds', 'y']\n",
    "    model = Prophet(holidays=holidays)\n",
    "    model.fit(df)\n",
    "    future = model.make_future_dataframe(periods=periods)\n",
    "    forecast = model.predict(future)\n",
    "    df_pred = pd.concat([df, forecast[pred_cols]], axis=1)\n",
    "    predictions = forecast.iloc[-periods:]\n",
    "    get_prophet_training_mse(df_pred, df_name, periods)\n",
    "    get_prophet_test_mse(df_pred, df_name, periods)\n",
    "    return model, forecast, df_pred"
   ]
  },
  {
   "cell_type": "code",
   "execution_count": null,
   "metadata": {},
   "outputs": [],
   "source": [
    "def plot_prophet_forecast(model, forecast, df_name):\n",
    "    model.plot(forecast, xlabel='Date', ylabel='{n} Hours'.format(n=df_name))\n",
    "    model.plot_components(forecast)\n",
    "# add save plot to figure"
   ]
  },
  {
   "cell_type": "code",
   "execution_count": null,
   "metadata": {},
   "outputs": [],
   "source": [
    "def prophet_forecast_to_csv(prediction_df, file_name):\n",
    "    \"\"\"Save prophet predictions to csv file\"\"\"\n",
    "    prediction_df.columns = ['Date', 'True_Hours', 'Predicted_Hours', 'Lower_Limit', 'Upper_Limit']\n",
    "    prediction_df.to_csv('{}_predictions.csv'.format(file_name))"
   ]
  },
  {
   "cell_type": "code",
   "execution_count": null,
   "metadata": {},
   "outputs": [],
   "source": [
    "df_cols = ['date', 'Number_Providers', 'Hours', 'Hours_per_Provider']\n",
    "date_hours_cols = ['date', 'Hours']\n",
    "periods = 90\n",
    "pred_cols = ['yhat', 'yhat_lower', 'yhat_upper']"
   ]
  },
  {
   "cell_type": "code",
   "execution_count": null,
   "metadata": {},
   "outputs": [],
   "source": [
    "# save doctors forecast to csv file\n",
    "dr_model, forecast, dr_pred = get_prophet_forecast(dr_df, 'Doctors', df_cols, date_hours_cols,\\\n",
    "                pred_cols, periods)"
   ]
  },
  {
   "cell_type": "code",
   "execution_count": null,
   "metadata": {},
   "outputs": [],
   "source": [
    "prophet_forecast_to_csv(dr_pred, 'doctors_prophet')"
   ]
  },
  {
   "cell_type": "code",
   "execution_count": null,
   "metadata": {},
   "outputs": [],
   "source": [
    "dr_forecast = pd.read_csv('doctors_prophet_predictions.csv', index_col=0)"
   ]
  },
  {
   "cell_type": "code",
   "execution_count": null,
   "metadata": {},
   "outputs": [],
   "source": [
    "weekly_data = [dr_df, RNPA_df, ther_df]\n",
    "df_names = ['Doctors', 'RN/PAs', 'therapists']"
   ]
  },
  {
   "cell_type": "code",
   "execution_count": null,
   "metadata": {
    "scrolled": false
   },
   "outputs": [],
   "source": [
    "# Get forecast and plot for all 3 categories\n",
    "for i in range(len(weekly_data)):\n",
    "    model, forecast, predictions_df = get_prophet_forecast(df=weekly_data[i], df_name=df_names[i], df_cols=df_cols,\\\n",
    "                     date_hours_cols=date_hours_cols, pred_cols=pred_cols, periods=periods)\n",
    "    plot_prophet_forecast(model, forecast, df_name=df_names[i])"
   ]
  },
  {
   "cell_type": "code",
   "execution_count": null,
   "metadata": {
    "scrolled": true
   },
   "outputs": [],
   "source": [
    "# get forecast with holidays w/ different windows included\n",
    "holiday_windows = [holidays1, holidays2, holidays1_2, holidays2_1]\n",
    "for i in range(len(weekly_data)):\n",
    "    for h in holiday_windows:\n",
    "        model, forecast, predictions_df = get_prophet_forecast_w_holidays(df=weekly_data[i], df_name=df_names[i], df_cols=df_cols,\\\n",
    "                     date_hours_cols=date_hours_cols, pred_cols=pred_cols, periods=periods, holidays=h)\n",
    "#         plot_prophet_forecast(model, forecast, df_name=df_names[i])"
   ]
  },
  {
   "cell_type": "raw",
   "metadata": {},
   "source": [
    "adding holidays: decreased MSE for all categories, the best window for doctors = -1,+1, RN/PA = -1,+2, therapists = -1,+1"
   ]
  },
  {
   "cell_type": "code",
   "execution_count": null,
   "metadata": {},
   "outputs": [],
   "source": []
  },
  {
   "cell_type": "code",
   "execution_count": null,
   "metadata": {},
   "outputs": [],
   "source": []
  },
  {
   "cell_type": "code",
   "execution_count": null,
   "metadata": {},
   "outputs": [],
   "source": []
  },
  {
   "cell_type": "code",
   "execution_count": null,
   "metadata": {},
   "outputs": [],
   "source": []
  },
  {
   "cell_type": "code",
   "execution_count": null,
   "metadata": {},
   "outputs": [],
   "source": []
  },
  {
   "cell_type": "code",
   "execution_count": null,
   "metadata": {},
   "outputs": [],
   "source": []
  },
  {
   "cell_type": "code",
   "execution_count": null,
   "metadata": {},
   "outputs": [],
   "source": []
  },
  {
   "cell_type": "code",
   "execution_count": null,
   "metadata": {},
   "outputs": [],
   "source": []
  }
 ],
 "metadata": {
  "kernelspec": {
   "display_name": "Python 3",
   "language": "python",
   "name": "python3"
  },
  "language_info": {
   "codemirror_mode": {
    "name": "ipython",
    "version": 3
   },
   "file_extension": ".py",
   "mimetype": "text/x-python",
   "name": "python",
   "nbconvert_exporter": "python",
   "pygments_lexer": "ipython3",
   "version": "3.6.5"
  }
 },
 "nbformat": 4,
 "nbformat_minor": 2
}
