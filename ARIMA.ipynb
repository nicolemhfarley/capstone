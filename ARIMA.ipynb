{
 "cells": [
  {
   "cell_type": "code",
   "execution_count": 1,
   "metadata": {},
   "outputs": [
    {
     "name": "stderr",
     "output_type": "stream",
     "text": [
      "/home/nicole/anaconda3/lib/python3.6/site-packages/statsmodels/compat/pandas.py:56: FutureWarning: The pandas.core.datetools module is deprecated and will be removed in a future version. Please use the pandas.tseries module instead.\n",
      "  from pandas.core import datetools\n"
     ]
    }
   ],
   "source": [
    "import numpy as np\n",
    "import pandas as pd\n",
    "import matplotlib.pyplot as plt\n",
    "%matplotlib inline\n",
    "from statsmodels.graphics import tsaplots\n",
    "import statsmodels.api as sm\n",
    "from statsmodels.tsa.arima_model import ARIMA, ARIMAResults, ARMA\n",
    "from statsmodels.tsa.arima_process import ArmaProcess\n",
    "from sklearn.metrics import mean_squared_error\n",
    "import warnings\n",
    "warnings.filterwarnings(\"ignore\")"
   ]
  },
  {
   "cell_type": "code",
   "execution_count": 2,
   "metadata": {},
   "outputs": [],
   "source": [
    "from timeseries_functions import index_to_datetime, plot_all_df_columns, plot_series,\\\n",
    "plot_series_save_fig, plot_series_and_differences, run_augmented_Dickey_Fuller_test, \\\n",
    "plot_autocorrelation, plot_partial_autocorrelation, plot_decomposition"
   ]
  },
  {
   "cell_type": "markdown",
   "metadata": {},
   "source": [
    "### import data"
   ]
  },
  {
   "cell_type": "code",
   "execution_count": 3,
   "metadata": {},
   "outputs": [],
   "source": [
    "duration_train_df = pd.read_csv('./data/hours_training_data.csv', parse_dates=True, index_col='AppointmentDate')"
   ]
  },
  {
   "cell_type": "code",
   "execution_count": 4,
   "metadata": {},
   "outputs": [],
   "source": [
    "duration_test_df = pd.read_csv('./data/hours_test_data.csv', parse_dates=True, index_col='AppointmentDate')"
   ]
  },
  {
   "cell_type": "code",
   "execution_count": 5,
   "metadata": {},
   "outputs": [],
   "source": [
    "all_data_df = pd.concat([duration_train_df, duration_test_df], axis=0)"
   ]
  },
  {
   "cell_type": "code",
   "execution_count": 6,
   "metadata": {
    "scrolled": false
   },
   "outputs": [
    {
     "data": {
      "text/plain": [
       "Specialty              0\n",
       "AppointmentDate.1      0\n",
       "AppointmentDuration    0\n",
       "Hours_Spent            0\n",
       "dtype: int64"
      ]
     },
     "execution_count": 6,
     "metadata": {},
     "output_type": "execute_result"
    }
   ],
   "source": [
    "all_data_df.isnull().sum()"
   ]
  },
  {
   "cell_type": "code",
   "execution_count": 7,
   "metadata": {},
   "outputs": [
    {
     "data": {
      "text/plain": [
       "(58830, 4)"
      ]
     },
     "execution_count": 7,
     "metadata": {},
     "output_type": "execute_result"
    }
   ],
   "source": [
    "all_data_df.shape"
   ]
  },
  {
   "cell_type": "markdown",
   "metadata": {},
   "source": [
    "#### all data"
   ]
  },
  {
   "cell_type": "code",
   "execution_count": 8,
   "metadata": {},
   "outputs": [],
   "source": [
    "all_doctors = all_data_df[all_data_df['Specialty'] == 'doctor']\n",
    "all_therapists = all_data_df[all_data_df['Specialty'] == 'therapist']\n",
    "all_RN_PA = all_data_df[all_data_df['Specialty'] == 'RN/PA']"
   ]
  },
  {
   "cell_type": "code",
   "execution_count": 9,
   "metadata": {},
   "outputs": [],
   "source": [
    "# Group by hours per day\n",
    "all_doc_duration = all_doctors.groupby(all_doctors.index.date)['Hours_Spent'].sum()\n",
    "all_RN_PA_duration = all_RN_PA.groupby(all_RN_PA.index.date)['Hours_Spent'].sum()\n",
    "all_therapist_duration = all_therapists.groupby(all_therapists.index.date)['Hours_Spent'].sum()"
   ]
  },
  {
   "cell_type": "code",
   "execution_count": 10,
   "metadata": {},
   "outputs": [],
   "source": [
    "all_data = [all_doc_duration, all_RN_PA_duration, all_therapist_duration]"
   ]
  },
  {
   "cell_type": "code",
   "execution_count": 11,
   "metadata": {},
   "outputs": [],
   "source": [
    "for item in all_data:\n",
    "    index_to_datetime(item)"
   ]
  },
  {
   "cell_type": "code",
   "execution_count": 12,
   "metadata": {
    "scrolled": true
   },
   "outputs": [
    {
     "data": {
      "text/plain": [
       "2015-01-05     4.50\n",
       "2015-01-06    20.00\n",
       "2015-01-07    17.00\n",
       "2015-01-08    23.75\n",
       "2015-01-09    12.00\n",
       "Name: Hours_Spent, dtype: float64"
      ]
     },
     "execution_count": 12,
     "metadata": {},
     "output_type": "execute_result"
    }
   ],
   "source": [
    "all_doc_duration.head()"
   ]
  },
  {
   "cell_type": "code",
   "execution_count": 13,
   "metadata": {},
   "outputs": [
    {
     "ename": "NameError",
     "evalue": "name 'weekly_resample' is not defined",
     "output_type": "error",
     "traceback": [
      "\u001b[0;31m---------------------------------------------------------------------------\u001b[0m",
      "\u001b[0;31mNameError\u001b[0m                                 Traceback (most recent call last)",
      "\u001b[0;32m<ipython-input-13-cf16122f1c5a>\u001b[0m in \u001b[0;36m<module>\u001b[0;34m()\u001b[0m\n\u001b[0;32m----> 1\u001b[0;31m \u001b[0mall_dr\u001b[0m \u001b[0;34m=\u001b[0m \u001b[0mweekly_resample\u001b[0m\u001b[0;34m(\u001b[0m\u001b[0mall_doc_duration\u001b[0m\u001b[0;34m)\u001b[0m\u001b[0;34m\u001b[0m\u001b[0m\n\u001b[0m\u001b[1;32m      2\u001b[0m \u001b[0mall_RN_PA\u001b[0m \u001b[0;34m=\u001b[0m \u001b[0mweekly_resample\u001b[0m\u001b[0;34m(\u001b[0m\u001b[0mall_RN_PA_duration\u001b[0m\u001b[0;34m)\u001b[0m\u001b[0;34m\u001b[0m\u001b[0m\n\u001b[1;32m      3\u001b[0m \u001b[0mall_therapist\u001b[0m \u001b[0;34m=\u001b[0m \u001b[0mweekly_resample\u001b[0m\u001b[0;34m(\u001b[0m\u001b[0mall_therapist_duration\u001b[0m\u001b[0;34m)\u001b[0m\u001b[0;34m\u001b[0m\u001b[0m\n",
      "\u001b[0;31mNameError\u001b[0m: name 'weekly_resample' is not defined"
     ]
    }
   ],
   "source": [
    "all_dr = weekly_resample(all_doc_duration)\n",
    "all_RN_PA = weekly_resample(all_RN_PA_duration)\n",
    "all_therapist = weekly_resample(all_therapist_duration)"
   ]
  },
  {
   "cell_type": "code",
   "execution_count": null,
   "metadata": {},
   "outputs": [],
   "source": [
    "all_dr.head()"
   ]
  },
  {
   "cell_type": "code",
   "execution_count": null,
   "metadata": {},
   "outputs": [],
   "source": [
    "# drop partial week, first row\n",
    "all_dr = all_dr[1:]\n",
    "all_RN_PA = all_RN_PA[1:]\n",
    "all_therapist = all_therapist[1:]"
   ]
  },
  {
   "cell_type": "code",
   "execution_count": null,
   "metadata": {},
   "outputs": [],
   "source": [
    "all_data_sets = [all_dr, all_RN_PA, all_therapist]"
   ]
  },
  {
   "cell_type": "code",
   "execution_count": null,
   "metadata": {},
   "outputs": [],
   "source": [
    "all_dr.index\n",
    "# all_RN_PA.index\n",
    "# all_therapist.index"
   ]
  },
  {
   "cell_type": "markdown",
   "metadata": {},
   "source": [
    "### export weekly hours data to csv for each category"
   ]
  },
  {
   "cell_type": "code",
   "execution_count": null,
   "metadata": {},
   "outputs": [],
   "source": [
    "all_dr.to_csv('./data/all_dr_hours.csv')"
   ]
  },
  {
   "cell_type": "code",
   "execution_count": null,
   "metadata": {},
   "outputs": [],
   "source": [
    "all_RN_PA.to_csv('./data/all_RN_PA_hours.csv')"
   ]
  },
  {
   "cell_type": "code",
   "execution_count": null,
   "metadata": {},
   "outputs": [],
   "source": [
    "all_therapist.to_csv('./data/all_therapist_hours.csv')"
   ]
  },
  {
   "cell_type": "markdown",
   "metadata": {},
   "source": [
    "### Separate training and test df by specialty, then downsample to get hours/week"
   ]
  },
  {
   "cell_type": "markdown",
   "metadata": {},
   "source": [
    "#### training data"
   ]
  },
  {
   "cell_type": "code",
   "execution_count": null,
   "metadata": {},
   "outputs": [],
   "source": [
    "doctors = duration_train_df[duration_train_df['Specialty'] == 'doctor']\n",
    "therapists = duration_train_df[duration_train_df['Specialty'] == 'therapist']\n",
    "RN_PA = duration_train_df[duration_train_df['Specialty'] == 'RN/PA']"
   ]
  },
  {
   "cell_type": "code",
   "execution_count": null,
   "metadata": {},
   "outputs": [],
   "source": [
    "# Group by hours per day\n",
    "doc_duration = doctors.groupby(doctors.index.date)['Hours_Spent'].sum()\n",
    "RN_PA_duration = RN_PA.groupby(RN_PA.index.date)['Hours_Spent'].sum()\n",
    "therapist_duration = therapists.groupby(therapists.index.date)['Hours_Spent'].sum()"
   ]
  },
  {
   "cell_type": "code",
   "execution_count": null,
   "metadata": {},
   "outputs": [],
   "source": [
    "training_data = [doc_duration, RN_PA_duration, therapist_duration]"
   ]
  },
  {
   "cell_type": "code",
   "execution_count": null,
   "metadata": {},
   "outputs": [],
   "source": [
    "# convert training data index to datetime\n",
    "for item in training_data:\n",
    "    index_to_datetime(item)"
   ]
  },
  {
   "cell_type": "code",
   "execution_count": null,
   "metadata": {},
   "outputs": [],
   "source": [
    "training_data = [doc_duration, RN_PA_duration, therapist_duration]\n",
    "for data in training_data:\n",
    "    weekly_resample(data)"
   ]
  },
  {
   "cell_type": "code",
   "execution_count": null,
   "metadata": {},
   "outputs": [],
   "source": [
    "dr_train_data = weekly_resample(doc_duration)\n",
    "RN_PA_train_data = weekly_resample(RN_PA_duration)\n",
    "therapist_train_data = weekly_resample(therapist_duration)"
   ]
  },
  {
   "cell_type": "code",
   "execution_count": null,
   "metadata": {},
   "outputs": [],
   "source": [
    "# drop partial week, first row\n",
    "dr_train_data = dr_train_data[1:]\n",
    "RN_PA_train_data = RN_PA_train_data[1:]\n",
    "therapist_train_data = therapist_train_data[1:]"
   ]
  },
  {
   "cell_type": "code",
   "execution_count": null,
   "metadata": {},
   "outputs": [],
   "source": [
    "train_data = [dr_train_data, RN_PA_train_data, therapist_train_data]"
   ]
  },
  {
   "cell_type": "markdown",
   "metadata": {},
   "source": [
    "#### test data"
   ]
  },
  {
   "cell_type": "code",
   "execution_count": null,
   "metadata": {},
   "outputs": [],
   "source": [
    "dr_test_data = duration_test_df[duration_test_df['Specialty'] == 'doctor']\n",
    "RN_PA_test_data = duration_test_df[duration_test_df['Specialty'] == 'RN/PA']\n",
    "therapist_test_data = duration_test_df[duration_test_df['Specialty'] == 'therapist']"
   ]
  },
  {
   "cell_type": "code",
   "execution_count": null,
   "metadata": {},
   "outputs": [],
   "source": [
    "dr_test_data = dr_test_data.groupby(dr_test_data.index.date)['Hours_Spent'].sum()\n",
    "RN_PA_test_data = RN_PA_test_data.groupby(RN_PA_test_data.index.date)['Hours_Spent'].sum()\n",
    "therapist_test_data = therapist_test_data.groupby(therapist_test_data.index.date)['Hours_Spent'].sum()"
   ]
  },
  {
   "cell_type": "code",
   "execution_count": null,
   "metadata": {},
   "outputs": [],
   "source": [
    "test_data = [dr_test_data, RN_PA_test_data, therapist_test_data]"
   ]
  },
  {
   "cell_type": "code",
   "execution_count": null,
   "metadata": {},
   "outputs": [],
   "source": [
    "# convert test data index to datetime\n",
    "for item in test_data:\n",
    "    index_to_datetime(item)"
   ]
  },
  {
   "cell_type": "code",
   "execution_count": null,
   "metadata": {},
   "outputs": [],
   "source": [
    "dr_test_set = weekly_resample(dr_test_data)\n",
    "RN_PA_test_set = weekly_resample(RN_PA_test_data)\n",
    "therapist_test_set = weekly_resample(therapist_test_data)"
   ]
  },
  {
   "cell_type": "code",
   "execution_count": null,
   "metadata": {},
   "outputs": [],
   "source": [
    "plot_series(series=dr_train_data, xlabel='', ylabel='', plot_name='Doctors')"
   ]
  },
  {
   "cell_type": "markdown",
   "metadata": {},
   "source": [
    "### ARIMA models: weekly hours data"
   ]
  },
  {
   "cell_type": "code",
   "execution_count": null,
   "metadata": {},
   "outputs": [],
   "source": [
    "def get_ARIMA_Model(data, order):\n",
    "    \"Fits ARIMA model\"\n",
    "    arima = ARIMA(data, order=order)\n",
    "    results = arima.fit()\n",
    "    summary = results.summary()\n",
    "    params = results.params\n",
    "    residuals = results.resid\n",
    "    return results, summary, params, residuals"
   ]
  },
  {
   "cell_type": "code",
   "execution_count": null,
   "metadata": {},
   "outputs": [],
   "source": [
    "# get doctors ARIMA and print summary\n",
    "dr_results, dr_summary,dr_params, dr_residuals = get_ARIMA_Model(data=dr_train_data, order=(4,1,2))"
   ]
  },
  {
   "cell_type": "code",
   "execution_count": null,
   "metadata": {},
   "outputs": [],
   "source": [
    "dr_summary"
   ]
  },
  {
   "cell_type": "code",
   "execution_count": null,
   "metadata": {},
   "outputs": [],
   "source": [
    "# get RN/PA ARIMA and print summary\n",
    "RN_PA_results, RN_PA_summary, RN_PA_params, RN_PA_residuals = get_ARIMA_Model(data=RN_PA_train_data, order=(4,1,2))"
   ]
  },
  {
   "cell_type": "code",
   "execution_count": null,
   "metadata": {},
   "outputs": [],
   "source": [
    "RN_PA_summary"
   ]
  },
  {
   "cell_type": "code",
   "execution_count": null,
   "metadata": {},
   "outputs": [],
   "source": [
    "# get therapist ARIMA and print summary\n",
    "ther_results, ther_summary, ther_params, ther_residuals = get_ARIMA_Model(data=therapist_train_data, order=(4,1,1))"
   ]
  },
  {
   "cell_type": "code",
   "execution_count": null,
   "metadata": {},
   "outputs": [],
   "source": [
    "ther_summary"
   ]
  },
  {
   "cell_type": "code",
   "execution_count": null,
   "metadata": {},
   "outputs": [],
   "source": [
    "def plot_ARIMA_model(data, order, start, end, title='', xlabel='', ylabel=''):\n",
    "    \"Plots ARIMA model\"\n",
    "    results, summary, params, residuals = get_ARIMA_Model(data, order)\n",
    "    fig = results.plot_predict(start=start, end=end)\n",
    "    plt.title(title)\n",
    "    plt.ylabel(xlabel)\n",
    "    plt.xlabel(ylabel)\n",
    "    plt.show()"
   ]
  },
  {
   "cell_type": "code",
   "execution_count": null,
   "metadata": {},
   "outputs": [],
   "source": [
    "def plot_ARIMA_resids(data, order, start, end, title='', xlabel='', ylabel=''):\n",
    "    \"Plots ARIMA model residuals\"\n",
    "    results, summary, params, residuals = get_ARIMA_Model(data, order)\n",
    "    residuals.plot(figsize=(5,5))\n",
    "    plt.title(title)\n",
    "    plt.ylabel(xlabel)\n",
    "    plt.xlabel(ylabel)\n",
    "    plt.show()"
   ]
  },
  {
   "cell_type": "markdown",
   "metadata": {},
   "source": [
    "#### doctors"
   ]
  },
  {
   "cell_type": "code",
   "execution_count": null,
   "metadata": {
    "scrolled": true
   },
   "outputs": [],
   "source": [
    "params = {'figure.figsize': [12,8],'axes.grid.axis': 'both', 'axes.grid': True, 'axes.labelsize': 'Medium', 'font.size': 12.0, \\\n",
    "'lines.linewidth': 2}\n",
    "plt.rcParams.update(params)\n",
    "start= '2015-01-19'\n",
    "end = '2018-07-30'\n",
    "plot_ARIMA_model(data=dr_train_data, order=(4,1,2), start=start, end=end, title='Doctors ARIMA', xlabel='', ylabel='')"
   ]
  },
  {
   "cell_type": "code",
   "execution_count": null,
   "metadata": {
    "scrolled": true
   },
   "outputs": [],
   "source": [
    "plot_ARIMA_resids(data=dr_train_data, order=(4,1,2), start=3, end=20, title='Doctors Residuals', xlabel='', ylabel='')"
   ]
  },
  {
   "cell_type": "markdown",
   "metadata": {},
   "source": [
    "#### RN/PAs"
   ]
  },
  {
   "cell_type": "code",
   "execution_count": null,
   "metadata": {},
   "outputs": [],
   "source": [
    "params = {'figure.figsize': [12,8],'axes.grid.axis': 'both', 'axes.grid': True, 'axes.labelsize': 'Medium', 'font.size': 12.0, \\\n",
    "'lines.linewidth': 2}\n",
    "plt.rcParams.update(params)\n",
    "start= '2015-01-19'\n",
    "end = '2018-07-30'\n",
    "plot_ARIMA_model(data=RN_PA_train_data, order=(4,1,2), start=start, end=end, title='RN/PA ARIMA', xlabel='', ylabel='')"
   ]
  },
  {
   "cell_type": "code",
   "execution_count": null,
   "metadata": {
    "scrolled": false
   },
   "outputs": [],
   "source": [
    "plot_ARIMA_resids(data=RN_PA_train_data, order=(4,1,2), start=3, end=20, title='RN/PA Residuals', xlabel='', ylabel='')"
   ]
  },
  {
   "cell_type": "markdown",
   "metadata": {},
   "source": [
    "#### therapists"
   ]
  },
  {
   "cell_type": "code",
   "execution_count": null,
   "metadata": {},
   "outputs": [],
   "source": [
    "params = {'figure.figsize': [12,8],'axes.grid.axis': 'both', 'axes.grid': True, 'axes.labelsize': 'Medium', 'font.size': 12.0, \\\n",
    "'lines.linewidth': 2}\n",
    "plt.rcParams.update(params)\n",
    "start= '2015-01-19'\n",
    "end = '2018-07-30'\n",
    "plot_ARIMA_model(data=therapist_train_data, order=(4,1,1), start=start, end=end, title='Therapists ARIMA', xlabel='', ylabel='')"
   ]
  },
  {
   "cell_type": "code",
   "execution_count": null,
   "metadata": {
    "scrolled": false
   },
   "outputs": [],
   "source": [
    "plot_ARIMA_resids(data=therapist_train_data, order=(4,1,1), start=3, end=20, title='Therapists Residuals', xlabel='', ylabel='')"
   ]
  },
  {
   "cell_type": "markdown",
   "metadata": {},
   "source": [
    "### ARIMA forcasts"
   ]
  },
  {
   "cell_type": "code",
   "execution_count": null,
   "metadata": {},
   "outputs": [],
   "source": [
    "training_datasets = [dr_train_data, RN_PA_train_data, therapist_train_data]\n",
    "test_sets = [dr_test_set, RN_PA_test_set, therapist_test_set]"
   ]
  },
  {
   "cell_type": "code",
   "execution_count": null,
   "metadata": {},
   "outputs": [],
   "source": [
    "def get_ARIMA_forecast(data, order, start, end, typ=None):\n",
    "    results = ARIMA(data, order=order).fit()\n",
    "    forecast = results.predict(start=start, end=end, typ=typ)\n",
    "    return forecast"
   ]
  },
  {
   "cell_type": "code",
   "execution_count": null,
   "metadata": {},
   "outputs": [],
   "source": [
    "# doctors\n",
    "get_ARIMA_forecast(data=dr_train_data, order=(4,1,2), start=3, end=20, typ='levels')"
   ]
  },
  {
   "cell_type": "code",
   "execution_count": null,
   "metadata": {},
   "outputs": [],
   "source": [
    "# RN/PAs\n",
    "get_ARIMA_forecast(data=RN_PA_train_data, order=(4,1,2), start=3, end=20, typ='levels')"
   ]
  },
  {
   "cell_type": "code",
   "execution_count": null,
   "metadata": {},
   "outputs": [],
   "source": [
    "# therapists\n",
    "get_ARIMA_forecast(data=therapist_train_data, order=(4,1,1), start=3, end=20, typ='levels')"
   ]
  }
 ],
 "metadata": {
  "kernelspec": {
   "display_name": "Python 3",
   "language": "python",
   "name": "python3"
  },
  "language_info": {
   "codemirror_mode": {
    "name": "ipython",
    "version": 3
   },
   "file_extension": ".py",
   "mimetype": "text/x-python",
   "name": "python",
   "nbconvert_exporter": "python",
   "pygments_lexer": "ipython3",
   "version": "3.6.5"
  }
 },
 "nbformat": 4,
 "nbformat_minor": 2
}
