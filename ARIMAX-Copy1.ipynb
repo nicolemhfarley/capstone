{
 "cells": [
  {
   "cell_type": "code",
   "execution_count": 25,
   "metadata": {},
   "outputs": [
    {
     "name": "stdout",
     "output_type": "stream",
     "text": [
      "The autoreload extension is already loaded. To reload it, use:\n",
      "  %reload_ext autoreload\n"
     ]
    }
   ],
   "source": [
    "import numpy as np\n",
    "import pandas as pd\n",
    "import matplotlib.pyplot as plt\n",
    "%matplotlib inline\n",
    "from statsmodels.graphics import tsaplots\n",
    "import statsmodels.api as sm\n",
    "from statsmodels.tsa.arima_model import ARIMA, ARIMAResults, ARMA\n",
    "from statsmodels.tsa.arima_process import ArmaProcess\n",
    "from sklearn.metrics import mean_squared_error\n",
    "%load_ext autoreload\n",
    "%autoreload 2\n",
    "import warnings\n",
    "warnings.filterwarnings(\"ignore\")"
   ]
  },
  {
   "cell_type": "code",
   "execution_count": 26,
   "metadata": {},
   "outputs": [],
   "source": [
    "from timeseries_functions import index_to_datetime, plot_all_df_columns, weekly_resample, plot_series,\\\n",
    "plot_series_save_fig, plot_series_and_differences, run_augmented_Dickey_Fuller_test, \\\n",
    "plot_autocorrelation, plot_partial_autocorrelation, plot_decomposition"
   ]
  },
  {
   "cell_type": "code",
   "execution_count": 27,
   "metadata": {},
   "outputs": [],
   "source": [
    "from timeseries_functions import make_col_vector, make_design_matrix, fit_linear_trend,\\\n",
    "plot_trend_data, plot_linear_trend"
   ]
  },
  {
   "cell_type": "code",
   "execution_count": 28,
   "metadata": {},
   "outputs": [],
   "source": [
    "from AR_MA_functions import get_AR_model, plot_AR_model, get_AR_model_order_BIC,\\\n",
    "plot_BIC_AR_model, get_MA_model, plot_MA_model"
   ]
  },
  {
   "cell_type": "code",
   "execution_count": 29,
   "metadata": {},
   "outputs": [],
   "source": [
    "from ARIMA_functions import get_ARIMA_model, plot_ARIMA_model, plot_ARIMA_resids,\\\n",
    "get_ARIMA_forecast, plot_ARIMA_forecast_and_CI, plot_data_plus_ARIMA_predictions, \\\n",
    "test_rolling_ARIMA_forecast,get_predictions_df_and_plot_rolling_ARIMA_forecast"
   ]
  },
  {
   "cell_type": "code",
   "execution_count": 30,
   "metadata": {},
   "outputs": [],
   "source": [
    "from ARIMA_functions import get_ARIMAX_model, plot_ARIMAX_model, plot_ARIMAX_model_save_fig, \\\n",
    "plot_data_plus_ARIMAX_predictions, get_ARIMAX_predictions, get_ARIMAX_training_MSE,\\\n",
    "get_ARIMAX_train_test_predictions, get_ARIMAX_train_test_MSE"
   ]
  },
  {
   "cell_type": "markdown",
   "metadata": {},
   "source": [
    "#### import data"
   ]
  },
  {
   "cell_type": "code",
   "execution_count": 31,
   "metadata": {},
   "outputs": [],
   "source": [
    "# import weekly hours and numbers data\n",
    "dr = pd.read_csv('./data/doctors_hours_per_provider.csv', index_col=0)\n",
    "RNPA = pd.read_csv('./data/RNPA_hours_per_provider.csv',  index_col=0)\n",
    "therapist = pd.read_csv('./data/therapists_hours_per_provider.csv',  index_col=0)"
   ]
  },
  {
   "cell_type": "code",
   "execution_count": 32,
   "metadata": {},
   "outputs": [],
   "source": [
    "# number of providers\n",
    "num_dr = dr['Number_Providers']\n",
    "num_RNPA = RNPA['Number_Providers']\n",
    "num_therapist = therapist['Number_Providers']"
   ]
  },
  {
   "cell_type": "code",
   "execution_count": 33,
   "metadata": {},
   "outputs": [],
   "source": [
    "# provider hours\n",
    "dr_hours = dr['Hours']\n",
    "RNPA_hours = RNPA['Hours']\n",
    "therapist_hours = therapist['Hours']"
   ]
  },
  {
   "cell_type": "code",
   "execution_count": 34,
   "metadata": {},
   "outputs": [],
   "source": [
    "providers = [num_dr, num_RNPA, num_therapist]\n",
    "hours = [dr_hours, RNPA_hours, therapist_hours]"
   ]
  },
  {
   "cell_type": "code",
   "execution_count": 35,
   "metadata": {},
   "outputs": [
    {
     "data": {
      "text/plain": [
       "Index(['2015-01-12', '2015-01-19', '2015-01-26', '2015-02-02', '2015-02-09',\n",
       "       '2015-02-16', '2015-02-23', '2015-03-02', '2015-03-09', '2015-03-16',\n",
       "       ...\n",
       "       '2018-02-26', '2018-03-05', '2018-03-12', '2018-03-19', '2018-03-26',\n",
       "       '2018-04-02', '2018-04-09', '2018-04-16', '2018-04-23', '2018-04-30'],\n",
       "      dtype='object', name='AppointmentDate', length=173)"
      ]
     },
     "execution_count": 35,
     "metadata": {},
     "output_type": "execute_result"
    }
   ],
   "source": [
    "# dr_hours.index\n",
    "num_dr.index"
   ]
  },
  {
   "cell_type": "markdown",
   "metadata": {},
   "source": [
    "#### convert index to datetime "
   ]
  },
  {
   "cell_type": "code",
   "execution_count": 36,
   "metadata": {},
   "outputs": [],
   "source": [
    "for p in providers:\n",
    "    p.index = pd.to_datetime(p.index)\n",
    "for h in hours:\n",
    "    h.index = pd.to_datetime(h.index)"
   ]
  },
  {
   "cell_type": "code",
   "execution_count": 37,
   "metadata": {},
   "outputs": [
    {
     "data": {
      "text/plain": [
       "AppointmentDate\n",
       "2015-01-12    84.25\n",
       "2015-01-19    91.25\n",
       "2015-01-26    82.00\n",
       "2015-02-02    72.25\n",
       "2015-02-09    97.25\n",
       "Name: Hours, dtype: float64"
      ]
     },
     "execution_count": 37,
     "metadata": {},
     "output_type": "execute_result"
    }
   ],
   "source": [
    "dr_hours.head()"
   ]
  },
  {
   "cell_type": "code",
   "execution_count": 38,
   "metadata": {},
   "outputs": [],
   "source": [
    "# label each series for labeling plots\n",
    "num_dr.name = 'Number of Doctors'\n",
    "num_RNPA.name = 'Number of RN/PAs'\n",
    "num_therapist.name = 'Number of Therapists'"
   ]
  },
  {
   "cell_type": "code",
   "execution_count": 39,
   "metadata": {},
   "outputs": [],
   "source": [
    "dr_hours.name = 'Doctors Hours'\n",
    "RNPA_hours.name = 'RN/PAs Hours'\n",
    "therapist_hours.name = 'Therapists Hours'"
   ]
  },
  {
   "cell_type": "markdown",
   "metadata": {},
   "source": [
    "#### test for stationarity in all time series"
   ]
  },
  {
   "cell_type": "code",
   "execution_count": 40,
   "metadata": {},
   "outputs": [],
   "source": [
    "providers = [num_dr, num_RNPA, num_therapist]\n",
    "hours = [dr_hours, RNPA_hours, therapist_hours]"
   ]
  },
  {
   "cell_type": "code",
   "execution_count": 41,
   "metadata": {},
   "outputs": [
    {
     "name": "stdout",
     "output_type": "stream",
     "text": [
      "Number of Doctors\n",
      "ADF Statistic: -0.22210617686559714\n",
      "Critical values:\n",
      "1%: -3.4698858990744115\n",
      "5%: -2.8789026251889647\n",
      "10%: -2.5760266680839004\n",
      "The p-value for the series is: 0.935834808802605\n",
      "ADF Statistic: -10.062709665196218\n",
      "Critical values:\n",
      "1%: -3.4698858990744115\n",
      "5%: -2.8789026251889647\n",
      "10%: -2.5760266680839004\n",
      "The p-value for difference 1 is: 1.3205934622804431e-17\n",
      "ADF Statistic: -6.432226640445463\n",
      "Critical values:\n",
      "1%: -3.471118535474365\n",
      "5%: -2.8794405060097024\n",
      "10%: -2.576313761526591\n",
      "The p-value for difference 2 is: 1.686328384757272e-08\n",
      "Number of RN/PAs\n",
      "ADF Statistic: -0.2858218164455114\n",
      "Critical values:\n",
      "1%: -3.469648263987657\n",
      "5%: -2.878798906308495\n",
      "10%: -2.5759713094779593\n",
      "The p-value for the series is: 0.9274885217885349\n",
      "ADF Statistic: -11.372131563286946\n",
      "Critical values:\n",
      "1%: -3.469648263987657\n",
      "5%: -2.878798906308495\n",
      "10%: -2.5759713094779593\n",
      "The p-value for difference 1 is: 8.925784342155933e-21\n",
      "ADF Statistic: -4.328790542467453\n",
      "Critical values:\n",
      "1%: -3.472161410886292\n",
      "5%: -2.8798954259680936\n",
      "10%: -2.5765565828092245\n",
      "The p-value for difference 2 is: 0.00039589059705661707\n",
      "Number of Therapists\n",
      "ADF Statistic: -0.6116808483713807\n",
      "Critical values:\n",
      "1%: -3.470126426071447\n",
      "5%: -2.8790075987120027\n",
      "10%: -2.5760826967621644\n",
      "The p-value for the series is: 0.8683207290619546\n",
      "ADF Statistic: -9.302577056371948\n",
      "Critical values:\n",
      "1%: -3.470126426071447\n",
      "5%: -2.8790075987120027\n",
      "10%: -2.5760826967621644\n",
      "The p-value for difference 1 is: 1.1023343323561428e-15\n",
      "ADF Statistic: -4.2679032015263205\n",
      "Critical values:\n",
      "1%: -3.4729792729247793\n",
      "5%: -2.8802520918255534\n",
      "10%: -2.5767469641683105\n",
      "The p-value for difference 2 is: 0.0005046304490545997\n"
     ]
    }
   ],
   "source": [
    "for p in providers:  \n",
    "    print(p.name)\n",
    "    run_augmented_Dickey_Fuller_test(series=p, num_diffs=2)"
   ]
  },
  {
   "cell_type": "code",
   "execution_count": 42,
   "metadata": {},
   "outputs": [
    {
     "name": "stdout",
     "output_type": "stream",
     "text": [
      "Doctors Hours\n",
      "ADF Statistic: -0.7577330097905544\n",
      "Critical values:\n",
      "1%: -3.4698858990744115\n",
      "5%: -2.8789026251889647\n",
      "10%: -2.5760266680839004\n",
      "The p-value for the series is: 0.8312235926317735\n",
      "ADF Statistic: -13.032794678072865\n",
      "Critical values:\n",
      "1%: -3.4698858990744115\n",
      "5%: -2.8789026251889647\n",
      "10%: -2.5760266680839004\n",
      "The p-value for difference 1 is: 2.3261760845392414e-24\n",
      "ADF Statistic: -4.936782287119396\n",
      "Critical values:\n",
      "1%: -3.4729792729247793\n",
      "5%: -2.8802520918255534\n",
      "10%: -2.5767469641683105\n",
      "The p-value for difference 2 is: 2.955880847496221e-05\n",
      "RN/PAs Hours\n",
      "ADF Statistic: -1.3334919589536902\n",
      "Critical values:\n",
      "1%: -3.470126426071447\n",
      "5%: -2.8790075987120027\n",
      "10%: -2.5760826967621644\n",
      "The p-value for the series is: 0.6137138660917639\n",
      "ADF Statistic: -9.423667716324665\n",
      "Critical values:\n",
      "1%: -3.470126426071447\n",
      "5%: -2.8790075987120027\n",
      "10%: -2.5760826967621644\n",
      "The p-value for difference 1 is: 5.418320862866177e-16\n",
      "ADF Statistic: -5.761340950482132\n",
      "Critical values:\n",
      "1%: -3.47086589632514\n",
      "5%: -2.879330279087651\n",
      "10%: -2.57625492712671\n",
      "The p-value for difference 2 is: 5.662966273483479e-07\n",
      "Therapists Hours\n",
      "ADF Statistic: -1.7324763452124206\n",
      "Critical values:\n",
      "1%: -3.470126426071447\n",
      "5%: -2.8790075987120027\n",
      "10%: -2.5760826967621644\n",
      "The p-value for the series is: 0.41446211416243484\n",
      "ADF Statistic: -10.328828155029996\n",
      "Critical values:\n",
      "1%: -3.470126426071447\n",
      "5%: -2.8790075987120027\n",
      "10%: -2.5760826967621644\n",
      "The p-value for difference 1 is: 2.8780892288057295e-18\n",
      "ADF Statistic: -4.790977631166979\n",
      "Critical values:\n",
      "1%: -3.472161410886292\n",
      "5%: -2.8798954259680936\n",
      "10%: -2.5765565828092245\n",
      "The p-value for difference 2 is: 5.658902668666432e-05\n"
     ]
    }
   ],
   "source": [
    "for h in hours:\n",
    "    print(h.name)\n",
    "    run_augmented_Dickey_Fuller_test(series=h, num_diffs=2)"
   ]
  },
  {
   "cell_type": "code",
   "execution_count": 43,
   "metadata": {},
   "outputs": [
    {
     "data": {
      "text/plain": [
       "1"
      ]
     },
     "execution_count": 43,
     "metadata": {},
     "output_type": "execute_result"
    }
   ],
   "source": [
    "providers[0].diff().isnull().sum()"
   ]
  },
  {
   "cell_type": "raw",
   "metadata": {},
   "source": [
    "None of these series are stationary, must take the first differnece"
   ]
  },
  {
   "cell_type": "markdown",
   "metadata": {},
   "source": [
    "#### determine number of AR and MA terms to add for each time series"
   ]
  },
  {
   "cell_type": "code",
   "execution_count": 44,
   "metadata": {},
   "outputs": [
    {
     "data": {
      "text/plain": [
       "0"
      ]
     },
     "execution_count": 44,
     "metadata": {},
     "output_type": "execute_result"
    }
   ],
   "source": [
    "hours[2].isnull().sum()"
   ]
  },
  {
   "cell_type": "code",
   "execution_count": 45,
   "metadata": {},
   "outputs": [
    {
     "data": {
      "image/png": "[encoded data removed]",
      "text/plain": [
       "<Figure size 288x216 with 1 Axes>"
      ]
     },
     "metadata": {},
     "output_type": "display_data"
    },
    {
     "data": {
      "image/png": "[encoded data removed]",
      "text/plain": [
       "<Figure size 288x216 with 1 Axes>"
      ]
     },
     "metadata": {},
     "output_type": "display_data"
    },
    {
     "data": {
      "image/png": "[encoded data removed]",
      "text/plain": [
       "<Figure size 288x216 with 1 Axes>"
      ]
     },
     "metadata": {},
     "output_type": "display_data"
    },
    {
     "data": {
      "image/png": "[encoded data removed]",
      "text/plain": [
       "<Figure size 288x216 with 1 Axes>"
      ]
     },
     "metadata": {},
     "output_type": "display_data"
    },
    {
     "data": {
      "image/png": "[encoded data removed]",
      "text/plain": [
       "<Figure size 288x216 with 1 Axes>"
      ]
     },
     "metadata": {},
     "output_type": "display_data"
    },
    {
     "data": {
      "image/png": "[encoded data removed]",
      "text/plain": [
       "<Figure size 288x216 with 1 Axes>"
      ]
     },
     "metadata": {},
     "output_type": "display_data"
    }
   ],
   "source": [
    "# Plot ACF and PACF of each series\n",
    "for p in providers:\n",
    "    params = {'figure.figsize': [4,3],'axes.grid.axis': 'both', 'axes.grid': True, 'axes.labelsize': 'Medium', 'font.size': 12.0, \\\n",
    "'lines.linewidth': 2}\n",
    "    plot_partial_autocorrelation(series=p, params=params, lags=30, alpha=0.05, title='PACF {}'.format(p.name))\n",
    "    plot_autocorrelation(series=p, params=params, lags=30, alpha=0.05, title='ACF {}'.format(p.name))"
   ]
  },
  {
   "cell_type": "code",
   "execution_count": 46,
   "metadata": {},
   "outputs": [
    {
     "data": {
      "image/png": "[encoded data removed]",
      "text/plain": [
       "<Figure size 288x216 with 1 Axes>"
      ]
     },
     "metadata": {},
     "output_type": "display_data"
    },
    {
     "data": {
      "image/png": "[encoded data removed]",
      "text/plain": [
       "<Figure size 288x216 with 1 Axes>"
      ]
     },
     "metadata": {},
     "output_type": "display_data"
    },
    {
     "data": {
      "image/png": "[encoded data removed]",
      "text/plain": [
       "<Figure size 288x216 with 1 Axes>"
      ]
     },
     "metadata": {},
     "output_type": "display_data"
    },
    {
     "data": {
      "image/png": "[encoded data removed]",
      "text/plain": [
       "<Figure size 288x216 with 1 Axes>"
      ]
     },
     "metadata": {},
     "output_type": "display_data"
    },
    {
     "data": {
      "image/png": "[encoded data removed]",
      "text/plain": [
       "<Figure size 288x216 with 1 Axes>"
      ]
     },
     "metadata": {},
     "output_type": "display_data"
    },
    {
     "data": {
      "image/png": "[encoded data removed]",
      "text/plain": [
       "<Figure size 288x216 with 1 Axes>"
      ]
     },
     "metadata": {},
     "output_type": "display_data"
    }
   ],
   "source": [
    "# Plot ACF and PACF of each series\n",
    "for h in hours:\n",
    "    params = {'figure.figsize': [4,3],'axes.grid.axis': 'both', 'axes.grid': True, 'axes.labelsize': 'Medium', 'font.size': 12.0, \\\n",
    "'lines.linewidth': 2}\n",
    "    plot_partial_autocorrelation(series=h, params=params, lags=30, alpha=0.05, title='PACF {}'.format(h.name))\n",
    "    plot_autocorrelation(series=h, params=params, lags=30, alpha=0.05, title='ACF {}'.format(h.name))"
   ]
  },
  {
   "cell_type": "code",
   "execution_count": 47,
   "metadata": {},
   "outputs": [
    {
     "data": {
      "image/png": "[encoded data removed]",
      "text/plain": [
       "<Figure size 288x216 with 1 Axes>"
      ]
     },
     "metadata": {},
     "output_type": "display_data"
    },
    {
     "data": {
      "image/png": "[encoded data removed]",
      "text/plain": [
       "<Figure size 288x216 with 1 Axes>"
      ]
     },
     "metadata": {},
     "output_type": "display_data"
    },
    {
     "data": {
      "image/png": "[encoded data removed]",
      "text/plain": [
       "<Figure size 288x216 with 1 Axes>"
      ]
     },
     "metadata": {},
     "output_type": "display_data"
    },
    {
     "data": {
      "image/png": "[encoded data removed]",
      "text/plain": [
       "<Figure size 288x216 with 1 Axes>"
      ]
     },
     "metadata": {},
     "output_type": "display_data"
    },
    {
     "data": {
      "image/png": "[encoded data removed]",
      "text/plain": [
       "<Figure size 288x216 with 1 Axes>"
      ]
     },
     "metadata": {},
     "output_type": "display_data"
    },
    {
     "data": {
      "image/png": "[encoded data removed]",
      "text/plain": [
       "<Figure size 288x216 with 1 Axes>"
      ]
     },
     "metadata": {},
     "output_type": "display_data"
    }
   ],
   "source": [
    "# Plot ACF and PACF of first difference of each series\n",
    "for p in providers:\n",
    "    params = {'figure.figsize': [4,3],'axes.grid.axis': 'both', 'axes.grid': True, 'axes.labelsize': 'Medium', 'font.size': 12.0, \\\n",
    "'lines.linewidth': 2}\n",
    "    plot_partial_autocorrelation(series=p.diff()[1:], params=params, lags=30, alpha=0.05, title='PACF {}'.format(p.name))\n",
    "    plot_autocorrelation(series=p.diff()[1:], params=params, lags=30, alpha=0.05, title='ACF {}'.format(p.name))"
   ]
  },
  {
   "cell_type": "code",
   "execution_count": 48,
   "metadata": {},
   "outputs": [
    {
     "data": {
      "image/png": "[encoded data removed]",
      "text/plain": [
       "<Figure size 288x216 with 1 Axes>"
      ]
     },
     "metadata": {},
     "output_type": "display_data"
    },
    {
     "data": {
      "image/png": "[encoded data removed]",
      "text/plain": [
       "<Figure size 288x216 with 1 Axes>"
      ]
     },
     "metadata": {},
     "output_type": "display_data"
    },
    {
     "data": {
      "image/png": "[encoded data removed]",
      "text/plain": [
       "<Figure size 288x216 with 1 Axes>"
      ]
     },
     "metadata": {},
     "output_type": "display_data"
    },
    {
     "data": {
      "image/png": "[encoded data removed]",
      "text/plain": [
       "<Figure size 288x216 with 1 Axes>"
      ]
     },
     "metadata": {},
     "output_type": "display_data"
    },
    {
     "data": {
      "image/png": "[encoded data removed]",
      "text/plain": [
       "<Figure size 288x216 with 1 Axes>"
      ]
     },
     "metadata": {},
     "output_type": "display_data"
    },
    {
     "data": {
      "image/png": "[encoded data removed]",
      "text/plain": [
       "<Figure size 288x216 with 1 Axes>"
      ]
     },
     "metadata": {},
     "output_type": "display_data"
    }
   ],
   "source": [
    "# Plot ACF and PACF of first difference of each series\n",
    "for h in hours:\n",
    "    params = {'figure.figsize': [4,3],'axes.grid.axis': 'both', 'axes.grid': True, 'axes.labelsize': 'Medium', 'font.size': 12.0, \\\n",
    "'lines.linewidth': 2}\n",
    "    plot_partial_autocorrelation(series=h.diff()[1:], params=params, lags=30, alpha=0.05, title='PACF {}'.format(h.name))\n",
    "    plot_autocorrelation(series=h.diff()[1:], params=params, lags=30, alpha=0.05, title='ACF {}'.format(h.name))"
   ]
  },
  {
   "cell_type": "raw",
   "metadata": {
    "collapsed": true
   },
   "source": [
    "Based on the PACF/ACF plots of each series and Augmented Dickey-Fuller of weekly data:\n",
    "- use first diff for all series\n",
    "- num_dr: use AR(3)MA(1)\n",
    "- num_RN/PA: use AR(3)MA(1)\n",
    "- num_therapists: use AR(4)MA(1)\n",
    "- dr_hours: use AR(4)MA(2)\n",
    "- RNPA_hours: AR(3)MA(2)\n",
    "- therapist_hours: AR(5)MA(1)"
   ]
  },
  {
   "cell_type": "code",
   "execution_count": null,
   "metadata": {},
   "outputs": [],
   "source": []
  },
  {
   "cell_type": "markdown",
   "metadata": {
    "collapsed": true
   },
   "source": [
    "#### get ARIMAX model using num_provider as exogenous variable and plot"
   ]
  },
  {
   "cell_type": "code",
   "execution_count": 49,
   "metadata": {},
   "outputs": [],
   "source": [
    "def get_ARIMAX_model(data, order, exog_var):\n",
    "    \"\"\"Fits ARIMAX model\n",
    "    data: pandas Series\n",
    "    order: (p,d,q) format\n",
    "    exog_var = exogenous variable as pandas Series\n",
    "    \"\"\"\n",
    "    arima = ARIMA(endog=data, order=order, exog=exog_var)\n",
    "    results = arima.fit()\n",
    "    summary = results.summary()\n",
    "    params = results.params\n",
    "    residuals = results.resid\n",
    "    return results, summary, params, residuals"
   ]
  },
  {
   "cell_type": "markdown",
   "metadata": {},
   "source": [
    "#### split data into training and test sets"
   ]
  },
  {
   "cell_type": "code",
   "execution_count": 50,
   "metadata": {},
   "outputs": [],
   "source": [
    "train_start = '2015-01-12'\n",
    "train_end = '2018-03-01'\n",
    "test_start = '2018-03-01'"
   ]
  },
  {
   "cell_type": "code",
   "execution_count": 51,
   "metadata": {},
   "outputs": [],
   "source": [
    "dr_train = dr.loc[train_start:train_end]\n",
    "dr_test = dr.loc[test_start:]"
   ]
  },
  {
   "cell_type": "code",
   "execution_count": 52,
   "metadata": {},
   "outputs": [
    {
     "data": {
      "text/html": [
       "<div>\n",
       "<style scoped>\n",
       "    .dataframe tbody tr th:only-of-type {\n",
       "        vertical-align: middle;\n",
       "    }\n",
       "\n",
       "    .dataframe tbody tr th {\n",
       "        vertical-align: top;\n",
       "    }\n",
       "\n",
       "    .dataframe thead th {\n",
       "        text-align: right;\n",
       "    }\n",
       "</style>\n",
       "<table border=\"1\" class=\"dataframe\">\n",
       "  <thead>\n",
       "    <tr style=\"text-align: right;\">\n",
       "      <th></th>\n",
       "      <th>Number_Providers</th>\n",
       "      <th>Hours</th>\n",
       "      <th>Hours_per_Provider</th>\n",
       "    </tr>\n",
       "    <tr>\n",
       "      <th>AppointmentDate</th>\n",
       "      <th></th>\n",
       "      <th></th>\n",
       "      <th></th>\n",
       "    </tr>\n",
       "  </thead>\n",
       "  <tbody>\n",
       "    <tr>\n",
       "      <th>2018-04-02</th>\n",
       "      <td>16.0</td>\n",
       "      <td>313.250000</td>\n",
       "      <td>19.578125</td>\n",
       "    </tr>\n",
       "    <tr>\n",
       "      <th>2018-04-09</th>\n",
       "      <td>17.0</td>\n",
       "      <td>332.916667</td>\n",
       "      <td>19.583333</td>\n",
       "    </tr>\n",
       "    <tr>\n",
       "      <th>2018-04-16</th>\n",
       "      <td>17.0</td>\n",
       "      <td>284.750000</td>\n",
       "      <td>16.750000</td>\n",
       "    </tr>\n",
       "    <tr>\n",
       "      <th>2018-04-23</th>\n",
       "      <td>17.0</td>\n",
       "      <td>297.833333</td>\n",
       "      <td>17.519608</td>\n",
       "    </tr>\n",
       "    <tr>\n",
       "      <th>2018-04-30</th>\n",
       "      <td>16.0</td>\n",
       "      <td>299.416667</td>\n",
       "      <td>18.713542</td>\n",
       "    </tr>\n",
       "  </tbody>\n",
       "</table>\n",
       "</div>"
      ],
      "text/plain": [
       "                 Number_Providers       Hours  Hours_per_Provider\n",
       "AppointmentDate                                                  \n",
       "2018-04-02                   16.0  313.250000           19.578125\n",
       "2018-04-09                   17.0  332.916667           19.583333\n",
       "2018-04-16                   17.0  284.750000           16.750000\n",
       "2018-04-23                   17.0  297.833333           17.519608\n",
       "2018-04-30                   16.0  299.416667           18.713542"
      ]
     },
     "execution_count": 52,
     "metadata": {},
     "output_type": "execute_result"
    }
   ],
   "source": [
    "# dr_train.tail()\n",
    "dr_test.tail()"
   ]
  },
  {
   "cell_type": "code",
   "execution_count": 53,
   "metadata": {},
   "outputs": [],
   "source": [
    "RNPA_train = RNPA.loc[train_start:train_end]\n",
    "RNPA_test = RNPA.loc[test_start:]"
   ]
  },
  {
   "cell_type": "code",
   "execution_count": 54,
   "metadata": {},
   "outputs": [],
   "source": [
    "ther_train = therapist.loc[train_start:train_end]\n",
    "ther_test = therapist.loc[test_start:]"
   ]
  },
  {
   "cell_type": "markdown",
   "metadata": {},
   "source": [
    "#### get MSE (train and test data) for each category, testing # of MA components to compare models"
   ]
  },
  {
   "cell_type": "code",
   "execution_count": null,
   "metadata": {},
   "outputs": [],
   "source": [
    "# dr AR(4)MA(1)\n",
    "# RN/PA AR(3)MA(2)\n",
    "# ther AR(5)MA(1)"
   ]
  },
  {
   "cell_type": "code",
   "execution_count": 55,
   "metadata": {},
   "outputs": [],
   "source": [
    "train_dfs = [dr_train, RNPA_train, ther_train]\n",
    "test_dfs = [dr_test, RNPA_test, ther_test]\n",
    "orders = [(4,1,1), (3,1,2), (5,1,1)]\n",
    "endog_col = 'Hours'\n",
    "exog_col = 'Number_Providers'\n",
    "names = ['Doctors', 'RN/PAs', 'Therapists']\n",
    "test_start='2018-03-05'\n",
    "train_start = '2015-01-12'\n",
    "train_end = '2018-02-26'"
   ]
  },
  {
   "cell_type": "code",
   "execution_count": 57,
   "metadata": {
    "scrolled": false
   },
   "outputs": [
    {
     "name": "stdout",
     "output_type": "stream",
     "text": [
      "[('Doctors MSE', ('training set: 1005.8112231830528', 'test set: 784.6751134118571')), ('RN/PAs MSE', ('training set: 149.71532917537328', 'test set: 194.1696355084507')), ('Therapists MSE', ('training set: 105.80806435978357', 'test set: 35.63718570403454'))]\n"
     ]
    }
   ],
   "source": [
    "# get train/test predictions and MSE for all 3 categories \n",
    "train_mse = []\n",
    "test_mse = []\n",
    "category = []\n",
    "\n",
    "for i in range(len(train_dfs)):\n",
    "    forecast, full_df = get_ARIMAX_train_test_predictions(training_data=train_dfs[i][endog_col],\\\n",
    "            test_data=test_dfs[i][endog_col], order=orders[i], start='2015-01-19',\\\n",
    "            end='2018-04-30', exog=train_dfs[i][exog_col], typ='levels')\n",
    "    train_error, test_error = get_ARIMAX_train_test_MSE(full_df, data_col='data', pred_col='forecast',\\\n",
    "                        train_end='2018-02-26', test_start='2018-03-05', data_name=names[i])   \n",
    "    train_mse.append('training set: {}'.format(train_error))\n",
    "    test_mse.append('test set: {}'.format(test_error))\n",
    "    category.append('{} MSE'.format(names[i]))\n",
    "mse = zip(train_mse, test_mse)\n",
    "print(list(zip(category,mse)))"
   ]
  },
  {
   "cell_type": "code",
   "execution_count": null,
   "metadata": {},
   "outputs": [],
   "source": [
    "# get train/test predictions and MSE for all 3 categories for MA=1\n",
    "orders = [(5,1,1), (4,1,1), (5,1,1)]\n",
    "\n",
    "train_mse = []\n",
    "test_mse = []\n",
    "category = []\n",
    "\n",
    "for i in range(len(train_dfs)):\n",
    "    forecast, full_df = get_ARIMAX_train_test_predictions(training_data=train_dfs[i][endog_col],\\\n",
    "            test_data=test_dfs[i][endog_col], order=orders[i], start='2015-01-19',\\\n",
    "            end='2018-04-30', exog=train_dfs[i][exog_col], typ='levels')\n",
    "    train_error, test_error = get_ARIMAX_train_test_MSE(full_df, data_col='data', pred_col='forecast',\\\n",
    "                        train_end='2018-02-26', test_start='2018-03-05', data_name=names[i])   \n",
    "    train_mse.append('training set: {}'.format(train_error))\n",
    "    test_mse.append('test set: {}'.format(test_error))\n",
    "    category.append('{} MSE'.format(names[i]))\n",
    "mse = zip(train_mse, test_mse)\n",
    "print(list(zip(category,mse)))"
   ]
  },
  {
   "cell_type": "code",
   "execution_count": null,
   "metadata": {},
   "outputs": [],
   "source": [
    "# get train/test predictions and MSE for all 3 categories for MA=2\n",
    "orders = [(5,1,2), (4,1,2), (5,1,2)]\n",
    "\n",
    "train_mse = []\n",
    "test_mse = []\n",
    "category = []\n",
    "\n",
    "for i in range(len(train_dfs)):\n",
    "    forecast, full_df = get_ARIMAX_train_test_predictions(training_data=train_dfs[i][endog_col],\\\n",
    "            test_data=test_dfs[i][endog_col], order=orders[i], start='2015-01-19',\\\n",
    "            end='2018-04-30', exog=train_dfs[i][exog_col], typ='levels')\n",
    "    train_error, test_error = get_ARIMAX_train_test_MSE(full_df, data_col='data', pred_col='forecast',\\\n",
    "                        train_end='2018-02-26', test_start='2018-03-05', data_name=names[i])   \n",
    "    train_mse.append('training set: {}'.format(train_error))\n",
    "    test_mse.append('test set: {}'.format(test_error))\n",
    "    category.append('{} MSE'.format(names[i]))\n",
    "mse = zip(train_mse, test_mse)\n",
    "print(list(zip(category,mse)))"
   ]
  },
  {
   "cell_type": "code",
   "execution_count": null,
   "metadata": {},
   "outputs": [],
   "source": [
    "# get train/test predictions and MSE for all 3 categories for MA=3\n",
    "orders = [(5,1,3), (4,1,3), (5,1,3)]\n",
    "\n",
    "train_mse = []\n",
    "test_mse = []\n",
    "category = []\n",
    "\n",
    "for i in range(len(train_dfs)):\n",
    "    forecast, full_df = get_ARIMAX_train_test_predictions(training_data=train_dfs[i][endog_col],\\\n",
    "            test_data=test_dfs[i][endog_col], order=orders[i], start='2015-01-19',\\\n",
    "            end='2018-04-30', exog=train_dfs[i][exog_col], typ='levels')\n",
    "    train_error, test_error = get_ARIMAX_train_test_MSE(full_df, data_col='data', pred_col='forecast',\\\n",
    "                        train_end='2018-02-26', test_start='2018-03-05', data_name=names[i])   \n",
    "    train_mse.append('training set: {}'.format(train_error))\n",
    "    test_mse.append('test set: {}'.format(test_error))\n",
    "    category.append('{} MSE'.format(names[i]))\n",
    "mse = zip(train_mse, test_mse)\n",
    "print(list(zip(category,mse)))"
   ]
  },
  {
   "cell_type": "raw",
   "metadata": {},
   "source": [
    "Lowest test set MSE for doctors and therapists with MA = 0, lowest training set w/ MA = 3\n",
    "Lowest test set MSE for RN/PAs with MA = 3, lowest training set w/ MA = 3\n",
    "Lowest test set MSE for therapists with MA = 3, lowest training set w/ MA = 3 "
   ]
  },
  {
   "cell_type": "raw",
   "metadata": {},
   "source": [
    "Get predictions using MA = 0 for doctors and MA = 3 for RN/PAs and MA = 3 for therapists"
   ]
  },
  {
   "cell_type": "markdown",
   "metadata": {},
   "source": [
    "#### Doctors"
   ]
  },
  {
   "cell_type": "code",
   "execution_count": null,
   "metadata": {},
   "outputs": [],
   "source": [
    "start_date = '2015-01-19' # b/c first row of data was differenced away\n",
    "end_date = '2018-04-30'\n",
    "end_pred = '2018-09-30'"
   ]
  },
  {
   "cell_type": "code",
   "execution_count": null,
   "metadata": {},
   "outputs": [],
   "source": [
    "dr_results, dr_summary, dr_params, dr_residuals = get_ARIMAX_model(data=dr_hours,\\\n",
    "                    exog_var=num_dr, order=(5,1,0))"
   ]
  },
  {
   "cell_type": "code",
   "execution_count": null,
   "metadata": {
    "scrolled": true
   },
   "outputs": [],
   "source": [
    "num_dr"
   ]
  },
  {
   "cell_type": "code",
   "execution_count": null,
   "metadata": {},
   "outputs": [],
   "source": [
    "def plot_ARIMAX_model_save_fig(data, order, exog_var, start, end, title='', xlabel='', ylabel='',\n",
    "                              figname='figure.png'):\n",
    "    \"\"\"Plots ARIMAX model\n",
    "    data: pandas Series\n",
    "    order: (p,d,q) format\n",
    "    exog_var = exogenous variable as pandas Series\n",
    "    start/end: starting/ending dates for plot (x_axis)\n",
    "    \"\"\"\n",
    "    results = ARIMA(endog=data, order=order, exog=exog_var).fit()\n",
    "    fig = results.plot_predict(start=start, end=end,exog=exog_var)\n",
    "    plt.title(title)\n",
    "    plt.ylabel(ylabel)\n",
    "    plt.xlabel(xlabel)\n",
    "    plt.show()\n",
    "    fig.savefig(figname)"
   ]
  },
  {
   "cell_type": "code",
   "execution_count": null,
   "metadata": {
    "scrolled": true
   },
   "outputs": [],
   "source": [
    "# plot and save doctors figure using 2 MA components\n",
    "params = {'figure.figsize': [12,6],'axes.grid.axis': 'both', 'axes.grid': True, 'axes.labelsize': 'Medium', 'font.size': 12.0, \\\n",
    "'lines.linewidth': 2}\n",
    "plt.rcParams.update(params)\n",
    "\n",
    "plot_ARIMAX_model_save_fig(data=dr_hours, order=(5,1,0), exog_var=num_dr, start=start_date,\\\n",
    "                end=end_pred, title='Doctors AR5/MA0', xlabel='Time', ylabel='Appointment Hours',\n",
    "                              figname='./images/dr_AR[5]IMA[0]X.png')"
   ]
  },
  {
   "cell_type": "code",
   "execution_count": null,
   "metadata": {
    "scrolled": true
   },
   "outputs": [],
   "source": [
    "# using 5 AR components loop through and plot/test 0-3 MA components\n",
    "params = {'figure.figsize': [12,6],'axes.grid.axis': 'both', 'axes.grid': True, 'axes.labelsize': 'Medium', 'font.size': 12.0, \\\n",
    "'lines.linewidth': 2}\n",
    "plt.rcParams.update(params)\n",
    "\n",
    "for i in range(1,4):\n",
    "    fig = plot_ARIMAX_model(data=dr_hours, order=(5,1,i), exog_var=num_dr, start=start_date,\\\n",
    "                         end=end_pred, title='AR5/MA{i}'.format(i=i))"
   ]
  },
  {
   "cell_type": "code",
   "execution_count": null,
   "metadata": {},
   "outputs": [],
   "source": [
    "def get_ARIMAX_predictions(data, order, start, end, exog=None, typ='levels'):\n",
    "    \"\"\"Get ARIMAX predictions\n",
    "    Inputs:\n",
    "        data: pandas Series\n",
    "        order: (p,d,q) format\n",
    "        start/end: (str) starting/ending dates\n",
    "        exog: data for exogenous variable as pandas series\n",
    "    Outputs:\n",
    "        data_plus_forecast: dataframe with original data and forecast plot_all_df_columns\n",
    "        forecast: just predictions\n",
    "    \"\"\"\n",
    "    data = data.to_frame()\n",
    "    results = ARIMA(data, order=order, exog=exog).fit()\n",
    "    forecast = results.predict(start=start, end=end, exog=exog, typ=typ).to_frame()\n",
    "    data_plus_forecast = pd.merge(left=data, right=forecast, how='outer', left_index=True, right_index=True)\n",
    "    data_plus_forecast.columns = ['data', 'forecast']\n",
    "    return forecast, data_plus_forecast"
   ]
  },
  {
   "cell_type": "code",
   "execution_count": null,
   "metadata": {},
   "outputs": [],
   "source": [
    "# getARIMAX predictions and data+predictions dataframe for doctors using order = (5,1,0)\n",
    "\n",
    "start_date = '2015-01-19'\n",
    "end_pred = '2018-09-30'\n",
    "dr_forecast, dr_data_plus_forecast = get_ARIMAX_predictions(data=dr_hours, order=(5,1,0), start=start_date,\\\n",
    "                    end=end_pred, exog=num_dr, typ='levels')"
   ]
  },
  {
   "cell_type": "code",
   "execution_count": null,
   "metadata": {
    "scrolled": true
   },
   "outputs": [],
   "source": [
    "dr_forecast"
   ]
  },
  {
   "cell_type": "code",
   "execution_count": null,
   "metadata": {
    "scrolled": true
   },
   "outputs": [],
   "source": [
    "# for order = (5,1,0)\n",
    "dr_forecast"
   ]
  },
  {
   "cell_type": "code",
   "execution_count": null,
   "metadata": {},
   "outputs": [],
   "source": [
    "dr_data_plus_forecast.columns"
   ]
  },
  {
   "cell_type": "code",
   "execution_count": null,
   "metadata": {},
   "outputs": [],
   "source": [
    "# rename columns in forecast df\n",
    "dr_data_plus_forecast.columns = ['Appointment_Hours', 'Predicted_Hours']"
   ]
  },
  {
   "cell_type": "code",
   "execution_count": null,
   "metadata": {},
   "outputs": [],
   "source": [
    "dr_data_plus_forecast"
   ]
  },
  {
   "cell_type": "code",
   "execution_count": null,
   "metadata": {},
   "outputs": [],
   "source": [
    "# Round Appointment Hours and Predicted Hours values\n",
    "dr_data_plus_forecast['Appointment_Hours'] = round(dr_data_plus_forecast['Appointment_Hours'], 2)\n",
    "dr_data_plus_forecast['Predicted_Hours'] = round(dr_data_plus_forecast['Predicted_Hours'], 2)"
   ]
  },
  {
   "cell_type": "code",
   "execution_count": null,
   "metadata": {},
   "outputs": [],
   "source": [
    "# add number of providers column\n",
    "dr_data_plus_forecast['Number_Providers'] = num_dr"
   ]
  },
  {
   "cell_type": "code",
   "execution_count": null,
   "metadata": {},
   "outputs": [],
   "source": [
    "# calculate hours per provider\n",
    "dr_data_plus_forecast['Hours_per_Provider'] = round(dr_data_plus_forecast['Appointment_Hours'] / dr_data_plus_forecast['Number_Providers'],2)"
   ]
  },
  {
   "cell_type": "code",
   "execution_count": null,
   "metadata": {},
   "outputs": [],
   "source": [
    "# calculate predicted number of providers and hours/provider columns\n",
    "dr_data_plus_forecast['Pred_Hours_per_Provider'] = round(dr_data_plus_forecast['Predicted_Hours']/dr_data_plus_forecast['Number_Providers'], 2)"
   ]
  },
  {
   "cell_type": "code",
   "execution_count": null,
   "metadata": {},
   "outputs": [],
   "source": [
    "dr_data_plus_forecast"
   ]
  },
  {
   "cell_type": "code",
   "execution_count": null,
   "metadata": {},
   "outputs": [],
   "source": [
    "avg_dr_hours = dr_data_plus_forecast['Hours_per_Provider'].mean()"
   ]
  },
  {
   "cell_type": "code",
   "execution_count": null,
   "metadata": {},
   "outputs": [],
   "source": [
    "avg_dr_hours"
   ]
  },
  {
   "cell_type": "code",
   "execution_count": null,
   "metadata": {},
   "outputs": [],
   "source": [
    "# get predicted number of providers, rounded \n",
    "dr_data_plus_forecast['Predicted_Num_Providers'] = round(dr_data_plus_forecast['Predicted_Hours'] / avg_dr_hours, 1)"
   ]
  },
  {
   "cell_type": "code",
   "execution_count": null,
   "metadata": {},
   "outputs": [],
   "source": [
    "dr_data_plus_forecast"
   ]
  },
  {
   "cell_type": "code",
   "execution_count": null,
   "metadata": {},
   "outputs": [],
   "source": [
    "# output full forecast dataframe to csv\n",
    "dr_data_plus_forecast.to_csv('./data/dr_arimax_forecast.csv')"
   ]
  },
  {
   "cell_type": "code",
   "execution_count": null,
   "metadata": {},
   "outputs": [],
   "source": [
    "# get 12 week forecast\n",
    "dr_12wk_arimax = dr_data_plus_forecast['2018-05-07':'2018-07-30'][['Predicted_Hours', 'Predicted_Num_Providers']]\n",
    "# keep only date in index, drop time\n",
    "dr_12wk_arimax.index = dr_12wk_arimax.index.date"
   ]
  },
  {
   "cell_type": "code",
   "execution_count": null,
   "metadata": {},
   "outputs": [],
   "source": [
    "# get 8-16 week forecast\n",
    "dr_8_to_16wk_arimax = dr_data_plus_forecast['2018-06-25':'2018-08-26'][['Predicted_Hours', 'Predicted_Num_Providers']]\n",
    "# keep only date in index, drop time\n",
    "dr_8_to_16wk_arimax.index = dr_8_to_16wk_arimax.index.date"
   ]
  },
  {
   "cell_type": "code",
   "execution_count": null,
   "metadata": {},
   "outputs": [],
   "source": [
    "dr_8_to_16wk_arimax"
   ]
  },
  {
   "cell_type": "code",
   "execution_count": null,
   "metadata": {},
   "outputs": [],
   "source": [
    "from pandas.tools.plotting import table\n",
    "fig, ax = plt.subplots(figsize=(10,10)) # set size frame\n",
    "ax.xaxis.set_visible(False)  # hide axes\n",
    "ax.yaxis.set_visible(False)  \n",
    "ax.set_frame_on(False)  \n",
    "tabla = table(ax, dr_8_to_16wk_arimax, loc='center', colWidths=[0.3]*len(dr_8_to_16wk_arimax.columns))\n",
    "tabla.auto_set_font_size(False) \n",
    "tabla.set_fontsize(20)\n",
    "tabla.scale(1.5, 2) \n",
    "plt.savefig('./images/dr_8_to_16wk_arimax.png', transparent=True)"
   ]
  },
  {
   "cell_type": "code",
   "execution_count": null,
   "metadata": {},
   "outputs": [],
   "source": [
    "dr_12wk_arimax"
   ]
  },
  {
   "cell_type": "code",
   "execution_count": null,
   "metadata": {},
   "outputs": [],
   "source": [
    "# plot acf/pacf of Dr ARIMAX residuals\n",
    "params = {'figure.figsize': [4,4],'axes.grid.axis': 'both', 'axes.grid': True, 'axes.labelsize': 'Medium', 'font.size': 12.0, \\\n",
    "'lines.linewidth': 2}\n",
    "plot_partial_autocorrelation(series=dr_residuals, params=params, lags=30, alpha=0.05, title='PACF {}'.format('Dr ARIMAX residuals'))\n",
    "plot_autocorrelation(series=dr_residuals, params=params, lags=30, alpha=0.05, title='ACF {}'.format('Dr ARIMAX residuals'))"
   ]
  },
  {
   "cell_type": "markdown",
   "metadata": {},
   "source": [
    "#### RN/PAs"
   ]
  },
  {
   "cell_type": "code",
   "execution_count": null,
   "metadata": {},
   "outputs": [],
   "source": [
    "start_date = '2015-01-19' # b/c first row was differenced away\n",
    "end_date = '2018-04-30'\n",
    "end_pred = '2018-09-30'\n",
    "RNPA_order = (4,1,4)"
   ]
  },
  {
   "cell_type": "code",
   "execution_count": null,
   "metadata": {},
   "outputs": [],
   "source": [
    "RNPA_results, RNPA_summary, RNPA_params, RNPA_residuals = get_ARIMAX_model(data=dr_hours,\\\n",
    "                    exog_var=num_dr, order=RNPA_order)"
   ]
  },
  {
   "cell_type": "code",
   "execution_count": null,
   "metadata": {},
   "outputs": [],
   "source": [
    "# plot and save RN/PA figure \n",
    "# using 4 AR components and 3 MA components\n",
    "params = {'figure.figsize': [12,6],'axes.grid.axis': 'both', 'axes.grid': True, 'axes.labelsize': 'Medium', 'font.size': 12.0, \\\n",
    "'lines.linewidth': 2}\n",
    "plt.rcParams.update(params)\n",
    "\n",
    "plot_ARIMAX_model_save_fig(data=RNPA_hours, order=(4,1,3), exog_var=num_RNPA, start=start_date,\\\n",
    "                end=end_pred, title='RN/PAs', xlabel='Time', ylabel='Appointment Hours',\n",
    "                              figname='./images/RNPA_ARIMAX.png')"
   ]
  },
  {
   "cell_type": "code",
   "execution_count": null,
   "metadata": {},
   "outputs": [],
   "source": [
    "# using 4 AR components plot/test with 0-2 MA components\n",
    "params = {'figure.figsize': [12,6],'axes.grid.axis': 'both', 'axes.grid': True, 'axes.labelsize': 'Medium', 'font.size': 12.0, \\\n",
    "'lines.linewidth': 2}\n",
    "plt.rcParams.update(params)\n",
    "\n",
    "for i in range(3):\n",
    "    fig = plot_ARIMAX_model(data=RNPA_hours, order=(4,1,i), exog_var=num_RNPA, start=start_date,\\\n",
    "                         end=end_pred, title='AR4/MA{i}'.format(i=i))"
   ]
  },
  {
   "cell_type": "code",
   "execution_count": null,
   "metadata": {},
   "outputs": [],
   "source": [
    "# getARIMAX predictions and data+predictions dataframe for RN/PAs order=(4,1,0)\n",
    "start_date = '2015-01-19'\n",
    "end_pred = '2018-09-30'\n",
    "RNPA_forecast, RNPA_data_plus_forecast = get_ARIMAX_predictions(data=RNPA_hours, order=(4,1,3), start=start_date,\\\n",
    "                    end=end_pred, exog=num_RNPA, typ='levels')"
   ]
  },
  {
   "cell_type": "code",
   "execution_count": null,
   "metadata": {},
   "outputs": [],
   "source": [
    "RNPA_forecast"
   ]
  },
  {
   "cell_type": "code",
   "execution_count": null,
   "metadata": {},
   "outputs": [],
   "source": [
    "# rename columns in forecast df\n",
    "RNPA_data_plus_forecast.columns = ['Appointment_Hours', 'Predicted_Hours']\n",
    "\n",
    "# Round Predicted Hours values\n",
    "RNPA_data_plus_forecast['Predicted_Hours'] = round(RNPA_data_plus_forecast['Predicted_Hours'], 2)\n",
    "\n",
    "# add number of providers and hours/provider columns\n",
    "RNPA_data_plus_forecast['Number_Providers'] = num_RNPA\n",
    "RNPA_data_plus_forecast['Pred_Hours_per_Provider'] = round(RNPA_data_plus_forecast['Predicted_Hours']/RNPA_data_plus_forecast['Number_Providers'], 2)"
   ]
  },
  {
   "cell_type": "code",
   "execution_count": null,
   "metadata": {},
   "outputs": [],
   "source": [
    "avg_RNPA_hours = RNPA_data_plus_forecast['Pred_Hours_per_Provider'].mean()"
   ]
  },
  {
   "cell_type": "code",
   "execution_count": null,
   "metadata": {},
   "outputs": [],
   "source": [
    "avg_RNPA_hours"
   ]
  },
  {
   "cell_type": "code",
   "execution_count": null,
   "metadata": {},
   "outputs": [],
   "source": [
    "# get predicted number of providers rounded\n",
    "RNPA_data_plus_forecast['Predicted_Num_Providers'] = round(RNPA_data_plus_forecast['Predicted_Hours'] / avg_RNPA_hours, 1)"
   ]
  },
  {
   "cell_type": "code",
   "execution_count": null,
   "metadata": {},
   "outputs": [],
   "source": [
    "RNPA_data_plus_forecast"
   ]
  },
  {
   "cell_type": "code",
   "execution_count": null,
   "metadata": {},
   "outputs": [],
   "source": [
    "# output full forecast dataframe to csv\n",
    "RNPA_data_plus_forecast.to_csv('./data/RNPA_arimax_forecast.csv')"
   ]
  },
  {
   "cell_type": "code",
   "execution_count": null,
   "metadata": {},
   "outputs": [],
   "source": [
    "# get 12 week forecast\n",
    "RNPA_12wk_arimax = RNPA_data_plus_forecast['2018-05-07':'2018-07-30'][['Predicted_Hours', 'Predicted_Num_Providers']]\n",
    "# keep only date in index, drop time\n",
    "RNPA_12wk_arimax.index = RNPA_12wk_arimax.index.date"
   ]
  },
  {
   "cell_type": "code",
   "execution_count": null,
   "metadata": {},
   "outputs": [],
   "source": [
    "# get 8-16 week forecast\n",
    "RNPA_8_to_16wk_arimax = RNPA_data_plus_forecast['2018-06-25':'2018-08-26'][['Predicted_Hours', 'Predicted_Num_Providers']]\n",
    "# keep only date in index, drop time\n",
    "RNPA_8_to_16wk_arimax.index = RNPA_8_to_16wk_arimax.index.date"
   ]
  },
  {
   "cell_type": "code",
   "execution_count": null,
   "metadata": {},
   "outputs": [],
   "source": [
    "from pandas.tools.plotting import table\n",
    "fig, ax = plt.subplots(figsize=(10,10)) # set size frame\n",
    "ax.xaxis.set_visible(False)  # hide axes\n",
    "ax.yaxis.set_visible(False)  \n",
    "ax.set_frame_on(False)  \n",
    "tabla = table(ax, RNPA_8_to_16wk_arimax, loc='center', colWidths=[0.25]*len(RNPA_8_to_16wk_arimax.columns))\n",
    "tabla.auto_set_font_size(False) \n",
    "tabla.set_fontsize(16)\n",
    "tabla.scale(1.5, 2) \n",
    "plt.savefig('./images/RNPA_8_to_16wk_arimax.png', transparent=True)"
   ]
  },
  {
   "cell_type": "code",
   "execution_count": null,
   "metadata": {},
   "outputs": [],
   "source": [
    "# plot acf/pacf of RN/PA ARIMAX residuals\n",
    "params = {'figure.figsize': [4,4],'axes.grid.axis': 'both', 'axes.grid': True, 'axes.labelsize': 'Medium', 'font.size': 12.0, \\\n",
    "'lines.linewidth': 2}\n",
    "plot_partial_autocorrelation(series=RNPA_residuals, params=params, lags=30, alpha=0.05, title='PACF {}'.format('RN/PA ARIMAX residuals'))\n",
    "plot_autocorrelation(series=RNPA_residuals, params=params, lags=30, alpha=0.05, title='ACF {}'.format('RN/PA ARIMAX residuals'))"
   ]
  },
  {
   "cell_type": "markdown",
   "metadata": {},
   "source": [
    "#### therapists"
   ]
  },
  {
   "cell_type": "code",
   "execution_count": null,
   "metadata": {},
   "outputs": [],
   "source": [
    "start_date = '2015-01-19' # b/c first row was differenced away \n",
    "end_date = '2018-04-30'\n",
    "end_pred = '2018-09-30'\n",
    "therapist_order = (5,1,3)"
   ]
  },
  {
   "cell_type": "code",
   "execution_count": null,
   "metadata": {},
   "outputs": [],
   "source": [
    "therapist_results, therapist_summary, therapist_params, therapist_residuals = get_ARIMAX_model(data=therapist_hours,\\\n",
    "                    exog_var=num_therapist, order=therapist_order)"
   ]
  },
  {
   "cell_type": "code",
   "execution_count": null,
   "metadata": {},
   "outputs": [],
   "source": [
    "# plot and save therapist figure \n",
    "# using 5 AR components and 3 MA components\n",
    "params = {'figure.figsize': [12,6],'axes.grid.axis': 'both', 'axes.grid': True, 'axes.labelsize': 'Medium', 'font.size': 12.0, \\\n",
    "'lines.linewidth': 2}\n",
    "plt.rcParams.update(params)\n",
    "\n",
    "plot_ARIMAX_model_save_fig(data=therapist_hours, order=(5,1,3), exog_var=num_therapist, start=start_date,\\\n",
    "                end=end_pred, title='Therapists AR5/MA3', xlabel='Time', ylabel='Appointment Hours',\n",
    "                              figname='./images/therapist_ARIMAX.png')"
   ]
  },
  {
   "cell_type": "code",
   "execution_count": null,
   "metadata": {},
   "outputs": [],
   "source": [
    "# using 5 AR components plot/test with 0-2 MA components\n",
    "params = {'figure.figsize': [12,6],'axes.grid.axis': 'both', 'axes.grid': True, 'axes.labelsize': 'Medium', 'font.size': 12.0, \\\n",
    "'lines.linewidth': 2}\n",
    "plt.rcParams.update(params)\n",
    "\n",
    "for i in range(3):\n",
    "    fig = plot_ARIMAX_model(data=therapist_hours, order=(5,1,i), exog_var=num_therapist, start=start_date,\\\n",
    "                         end=end_pred, title='Therapists AR4/MA{i}'.format(i=i))"
   ]
  },
  {
   "cell_type": "code",
   "execution_count": null,
   "metadata": {},
   "outputs": [],
   "source": [
    "# getARIMAX predictions and data+predictions dataframe for therapists\n",
    "start_date = '2015-01-19'\n",
    "end_pred = '2018-09-30'\n",
    "ther_forecast, ther_data_plus_forecast = get_ARIMAX_predictions(data=therapist_hours, order=(5,1,3), start=start_date,\\\n",
    "                    end=end_pred, exog=num_therapist, typ='levels')"
   ]
  },
  {
   "cell_type": "code",
   "execution_count": null,
   "metadata": {},
   "outputs": [],
   "source": [
    "# rename columns in forecast df\n",
    "ther_data_plus_forecast.columns = ['Appointment_Hours', 'Predicted_Hours']\n",
    "\n",
    "# Round Predicted Hours values\n",
    "ther_data_plus_forecast['Predicted_Hours'] = round(ther_data_plus_forecast['Predicted_Hours'], 2)\n",
    "\n",
    "# add number of providers and hours/provider columns\n",
    "ther_data_plus_forecast['Number_Providers'] = num_therapist\n",
    "ther_data_plus_forecast['Pred_Hours_per_Provider'] = round(ther_data_plus_forecast['Predicted_Hours']/ther_data_plus_forecast['Number_Providers'], 1)"
   ]
  },
  {
   "cell_type": "code",
   "execution_count": null,
   "metadata": {},
   "outputs": [],
   "source": [
    "avg_ther_hours = ther_data_plus_forecast['Pred_Hours_per_Provider'].mean()"
   ]
  },
  {
   "cell_type": "code",
   "execution_count": null,
   "metadata": {},
   "outputs": [],
   "source": [
    "avg_ther_hours"
   ]
  },
  {
   "cell_type": "code",
   "execution_count": null,
   "metadata": {},
   "outputs": [],
   "source": [
    "# get predicted number of providers rounded up\n",
    "ther_data_plus_forecast['Predicted_Num_Providers'] = round(ther_data_plus_forecast['Predicted_Hours'] / avg_ther_hours, 1)"
   ]
  },
  {
   "cell_type": "code",
   "execution_count": null,
   "metadata": {},
   "outputs": [],
   "source": [
    "ther_data_plus_forecast"
   ]
  },
  {
   "cell_type": "code",
   "execution_count": null,
   "metadata": {},
   "outputs": [],
   "source": [
    "# output full forecast dataframe to csv\n",
    "ther_data_plus_forecast.to_csv('./data/therapist_arimax_forecast.csv')"
   ]
  },
  {
   "cell_type": "code",
   "execution_count": null,
   "metadata": {},
   "outputs": [],
   "source": [
    "# get 12 week forecast\n",
    "ther_12wk_arimax = ther_data_plus_forecast['2018-05-07':'2018-07-30'][['Predicted_Hours', 'Predicted_Num_Providers']]\n",
    "# keep only date in index, drop time\n",
    "ther_12wk_arimax.index = ther_12wk_arimax.index.date"
   ]
  },
  {
   "cell_type": "code",
   "execution_count": null,
   "metadata": {},
   "outputs": [],
   "source": [
    "# get 8-16 week forecast\n",
    "ther_8_to_16wk_arimax = ther_data_plus_forecast['2018-06-25':'2018-08-26'][['Predicted_Hours', 'Predicted_Num_Providers']]\n",
    "# keep only date in index, drop time\n",
    "ther_8_to_16wk_arimax.index = ther_8_to_16wk_arimax.index.date"
   ]
  },
  {
   "cell_type": "code",
   "execution_count": null,
   "metadata": {},
   "outputs": [],
   "source": [
    "from pandas.tools.plotting import table\n",
    "fig, ax = plt.subplots(figsize=(10,10)) # set size frame\n",
    "ax.xaxis.set_visible(False)  # hide axes\n",
    "ax.yaxis.set_visible(False)  \n",
    "ax.set_frame_on(False)  \n",
    "tabla = table(ax, ther_8_to_16wk_arimax, loc='center', colWidths=[0.25]*len(ther_8_to_16wk_arimax.columns))\n",
    "tabla.auto_set_font_size(False) \n",
    "tabla.set_fontsize(16)\n",
    "tabla.scale(1.5, 2) \n",
    "plt.savefig('./images/ther_8_to_16wk_arimax.png', transparent=True)"
   ]
  },
  {
   "cell_type": "code",
   "execution_count": null,
   "metadata": {},
   "outputs": [],
   "source": [
    "# plot acf/pacf of therapist ARIMAX residuals\n",
    "params = {'figure.figsize': [4,4],'axes.grid.axis': 'both', 'axes.grid': True, 'axes.labelsize': 'Medium', 'font.size': 12.0, \\\n",
    "'lines.linewidth': 2}\n",
    "plot_partial_autocorrelation(series=therapist_residuals, params=params, lags=30, alpha=0.05, title='PACF {}'.format('Therapist ARIMAX residuals'))\n",
    "plot_autocorrelation(series=therapist_residuals, params=params, lags=30, alpha=0.05, title='ACF {}'.format('Therapist ARIMAX residuals'))"
   ]
  },
  {
   "cell_type": "code",
   "execution_count": null,
   "metadata": {},
   "outputs": [],
   "source": []
  },
  {
   "cell_type": "code",
   "execution_count": null,
   "metadata": {},
   "outputs": [],
   "source": []
  }
 ],
 "metadata": {
  "kernelspec": {
   "display_name": "Python 3",
   "language": "python",
   "name": "python3"
  },
  "language_info": {
   "codemirror_mode": {
    "name": "ipython",
    "version": 3
   },
   "file_extension": ".py",
   "mimetype": "text/x-python",
   "name": "python",
   "nbconvert_exporter": "python",
   "pygments_lexer": "ipython3",
   "version": "3.6.5"
  }
 },
 "nbformat": 4,
 "nbformat_minor": 2
}
