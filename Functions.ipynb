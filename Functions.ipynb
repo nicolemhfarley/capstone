{
 "cells": [
  {
   "cell_type": "code",
   "execution_count": 1,
   "metadata": {},
   "outputs": [
    {
     "name": "stderr",
     "output_type": "stream",
     "text": [
      "/home/nicole/anaconda3/lib/python3.6/site-packages/statsmodels/compat/pandas.py:56: FutureWarning: The pandas.core.datetools module is deprecated and will be removed in a future version. Please use the pandas.tseries module instead.\n",
      "  from pandas.core import datetools\n"
     ]
    }
   ],
   "source": [
    "import numpy as np\n",
    "import pandas as pd\n",
    "import matplotlib.pyplot as plt\n",
    "%matplotlib inline\n",
    "from statsmodels.graphics import tsaplots\n",
    "import statsmodels.api as sm\n",
    "from statsmodels.tsa.arima_model import ARIMA, ARIMAResults\n",
    "from statsmodels.tsa.arima_process import ArmaProcess\n",
    "from statsmodels.stats.diagnostic import acorr_ljungbox\n",
    "from scipy import signal"
   ]
  },
  {
   "cell_type": "code",
   "execution_count": null,
   "metadata": {
    "collapsed": true
   },
   "outputs": [],
   "source": [
    "def plot_num_appointments_by_month(df, group_col, plot_name, colormap='Dark2'):\n",
    "    \"\"\" Plot duration data grouped by month\"\"\"\n",
    "    ax = df.groupby([df.index.year, df.index.month, group_col])[group_col]\\\n",
    "    .count().unstack().plot(figsize=(10,8),colormap=colormap, linewidth=3, fontsize=12, rot=30)\n",
    "    ax.set_title(plot_name)\n",
    "    ax.set_xlabel('Date')\n",
    "    ax.set_ylabel('Number of Appointments')\n",
    "    ax.legend(loc='center left', bbox_to_anchor=(1.0, 0.5), fontsize=12)\n",
    "    plt.show()"
   ]
  },
  {
   "cell_type": "code",
   "execution_count": null,
   "metadata": {
    "collapsed": true
   },
   "outputs": [],
   "source": [
    "def plot_time_spent(df, date_col, group_col, duration_col, plot_name, colormap='Dark2'):\n",
    "    \"\"\" Plot duration data grouped by month\"\"\"\n",
    "    ax = df.groupby([date_col, group_col])[duration_col]\\\n",
    "    .sum().unstack().plot(figsize=(10,8),colormap=colormap, linewidth=3, fontsize=12, rot=30)\n",
    "    ax.set_title(plot_name)\n",
    "    ax.set_xlabel('Date')\n",
    "    ax.set_ylabel('Time')\n",
    "    ax.legend(loc='center left', bbox_to_anchor=(1.0, 0.5), fontsize=12)\n",
    "    plt.show()"
   ]
  },
  {
   "cell_type": "code",
   "execution_count": null,
   "metadata": {
    "collapsed": true
   },
   "outputs": [],
   "source": [
    "def plot_time_spent_by_month(df, group_col, duration_col, plot_name, colormap='Dark2'):\n",
    "    \"\"\" Plot duration data grouped by month\"\"\"\n",
    "    ax = df.groupby([df.index.year, df.index.month, group_col])[duration_col]\\\n",
    "    .sum().unstack().plot(figsize=(10,8),colormap=colormap, linewidth=3, fontsize=12, rot=30)\n",
    "    ax.set_title(plot_name)\n",
    "    ax.set_xlabel('Date')\n",
    "    ax.set_ylabel('Time')\n",
    "    ax.legend(loc='center left', bbox_to_anchor=(1.0, 0.5), fontsize=12)\n",
    "    plt.show()"
   ]
  },
  {
   "cell_type": "code",
   "execution_count": null,
   "metadata": {
    "collapsed": true
   },
   "outputs": [],
   "source": [
    "def plot_series(series, xlabel, ylabel, plot_name):\n",
    "    \"Plots simple time series from Pandas Series\"\n",
    "    ax = series.plot(figsize=(8,3), linewidth = 3, fontsize=10, grid=True, rot=30)\n",
    "    ax.set_title(plot_name, fontsize=18)\n",
    "    ax.set_xlabel(xlabel, fontsize=15)\n",
    "    ax.set_ylabel(ylabel, fontsize=15)\n",
    "    plt.show()"
   ]
  },
  {
   "cell_type": "code",
   "execution_count": null,
   "metadata": {
    "collapsed": true
   },
   "outputs": [],
   "source": [
    "### taken/modified from Matt Drury time series lecture\n",
    "def make_col_vector(array):\n",
    "    \"\"\"Convert a one dimensional numpy array to a column vector.\"\"\"\n",
    "    return array.reshape(-1, 1)\n",
    "\n",
    "def make_design_matrix(array):\n",
    "    \"\"\"Construct a design matrix from a numpy array, including an intercept term.\"\"\"\n",
    "    return sm.add_constant(make_col_vector(array), prepend=False)\n",
    "\n",
    "def fit_linear_trend(series):\n",
    "    \"\"\"Fit a linear trend to a time series.  Return the fit trend as a numpy array.\"\"\"\n",
    "    X = make_design_matrix(np.arange(len(series)) + 1)\n",
    "    linear_trend_ols = sm.OLS(series.values, X).fit()\n",
    "    linear_trend = linear_trend_ols.predict(X)\n",
    "    return linear_trend\n",
    "\n",
    "def plot_trend_data(ax, name, series):\n",
    "    ax.plot(series.index, series)\n",
    "    \n",
    "def plot_linear_trend(ax, name, series):\n",
    "    linear_trend = fit_linear_trend(series)\n",
    "    plot_trend_data(ax, name, series)\n",
    "    ax.plot(series.index, linear_trend)\n",
    "    ax.set_title(name)\n",
    "    \n",
    "# Calculate and plot moving average\n",
    "def fit_moving_average_trend(series, window=14):\n",
    "    return series.rolling(window, center=True).mean()\n",
    "\n",
    "def plot_with_moving_average(ax, name, series, window=6):\n",
    "    moving_average_trend = fit_moving_average_trend(series, window)\n",
    "    plot_trend_data(ax, name, series)\n",
    "    ax.plot(series.index, moving_average_trend)\n",
    "    ax.set_title('{title}, window={w}'.format(title=name, w=str(window)))"
   ]
  },
  {
   "cell_type": "code",
   "execution_count": null,
   "metadata": {
    "collapsed": true
   },
   "outputs": [],
   "source": [
    "def plot_decomposition(series, params, freq, title):\n",
    "    \"Plots observed, trend, seasonal, residual\"\n",
    "    plt.rcParams.update(params)\n",
    "    decomp = sm.tsa.seasonal_decompose(series, freq=freq)\n",
    "    fig = decomp.plot()\n",
    "    plt.title(title)\n",
    "    plt.show()"
   ]
  },
  {
   "cell_type": "code",
   "execution_count": null,
   "metadata": {
    "collapsed": true
   },
   "outputs": [],
   "source": [
    "def plot_series_and_differences(series, ax, num_diff, title):\n",
    "    \"Plot raw data and specified number of differences\"\n",
    "    ax[0].plot(series.index, series)\n",
    "    ax[0].set_title('Raw series: {}'.format(title))\n",
    "    for i in range(1, num_diff+1):\n",
    "        diff = series.diff(i)\n",
    "        ax[i].plot(series.index, diff)\n",
    "        ax[i].set_title('Difference # {}'.format(str(i)))   "
   ]
  },
  {
   "cell_type": "code",
   "execution_count": null,
   "metadata": {
    "collapsed": true
   },
   "outputs": [],
   "source": [
    "def run_augmented_Dickey_Fuller_test(series, num_diffs=None):\n",
    "    test = sm.tsa.stattools.adfuller(series)\n",
    "    if test[1] >= 0.05:\n",
    "        print('The p-value for the series is: {p}, which is not significant'.format(p=test[1]))\n",
    "    else:\n",
    "        print('The p-value for the series is: {p}, which is significant'.format(p=test[1]))  \n",
    "    if num_diffs:\n",
    "        for i in range(1, num_diffs +1):\n",
    "            test = sm.tsa.stattools.adfuller(series.diff(i)[i:])\n",
    "            if test[1] >= 0.05:\n",
    "                print('The p-value for difference {diff} is: {p}, which is not significant'.format(diff=str(i), p=test[1]))\n",
    "            else:\n",
    "                print('The p-value for difference {diff} is: {p}, which is significant'.format(diff=str(i), p=test[1]))   "
   ]
  },
  {
   "cell_type": "code",
   "execution_count": null,
   "metadata": {
    "collapsed": true
   },
   "outputs": [],
   "source": []
  },
  {
   "cell_type": "code",
   "execution_count": null,
   "metadata": {
    "collapsed": true
   },
   "outputs": [],
   "source": [
    "def plot_autocorrelation(series, params, lags, alpha, title):\n",
    "    plt.rcParams.update(params)\n",
    "    acf_plot = tsaplots.plot_acf(series, lags=lags, alpha=alpha)\n",
    "    plt.title(title)\n",
    "    plt.show()\n",
    "\n",
    "def plot_partial_autocorrelation(series, params, lags, alpha, title):\n",
    "    plt.rcParams.update(params)\n",
    "    acf_plot = tsaplots.plot_pacf(series, lags=lags, alpha=alpha)\n",
    "    plt.title(title)\n",
    "    plt.show()"
   ]
  },
  {
   "cell_type": "code",
   "execution_count": null,
   "metadata": {
    "collapsed": true
   },
   "outputs": [],
   "source": []
  }
 ],
 "metadata": {
  "kernelspec": {
   "display_name": "Python 3",
   "language": "python",
   "name": "python3"
  },
  "language_info": {
   "codemirror_mode": {
    "name": "ipython",
    "version": 3
   },
   "file_extension": ".py",
   "mimetype": "text/x-python",
   "name": "python",
   "nbconvert_exporter": "python",
   "pygments_lexer": "ipython3",
   "version": "3.6.3"
  }
 },
 "nbformat": 4,
 "nbformat_minor": 2
}
