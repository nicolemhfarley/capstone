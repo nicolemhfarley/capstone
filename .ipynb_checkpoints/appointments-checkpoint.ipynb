{
 "cells": [
  {
   "cell_type": "code",
   "execution_count": 17,
   "metadata": {},
   "outputs": [
    {
     "name": "stdout",
     "output_type": "stream",
     "text": [
      "The autoreload extension is already loaded. To reload it, use:\n",
      "  %reload_ext autoreload\n"
     ]
    }
   ],
   "source": [
    "import numpy as np\n",
    "import pandas as pd\n",
    "import matplotlib.pyplot as plt\n",
    "%matplotlib inline\n",
    "from statsmodels.graphics import tsaplots\n",
    "import statsmodels.api as sm\n",
    "from statsmodels.tsa.arima_model import ARIMA, ARIMAResults, ARMA\n",
    "from statsmodels.tsa.arima_process import ArmaProcess\n",
    "from sklearn.metrics import mean_squared_error\n",
    "%load_ext autoreload\n",
    "%autoreload 2\n",
    "import warnings\n",
    "warnings.filterwarnings(\"ignore\")"
   ]
  },
  {
   "cell_type": "code",
   "execution_count": 18,
   "metadata": {},
   "outputs": [],
   "source": [
    "df = pd.read_csv('./data/AppointmentsSince2015.csv')"
   ]
  },
  {
   "cell_type": "code",
   "execution_count": 19,
   "metadata": {},
   "outputs": [
    {
     "data": {
      "text/plain": [
       "(62020, 16)"
      ]
     },
     "execution_count": 19,
     "metadata": {},
     "output_type": "execute_result"
    }
   ],
   "source": [
    "df.shape"
   ]
  },
  {
   "cell_type": "code",
   "execution_count": 20,
   "metadata": {},
   "outputs": [],
   "source": [
    "df.drop_duplicates(inplace=True)"
   ]
  },
  {
   "cell_type": "code",
   "execution_count": 21,
   "metadata": {},
   "outputs": [
    {
     "data": {
      "text/plain": [
       "(62020, 16)"
      ]
     },
     "execution_count": 21,
     "metadata": {},
     "output_type": "execute_result"
    }
   ],
   "source": [
    "df.shape"
   ]
  },
  {
   "cell_type": "code",
   "execution_count": 22,
   "metadata": {},
   "outputs": [
    {
     "data": {
      "text/plain": [
       "Index(['id', 'Patient', 'PatientAgeMeetingDate', 'PatientGender',\n",
       "       'PatientState', 'PatientCity', 'PatientInsurance', 'Provider',\n",
       "       'Specialty', 'AppointmentDate', 'AppointmentDuration',\n",
       "       'AppointmentCreated', 'MeetingReasonForVisitId', 'MeetingStatusId',\n",
       "       'OfficeId', 'CreatedBy'],\n",
       "      dtype='object')"
      ]
     },
     "execution_count": 22,
     "metadata": {},
     "output_type": "execute_result"
    }
   ],
   "source": [
    "df.columns"
   ]
  },
  {
   "cell_type": "code",
   "execution_count": 24,
   "metadata": {},
   "outputs": [
    {
     "data": {
      "text/plain": [
       "Psych/Mental Health                        14807\n",
       "Medical                                    11579\n",
       "Child & Adolescent Psychiatry               8272\n",
       "Physician Assistant                         7033\n",
       "Psychiatry                                  6986\n",
       "Psych/Mental Health, Child & Adolescent     3173\n",
       "Marriage & Family Therapist                 2119\n",
       "Clinical                                    1271\n",
       "Psychologist                                 904\n",
       "Specialist/Technologist, Other               435\n",
       "Name: Specialty, dtype: int64"
      ]
     },
     "execution_count": 24,
     "metadata": {},
     "output_type": "execute_result"
    }
   ],
   "source": [
    "df['Specialty'].value_counts()"
   ]
  },
  {
   "cell_type": "code",
   "execution_count": 25,
   "metadata": {},
   "outputs": [],
   "source": [
    "# keep onl[['Specialty', 'AppointmentDate', 'AppointmentDuration']]y relevant columns\n",
    "df = df[['Specialty', 'AppointmentDate', 'AppointmentDuration', 'Provider']]"
   ]
  },
  {
   "cell_type": "code",
   "execution_count": 26,
   "metadata": {},
   "outputs": [],
   "source": [
    "# set appoinmtemnt duration column to hours\n",
    "df['AppointmentDurationHours'] = df['AppointmentDuration'] / 60.0"
   ]
  },
  {
   "cell_type": "code",
   "execution_count": 27,
   "metadata": {},
   "outputs": [],
   "source": [
    "df['AppointmentDate'] = pd.to_datetime(df['AppointmentDate'], format='%Y-%m-%d', errors='coerce')"
   ]
  },
  {
   "cell_type": "code",
   "execution_count": 28,
   "metadata": {},
   "outputs": [],
   "source": [
    "df.index = df['AppointmentDate']"
   ]
  },
  {
   "cell_type": "code",
   "execution_count": 29,
   "metadata": {},
   "outputs": [
    {
     "data": {
      "text/plain": [
       "DatetimeIndex(['2018-07-31 16:00:00', '2018-07-31 11:00:00',\n",
       "               '2018-07-26 19:00:00', '2018-07-26 16:00:00',\n",
       "               '2018-07-25 16:00:00', '2018-07-25 12:00:00',\n",
       "               '2018-07-25 10:00:00', '2018-07-24 18:00:00',\n",
       "               '2018-07-24 18:00:00', '2018-07-24 16:00:00',\n",
       "               ...\n",
       "               '2015-01-05 11:30:00', '2015-01-05 11:00:00',\n",
       "               '2015-01-05 10:30:00', '2015-01-05 10:00:00',\n",
       "               '2015-01-05 10:00:00', '2015-01-05 10:00:00',\n",
       "               '2015-01-05 10:00:00', '2015-01-05 10:00:00',\n",
       "               '2015-01-05 10:00:00', '2015-01-05 09:00:00'],\n",
       "              dtype='datetime64[ns]', name='AppointmentDate', length=62020, freq=None)"
      ]
     },
     "execution_count": 29,
     "metadata": {},
     "output_type": "execute_result"
    }
   ],
   "source": [
    "df.index"
   ]
  },
  {
   "cell_type": "code",
   "execution_count": 30,
   "metadata": {},
   "outputs": [
    {
     "data": {
      "text/plain": [
       "(62020, 5)"
      ]
     },
     "execution_count": 30,
     "metadata": {},
     "output_type": "execute_result"
    }
   ],
   "source": [
    "df.shape"
   ]
  },
  {
   "cell_type": "code",
   "execution_count": 31,
   "metadata": {},
   "outputs": [],
   "source": [
    "# break down specialty category by provider ID number\n",
    "dr_ID = [7.0, 10.0, 16.0]\n",
    "RNPA_ID = [3.0, 9.0, 12.0, 13.0, 14.0, 15.0, 19.0, 25.0, 27.0, 30.0]\n",
    "ther_ID = [11.0, 17.0, 18.0, 23.0, 24.0, 26.0, 28.0, 29.0]"
   ]
  },
  {
   "cell_type": "code",
   "execution_count": 32,
   "metadata": {},
   "outputs": [],
   "source": [
    "df['Specialty'].loc[df['Provider'].isin(dr_ID)]= 'doctor'\n",
    "df['Specialty'].loc[df['Provider'].isin(RNPA_ID)] = 'RN/PA'\n",
    "df['Specialty'].loc[df['Provider'].isin(ther_ID)] = 'therapist'"
   ]
  },
  {
   "cell_type": "code",
   "execution_count": 33,
   "metadata": {},
   "outputs": [
    {
     "data": {
      "text/html": [
       "<div>\n",
       "<style scoped>\n",
       "    .dataframe tbody tr th:only-of-type {\n",
       "        vertical-align: middle;\n",
       "    }\n",
       "\n",
       "    .dataframe tbody tr th {\n",
       "        vertical-align: top;\n",
       "    }\n",
       "\n",
       "    .dataframe thead th {\n",
       "        text-align: right;\n",
       "    }\n",
       "</style>\n",
       "<table border=\"1\" class=\"dataframe\">\n",
       "  <thead>\n",
       "    <tr style=\"text-align: right;\">\n",
       "      <th></th>\n",
       "      <th>Specialty</th>\n",
       "      <th>AppointmentDate</th>\n",
       "      <th>AppointmentDuration</th>\n",
       "      <th>Provider</th>\n",
       "      <th>AppointmentDurationHours</th>\n",
       "    </tr>\n",
       "    <tr>\n",
       "      <th>AppointmentDate</th>\n",
       "      <th></th>\n",
       "      <th></th>\n",
       "      <th></th>\n",
       "      <th></th>\n",
       "      <th></th>\n",
       "    </tr>\n",
       "  </thead>\n",
       "  <tbody>\n",
       "    <tr>\n",
       "      <th>2018-07-31 16:00:00</th>\n",
       "      <td>doctor</td>\n",
       "      <td>2018-07-31 16:00:00</td>\n",
       "      <td>60</td>\n",
       "      <td>10.0</td>\n",
       "      <td>1.00</td>\n",
       "    </tr>\n",
       "    <tr>\n",
       "      <th>2018-07-31 11:00:00</th>\n",
       "      <td>RN/PA</td>\n",
       "      <td>2018-07-31 11:00:00</td>\n",
       "      <td>45</td>\n",
       "      <td>25.0</td>\n",
       "      <td>0.75</td>\n",
       "    </tr>\n",
       "    <tr>\n",
       "      <th>2018-07-26 19:00:00</th>\n",
       "      <td>therapist</td>\n",
       "      <td>2018-07-26 19:00:00</td>\n",
       "      <td>60</td>\n",
       "      <td>29.0</td>\n",
       "      <td>1.00</td>\n",
       "    </tr>\n",
       "    <tr>\n",
       "      <th>2018-07-26 16:00:00</th>\n",
       "      <td>doctor</td>\n",
       "      <td>2018-07-26 16:00:00</td>\n",
       "      <td>45</td>\n",
       "      <td>7.0</td>\n",
       "      <td>0.75</td>\n",
       "    </tr>\n",
       "    <tr>\n",
       "      <th>2018-07-25 16:00:00</th>\n",
       "      <td>doctor</td>\n",
       "      <td>2018-07-25 16:00:00</td>\n",
       "      <td>60</td>\n",
       "      <td>10.0</td>\n",
       "      <td>1.00</td>\n",
       "    </tr>\n",
       "  </tbody>\n",
       "</table>\n",
       "</div>"
      ],
      "text/plain": [
       "                     Specialty     AppointmentDate  AppointmentDuration  \\\n",
       "AppointmentDate                                                           \n",
       "2018-07-31 16:00:00     doctor 2018-07-31 16:00:00                   60   \n",
       "2018-07-31 11:00:00      RN/PA 2018-07-31 11:00:00                   45   \n",
       "2018-07-26 19:00:00  therapist 2018-07-26 19:00:00                   60   \n",
       "2018-07-26 16:00:00     doctor 2018-07-26 16:00:00                   45   \n",
       "2018-07-25 16:00:00     doctor 2018-07-25 16:00:00                   60   \n",
       "\n",
       "                     Provider  AppointmentDurationHours  \n",
       "AppointmentDate                                          \n",
       "2018-07-31 16:00:00      10.0                      1.00  \n",
       "2018-07-31 11:00:00      25.0                      0.75  \n",
       "2018-07-26 19:00:00      29.0                      1.00  \n",
       "2018-07-26 16:00:00       7.0                      0.75  \n",
       "2018-07-25 16:00:00      10.0                      1.00  "
      ]
     },
     "execution_count": 33,
     "metadata": {},
     "output_type": "execute_result"
    }
   ],
   "source": [
    "df.head()"
   ]
  },
  {
   "cell_type": "code",
   "execution_count": 37,
   "metadata": {},
   "outputs": [
    {
     "data": {
      "text/plain": [
       "45     33409\n",
       "60     19824\n",
       "30      5544\n",
       "90      2616\n",
       "180      506\n",
       "120       87\n",
       "35        10\n",
       "15         7\n",
       "5          5\n",
       "20         3\n",
       "10         3\n",
       "55         2\n",
       "240        2\n",
       "40         2\n",
       "Name: AppointmentDuration, dtype: int64"
      ]
     },
     "execution_count": 37,
     "metadata": {},
     "output_type": "execute_result"
    }
   ],
   "source": [
    "df['AppointmentDuration'].value_counts()"
   ]
  },
  {
   "cell_type": "code",
   "execution_count": 35,
   "metadata": {},
   "outputs": [
    {
     "data": {
      "text/plain": [
       "(62020, 5)"
      ]
     },
     "execution_count": 35,
     "metadata": {},
     "output_type": "execute_result"
    }
   ],
   "source": [
    "df.shape"
   ]
  },
  {
   "cell_type": "code",
   "execution_count": 38,
   "metadata": {},
   "outputs": [
    {
     "data": {
      "text/plain": [
       "(Specialty                   1636\n",
       " AppointmentDate                0\n",
       " AppointmentDuration            0\n",
       " Provider                    1636\n",
       " AppointmentDurationHours       0\n",
       " dtype: int64, Specialty                   60384\n",
       " AppointmentDate             62020\n",
       " AppointmentDuration         62020\n",
       " Provider                    60384\n",
       " AppointmentDurationHours    62020\n",
       " dtype: int64)"
      ]
     },
     "execution_count": 38,
     "metadata": {},
     "output_type": "execute_result"
    }
   ],
   "source": [
    "df.isnull().sum(), df.notnull().sum()"
   ]
  },
  {
   "cell_type": "code",
   "execution_count": 40,
   "metadata": {},
   "outputs": [],
   "source": [
    "df = df[df['AppointmentDuration'] < 90]"
   ]
  },
  {
   "cell_type": "code",
   "execution_count": 41,
   "metadata": {},
   "outputs": [
    {
     "data": {
      "text/plain": [
       "(58809, 5)"
      ]
     },
     "execution_count": 41,
     "metadata": {},
     "output_type": "execute_result"
    }
   ],
   "source": [
    "df.shape"
   ]
  },
  {
   "cell_type": "code",
   "execution_count": 42,
   "metadata": {},
   "outputs": [],
   "source": [
    "# drop rows with missing value in specialty column\n",
    "df.dropna(subset=['Specialty'], how='all', inplace=True)"
   ]
  },
  {
   "cell_type": "code",
   "execution_count": 43,
   "metadata": {},
   "outputs": [
    {
     "data": {
      "text/plain": [
       "(57233, 5)"
      ]
     },
     "execution_count": 43,
     "metadata": {},
     "output_type": "execute_result"
    }
   ],
   "source": [
    "df.shape"
   ]
  },
  {
   "cell_type": "code",
   "execution_count": 44,
   "metadata": {},
   "outputs": [],
   "source": [
    "dr = df[df['Specialty'] == 'doctor']\n",
    "ther = df[df['Specialty'] == 'therapist']\n",
    "RNPA = df[df['Specialty'] == 'RN/PA']"
   ]
  },
  {
   "cell_type": "code",
   "execution_count": 45,
   "metadata": {},
   "outputs": [],
   "source": [
    "# resample to weekly data\n",
    "dr = dr.resample('W-MON').sum()\n",
    "RNPA = RNPA.resample('W-MON').sum()\n",
    "ther = ther.resample('W-MON').sum()"
   ]
  },
  {
   "cell_type": "code",
   "execution_count": 46,
   "metadata": {},
   "outputs": [
    {
     "data": {
      "text/plain": [
       "(187, 3)"
      ]
     },
     "execution_count": 46,
     "metadata": {},
     "output_type": "execute_result"
    }
   ],
   "source": [
    "dr.shape"
   ]
  },
  {
   "cell_type": "code",
   "execution_count": 47,
   "metadata": {},
   "outputs": [
    {
     "data": {
      "text/html": [
       "<div>\n",
       "<style scoped>\n",
       "    .dataframe tbody tr th:only-of-type {\n",
       "        vertical-align: middle;\n",
       "    }\n",
       "\n",
       "    .dataframe tbody tr th {\n",
       "        vertical-align: top;\n",
       "    }\n",
       "\n",
       "    .dataframe thead th {\n",
       "        text-align: right;\n",
       "    }\n",
       "</style>\n",
       "<table border=\"1\" class=\"dataframe\">\n",
       "  <thead>\n",
       "    <tr style=\"text-align: right;\">\n",
       "      <th></th>\n",
       "      <th>AppointmentDuration</th>\n",
       "      <th>Provider</th>\n",
       "      <th>AppointmentDurationHours</th>\n",
       "    </tr>\n",
       "    <tr>\n",
       "      <th>AppointmentDate</th>\n",
       "      <th></th>\n",
       "      <th></th>\n",
       "      <th></th>\n",
       "    </tr>\n",
       "  </thead>\n",
       "  <tbody>\n",
       "    <tr>\n",
       "      <th>2015-01-12</th>\n",
       "      <td>2970</td>\n",
       "      <td>890.0</td>\n",
       "      <td>49.500000</td>\n",
       "    </tr>\n",
       "    <tr>\n",
       "      <th>2015-01-19</th>\n",
       "      <td>3090</td>\n",
       "      <td>968.0</td>\n",
       "      <td>51.500000</td>\n",
       "    </tr>\n",
       "    <tr>\n",
       "      <th>2015-01-26</th>\n",
       "      <td>3090</td>\n",
       "      <td>926.0</td>\n",
       "      <td>51.500000</td>\n",
       "    </tr>\n",
       "    <tr>\n",
       "      <th>2015-02-02</th>\n",
       "      <td>1890</td>\n",
       "      <td>476.0</td>\n",
       "      <td>31.500000</td>\n",
       "    </tr>\n",
       "    <tr>\n",
       "      <th>2015-02-09</th>\n",
       "      <td>3780</td>\n",
       "      <td>1136.0</td>\n",
       "      <td>63.000000</td>\n",
       "    </tr>\n",
       "    <tr>\n",
       "      <th>2015-02-16</th>\n",
       "      <td>2910</td>\n",
       "      <td>881.0</td>\n",
       "      <td>48.500000</td>\n",
       "    </tr>\n",
       "    <tr>\n",
       "      <th>2015-02-23</th>\n",
       "      <td>1980</td>\n",
       "      <td>650.0</td>\n",
       "      <td>33.000000</td>\n",
       "    </tr>\n",
       "    <tr>\n",
       "      <th>2015-03-02</th>\n",
       "      <td>2760</td>\n",
       "      <td>699.0</td>\n",
       "      <td>46.000000</td>\n",
       "    </tr>\n",
       "    <tr>\n",
       "      <th>2015-03-09</th>\n",
       "      <td>2265</td>\n",
       "      <td>457.0</td>\n",
       "      <td>37.750000</td>\n",
       "    </tr>\n",
       "    <tr>\n",
       "      <th>2015-03-16</th>\n",
       "      <td>4455</td>\n",
       "      <td>1103.0</td>\n",
       "      <td>74.250000</td>\n",
       "    </tr>\n",
       "    <tr>\n",
       "      <th>2015-03-23</th>\n",
       "      <td>3870</td>\n",
       "      <td>838.0</td>\n",
       "      <td>64.500000</td>\n",
       "    </tr>\n",
       "    <tr>\n",
       "      <th>2015-03-30</th>\n",
       "      <td>3210</td>\n",
       "      <td>686.0</td>\n",
       "      <td>53.500000</td>\n",
       "    </tr>\n",
       "    <tr>\n",
       "      <th>2015-04-06</th>\n",
       "      <td>2865</td>\n",
       "      <td>603.0</td>\n",
       "      <td>47.750000</td>\n",
       "    </tr>\n",
       "    <tr>\n",
       "      <th>2015-04-13</th>\n",
       "      <td>3720</td>\n",
       "      <td>849.0</td>\n",
       "      <td>62.000000</td>\n",
       "    </tr>\n",
       "    <tr>\n",
       "      <th>2015-04-20</th>\n",
       "      <td>4320</td>\n",
       "      <td>1018.0</td>\n",
       "      <td>72.000000</td>\n",
       "    </tr>\n",
       "    <tr>\n",
       "      <th>2015-04-27</th>\n",
       "      <td>3690</td>\n",
       "      <td>823.0</td>\n",
       "      <td>61.500000</td>\n",
       "    </tr>\n",
       "    <tr>\n",
       "      <th>2015-05-04</th>\n",
       "      <td>3750</td>\n",
       "      <td>843.0</td>\n",
       "      <td>62.500000</td>\n",
       "    </tr>\n",
       "    <tr>\n",
       "      <th>2015-05-11</th>\n",
       "      <td>1800</td>\n",
       "      <td>532.0</td>\n",
       "      <td>30.000000</td>\n",
       "    </tr>\n",
       "    <tr>\n",
       "      <th>2015-05-18</th>\n",
       "      <td>4095</td>\n",
       "      <td>894.0</td>\n",
       "      <td>68.250000</td>\n",
       "    </tr>\n",
       "    <tr>\n",
       "      <th>2015-05-25</th>\n",
       "      <td>3975</td>\n",
       "      <td>956.0</td>\n",
       "      <td>66.250000</td>\n",
       "    </tr>\n",
       "    <tr>\n",
       "      <th>2015-06-01</th>\n",
       "      <td>3330</td>\n",
       "      <td>797.0</td>\n",
       "      <td>55.500000</td>\n",
       "    </tr>\n",
       "    <tr>\n",
       "      <th>2015-06-08</th>\n",
       "      <td>3930</td>\n",
       "      <td>974.0</td>\n",
       "      <td>65.500000</td>\n",
       "    </tr>\n",
       "    <tr>\n",
       "      <th>2015-06-15</th>\n",
       "      <td>3645</td>\n",
       "      <td>900.0</td>\n",
       "      <td>60.750000</td>\n",
       "    </tr>\n",
       "    <tr>\n",
       "      <th>2015-06-22</th>\n",
       "      <td>4620</td>\n",
       "      <td>1106.0</td>\n",
       "      <td>77.000000</td>\n",
       "    </tr>\n",
       "    <tr>\n",
       "      <th>2015-06-29</th>\n",
       "      <td>3045</td>\n",
       "      <td>570.0</td>\n",
       "      <td>50.750000</td>\n",
       "    </tr>\n",
       "    <tr>\n",
       "      <th>2015-07-06</th>\n",
       "      <td>4215</td>\n",
       "      <td>1006.0</td>\n",
       "      <td>70.250000</td>\n",
       "    </tr>\n",
       "    <tr>\n",
       "      <th>2015-07-13</th>\n",
       "      <td>4650</td>\n",
       "      <td>1044.0</td>\n",
       "      <td>77.500000</td>\n",
       "    </tr>\n",
       "    <tr>\n",
       "      <th>2015-07-20</th>\n",
       "      <td>5055</td>\n",
       "      <td>1167.0</td>\n",
       "      <td>84.250000</td>\n",
       "    </tr>\n",
       "    <tr>\n",
       "      <th>2015-07-27</th>\n",
       "      <td>5040</td>\n",
       "      <td>1126.0</td>\n",
       "      <td>84.000000</td>\n",
       "    </tr>\n",
       "    <tr>\n",
       "      <th>2015-08-03</th>\n",
       "      <td>4650</td>\n",
       "      <td>1077.0</td>\n",
       "      <td>77.500000</td>\n",
       "    </tr>\n",
       "    <tr>\n",
       "      <th>...</th>\n",
       "      <td>...</td>\n",
       "      <td>...</td>\n",
       "      <td>...</td>\n",
       "    </tr>\n",
       "    <tr>\n",
       "      <th>2018-01-15</th>\n",
       "      <td>3165</td>\n",
       "      <td>645.0</td>\n",
       "      <td>52.750000</td>\n",
       "    </tr>\n",
       "    <tr>\n",
       "      <th>2018-01-22</th>\n",
       "      <td>3195</td>\n",
       "      <td>611.0</td>\n",
       "      <td>53.250000</td>\n",
       "    </tr>\n",
       "    <tr>\n",
       "      <th>2018-01-29</th>\n",
       "      <td>2885</td>\n",
       "      <td>582.0</td>\n",
       "      <td>48.083333</td>\n",
       "    </tr>\n",
       "    <tr>\n",
       "      <th>2018-02-05</th>\n",
       "      <td>3150</td>\n",
       "      <td>614.0</td>\n",
       "      <td>52.500000</td>\n",
       "    </tr>\n",
       "    <tr>\n",
       "      <th>2018-02-12</th>\n",
       "      <td>2355</td>\n",
       "      <td>430.0</td>\n",
       "      <td>39.250000</td>\n",
       "    </tr>\n",
       "    <tr>\n",
       "      <th>2018-02-19</th>\n",
       "      <td>1710</td>\n",
       "      <td>296.0</td>\n",
       "      <td>28.500000</td>\n",
       "    </tr>\n",
       "    <tr>\n",
       "      <th>2018-02-26</th>\n",
       "      <td>2985</td>\n",
       "      <td>603.0</td>\n",
       "      <td>49.750000</td>\n",
       "    </tr>\n",
       "    <tr>\n",
       "      <th>2018-03-05</th>\n",
       "      <td>3870</td>\n",
       "      <td>770.0</td>\n",
       "      <td>64.500000</td>\n",
       "    </tr>\n",
       "    <tr>\n",
       "      <th>2018-03-12</th>\n",
       "      <td>3090</td>\n",
       "      <td>621.0</td>\n",
       "      <td>51.500000</td>\n",
       "    </tr>\n",
       "    <tr>\n",
       "      <th>2018-03-19</th>\n",
       "      <td>3600</td>\n",
       "      <td>778.0</td>\n",
       "      <td>60.000000</td>\n",
       "    </tr>\n",
       "    <tr>\n",
       "      <th>2018-03-26</th>\n",
       "      <td>2670</td>\n",
       "      <td>545.0</td>\n",
       "      <td>44.500000</td>\n",
       "    </tr>\n",
       "    <tr>\n",
       "      <th>2018-04-02</th>\n",
       "      <td>3240</td>\n",
       "      <td>704.0</td>\n",
       "      <td>54.000000</td>\n",
       "    </tr>\n",
       "    <tr>\n",
       "      <th>2018-04-09</th>\n",
       "      <td>3670</td>\n",
       "      <td>749.0</td>\n",
       "      <td>61.166667</td>\n",
       "    </tr>\n",
       "    <tr>\n",
       "      <th>2018-04-16</th>\n",
       "      <td>3405</td>\n",
       "      <td>663.0</td>\n",
       "      <td>56.750000</td>\n",
       "    </tr>\n",
       "    <tr>\n",
       "      <th>2018-04-23</th>\n",
       "      <td>3275</td>\n",
       "      <td>658.0</td>\n",
       "      <td>54.583333</td>\n",
       "    </tr>\n",
       "    <tr>\n",
       "      <th>2018-04-30</th>\n",
       "      <td>3190</td>\n",
       "      <td>785.0</td>\n",
       "      <td>53.166667</td>\n",
       "    </tr>\n",
       "    <tr>\n",
       "      <th>2018-05-07</th>\n",
       "      <td>2715</td>\n",
       "      <td>552.0</td>\n",
       "      <td>45.250000</td>\n",
       "    </tr>\n",
       "    <tr>\n",
       "      <th>2018-05-14</th>\n",
       "      <td>2250</td>\n",
       "      <td>431.0</td>\n",
       "      <td>37.500000</td>\n",
       "    </tr>\n",
       "    <tr>\n",
       "      <th>2018-05-21</th>\n",
       "      <td>2280</td>\n",
       "      <td>450.0</td>\n",
       "      <td>38.000000</td>\n",
       "    </tr>\n",
       "    <tr>\n",
       "      <th>2018-05-28</th>\n",
       "      <td>2190</td>\n",
       "      <td>415.0</td>\n",
       "      <td>36.500000</td>\n",
       "    </tr>\n",
       "    <tr>\n",
       "      <th>2018-06-04</th>\n",
       "      <td>1980</td>\n",
       "      <td>403.0</td>\n",
       "      <td>33.000000</td>\n",
       "    </tr>\n",
       "    <tr>\n",
       "      <th>2018-06-11</th>\n",
       "      <td>1275</td>\n",
       "      <td>238.0</td>\n",
       "      <td>21.250000</td>\n",
       "    </tr>\n",
       "    <tr>\n",
       "      <th>2018-06-18</th>\n",
       "      <td>720</td>\n",
       "      <td>129.0</td>\n",
       "      <td>12.000000</td>\n",
       "    </tr>\n",
       "    <tr>\n",
       "      <th>2018-06-25</th>\n",
       "      <td>285</td>\n",
       "      <td>63.0</td>\n",
       "      <td>4.750000</td>\n",
       "    </tr>\n",
       "    <tr>\n",
       "      <th>2018-07-02</th>\n",
       "      <td>420</td>\n",
       "      <td>78.0</td>\n",
       "      <td>7.000000</td>\n",
       "    </tr>\n",
       "    <tr>\n",
       "      <th>2018-07-09</th>\n",
       "      <td>105</td>\n",
       "      <td>27.0</td>\n",
       "      <td>1.750000</td>\n",
       "    </tr>\n",
       "    <tr>\n",
       "      <th>2018-07-16</th>\n",
       "      <td>210</td>\n",
       "      <td>37.0</td>\n",
       "      <td>3.500000</td>\n",
       "    </tr>\n",
       "    <tr>\n",
       "      <th>2018-07-23</th>\n",
       "      <td>150</td>\n",
       "      <td>30.0</td>\n",
       "      <td>2.500000</td>\n",
       "    </tr>\n",
       "    <tr>\n",
       "      <th>2018-07-30</th>\n",
       "      <td>165</td>\n",
       "      <td>27.0</td>\n",
       "      <td>2.750000</td>\n",
       "    </tr>\n",
       "    <tr>\n",
       "      <th>2018-08-06</th>\n",
       "      <td>60</td>\n",
       "      <td>10.0</td>\n",
       "      <td>1.000000</td>\n",
       "    </tr>\n",
       "  </tbody>\n",
       "</table>\n",
       "<p>187 rows × 3 columns</p>\n",
       "</div>"
      ],
      "text/plain": [
       "                 AppointmentDuration  Provider  AppointmentDurationHours\n",
       "AppointmentDate                                                         \n",
       "2015-01-12                      2970     890.0                 49.500000\n",
       "2015-01-19                      3090     968.0                 51.500000\n",
       "2015-01-26                      3090     926.0                 51.500000\n",
       "2015-02-02                      1890     476.0                 31.500000\n",
       "2015-02-09                      3780    1136.0                 63.000000\n",
       "2015-02-16                      2910     881.0                 48.500000\n",
       "2015-02-23                      1980     650.0                 33.000000\n",
       "2015-03-02                      2760     699.0                 46.000000\n",
       "2015-03-09                      2265     457.0                 37.750000\n",
       "2015-03-16                      4455    1103.0                 74.250000\n",
       "2015-03-23                      3870     838.0                 64.500000\n",
       "2015-03-30                      3210     686.0                 53.500000\n",
       "2015-04-06                      2865     603.0                 47.750000\n",
       "2015-04-13                      3720     849.0                 62.000000\n",
       "2015-04-20                      4320    1018.0                 72.000000\n",
       "2015-04-27                      3690     823.0                 61.500000\n",
       "2015-05-04                      3750     843.0                 62.500000\n",
       "2015-05-11                      1800     532.0                 30.000000\n",
       "2015-05-18                      4095     894.0                 68.250000\n",
       "2015-05-25                      3975     956.0                 66.250000\n",
       "2015-06-01                      3330     797.0                 55.500000\n",
       "2015-06-08                      3930     974.0                 65.500000\n",
       "2015-06-15                      3645     900.0                 60.750000\n",
       "2015-06-22                      4620    1106.0                 77.000000\n",
       "2015-06-29                      3045     570.0                 50.750000\n",
       "2015-07-06                      4215    1006.0                 70.250000\n",
       "2015-07-13                      4650    1044.0                 77.500000\n",
       "2015-07-20                      5055    1167.0                 84.250000\n",
       "2015-07-27                      5040    1126.0                 84.000000\n",
       "2015-08-03                      4650    1077.0                 77.500000\n",
       "...                              ...       ...                       ...\n",
       "2018-01-15                      3165     645.0                 52.750000\n",
       "2018-01-22                      3195     611.0                 53.250000\n",
       "2018-01-29                      2885     582.0                 48.083333\n",
       "2018-02-05                      3150     614.0                 52.500000\n",
       "2018-02-12                      2355     430.0                 39.250000\n",
       "2018-02-19                      1710     296.0                 28.500000\n",
       "2018-02-26                      2985     603.0                 49.750000\n",
       "2018-03-05                      3870     770.0                 64.500000\n",
       "2018-03-12                      3090     621.0                 51.500000\n",
       "2018-03-19                      3600     778.0                 60.000000\n",
       "2018-03-26                      2670     545.0                 44.500000\n",
       "2018-04-02                      3240     704.0                 54.000000\n",
       "2018-04-09                      3670     749.0                 61.166667\n",
       "2018-04-16                      3405     663.0                 56.750000\n",
       "2018-04-23                      3275     658.0                 54.583333\n",
       "2018-04-30                      3190     785.0                 53.166667\n",
       "2018-05-07                      2715     552.0                 45.250000\n",
       "2018-05-14                      2250     431.0                 37.500000\n",
       "2018-05-21                      2280     450.0                 38.000000\n",
       "2018-05-28                      2190     415.0                 36.500000\n",
       "2018-06-04                      1980     403.0                 33.000000\n",
       "2018-06-11                      1275     238.0                 21.250000\n",
       "2018-06-18                       720     129.0                 12.000000\n",
       "2018-06-25                       285      63.0                  4.750000\n",
       "2018-07-02                       420      78.0                  7.000000\n",
       "2018-07-09                       105      27.0                  1.750000\n",
       "2018-07-16                       210      37.0                  3.500000\n",
       "2018-07-23                       150      30.0                  2.500000\n",
       "2018-07-30                       165      27.0                  2.750000\n",
       "2018-08-06                        60      10.0                  1.000000\n",
       "\n",
       "[187 rows x 3 columns]"
      ]
     },
     "execution_count": 47,
     "metadata": {},
     "output_type": "execute_result"
    }
   ],
   "source": [
    "dr"
   ]
  },
  {
   "cell_type": "markdown",
   "metadata": {},
   "source": [
    "#### isolate data for 2018 to use for later analysis"
   ]
  },
  {
   "cell_type": "code",
   "execution_count": 56,
   "metadata": {},
   "outputs": [],
   "source": [
    "df_2018 = df['2018-07-31':'2018-01-01']"
   ]
  },
  {
   "cell_type": "code",
   "execution_count": 57,
   "metadata": {
    "scrolled": true
   },
   "outputs": [
    {
     "data": {
      "text/plain": [
       "(11080, 5)"
      ]
     },
     "execution_count": 57,
     "metadata": {},
     "output_type": "execute_result"
    }
   ],
   "source": [
    "df_2018.shape"
   ]
  },
  {
   "cell_type": "code",
   "execution_count": 58,
   "metadata": {},
   "outputs": [
    {
     "data": {
      "text/plain": [
       "Specialty                   0\n",
       "AppointmentDate             0\n",
       "AppointmentDuration         0\n",
       "Provider                    0\n",
       "AppointmentDurationHours    0\n",
       "dtype: int64"
      ]
     },
     "execution_count": 58,
     "metadata": {},
     "output_type": "execute_result"
    }
   ],
   "source": [
    "df_2018.isnull().sum()"
   ]
  },
  {
   "cell_type": "code",
   "execution_count": 59,
   "metadata": {},
   "outputs": [
    {
     "data": {
      "text/plain": [
       "Index(['Specialty', 'AppointmentDate', 'AppointmentDuration', 'Provider',\n",
       "       'AppointmentDurationHours'],\n",
       "      dtype='object')"
      ]
     },
     "execution_count": 59,
     "metadata": {},
     "output_type": "execute_result"
    }
   ],
   "source": [
    "df_2018.columns"
   ]
  },
  {
   "cell_type": "code",
   "execution_count": 60,
   "metadata": {},
   "outputs": [],
   "source": [
    "# drop rows with missing value in specialty column\n",
    "df_2018.dropna(subset=['Specialty'], how='all', inplace=True)"
   ]
  },
  {
   "cell_type": "code",
   "execution_count": 61,
   "metadata": {},
   "outputs": [
    {
     "data": {
      "text/plain": [
       "(11080, 5)"
      ]
     },
     "execution_count": 61,
     "metadata": {},
     "output_type": "execute_result"
    }
   ],
   "source": [
    "df_2018.shape"
   ]
  },
  {
   "cell_type": "code",
   "execution_count": 62,
   "metadata": {},
   "outputs": [],
   "source": [
    "dr_2018 = df_2018[df_2018['Specialty'] == 'doctor']\n",
    "RNPA_2018 = df_2018[df_2018['Specialty'] == 'RN/PA']\n",
    "ther_2018 = df_2018[df_2018['Specialty'] == 'therapist']"
   ]
  },
  {
   "cell_type": "code",
   "execution_count": 63,
   "metadata": {},
   "outputs": [],
   "source": [
    "# resample to weekly data\n",
    "dr_2018 = dr_2018.resample('W-MON').sum()\n",
    "RNPA_2018 = RNPA_2018.resample('W-MON').sum()\n",
    "ther_2018 = ther_2018.resample('W-MON').sum()"
   ]
  },
  {
   "cell_type": "code",
   "execution_count": 64,
   "metadata": {},
   "outputs": [
    {
     "data": {
      "text/plain": [
       "(30, 3)"
      ]
     },
     "execution_count": 64,
     "metadata": {},
     "output_type": "execute_result"
    }
   ],
   "source": [
    "dr_2018.shape"
   ]
  },
  {
   "cell_type": "code",
   "execution_count": 65,
   "metadata": {
    "scrolled": true
   },
   "outputs": [
    {
     "data": {
      "text/html": [
       "<div>\n",
       "<style scoped>\n",
       "    .dataframe tbody tr th:only-of-type {\n",
       "        vertical-align: middle;\n",
       "    }\n",
       "\n",
       "    .dataframe tbody tr th {\n",
       "        vertical-align: top;\n",
       "    }\n",
       "\n",
       "    .dataframe thead th {\n",
       "        text-align: right;\n",
       "    }\n",
       "</style>\n",
       "<table border=\"1\" class=\"dataframe\">\n",
       "  <thead>\n",
       "    <tr style=\"text-align: right;\">\n",
       "      <th></th>\n",
       "      <th>AppointmentDuration</th>\n",
       "      <th>Provider</th>\n",
       "      <th>AppointmentDurationHours</th>\n",
       "    </tr>\n",
       "    <tr>\n",
       "      <th>AppointmentDate</th>\n",
       "      <th></th>\n",
       "      <th></th>\n",
       "      <th></th>\n",
       "    </tr>\n",
       "  </thead>\n",
       "  <tbody>\n",
       "    <tr>\n",
       "      <th>2018-01-08</th>\n",
       "      <td>3480</td>\n",
       "      <td>626.0</td>\n",
       "      <td>58.000000</td>\n",
       "    </tr>\n",
       "    <tr>\n",
       "      <th>2018-01-15</th>\n",
       "      <td>3165</td>\n",
       "      <td>645.0</td>\n",
       "      <td>52.750000</td>\n",
       "    </tr>\n",
       "    <tr>\n",
       "      <th>2018-01-22</th>\n",
       "      <td>3195</td>\n",
       "      <td>611.0</td>\n",
       "      <td>53.250000</td>\n",
       "    </tr>\n",
       "    <tr>\n",
       "      <th>2018-01-29</th>\n",
       "      <td>2885</td>\n",
       "      <td>582.0</td>\n",
       "      <td>48.083333</td>\n",
       "    </tr>\n",
       "    <tr>\n",
       "      <th>2018-02-05</th>\n",
       "      <td>3150</td>\n",
       "      <td>614.0</td>\n",
       "      <td>52.500000</td>\n",
       "    </tr>\n",
       "  </tbody>\n",
       "</table>\n",
       "</div>"
      ],
      "text/plain": [
       "                 AppointmentDuration  Provider  AppointmentDurationHours\n",
       "AppointmentDate                                                         \n",
       "2018-01-08                      3480     626.0                 58.000000\n",
       "2018-01-15                      3165     645.0                 52.750000\n",
       "2018-01-22                      3195     611.0                 53.250000\n",
       "2018-01-29                      2885     582.0                 48.083333\n",
       "2018-02-05                      3150     614.0                 52.500000"
      ]
     },
     "execution_count": 65,
     "metadata": {},
     "output_type": "execute_result"
    }
   ],
   "source": [
    "dr_2018.head()"
   ]
  },
  {
   "cell_type": "code",
   "execution_count": null,
   "metadata": {},
   "outputs": [],
   "source": []
  },
  {
   "cell_type": "code",
   "execution_count": null,
   "metadata": {},
   "outputs": [],
   "source": []
  },
  {
   "cell_type": "code",
   "execution_count": null,
   "metadata": {},
   "outputs": [],
   "source": []
  },
  {
   "cell_type": "code",
   "execution_count": null,
   "metadata": {},
   "outputs": [],
   "source": []
  }
 ],
 "metadata": {
  "kernelspec": {
   "display_name": "Python 3",
   "language": "python",
   "name": "python3"
  },
  "language_info": {
   "codemirror_mode": {
    "name": "ipython",
    "version": 3
   },
   "file_extension": ".py",
   "mimetype": "text/x-python",
   "name": "python",
   "nbconvert_exporter": "python",
   "pygments_lexer": "ipython3",
   "version": "3.6.5"
  }
 },
 "nbformat": 4,
 "nbformat_minor": 2
}
