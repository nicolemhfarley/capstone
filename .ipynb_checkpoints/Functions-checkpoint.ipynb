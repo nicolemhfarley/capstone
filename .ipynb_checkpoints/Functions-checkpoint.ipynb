{
 "cells": [
  {
   "cell_type": "code",
   "execution_count": null,
   "metadata": {
    "collapsed": true
   },
   "outputs": [],
   "source": [
    "import numpy as np\n",
    "import pandas as pd\n",
    "import matplotlib.pyplot as plt\n",
    "%matplotlib inline\n",
    "from statsmodels.graphics import tsaplots\n",
    "import statsmodels.api as sm\n",
    "from statsmodels.tsa.arima_model import ARIMA, ARMA\n",
    "from statsmodels.tsa.arima_process import ArmaProcess\n",
    "from statsmodels.stats.diagnostic import acorr_ljungbox\n",
    "from scipy import signal"
   ]
  },
  {
   "cell_type": "code",
   "execution_count": null,
   "metadata": {
    "collapsed": true
   },
   "outputs": [],
   "source": [
    "plt.rcParams.keys()\n",
    "params = {'figure.figsize': [8,8],'axes.labelsize': 'Medium', 'font.size': 12.0, 'lines.linewidth': 2}"
   ]
  },
  {
   "cell_type": "code",
   "execution_count": null,
   "metadata": {
    "collapsed": true
   },
   "outputs": [],
   "source": [
    "def plot_num_appointments_by_month(df, group_col, plot_name, colormap='Dark2'):\n",
    "    \"\"\" Plot duration data grouped by month\"\"\"\n",
    "    ax = df.groupby([df.index.year, df.index.month, group_col])[group_col]\\\n",
    "    .count().unstack().plot(figsize=(10,8),colormap=colormap, linewidth=3, fontsize=12, rot=30)\n",
    "    ax.set_title(plot_name)\n",
    "    ax.set_xlabel('Date')\n",
    "    ax.set_ylabel('Number of Appointments')\n",
    "    ax.legend(loc='center left', bbox_to_anchor=(1.0, 0.5), fontsize=12)\n",
    "    plt.show()"
   ]
  },
  {
   "cell_type": "code",
   "execution_count": null,
   "metadata": {
    "collapsed": true
   },
   "outputs": [],
   "source": [
    "def plot_time_spent(df, date_col, group_col, duration_col, plot_name, colormap='Dark2'):\n",
    "    \"\"\" Plot duration data grouped by month\"\"\"\n",
    "    ax = df.groupby([date_col, group_col])[duration_col]\\\n",
    "    .sum().unstack().plot(figsize=(10,8),colormap=colormap, linewidth=3, fontsize=12, rot=30)\n",
    "    ax.set_title(plot_name)\n",
    "    ax.set_xlabel('Date')\n",
    "    ax.set_ylabel('Time')\n",
    "    ax.legend(loc='center left', bbox_to_anchor=(1.0, 0.5), fontsize=12)\n",
    "    plt.show()"
   ]
  },
  {
   "cell_type": "code",
   "execution_count": null,
   "metadata": {
    "collapsed": true
   },
   "outputs": [],
   "source": [
    "def plot_time_spent_by_month(df, group_col, duration_col, plot_name, colormap='Dark2'):\n",
    "    \"\"\" Plot duration data grouped by month\"\"\"\n",
    "    ax = df.groupby([df.index.year, df.index.month, group_col])[duration_col]\\\n",
    "    .sum().unstack().plot(figsize=(10,8),colormap=colormap, linewidth=3, fontsize=12, rot=30)\n",
    "    ax.set_title(plot_name)\n",
    "    ax.set_xlabel('Date')\n",
    "    ax.set_ylabel('Time')\n",
    "    ax.legend(loc='center left', bbox_to_anchor=(1.0, 0.5), fontsize=12)\n",
    "    plt.show()"
   ]
  },
  {
   "cell_type": "code",
   "execution_count": null,
   "metadata": {
    "collapsed": true
   },
   "outputs": [],
   "source": [
    "def plot_series(series, xlabel, ylabel, plot_name):\n",
    "    \"Plots simple time series from Pandas Series\"\n",
    "    ax = series.plot(figsize=(8,3), linewidth = 3, fontsize=10, grid=True, rot=30)\n",
    "    ax.set_title(plot_name, fontsize=18)\n",
    "    ax.set_xlabel(xlabel, fontsize=15)\n",
    "    ax.set_ylabel(ylabel, fontsize=15)\n",
    "    plt.show()"
   ]
  },
  {
   "cell_type": "code",
   "execution_count": null,
   "metadata": {
    "collapsed": true
   },
   "outputs": [],
   "source": [
    "### taken/modified from Matt Drury time series lecture\n",
    "def make_col_vector(array):\n",
    "    \"\"\"Convert a one dimensional numpy array to a column vector.\"\"\"\n",
    "    return array.reshape(-1, 1)\n",
    "\n",
    "def make_design_matrix(array):\n",
    "    \"\"\"Construct a design matrix from a numpy array, including an intercept term.\"\"\"\n",
    "    return sm.add_constant(make_col_vector(array), prepend=False)\n",
    "\n",
    "def fit_linear_trend(series):\n",
    "    \"\"\"Fit a linear trend to a time series.  Return the fit trend as a numpy array.\"\"\"\n",
    "    X = make_design_matrix(np.arange(len(series)) + 1)\n",
    "    linear_trend_ols = sm.OLS(series.values, X).fit()\n",
    "    linear_trend = linear_trend_ols.predict(X)\n",
    "    return linear_trend\n",
    "\n",
    "def plot_trend_data(ax, name, series):\n",
    "    ax.plot(series.index, series)\n",
    "    \n",
    "def plot_linear_trend(ax, name, series):\n",
    "    linear_trend = fit_linear_trend(series)\n",
    "    plot_trend_data(ax, name, series)\n",
    "    ax.plot(series.index, linear_trend)\n",
    "    ax.set_title(name)\n",
    "    \n",
    "# Calculate and plot moving average\n",
    "def fit_moving_average_trend(series, window=14):\n",
    "    return series.rolling(window, center=True).mean()\n",
    "\n",
    "def plot_with_moving_average(ax, name, series, window=6):\n",
    "    moving_average_trend = fit_moving_average_trend(series, window)\n",
    "    plot_trend_data(ax, name, series)\n",
    "    ax.plot(series.index, moving_average_trend)\n",
    "    ax.set_title('{title}, window={w}'.format(title=name, w=str(window)))"
   ]
  },
  {
   "cell_type": "code",
   "execution_count": null,
   "metadata": {
    "collapsed": true
   },
   "outputs": [],
   "source": [
    "def plot_decomposition(series, params, freq, title):\n",
    "    \"Plots observed, trend, seasonal, residual\"\n",
    "    plt.rcParams.update(params)\n",
    "    decomp = sm.tsa.seasonal_decompose(series, freq=freq)\n",
    "    fig = decomp.plot()\n",
    "    plt.title(title)\n",
    "    plt.show()"
   ]
  },
  {
   "cell_type": "code",
   "execution_count": null,
   "metadata": {
    "collapsed": true
   },
   "outputs": [],
   "source": [
    "def plot_series_and_differences(series, ax, num_diff, title):\n",
    "    \"Plot raw data and specified number of differences\"\n",
    "    ax[0].plot(series.index, series)\n",
    "    ax[0].set_title('Raw series: {}'.format(title))\n",
    "    for i in range(1, num_diff+1):\n",
    "        diff = series.diff(i)\n",
    "        ax[i].plot(series.index, diff)\n",
    "        ax[i].set_title('Difference # {}'.format(str(i)))   "
   ]
  },
  {
   "cell_type": "code",
   "execution_count": null,
   "metadata": {
    "collapsed": true
   },
   "outputs": [],
   "source": [
    "def run_augmented_Dickey_Fuller_test(series, num_diffs=None):\n",
    "    test = sm.tsa.stattools.adfuller(series)\n",
    "    if test[1] >= 0.05:\n",
    "        print('The p-value for the series is: {p}, which is not significant'.format(p=test[1]))\n",
    "    else:\n",
    "        print('The p-value for the series is: {p}, which is significant'.format(p=test[1]))  \n",
    "    if num_diffs:\n",
    "        for i in range(1, num_diffs +1):\n",
    "            test = sm.tsa.stattools.adfuller(series.diff(i)[i:])\n",
    "            if test[1] >= 0.05:\n",
    "                print('The p-value for difference {diff} is: {p}, which is not significant'.format(diff=str(i), p=test[1]))\n",
    "            else:\n",
    "                print('The p-value for difference {diff} is: {p}, which is significant'.format(diff=str(i), p=test[1]))   "
   ]
  },
  {
   "cell_type": "code",
   "execution_count": null,
   "metadata": {
    "collapsed": true
   },
   "outputs": [],
   "source": []
  },
  {
   "cell_type": "code",
   "execution_count": null,
   "metadata": {
    "collapsed": true
   },
   "outputs": [],
   "source": [
    "def plot_autocorrelation(series, params, lags, alpha, title):\n",
    "    plt.rcParams.update(params)\n",
    "    acf_plot = tsaplots.plot_acf(series, lags=lags, alpha=alpha)\n",
    "    plt.title(title)\n",
    "    plt.xlabel('Number of Lags')\n",
    "    plt.show()\n",
    "\n",
    "def plot_partial_autocorrelation(series, params, lags, alpha, title):\n",
    "    plt.rcParams.update(params)\n",
    "    acf_plot = tsaplots.plot_pacf(series, lags=lags, alpha=alpha)\n",
    "    plt.xlabel('Number of Lags')\n",
    "    plt.title(title)\n",
    "    plt.show()"
   ]
  },
  {
   "cell_type": "markdown",
   "metadata": {},
   "source": [
    "### Time Series Modeling/Model Plotting Functions"
   ]
  },
  {
   "cell_type": "code",
   "execution_count": null,
   "metadata": {
    "collapsed": true
   },
   "outputs": [],
   "source": [
    "def get_AR_model(data, order):\n",
    "    model = ARMA(data, order=order)\n",
    "    results = model.fit()\n",
    "    return results"
   ]
  },
  {
   "cell_type": "code",
   "execution_count": null,
   "metadata": {
    "collapsed": true
   },
   "outputs": [],
   "source": [
    "def plot_AR_model(data, order, start, end, title='', xlabel='', ylabel=''):\n",
    "    results = get_AR_model(data, order)\n",
    "    results.plot_predict(start=start, end=end)\n",
    "    plt.title(title)\n",
    "    plt.ylabel(ylabel)\n",
    "    plt.xlabel(xlabel)\n",
    "    plt.show()"
   ]
  },
  {
   "cell_type": "code",
   "execution_count": null,
   "metadata": {
    "collapsed": true
   },
   "outputs": [],
   "source": [
    "# check goodness of fit for a range of parameters for AR model\n",
    "def get_AR_model_order_BIC(data, max_order_plus_one):\n",
    "    \"Calculates Baysian Information Criterion for range of model orders\"\n",
    "    BIC_array = np.zeros(max_order_plus_one)\n",
    "    for p in range(1, max_order_plus_one):\n",
    "        results = get_AR_model(data, order=(p,0))\n",
    "        BIC_array[p] = results.bic\n",
    "    return BIC_array"
   ]
  },
  {
   "cell_type": "code",
   "execution_count": null,
   "metadata": {
    "collapsed": true
   },
   "outputs": [],
   "source": [
    "def plot_BIC_AR_model(data, max_order_plus_one):\n",
    "    \"Plots BIC for range of orders\"\n",
    "    array = get_AR_model_order_BIC(data, max_order_plus_one)\n",
    "    plt.plot(range(1, max_order_plus_one), array[1:max_order_plus_one], marker='o')\n",
    "    plt.xlabel('Order of {mod} Model'.format(mod='AR'))\n",
    "    plt.ylabel('Baysian Information Criterion')\n",
    "    plt.show()"
   ]
  },
  {
   "cell_type": "code",
   "execution_count": null,
   "metadata": {
    "collapsed": true
   },
   "outputs": [],
   "source": [
    "def get_MA_model(data, order):\n",
    "    model = ARMA(data, order=order)\n",
    "    results = model.fit()\n",
    "    return results"
   ]
  },
  {
   "cell_type": "code",
   "execution_count": null,
   "metadata": {
    "collapsed": true
   },
   "outputs": [],
   "source": [
    "def plot_MA_model(data, order, start, end, title='', xlabel='', ylabel=''):\n",
    "    results = get_MA_model(data, order)\n",
    "    results.plot_predict(start=start, end=end)\n",
    "    plt.title(title)\n",
    "    plt.ylabel(ylabel)\n",
    "    plt.xlabel(xlabel)\n",
    "    plt.show()"
   ]
  },
  {
   "cell_type": "code",
   "execution_count": null,
   "metadata": {
    "collapsed": true
   },
   "outputs": [],
   "source": [
    "# check goodness of fit for a range of parameters for MA model\n",
    "def get_MA_model_order_BIC(data, order, max_order_plus_one):\n",
    "    \"Calculates Baysian Information Criterion for range of model orders\"\n",
    "    BIC_array = np.zeros(max_order_plus_one)\n",
    "    for p in range(1, max_order_plus_one):\n",
    "        results = get_MA_model(data, order)\n",
    "        BIC_array[p] = results.bic\n",
    "    return BIC_array"
   ]
  },
  {
   "cell_type": "code",
   "execution_count": null,
   "metadata": {
    "collapsed": true
   },
   "outputs": [],
   "source": [
    "def plot_BIC_MA_model(data, order, max_order_plus_one):\n",
    "    \"Plots BIC for range of orders\"\n",
    "    array = get_MA_model_order_BIC(data, max_order_plus_one)\n",
    "    plt.plot(range(1, max_order_plus_one), array[1:max_order_plus_one], marker='o')\n",
    "    plt.xlabel('Order of {mod} Model'.format(mod='ARMA'))\n",
    "    plt.ylabel('Baysian Information Criterion')\n",
    "    plt.show()"
   ]
  },
  {
   "cell_type": "code",
   "execution_count": null,
   "metadata": {
    "collapsed": true
   },
   "outputs": [],
   "source": [
    "def get_ARIMA_model(data, order):\n",
    "    \"Fits ARIMA model\"\n",
    "    arima = ARIMA(data, order=order)\n",
    "    results = arima.fit()\n",
    "    summary = results.summary()\n",
    "    params = results.params\n",
    "    residuals = results.resid\n",
    "    return results, summary, params, residuals"
   ]
  },
  {
   "cell_type": "code",
   "execution_count": null,
   "metadata": {
    "collapsed": true
   },
   "outputs": [],
   "source": [
    "def plot_ARIMA_model(data, order, start, end, title='', xlabel='', ylabel=''):\n",
    "    \"Plots ARIMA model\"\n",
    "    results = ARIMA(data, order=order).fit()\n",
    "    fig = results.plot_predict(start=start, end=end)\n",
    "    plt.title(title)\n",
    "    plt.ylabel(xlabel)\n",
    "    plt.xlabel(ylabel)\n",
    "    plt.show()"
   ]
  },
  {
   "cell_type": "code",
   "execution_count": null,
   "metadata": {
    "collapsed": true
   },
   "outputs": [],
   "source": [
    "def plot_ARIMA_resids(data, order, start, end, title='', xlabel='', ylabel=''):\n",
    "    \"Plots ARIMA model residuals\"\n",
    "    results = ARIMA(data, order=order).fit().resid\n",
    "    residuals.plot(figsize=(5,5))\n",
    "    plt.title(title)\n",
    "    plt.ylabel(xlabel)\n",
    "    plt.xlabel(ylabel)\n",
    "    plt.show()"
   ]
  },
  {
   "cell_type": "code",
   "execution_count": null,
   "metadata": {
    "collapsed": true
   },
   "outputs": [],
   "source": [
    "def get_ARIMA_forecast(data, order, start, end, typ=None):\n",
    "    \"Predicts future values of time series\"\n",
    "    results = ARIMA(data, order=order).fit()\n",
    "    forecast = results.predict(start=start, end=end, typ=typ)\n",
    "    return forecast\n",
    "\n",
    "def plot_data_plus_ARIMA_predictions(data, order, start, end, typ=None, figsize=(10,10), title='', ylabel='', xlabel=''):\n",
    "    \"Make forecast and plot as extension of the existing time series data\"\n",
    "    forecast = get_ARIMA_forecast(data, order, start, end, typ=typ)\n",
    "    data_plus_forecast = pd.concat([data, forecast], axis=1)\n",
    "    data_plus_forecast.columns = ['data', 'predicted']\n",
    "    data_plus_forecast.plot(figsize=(12,8), grid=True)\n",
    "    plt.title(title)\n",
    "    plt.ylabel(xlabel)\n",
    "    plt.xlabel(ylabel)\n",
    "    plt.show()"
   ]
  },
  {
   "cell_type": "code",
   "execution_count": null,
   "metadata": {
    "collapsed": true
   },
   "outputs": [],
   "source": [
    "def plot_data_plus_ARIMA_predictions(data, order, start, end, typ=None, figsize=(10,10), title='', ylabel='', xlabel=''):\n",
    "    results = ARIMA(data, order=order).fit()\n",
    "    forecast = results.predict(start=start, end=end, typ=typ)\n",
    "    data_plus_forecast = pd.concat([data, forecast], axis=1)\n",
    "    data_plus_forecast.columns = ['data', 'forecast']\n",
    "    data_plus_forecast.plot(figsize=(12,8))\n",
    "    plt.title(title)\n",
    "    plt.ylabel(xlabel)\n",
    "    plt.xlabel(ylabel)\n",
    "    plt.show()"
   ]
  },
  {
   "cell_type": "code",
   "execution_count": null,
   "metadata": {
    "collapsed": true
   },
   "outputs": [],
   "source": [
    "def test_rolling_ARIMA_forecast(train_data, test_data, order):\n",
    "    \"Calculates rolling ARIMA forecast, returns predicted vs actual\"\n",
    "    history = [x for x in train]\n",
    "    predictions = []\n",
    "    for t in range(len(test)):\n",
    "        arima = ARIMA(history, order=order)\n",
    "        arima_fitted = arima.fit()\n",
    "        forecast = arima_fitted.forecast()\n",
    "        yhat = forecast[0]\n",
    "        predictions.append(yhat)\n",
    "        observed = test[t]\n",
    "        history.append(observed)\n",
    "    return predictions, test"
   ]
  },
  {
   "cell_type": "code",
   "execution_count": null,
   "metadata": {
    "collapsed": true
   },
   "outputs": [],
   "source": [
    "def plot_rolling_ARIMA_forecast(train_data, test_data, order, title):\n",
    "    \"Calculates and plots rolling ARIMA forecast\"\n",
    "    predicted, expected = test_rolling_ARIMA_forecast(train_data, test_data, order)\n",
    "    predictions = np.hstack(predicted)\n",
    "    df = pd.DataFrame({'predicted': predictions, 'actual':test})\n",
    "    df.plot()\n",
    "    plt.title(title)\n",
    "    plt.show()"
   ]
  },
  {
   "cell_type": "code",
   "execution_count": null,
   "metadata": {
    "collapsed": true
   },
   "outputs": [],
   "source": [
    "def get_predictions_df_and_plot_rolling_ARIMA_forecast(train_data, test_data, order, title):\n",
    "    \"Calculates and plots rolling ARIMA forecast\"\n",
    "    predicted, expected = test_rolling_ARIMA_forecast(train_data, test_data, order)\n",
    "    predictions = np.hstack(predicted)\n",
    "    actual = pd.concat([train_data, test_data], axis=0 )\n",
    "    df = pd.DataFrame({'predicted': predictions, 'actual':expected})\n",
    "    real_and_predicted_df = pd.DataFrame({'actual': actual, 'predicted':df['predicted']})\n",
    "    real_and_predicted_df.plot()\n",
    "    plt.title(title)\n",
    "    plt.show()\n",
    "    return df"
   ]
  },
  {
   "cell_type": "code",
   "execution_count": null,
   "metadata": {
    "collapsed": true
   },
   "outputs": [],
   "source": [
    "arima_functions = [get_ARIMA_model, plot_ARIMA_model, plot_ARIMA_resids, get_ARIMA_forecast,\\\n",
    "plot_data_plus_ARIMA_predictions, plot_data_plus_ARIMA_predictions, test_rolling_ARIMA_forecast,\\\n",
    "plot_rolling_ARIMA_forecast, get_predictions_df_and_plot_rolling_ARIMA_forecast]"
   ]
  }
 ],
 "metadata": {
  "kernelspec": {
   "display_name": "Python 3",
   "language": "python",
   "name": "python3"
  },
  "language_info": {
   "codemirror_mode": {
    "name": "ipython",
    "version": 3
   },
   "file_extension": ".py",
   "mimetype": "text/x-python",
   "name": "python",
   "nbconvert_exporter": "python",
   "pygments_lexer": "ipython3",
   "version": "3.6.3"
  }
 },
 "nbformat": 4,
 "nbformat_minor": 2
}
