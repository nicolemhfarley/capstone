{
 "cells": [
  {
   "cell_type": "code",
   "execution_count": null,
   "metadata": {},
   "outputs": [],
   "source": [
    "import numpy as np\n",
    "import pandas as pd\n",
    "from pandas.tools.plotting import table\n",
    "import matplotlib.pyplot as plt\n",
    "%matplotlib inline\n",
    "from sklearn.metrics import mean_squared_error\n",
    "import warnings\n",
    "warnings.filterwarnings(\"ignore\")\n",
    "%load_ext autoreload\n",
    "%autoreload 2"
   ]
  },
  {
   "cell_type": "code",
   "execution_count": null,
   "metadata": {},
   "outputs": [],
   "source": [
    "from functions.timeseries_functions import index_to_datetime, weekly_resample, plot_all_df_columns, plot_series,\\\n",
    "plot_series_save_fig, plot_series_and_differences, run_augmented_Dickey_Fuller_test, \\\n",
    "plot_autocorrelation, plot_partial_autocorrelation, plot_decomposition"
   ]
  },
  {
   "cell_type": "code",
   "execution_count": null,
   "metadata": {},
   "outputs": [],
   "source": [
    "from fbprophet import Prophet"
   ]
  },
  {
   "cell_type": "code",
   "execution_count": null,
   "metadata": {},
   "outputs": [],
   "source": [
    "from functions.prophet_functions import get_prophet_training_mse, get_prophet_test_mse,\\\n",
    "get_prophet_forecast, plot_prophet_forecast, get_prophet_forecast_w_holidays,\\\n",
    "prophet_forecast_to_csv, get_prophet_forecast_date_index, get_prophet_forecast_holidays_date_index"
   ]
  },
  {
   "cell_type": "markdown",
   "metadata": {},
   "source": [
    "#### add holiday component"
   ]
  },
  {
   "cell_type": "code",
   "execution_count": null,
   "metadata": {},
   "outputs": [],
   "source": [
    "christmas_dates = ['2015-12-25', '2016-12-25', '2017-12-25']\n",
    "new_year_dates = ['2016-01-01', '2017-01-01', '2018-01-01']\n",
    "thanksgiving_dates = ['2015-11-26', '2016-11-24', '2017-11-23']"
   ]
  },
  {
   "cell_type": "code",
   "execution_count": null,
   "metadata": {},
   "outputs": [],
   "source": [
    "christmas = pd.DataFrame({'holiday':'Christams', 'ds': pd.to_datetime(christmas_dates)})"
   ]
  },
  {
   "cell_type": "code",
   "execution_count": null,
   "metadata": {},
   "outputs": [],
   "source": [
    "thanksgiving = pd.DataFrame({'holiday':'Thanksgiving', 'ds': pd.to_datetime(thanksgiving_dates)})"
   ]
  },
  {
   "cell_type": "code",
   "execution_count": null,
   "metadata": {},
   "outputs": [],
   "source": [
    "new_years = pd.DataFrame({'holiday':'New Years', 'ds': pd.to_datetime(new_year_dates)})"
   ]
  },
  {
   "cell_type": "code",
   "execution_count": null,
   "metadata": {},
   "outputs": [],
   "source": [
    "holidays = pd.concat([christmas, thanksgiving, new_years])"
   ]
  },
  {
   "cell_type": "code",
   "execution_count": null,
   "metadata": {},
   "outputs": [],
   "source": [
    "holidays1 = holidays.copy()\n",
    "holidays2 = holidays.copy()\n",
    "holidays1_2 = holidays.copy()\n",
    "holidays2_1 = holidays.copy()"
   ]
  },
  {
   "cell_type": "code",
   "execution_count": null,
   "metadata": {},
   "outputs": [],
   "source": [
    "holidays1['lower_window'] = -1\n",
    "holidays1['upper_window'] = 1"
   ]
  },
  {
   "cell_type": "code",
   "execution_count": null,
   "metadata": {},
   "outputs": [],
   "source": [
    "holidays2['lower_window'] = -2\n",
    "holidays2['upper_window'] = 2"
   ]
  },
  {
   "cell_type": "code",
   "execution_count": null,
   "metadata": {},
   "outputs": [],
   "source": [
    "holidays1_2['lower_window'] = -1\n",
    "holidays1_2['upper_window'] = 2"
   ]
  },
  {
   "cell_type": "code",
   "execution_count": null,
   "metadata": {},
   "outputs": [],
   "source": [
    "holidays2_1['lower_window'] = -2\n",
    "holidays2_1['upper_window'] = 1"
   ]
  },
  {
   "cell_type": "code",
   "execution_count": null,
   "metadata": {},
   "outputs": [],
   "source": [
    "holiday_windows = [holidays1, holidays2, holidays1_2, holidays2_1]"
   ]
  },
  {
   "cell_type": "markdown",
   "metadata": {},
   "source": [
    "### using weekly data"
   ]
  },
  {
   "cell_type": "code",
   "execution_count": null,
   "metadata": {},
   "outputs": [],
   "source": [
    "dr_df = pd.read_csv('./data/doctors_hours_per_provider.csv')\n",
    "RNPA_df = pd.read_csv('./data/RNPA_hours_per_provider.csv')\n",
    "ther_df = pd.read_csv('./data/therapists_hours_per_provider.csv')"
   ]
  },
  {
   "cell_type": "code",
   "execution_count": null,
   "metadata": {},
   "outputs": [],
   "source": [
    "dr_df.columns"
   ]
  },
  {
   "cell_type": "markdown",
   "metadata": {},
   "source": [
    "#### test MSE for different holiday intervals to determine best interval for each category"
   ]
  },
  {
   "cell_type": "code",
   "execution_count": null,
   "metadata": {},
   "outputs": [],
   "source": [
    "weekly_data = [dr_df, RNPA_df, ther_df]\n",
    "df_names = ['Doctors', 'RN/PAs', 'therapists']"
   ]
  },
  {
   "cell_type": "code",
   "execution_count": null,
   "metadata": {},
   "outputs": [],
   "source": [
    "df_cols = ['date', 'Number_Providers', 'Hours', 'Hours_per_Provider']\n",
    "date_hours_cols = ['date', 'Hours']\n",
    "periods = 90\n",
    "pred_cols = ['yhat', 'yhat_lower', 'yhat_upper']"
   ]
  },
  {
   "cell_type": "code",
   "execution_count": null,
   "metadata": {
    "scrolled": false
   },
   "outputs": [],
   "source": [
    "# get MSE for forecasts with holidays w/ different windows included\n",
    "holiday_windows = [holidays1, holidays2, holidays1_2, holidays2_1]\n",
    "for i in range(len(weekly_data)):\n",
    "    for h in holiday_windows:\n",
    "        model, forecast, predictions_df = get_prophet_forecast_w_holidays(df=weekly_data[i], df_name=df_names[i], df_cols=df_cols,\\\n",
    "                     date_hours_cols=date_hours_cols, pred_cols=pred_cols, periods=periods, holidays=h)"
   ]
  },
  {
   "cell_type": "raw",
   "metadata": {},
   "source": [
    "adding holidays: decreased MSE for all categories, the best window for doctors = -1,+1, RN/PA = -1,+2, therapists = -1,+1"
   ]
  },
  {
   "cell_type": "markdown",
   "metadata": {},
   "source": [
    "#### plot models for all categories"
   ]
  },
  {
   "cell_type": "code",
   "execution_count": null,
   "metadata": {},
   "outputs": [],
   "source": [
    "weekly_data = [dr_df, RNPA_df, ther_df]\n",
    "df_names = ['Doctors', 'RN/PAs', 'therapists']"
   ]
  },
  {
   "cell_type": "code",
   "execution_count": null,
   "metadata": {},
   "outputs": [],
   "source": [
    "date_col = 'date'\n",
    "hours_col = 'Hours'\n",
    "periods = 90\n",
    "pred_cols = ['yhat', 'yhat_lower', 'yhat_upper']"
   ]
  },
  {
   "cell_type": "code",
   "execution_count": null,
   "metadata": {
    "scrolled": false
   },
   "outputs": [],
   "source": [
    "# Get forecast and plot for all 3 categories w/out holidays\n",
    "for i in range(len(weekly_data)):\n",
    "    model, forecast, pred, predictions_df = get_prophet_forecast_date_index(df=weekly_data[i], date_col=date_col,\\\n",
    "                     hours_col=hours_col, pred_cols=pred_cols, periods=periods)\n",
    "    plot_prophet_forecast(model, forecast)"
   ]
  },
  {
   "cell_type": "markdown",
   "metadata": {},
   "source": [
    "#### Add in holidays"
   ]
  },
  {
   "cell_type": "code",
   "execution_count": null,
   "metadata": {},
   "outputs": [],
   "source": [
    "date_col = 'date'\n",
    "hours_col = 'Hours'\n",
    "periods = 90\n",
    "pred_cols = ['yhat', 'yhat_lower', 'yhat_upper']"
   ]
  },
  {
   "cell_type": "code",
   "execution_count": null,
   "metadata": {
    "scrolled": true
   },
   "outputs": [],
   "source": [
    "# Doctor's forecast + holidays\n",
    "dr_model_h, dr_forecast_h, dr_pred_h, dr_h_df = get_prophet_forecast_holidays_date_index(df=dr_df, date_col=date_col,\\\n",
    "                     hours_col=hours_col, pred_cols=pred_cols, periods=periods, holidays=holidays1)\n",
    "# plot forecast & decomposition w holidays\n",
    "plot_prophet_forecast(dr_model_h, dr_forecast_h)"
   ]
  },
  {
   "cell_type": "code",
   "execution_count": null,
   "metadata": {},
   "outputs": [],
   "source": [
    "avg_dr_hours = dr_df['Hours_per_Provider'].mean()"
   ]
  },
  {
   "cell_type": "code",
   "execution_count": null,
   "metadata": {},
   "outputs": [],
   "source": [
    "# add predicted number of providers column\n",
    "dr_h_df['Predicted_num_Providers'] = round(dr_h_df['yhat'] / avg_dr_hours, 1)"
   ]
  },
  {
   "cell_type": "code",
   "execution_count": null,
   "metadata": {},
   "outputs": [],
   "source": [
    "# fig = plot_prophet_forecast(dr_model_h, dr_forecast_h, xlabel='Date', ylabel='Hours')\n",
    "dr_fig = dr_model_h.plot(dr_forecast_h, xlabel='Date', ylabel='Hours')\n",
    "dr_fig.savefig('./images/dr_prophet_model.png')"
   ]
  },
  {
   "cell_type": "code",
   "execution_count": null,
   "metadata": {},
   "outputs": [],
   "source": [
    "dr_h_df.columns"
   ]
  },
  {
   "cell_type": "code",
   "execution_count": null,
   "metadata": {},
   "outputs": [],
   "source": [
    "dr_h_df.index"
   ]
  },
  {
   "cell_type": "code",
   "execution_count": null,
   "metadata": {},
   "outputs": [],
   "source": [
    "prophet_forecast_to_csv(dr_h_df, 'doctors_prophet_holidays')"
   ]
  },
  {
   "cell_type": "code",
   "execution_count": null,
   "metadata": {},
   "outputs": [],
   "source": [
    "# get May predictions\n",
    "dr_pred = dr_h_df[['Predicted_Hours', 'Predicted_num_Providers']]\n",
    "dr_may_hours = round(dr_pred[['Predicted_Hours']].resample('W-MON').mean()['2018-05-07':'2018-05-28'],2)\n",
    "dr_may_providers = round(dr_pred[['Predicted_num_Providers']].resample('W-MON').mean()['2018-05-07':'2018-05-28'],2)"
   ]
  },
  {
   "cell_type": "code",
   "execution_count": null,
   "metadata": {},
   "outputs": [],
   "source": [
    "# merge into single dataframe\n",
    "dr_may18 = pd.concat([dr_may_hours, dr_may_providers], axis=1)\n",
    "# save to csv \n",
    "dr_may18.to_csv('./data/May2018_doctors_Prophet_predictions.csv')"
   ]
  },
  {
   "cell_type": "code",
   "execution_count": null,
   "metadata": {},
   "outputs": [],
   "source": [
    "dr_may18"
   ]
  },
  {
   "cell_type": "markdown",
   "metadata": {},
   "source": [
    "#### RN/PAs"
   ]
  },
  {
   "cell_type": "code",
   "execution_count": null,
   "metadata": {},
   "outputs": [],
   "source": [
    "date_col = 'date'\n",
    "hours_col = 'Hours'\n",
    "periods = 90\n",
    "pred_cols = ['yhat', 'yhat_lower', 'yhat_upper']"
   ]
  },
  {
   "cell_type": "code",
   "execution_count": null,
   "metadata": {},
   "outputs": [],
   "source": [
    "# RN/PA forecast + holidays\n",
    "RNPA_model_h, RNPA_forecast_h, RNPA_pred_h, RNPA_h_df = get_prophet_forecast_holidays_date_index(df=RNPA_df, date_col=date_col,\\\n",
    "        hours_col=hours_col, pred_cols=pred_cols, periods=periods, holidays=holidays1_2)\n",
    "# plot forecast & decomposition w holidays\n",
    "plot_prophet_forecast(RNPA_model_h, RNPA_forecast_h)"
   ]
  },
  {
   "cell_type": "code",
   "execution_count": null,
   "metadata": {},
   "outputs": [],
   "source": [
    "# fig = plot_prophet_forecast(dr_model_h, dr_forecast_h, xlabel='Date', ylabel='Hours')\n",
    "RNPA_fig = RNPA_model_h.plot(RNPA_forecast_h, xlabel='Date', ylabel='Hours')\n",
    "RNPA_fig.savefig('./images/RNPA_prophet_model.png')"
   ]
  },
  {
   "cell_type": "code",
   "execution_count": null,
   "metadata": {},
   "outputs": [],
   "source": [
    "avg_RNPA_hours = RNPA_df['Hours_per_Provider'].mean()"
   ]
  },
  {
   "cell_type": "code",
   "execution_count": null,
   "metadata": {},
   "outputs": [],
   "source": [
    "# add predicted number of providers column\n",
    "RNPA_h_df['Predicted_num_Providers'] = round(RNPA_h_df['yhat'] / avg_RNPA_hours, 1)"
   ]
  },
  {
   "cell_type": "code",
   "execution_count": null,
   "metadata": {},
   "outputs": [],
   "source": [
    "prophet_forecast_to_csv(RNPA_h_df, 'RNPA_prophet_holidays')"
   ]
  },
  {
   "cell_type": "code",
   "execution_count": null,
   "metadata": {},
   "outputs": [],
   "source": [
    "# get May predictions\n",
    "RNPA_pred = RNPA_h_df[['Predicted_Hours', 'Predicted_num_Providers']]\n",
    "RNPA_may_hours = round(RNPA_pred[['Predicted_Hours']].resample('W-MON').mean()['2018-05-07':'2018-05-28'],2)\n",
    "RNPA_may_providers = round(RNPA_pred[['Predicted_num_Providers']].resample('W-MON').mean()['2018-05-07':'2018-05-28'],2)"
   ]
  },
  {
   "cell_type": "code",
   "execution_count": null,
   "metadata": {},
   "outputs": [],
   "source": [
    "RNPA_may_hours, RNPA_may_providers"
   ]
  },
  {
   "cell_type": "code",
   "execution_count": null,
   "metadata": {},
   "outputs": [],
   "source": [
    "# merge hours and providers data into single df\n",
    "RNPA_may18 = pd.concat([RNPA_may_hours, RNPA_may_providers], axis=1)\n",
    "# save to csv \n",
    "RNPA_may18.to_csv('./data/May2018_RNPAs_Prophet_predictions.csv')"
   ]
  },
  {
   "cell_type": "code",
   "execution_count": null,
   "metadata": {},
   "outputs": [],
   "source": [
    "RNPA_may18"
   ]
  },
  {
   "cell_type": "markdown",
   "metadata": {},
   "source": [
    "#### therapists"
   ]
  },
  {
   "cell_type": "code",
   "execution_count": null,
   "metadata": {},
   "outputs": [],
   "source": [
    "date_col = 'date'\n",
    "hours_col = 'Hours'\n",
    "periods = 90\n",
    "pred_cols = ['yhat', 'yhat_lower', 'yhat_upper']"
   ]
  },
  {
   "cell_type": "code",
   "execution_count": null,
   "metadata": {},
   "outputs": [],
   "source": [
    "# Therapists forecast + holidays\n",
    "ther_model_h, ther_forecast_h, ther_pred_h, ther_h_df = get_prophet_forecast_holidays_date_index(df=ther_df, date_col=date_col,\\\n",
    "        hours_col=hours_col, pred_cols=pred_cols, periods=periods, holidays=holidays1)\n",
    "# plot forecast & decomposition w holidays\n",
    "plot_prophet_forecast(ther_model_h, ther_forecast_h)"
   ]
  },
  {
   "cell_type": "code",
   "execution_count": null,
   "metadata": {},
   "outputs": [],
   "source": [
    "# fig = plot_prophet_forecast(dr_model_h, dr_forecast_h, xlabel='Date', ylabel='Hours')\n",
    "ther_fig = ther_model_h.plot(ther_forecast_h, xlabel='Date', ylabel='Hours')\n",
    "ther_fig.savefig('./images/ther_prophet_model.png')"
   ]
  },
  {
   "cell_type": "code",
   "execution_count": null,
   "metadata": {},
   "outputs": [],
   "source": [
    "avg_ther_hours = ther_df['Hours_per_Provider'].mean()"
   ]
  },
  {
   "cell_type": "code",
   "execution_count": null,
   "metadata": {},
   "outputs": [],
   "source": [
    "# add predicted number of providers column\n",
    "ther_h_df['Predicted_num_Providers'] = round(ther_h_df['yhat'] / avg_ther_hours, 1)"
   ]
  },
  {
   "cell_type": "code",
   "execution_count": null,
   "metadata": {},
   "outputs": [],
   "source": [
    "prophet_forecast_to_csv(ther_h_df, 'therapist_prophet_holidays')"
   ]
  },
  {
   "cell_type": "code",
   "execution_count": null,
   "metadata": {},
   "outputs": [],
   "source": [
    "ther_h_df"
   ]
  },
  {
   "cell_type": "code",
   "execution_count": null,
   "metadata": {},
   "outputs": [],
   "source": [
    "# get May predictions\n",
    "ther_pred = ther_h_df[['Predicted_Hours', 'Predicted_num_Providers']]"
   ]
  },
  {
   "cell_type": "code",
   "execution_count": null,
   "metadata": {},
   "outputs": [],
   "source": [
    "ther_pred.index"
   ]
  },
  {
   "cell_type": "code",
   "execution_count": null,
   "metadata": {},
   "outputs": [],
   "source": [
    "ther_pred.loc['2018-05-07':'2018-05-28']"
   ]
  },
  {
   "cell_type": "code",
   "execution_count": null,
   "metadata": {},
   "outputs": [],
   "source": [
    "ther_pred.shape"
   ]
  },
  {
   "cell_type": "code",
   "execution_count": null,
   "metadata": {},
   "outputs": [],
   "source": [
    "ther_may_hours = round(ther_pred[['Predicted_Hours']].resample('W-MON').mean()['2018-05-07':'2018-05-28'],2)"
   ]
  },
  {
   "cell_type": "code",
   "execution_count": null,
   "metadata": {},
   "outputs": [],
   "source": [
    "ther_may_hours"
   ]
  },
  {
   "cell_type": "code",
   "execution_count": null,
   "metadata": {},
   "outputs": [],
   "source": [
    "ther_may_providers = round(ther_pred[['Predicted_num_Providers']].resample('W-MON').mean()['2018-05-07':'2018-05-28'],2)"
   ]
  },
  {
   "cell_type": "code",
   "execution_count": null,
   "metadata": {},
   "outputs": [],
   "source": [
    "ther_may_providers"
   ]
  },
  {
   "cell_type": "code",
   "execution_count": null,
   "metadata": {},
   "outputs": [],
   "source": [
    "ther_may18 = pd.concat([ther_may_hours, ther_may_providers], axis=1)"
   ]
  },
  {
   "cell_type": "code",
   "execution_count": null,
   "metadata": {},
   "outputs": [],
   "source": [
    "# save to csv \n",
    "ther_may18.to_csv('./data/May2018_therapists_Prophet_predictions.csv')"
   ]
  },
  {
   "cell_type": "code",
   "execution_count": null,
   "metadata": {},
   "outputs": [],
   "source": []
  }
 ],
 "metadata": {
  "kernelspec": {
   "display_name": "Python 3",
   "language": "python",
   "name": "python3"
  },
  "language_info": {
   "codemirror_mode": {
    "name": "ipython",
    "version": 3
   },
   "file_extension": ".py",
   "mimetype": "text/x-python",
   "name": "python",
   "nbconvert_exporter": "python",
   "pygments_lexer": "ipython3",
   "version": "3.6.5"
  }
 },
 "nbformat": 4,
 "nbformat_minor": 2
}
