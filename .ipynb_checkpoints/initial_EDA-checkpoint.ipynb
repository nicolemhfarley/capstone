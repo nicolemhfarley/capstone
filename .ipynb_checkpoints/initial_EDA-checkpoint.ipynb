{
 "cells": [
  {
   "cell_type": "code",
   "execution_count": null,
   "metadata": {},
   "outputs": [],
   "source": [
    "import numpy as np\n",
    "import pandas as pd\n",
    "import matplotlib.pyplot as plt\n",
    "%matplotlib inline\n",
    "from statsmodels.graphics import tsaplots\n",
    "import statsmodels.api as sm"
   ]
  },
  {
   "cell_type": "code",
   "execution_count": null,
   "metadata": {
    "scrolled": true
   },
   "outputs": [],
   "source": [
    "plt.style.available"
   ]
  },
  {
   "cell_type": "code",
   "execution_count": null,
   "metadata": {
    "collapsed": true
   },
   "outputs": [],
   "source": [
    "# plt.rcParams.keys()"
   ]
  },
  {
   "cell_type": "raw",
   "metadata": {},
   "source": [
    "import data from folowing csv files: Appointments, CallsRingCentral, MettingReasonForVisits, MeetingStatus, Offices, ProvidersSchedules"
   ]
  },
  {
   "cell_type": "code",
   "execution_count": null,
   "metadata": {
    "collapsed": true
   },
   "outputs": [],
   "source": [
    "# sns.heatmap(correlation_matrix,\n",
    "#             annot=True,\n",
    "#             linewidths=0.4,\n",
    "#             annot_kws={\"size\": 10})"
   ]
  },
  {
   "cell_type": "markdown",
   "metadata": {},
   "source": [
    "### import data"
   ]
  },
  {
   "cell_type": "code",
   "execution_count": null,
   "metadata": {
    "collapsed": true
   },
   "outputs": [],
   "source": [
    "appointments = pd.read_csv('Appointments.csv')"
   ]
  },
  {
   "cell_type": "code",
   "execution_count": null,
   "metadata": {
    "collapsed": true
   },
   "outputs": [],
   "source": [
    "calls = pd.read_csv('CallsRingCentral.csv')"
   ]
  },
  {
   "cell_type": "code",
   "execution_count": null,
   "metadata": {
    "collapsed": true
   },
   "outputs": [],
   "source": [
    "reason_for_visit = pd.read_csv('MeetingReasonForVisits.csv')"
   ]
  },
  {
   "cell_type": "code",
   "execution_count": null,
   "metadata": {
    "collapsed": true
   },
   "outputs": [],
   "source": [
    "meeting_status = pd.read_csv('MeetingStatus.csv')"
   ]
  },
  {
   "cell_type": "code",
   "execution_count": null,
   "metadata": {
    "collapsed": true
   },
   "outputs": [],
   "source": [
    "offices = pd.read_csv('Offices.csv')"
   ]
  },
  {
   "cell_type": "code",
   "execution_count": null,
   "metadata": {
    "collapsed": true
   },
   "outputs": [],
   "source": [
    "providers_schedules = pd.read_csv('ProvidersSchedulesLastest.csv')"
   ]
  },
  {
   "cell_type": "markdown",
   "metadata": {},
   "source": [
    "### explore data"
   ]
  },
  {
   "cell_type": "code",
   "execution_count": null,
   "metadata": {},
   "outputs": [],
   "source": [
    "appointments.info()"
   ]
  },
  {
   "cell_type": "code",
   "execution_count": null,
   "metadata": {},
   "outputs": [],
   "source": [
    "appointments.head().T"
   ]
  },
  {
   "cell_type": "code",
   "execution_count": null,
   "metadata": {},
   "outputs": [],
   "source": [
    "reason_for_visit.head()"
   ]
  },
  {
   "cell_type": "code",
   "execution_count": null,
   "metadata": {},
   "outputs": [],
   "source": [
    "reason_for_visit.info()"
   ]
  },
  {
   "cell_type": "raw",
   "metadata": {},
   "source": [
    "reason_for_visit lists the 100 diff possibilities --> need fill in appointments df"
   ]
  },
  {
   "cell_type": "code",
   "execution_count": null,
   "metadata": {},
   "outputs": [],
   "source": [
    "len(reason_for_visit['Name'].unique())"
   ]
  },
  {
   "cell_type": "code",
   "execution_count": null,
   "metadata": {},
   "outputs": [],
   "source": [
    "meeting_status.head()"
   ]
  },
  {
   "cell_type": "code",
   "execution_count": null,
   "metadata": {},
   "outputs": [],
   "source": [
    "meeting_status.info()"
   ]
  },
  {
   "cell_type": "code",
   "execution_count": null,
   "metadata": {},
   "outputs": [],
   "source": [
    "offices.head()"
   ]
  },
  {
   "cell_type": "code",
   "execution_count": null,
   "metadata": {},
   "outputs": [],
   "source": [
    "offices.info()"
   ]
  },
  {
   "cell_type": "code",
   "execution_count": null,
   "metadata": {},
   "outputs": [],
   "source": [
    "providers_schedules.head()"
   ]
  },
  {
   "cell_type": "code",
   "execution_count": null,
   "metadata": {},
   "outputs": [],
   "source": [
    "providers_schedules.info()"
   ]
  },
  {
   "cell_type": "code",
   "execution_count": null,
   "metadata": {},
   "outputs": [],
   "source": [
    "calls.head().T"
   ]
  },
  {
   "cell_type": "raw",
   "metadata": {},
   "source": [
    "calls df may not be too useful.  Need to consider further."
   ]
  },
  {
   "cell_type": "code",
   "execution_count": null,
   "metadata": {},
   "outputs": [],
   "source": [
    "calls.info()"
   ]
  },
  {
   "cell_type": "markdown",
   "metadata": {},
   "source": [
    "### combine/merge dataframes"
   ]
  },
  {
   "cell_type": "raw",
   "metadata": {},
   "source": [
    "- regroup provider specialty into following categories: doctor, RN/PA, therapist\n",
    "- Fill in id columns in Appointments df: reason for visit id, status id, office id with names/descriptions from the other dataframes"
   ]
  },
  {
   "cell_type": "code",
   "execution_count": null,
   "metadata": {},
   "outputs": [],
   "source": [
    "appointments['Specialty'].unique()"
   ]
  },
  {
   "cell_type": "code",
   "execution_count": null,
   "metadata": {},
   "outputs": [],
   "source": [
    "pd.value_counts(appointments['Specialty'])"
   ]
  },
  {
   "cell_type": "code",
   "execution_count": null,
   "metadata": {
    "collapsed": true
   },
   "outputs": [],
   "source": [
    "doctors = ['Psychiatry', 'Child & Adolescent Psychiatry', ]\n",
    "RN_PAs = ['Medical', 'Psych/Mental Health, Child & Adolescent', 'Psych/Mental Health', 'Physician Assistant']\n",
    "therapists = ['Marriage & Family Therapist', 'Psychologist', 'Specialist/Technologist, Other', 'Clinical' ]"
   ]
  },
  {
   "cell_type": "code",
   "execution_count": null,
   "metadata": {},
   "outputs": [],
   "source": [
    "appointments['Specialty'].loc[appointments['Specialty'].isin(doctors)]= 'doctor'\n",
    "appointments['Specialty'].loc[appointments['Specialty'].isin(RN_PAs)] = 'RN/PA'\n",
    "appointments['Specialty'].loc[appointments['Specialty'].isin(therapists)] = 'therapist'"
   ]
  },
  {
   "cell_type": "code",
   "execution_count": null,
   "metadata": {},
   "outputs": [],
   "source": [
    "pd.value_counts(appointments['Specialty'])"
   ]
  },
  {
   "cell_type": "code",
   "execution_count": null,
   "metadata": {
    "collapsed": true
   },
   "outputs": [],
   "source": [
    "merged1 = pd.merge(left=appointments, right=reason_for_visit, how='left', left_on='MeetingReasonForVisitId',\\\n",
    "                  right_on='Id')"
   ]
  },
  {
   "cell_type": "code",
   "execution_count": null,
   "metadata": {
    "collapsed": true
   },
   "outputs": [],
   "source": [
    "merged1 = merged1.rename(columns={'MeetingReasonForVisitId': 'ReasonForVisitId', 'Name':'ReasonForVisitName', 'Description':'ReasonForVisitDescription'})"
   ]
  },
  {
   "cell_type": "code",
   "execution_count": null,
   "metadata": {},
   "outputs": [],
   "source": [
    "merged1.columns"
   ]
  },
  {
   "cell_type": "code",
   "execution_count": null,
   "metadata": {
    "collapsed": true
   },
   "outputs": [],
   "source": [
    "merged1.drop('Id', axis=1, inplace=True)"
   ]
  },
  {
   "cell_type": "code",
   "execution_count": null,
   "metadata": {},
   "outputs": [],
   "source": [
    "merged1.head().T"
   ]
  },
  {
   "cell_type": "code",
   "execution_count": null,
   "metadata": {
    "collapsed": true
   },
   "outputs": [],
   "source": [
    "# merge in office name from offices df\n",
    "merged1 = pd.merge(left=merged1, right=offices, how='left', left_on='OfficeId', right_on='id')"
   ]
  },
  {
   "cell_type": "code",
   "execution_count": null,
   "metadata": {
    "collapsed": true
   },
   "outputs": [],
   "source": [
    "merged1 = merged1.rename(columns={'Name':'OfficeName', 'id_x':'id'})"
   ]
  },
  {
   "cell_type": "code",
   "execution_count": null,
   "metadata": {
    "collapsed": true
   },
   "outputs": [],
   "source": [
    "merged1.drop('id_y', axis=1, inplace=True)"
   ]
  },
  {
   "cell_type": "code",
   "execution_count": null,
   "metadata": {
    "collapsed": true
   },
   "outputs": [],
   "source": [
    "merged1 = pd.merge(left=merged1, right=meeting_status, how='left', left_on='MeetingStatusId', right_on='Id')"
   ]
  },
  {
   "cell_type": "code",
   "execution_count": null,
   "metadata": {
    "collapsed": true
   },
   "outputs": [],
   "source": [
    "merged1 = merged1.rename(columns={'Name':'MeetingStatusName', 'Description':'MeetingStatusDescription'})"
   ]
  },
  {
   "cell_type": "code",
   "execution_count": null,
   "metadata": {
    "collapsed": true
   },
   "outputs": [],
   "source": [
    "merged1.drop('Id', axis=1, inplace=True)"
   ]
  },
  {
   "cell_type": "code",
   "execution_count": null,
   "metadata": {},
   "outputs": [],
   "source": [
    "merged1.info()"
   ]
  },
  {
   "cell_type": "code",
   "execution_count": null,
   "metadata": {
    "scrolled": true
   },
   "outputs": [],
   "source": [
    "merged1.head().T"
   ]
  },
  {
   "cell_type": "code",
   "execution_count": null,
   "metadata": {},
   "outputs": [],
   "source": [
    "# rearrange column order to group releveant columns together\n",
    "merged1.columns"
   ]
  },
  {
   "cell_type": "code",
   "execution_count": null,
   "metadata": {
    "collapsed": true
   },
   "outputs": [],
   "source": [
    "ordered_columns = ['id', 'Patient', 'PatientAgeMeetingDate', 'PatientGender',\n",
    "       'PatientState', 'PatientCity', 'PatientInsurance', 'Provider',\n",
    "       'Specialty', 'AppointmentDate', 'AppointmentCreated', 'AppointmentDuration', 'ReasonForVisitId', 'ReasonForVisitName',\n",
    "       'ReasonForVisitDescription','MeetingStatusId', 'MeetingStatusName',\n",
    "       'MeetingStatusDescription', 'OfficeId',  'OfficeName', 'CreatedBy']"
   ]
  },
  {
   "cell_type": "code",
   "execution_count": null,
   "metadata": {
    "collapsed": true
   },
   "outputs": [],
   "source": [
    "merged1 = merged1[ordered_columns]"
   ]
  },
  {
   "cell_type": "code",
   "execution_count": null,
   "metadata": {},
   "outputs": [],
   "source": [
    "# id any missing specialties\n",
    "merged1['Specialty'].isnull().sum(), merged1['Specialty'].notnull().sum()"
   ]
  },
  {
   "cell_type": "markdown",
   "metadata": {},
   "source": [
    "### Data Cleaning: \n",
    "#### filling NaN values"
   ]
  },
  {
   "cell_type": "raw",
   "metadata": {},
   "source": [
    "- Is it possible to infer specialty from other column values?  Use ReasonForVisitName"
   ]
  },
  {
   "cell_type": "code",
   "execution_count": null,
   "metadata": {
    "collapsed": true
   },
   "outputs": [],
   "source": [
    "no_specialty = merged1[appointments['Specialty'].isnull()] "
   ]
  },
  {
   "cell_type": "code",
   "execution_count": null,
   "metadata": {
    "collapsed": true
   },
   "outputs": [],
   "source": [
    "no_specialty = no_specialty[['Provider', 'Specialty', 'AppointmentDate', 'AppointmentCreated',\\\n",
    "        'AppointmentDuration', 'ReasonForVisitId', 'ReasonForVisitName',\n",
    "       'ReasonForVisitDescription','MeetingStatusId', 'MeetingStatusName', 'MeetingStatusDescription', \\\n",
    "    'OfficeId',  'OfficeName']]"
   ]
  },
  {
   "cell_type": "code",
   "execution_count": null,
   "metadata": {},
   "outputs": [],
   "source": [
    "no_specialty.head().T"
   ]
  },
  {
   "cell_type": "code",
   "execution_count": null,
   "metadata": {},
   "outputs": [],
   "source": [
    "pd.value_counts(no_specialty['ReasonForVisitName'])"
   ]
  },
  {
   "cell_type": "raw",
   "metadata": {
    "collapsed": true
   },
   "source": [
    "Some specialties are implied by ReasonForVisitName"
   ]
  },
  {
   "cell_type": "code",
   "execution_count": null,
   "metadata": {},
   "outputs": [],
   "source": [
    "implied_therapy = ['Therapy', 'New Patient Therapy', ]\n",
    "implied_doctor = ['Therapy Telepsychiatry','Follow up Telepsychiatry', 'New Patient Therapy Telepsychiatry',\\\n",
    "                  'New Patient MD Adult', 'New Patient MD Adult Telepsychiatry']\n",
    "merged1['Specialty'].loc[merged1['ReasonForVisitName'].isin(implied_therapy)] = 'therapist'\n",
    "merged1['Specialty'].loc[merged1['ReasonForVisitName'].isin(implied_doctor)] = 'doctor'\n"
   ]
  },
  {
   "cell_type": "code",
   "execution_count": null,
   "metadata": {},
   "outputs": [],
   "source": [
    "# most missing values in Specialty are now filled\n",
    "merged1['Specialty'].isnull().sum(), merged1['Specialty'].notnull().sum()"
   ]
  },
  {
   "cell_type": "code",
   "execution_count": null,
   "metadata": {
    "collapsed": true
   },
   "outputs": [],
   "source": [
    "# # remove time component from AppointmentDate and AppointmentCreated columns\n",
    "# merged1['AppointmentCreated'] = merged1['AppointmentCreated'].str.slice(start=0, stop=10)\n",
    "# merged1['AppointmentDate'] = merged1['AppointmentDate'].str.slice(start=0, stop=10)"
   ]
  },
  {
   "cell_type": "code",
   "execution_count": null,
   "metadata": {
    "collapsed": true
   },
   "outputs": [],
   "source": [
    "# pd.value_counts(merged1['PatientState']), pd.value_counts(merged1['PatientCity'])"
   ]
  },
  {
   "cell_type": "code",
   "execution_count": null,
   "metadata": {
    "collapsed": true
   },
   "outputs": [],
   "source": [
    "# pd.value_counts(merged1['PatientGender']), # pd.value_counts(merged1['MeetingStatusName'])"
   ]
  },
  {
   "cell_type": "code",
   "execution_count": null,
   "metadata": {},
   "outputs": [],
   "source": [
    "pd.value_counts(merged1['AppointmentDuration'])"
   ]
  },
  {
   "cell_type": "raw",
   "metadata": {},
   "source": [
    "Need to remove outliers for visit Duration --> QME testing (workers comp) & initial child appointments"
   ]
  },
  {
   "cell_type": "code",
   "execution_count": null,
   "metadata": {},
   "outputs": [],
   "source": [
    "pd.value_counts(merged1[merged1['AppointmentDuration'] > 90]['ReasonForVisitName'])"
   ]
  },
  {
   "cell_type": "code",
   "execution_count": null,
   "metadata": {},
   "outputs": [],
   "source": [
    "# convert date columns to datetime \n",
    "# merged1['AppointmentDate'] = pd.to_datetime(merged1['AppointmentDate'].apply(lambda x: x.date()) #,format='%Y-%m-%d')\n",
    "# merged1['AppointmentDate'] = pd.to_datetime(merged1['AppointmentDate'].apply(lambda x: x.date()) #,format='%Y-%m-%d')"
   ]
  },
  {
   "cell_type": "code",
   "execution_count": null,
   "metadata": {
    "collapsed": true
   },
   "outputs": [],
   "source": [
    "merged1['AppointmentCreated'] = pd.to_datetime(merged1['AppointmentCreated'], errors='coerce')#.apply(lambda x: x.date()) #, format='%Y-%m-%d')\n",
    "merged1['AppointmentDate'] = pd.to_datetime(merged1['AppointmentDate'], errors='coerce')#.apply(lambda x: x.date()) #, format='%Y-%m-%d')"
   ]
  },
  {
   "cell_type": "code",
   "execution_count": null,
   "metadata": {},
   "outputs": [],
   "source": [
    "# calculate time between AppointmentCreated and AppointmentDate\n",
    "merged1['DaysFromAppointmentCreatedToVisit'] = (merged1['AppointmentDate'] - merged1['AppointmentCreated']).dt.days"
   ]
  },
  {
   "cell_type": "code",
   "execution_count": null,
   "metadata": {
    "scrolled": true
   },
   "outputs": [],
   "source": [
    "merged1.info()"
   ]
  },
  {
   "cell_type": "code",
   "execution_count": null,
   "metadata": {},
   "outputs": [],
   "source": [
    "# merged1['Specialty'].isnull()\n",
    "merged1.isnull().sum()"
   ]
  },
  {
   "cell_type": "code",
   "execution_count": null,
   "metadata": {
    "collapsed": true
   },
   "outputs": [],
   "source": [
    "# pd.value_counts(merged1['DaysFromAppointmentCreatedToVisit'])"
   ]
  },
  {
   "cell_type": "code",
   "execution_count": null,
   "metadata": {},
   "outputs": [],
   "source": [
    "merged1[merged1['DaysFromAppointmentCreatedToVisit'] < 0][['DaysFromAppointmentCreatedToVisit', 'AppointmentCreated', 'AppointmentDate']]"
   ]
  },
  {
   "cell_type": "code",
   "execution_count": null,
   "metadata": {
    "collapsed": true
   },
   "outputs": [],
   "source": [
    "# merged1['AppointmentDate'] = pd.to_datetime(merged1['AppointmentDate'])\n",
    "# merged1['AppointmentCreated'] = pd.to_datetime(merged1['AppointmentCreated'])"
   ]
  },
  {
   "cell_type": "code",
   "execution_count": null,
   "metadata": {
    "collapsed": true
   },
   "outputs": [],
   "source": [
    "# merged1.dtypes"
   ]
  },
  {
   "cell_type": "raw",
   "metadata": {},
   "source": [
    "merged1 df:\n",
    "- a few missing values in Patient column, may not be necessary to keep this column given additional info\n",
    "- similarly, a few missing from AppointmentCreated.  May drop these rows\n",
    "- missing ~ 5000 entries under CreatedBy.  May just drop this column also\n",
    "- what is the id column? Possibly unneccessary \n",
    "- Patient Insurance may not be neccessary and many missing values. \n",
    "- missing about 2500 from Specialty.  May be fewer if I end up focusing on one specialty for this project.  Deal with this if it becomes an issue.  May have to drop these unless there is some addition info that can be used instead like OfficeId/Name\n",
    "- What is the provider?  Numerical code translates into???  Is this necessary?  Potential substitue for Specialty?\n",
    "- Missing significant portion of PatientState and PatientCity values.  May be able to us OfficeId/Name to get info on location instead\n",
    "- DaysFromAppointmentCreatedToVisit has some negative values for some reason.  Will need to fix those before proceeding: Either simply change the sign, drop those values, or set them to 0?"
   ]
  },
  {
   "cell_type": "raw",
   "metadata": {},
   "source": [
    "- Choose one specialty to focus on: where we have the most data = Medical\n",
    "- plot number of visits for each reason over time using AppointmentDate"
   ]
  },
  {
   "cell_type": "code",
   "execution_count": null,
   "metadata": {
    "scrolled": false
   },
   "outputs": [],
   "source": [
    "pd.value_counts(merged1['Specialty'])"
   ]
  },
  {
   "cell_type": "code",
   "execution_count": null,
   "metadata": {
    "collapsed": true
   },
   "outputs": [],
   "source": [
    "merged2 = merged1.set_index('AppointmentDate')"
   ]
  },
  {
   "cell_type": "code",
   "execution_count": null,
   "metadata": {
    "collapsed": true
   },
   "outputs": [],
   "source": [
    "merged_index_month = merged2.index.month"
   ]
  },
  {
   "cell_type": "code",
   "execution_count": null,
   "metadata": {
    "collapsed": true
   },
   "outputs": [],
   "source": [
    "merged_index_year = merged2.index.year"
   ]
  },
  {
   "cell_type": "code",
   "execution_count": null,
   "metadata": {},
   "outputs": [],
   "source": [
    "merged2.index.date"
   ]
  },
  {
   "cell_type": "code",
   "execution_count": null,
   "metadata": {},
   "outputs": [],
   "source": [
    "merged2"
   ]
  },
  {
   "cell_type": "code",
   "execution_count": null,
   "metadata": {
    "collapsed": true
   },
   "outputs": [],
   "source": [
    "specialty_counts = merged2.groupby([merged_index_year, merged_index_month, 'Specialty'])['Specialty'].count()"
   ]
  },
  {
   "cell_type": "code",
   "execution_count": null,
   "metadata": {
    "scrolled": true
   },
   "outputs": [],
   "source": [
    "specialty_counts.head()"
   ]
  },
  {
   "cell_type": "code",
   "execution_count": null,
   "metadata": {
    "collapsed": true
   },
   "outputs": [],
   "source": [
    "specialty = merged2[['Specialty']].dropna(axis=0)"
   ]
  },
  {
   "cell_type": "code",
   "execution_count": null,
   "metadata": {},
   "outputs": [],
   "source": [
    "specialty.isnull().sum()"
   ]
  },
  {
   "cell_type": "code",
   "execution_count": null,
   "metadata": {},
   "outputs": [],
   "source": [
    "type(specialty)"
   ]
  },
  {
   "cell_type": "code",
   "execution_count": null,
   "metadata": {
    "collapsed": true
   },
   "outputs": [],
   "source": [
    "a_index_year = specialty.index.year\n",
    "a_index_month = specialty.index.month"
   ]
  },
  {
   "cell_type": "code",
   "execution_count": null,
   "metadata": {},
   "outputs": [],
   "source": [
    "specialty_bfilled = specialty.fillna(method='bfill')"
   ]
  },
  {
   "cell_type": "code",
   "execution_count": null,
   "metadata": {},
   "outputs": [],
   "source": [
    "cols = list(specialty.columns)\n",
    "means = specialty[cols].mean()\n",
    "means.index"
   ]
  },
  {
   "cell_type": "code",
   "execution_count": null,
   "metadata": {},
   "outputs": [],
   "source": [
    "# fill missing values with column mean\n",
    "for idx in means.index:\n",
    "    specialty_df[idx].fillna(means[idx], inplace=True)"
   ]
  },
  {
   "cell_type": "code",
   "execution_count": null,
   "metadata": {},
   "outputs": [],
   "source": [
    "# plot number of appoints by specialty for each month, adding multiple years\n",
    "ax3 = specialty.groupby([a_index_year, a_index_month, 'Specialty'])['Specialty'].count().unstack(\\\n",
    "                            'Specialty').plot(figsize=(8,8),colormap='Dark2', fontsize=12)\n",
    "ax3.set_ylim(0, 2000)\n",
    "ax3.set_xlim(0,28)\n",
    "ax3.set_title('Number of Appointments per Month by Specialty', fontsize=15)\n",
    "ax3.set_xlabel('Date', fontsize=12)\n",
    "ax3.set_ylabel('Number of Appointments', fontsize=12)\n",
    "ax3.legend(loc='center left', bbox_to_anchor=(1.0, 0.5), fontsize=20)\n",
    "plt.show()"
   ]
  },
  {
   "cell_type": "code",
   "execution_count": null,
   "metadata": {},
   "outputs": [],
   "source": [
    "# plot number of appoints by specialty for each month, adding multiple years\n",
    "ax2 = specialty.groupby([a_index_year, a_index_month, 'Specialty'])['Specialty'].count().unstack(\\\n",
    "            'Specialty').plot.area(figsize=(8,8), colormap='Dark2', fontsize=12)\n",
    "                                                    \n",
    "ax2.set_ylim(0, 3000)\n",
    "ax2.set_xlim(0,28)\n",
    "ax2.set_title('Number of Appointments per Month by Specialty', fontsize=15)\n",
    "ax2.set_xlabel('Date', fontsize=12)\n",
    "ax2.set_ylabel('Number of Appointments', fontsize=12)\n",
    "ax2.legend(loc='center left', bbox_to_anchor=(1.0, 0.5), fontsize=12)\n",
    "plt.show()"
   ]
  },
  {
   "cell_type": "code",
   "execution_count": null,
   "metadata": {
    "collapsed": true,
    "scrolled": false
   },
   "outputs": [],
   "source": [
    "# # plot number of appoints by specialty for each month, adding months from multiple years together\n",
    "# ax = merged2.groupby([merged_index_month, 'Specialty'])['Specialty'].count().unstack().plot(figsize=(8,8),\\\n",
    "#                                                     colormap='Dark2')\n",
    "# ax.set_ylim(0, 4000)\n",
    "# ax.set_xlim(0,13)\n",
    "# ax.set_title('Summed Number of Appointments by Month of Year', fontsize=15)\n",
    "# ax.set_xlabel('Month', fontsize=12)\n",
    "# ax.set_ylabel('Number of Appointments', fontsize=12)\n",
    "# ax.legend(loc='center left', bbox_to_anchor=(1.0, 0.5), fontsize=12)\n",
    "# plt.show()"
   ]
  },
  {
   "cell_type": "code",
   "execution_count": null,
   "metadata": {
    "collapsed": true
   },
   "outputs": [],
   "source": [
    "# # plot number of appoints by specialty for each month, adding months from multiple years together\n",
    "# ax1 = merged2.groupby([merged_index_month, 'Specialty'])['Specialty'].count().unstack().plot.area(figsize=(8,8),\\\n",
    "#                                                                                                 colormap='Accent')\n",
    "# ax1.set_ylim(0, 5000)\n",
    "# ax1.set_xlim(1, 12)\n",
    "# ax1.set_title('Summed Number of Appointments by Month of Year', fontsize=18)\n",
    "# ax1.set_xlabel('Month', fontsize=12)\n",
    "# ax1.set_ylabel('Number of Appointments', fontsize=12)\n",
    "# ax1.legend(loc='center left', bbox_to_anchor=(1.0, 0.5), fontsize=12)\n",
    "# plt.show()"
   ]
  },
  {
   "cell_type": "code",
   "execution_count": null,
   "metadata": {
    "collapsed": true
   },
   "outputs": [],
   "source": [
    "# ax = merged2.groupby([merged_index_month, 'Specialty'])['Specialty'].count().unstack().plot(subplots=True,\\\n",
    "#     colormap='Dark2', figsize=(10,8), layout=(3,1), sharex=True, sharey=False, fontsize=10, linewidth=4)\n",
    "# plt.xlabel('Month', fontsize=10)\n",
    "# plt.title('Summed Number of Appointments by Month of Year', fontsize=15)\n",
    "\n",
    "# plt.tight_layout()\n",
    "# plt.show()"
   ]
  },
  {
   "cell_type": "raw",
   "metadata": {
    "collapsed": true
   },
   "source": [
    "Instead of looking at number of appointments, look at number of hours per day per provider/provider specialty"
   ]
  },
  {
   "cell_type": "code",
   "execution_count": null,
   "metadata": {
    "scrolled": false
   },
   "outputs": [],
   "source": [
    "# merged2.head(2).T"
   ]
  },
  {
   "cell_type": "code",
   "execution_count": null,
   "metadata": {
    "collapsed": true
   },
   "outputs": [],
   "source": [
    "merged2['DurationHours'] = merged2['AppointmentDuration'] /60"
   ]
  },
  {
   "cell_type": "code",
   "execution_count": null,
   "metadata": {
    "collapsed": true
   },
   "outputs": [],
   "source": [
    "time_spent_by_month = merged2.groupby([merged_index_year, merged_index_month, 'Specialty'])['DurationHours'].sum()"
   ]
  },
  {
   "cell_type": "code",
   "execution_count": null,
   "metadata": {},
   "outputs": [],
   "source": [
    "time_spent_by_month.head()"
   ]
  },
  {
   "cell_type": "code",
   "execution_count": null,
   "metadata": {},
   "outputs": [],
   "source": [
    "merged2.groupby([merged_index_year, merged_index_month])['DurationHours'].sum().plot(figsize=(10,6))\n",
    "plt.xlabel('Date')\n",
    "plt.ylabel('Time (hours)')\n",
    "plt.title('Sum of time spent for all Specialties together')\n",
    "plt.show()"
   ]
  },
  {
   "cell_type": "code",
   "execution_count": null,
   "metadata": {},
   "outputs": [],
   "source": [
    "ax6 = merged2.groupby([merged_index_year, merged_index_month, 'Specialty'])['DurationHours']\\\n",
    ".sum().unstack().plot(figsize=(10,8),colormap='Dark2', linewidth=3, fontsize=12)\n",
    "                                                    \n",
    "ax6.set_ylim(0, 2000)\n",
    "ax6.set_xlim(0,25)\n",
    "ax6.set_title('Time Spent by Specialty (hours)', fontsize=16)\n",
    "ax6.set_xlabel('Date', fontsize=15)\n",
    "ax6.set_ylabel('Time (minutes)', fontsize=15)\n",
    "ax6.legend(loc='center left', bbox_to_anchor=(1.0, 0.5), fontsize=12)\n",
    "plt.show()"
   ]
  },
  {
   "cell_type": "code",
   "execution_count": null,
   "metadata": {},
   "outputs": [],
   "source": [
    "# Area plot of time spent for each specialty\n",
    "ax7 = merged2.groupby([merged_index_year, merged_index_month, 'Specialty'])['DurationHours']\\\n",
    ".sum().unstack().plot.area(figsize=(10,8), colormap='Dark2', linewidth=3, fontsize=10)\n",
    "                                                   \n",
    "ax7.set_ylim(0, 2500)\n",
    "ax7.set_xlim(0,25)\n",
    "ax7.set_title('Time Spent by Specialty (hours)', fontsize=16)\n",
    "ax7.set_xlabel('Date', fontsize=15)\n",
    "ax7.set_ylabel('Time (minutes)', fontsize=15)\n",
    "ax7.legend(loc='center left', bbox_to_anchor=(1.0, 0.5), fontsize=12)\n",
    "plt.show()"
   ]
  },
  {
   "cell_type": "code",
   "execution_count": null,
   "metadata": {
    "scrolled": true
   },
   "outputs": [],
   "source": [
    "date = merged2.index\n",
    "merged2.groupby([date,'Specialty'])['DurationHours'].sum()"
   ]
  },
  {
   "cell_type": "code",
   "execution_count": null,
   "metadata": {
    "collapsed": true
   },
   "outputs": [],
   "source": [
    "date = pd.to_datetime(merged2.index,format='%Y-%m-%d')"
   ]
  },
  {
   "cell_type": "code",
   "execution_count": null,
   "metadata": {
    "collapsed": true
   },
   "outputs": [],
   "source": [
    "merged2['AppointmentDate'] = date"
   ]
  },
  {
   "cell_type": "code",
   "execution_count": null,
   "metadata": {
    "collapsed": true,
    "scrolled": true
   },
   "outputs": [],
   "source": [
    "# merged2.head().T"
   ]
  },
  {
   "cell_type": "code",
   "execution_count": null,
   "metadata": {
    "collapsed": true
   },
   "outputs": [],
   "source": [
    "type(merged2['AppointmentDate'])"
   ]
  },
  {
   "cell_type": "code",
   "execution_count": null,
   "metadata": {
    "collapsed": true,
    "scrolled": true
   },
   "outputs": [],
   "source": [
    "merged2.groupby(['AppointmentDate', 'Specialty'])['DurationHours'].sum()"
   ]
  },
  {
   "cell_type": "code",
   "execution_count": null,
   "metadata": {
    "scrolled": false
   },
   "outputs": [],
   "source": [
    "# date = pd.to_datetime(merged2.index)\n",
    "ax8 = merged2.groupby(['AppointmentDate', 'Specialty'])['DurationHours'].sum().unstack().\\\n",
    "plot.area(figsize=(8,8), colormap='Dark2', linewidth=3, fontsize=10)\n",
    "                                                    \n",
    "# ax8.set_ylim(0, 32000)\n",
    "# ax8.set_xlim(0,25)\n",
    "ax8.set_title('Time per Month by Specialty (hours)', fontsize=18)\n",
    "ax8.set_xlabel('Date', fontsize=15)\n",
    "ax8.set_ylabel('Time (minutes)', fontsize=15)\n",
    "ax8.legend(loc='center left', bbox_to_anchor=(1.0, 0.5), fontsize=12)\n",
    "plt.show()"
   ]
  },
  {
   "cell_type": "code",
   "execution_count": null,
   "metadata": {
    "scrolled": false
   },
   "outputs": [],
   "source": [
    "params = {'legend.fontsize': 20, 'legend.handlelength': 2, 'axes.labelsize': 'medium'}\n",
    "plt.rcParams.update(params)\n",
    "fig = merged2.groupby(['AppointmentDate', 'Specialty'])['DurationHours'].sum().unstack().plot.area(subplots=True,\\\n",
    "    colormap='Dark2', figsize=(20,50), layout=(10,1), sharex=True, sharey=True, linewidth=3, fontsize=20)\n",
    "plt.xlabel('Date')\n",
    "plt.ylabel('Time (hours)', fontsize=20)\n",
    "plt.tight_layout()\n",
    "plt.show()"
   ]
  },
  {
   "cell_type": "code",
   "execution_count": null,
   "metadata": {
    "collapsed": true
   },
   "outputs": [],
   "source": []
  },
  {
   "cell_type": "code",
   "execution_count": null,
   "metadata": {},
   "outputs": [],
   "source": [
    "merged2.columns"
   ]
  },
  {
   "cell_type": "code",
   "execution_count": null,
   "metadata": {},
   "outputs": [],
   "source": [
    "merged2['AppointmentDate'] = merged2.index"
   ]
  },
  {
   "cell_type": "code",
   "execution_count": null,
   "metadata": {},
   "outputs": [],
   "source": [
    "duration_df = merged2[['Provider', 'Specialty', 'AppointmentCreated', 'AppointmentDate', 'AppointmentDuration',\n",
    "       'ReasonForVisitName', 'DurationHours', 'ReasonForVisitDescription','MeetingStatusName', 'MeetingStatusDescription',\n",
    "       'OfficeId']]"
   ]
  },
  {
   "cell_type": "code",
   "execution_count": null,
   "metadata": {},
   "outputs": [],
   "source": [
    "duration_df.info()"
   ]
  },
  {
   "cell_type": "code",
   "execution_count": null,
   "metadata": {},
   "outputs": [],
   "source": [
    "duration_df.isnull().sum()"
   ]
  },
  {
   "cell_type": "code",
   "execution_count": null,
   "metadata": {
    "collapsed": true
   },
   "outputs": [],
   "source": [
    "# drop appointments that are longer than 90 minutes\n",
    "duration_df = duration_df[duration_df['AppointmentDuration'] <= 90]"
   ]
  },
  {
   "cell_type": "code",
   "execution_count": null,
   "metadata": {
    "collapsed": true
   },
   "outputs": [],
   "source": [
    "# drop remaining columns with missing values\n",
    "duration_df.dropna(axis=0, inplace=True)"
   ]
  },
  {
   "cell_type": "code",
   "execution_count": null,
   "metadata": {
    "collapsed": true
   },
   "outputs": [],
   "source": [
    "# params = {'legend.fontsize': 20, 'legend.handlelength': 2, 'axes.labelsize': 'medium'}\n",
    "# plt.rcParams.update(params)\n",
    "# fig2 = duration_df.groupby(['AppointmentDate', 'Specialty'])['AppointmentDuration'].sum().unstack().plot.area(\\\n",
    "#     colormap='Dark2', figsize=(40,20), linewidth=3, fontsize=20)\n",
    "# plt.xlabel('Date')\n",
    "# plt.ylabel('Time (minutes)', fontsize=20)\n",
    "# plt.tight_layout()\n",
    "# plt.show()"
   ]
  },
  {
   "cell_type": "code",
   "execution_count": null,
   "metadata": {},
   "outputs": [],
   "source": [
    "params = {'legend.fontsize': 20, 'legend.handlelength': 2, 'axes.labelsize': 'medium'}\n",
    "plt.rcParams.update(params)\n",
    "fig2 = duration_df.groupby(['AppointmentDate', 'Specialty'])['DurationHours'].sum().unstack().plot.area(subplots=True,\\\n",
    "    colormap='Dark2', figsize=(20,60), layout=(10,1), sharex=True, sharey=True, linewidth=3, fontsize=20)\n",
    "plt.xlabel('Date')\n",
    "plt.ylabel('Time (minutes)', fontsize=20)\n",
    "plt.tight_layout()\n",
    "plt.show()"
   ]
  },
  {
   "cell_type": "code",
   "execution_count": null,
   "metadata": {
    "collapsed": true
   },
   "outputs": [],
   "source": [
    "doctors = duration_df[duration_df['Specialty'] == 'doctor']\n",
    "therapists = duration_df[duration_df['Specialty'] == 'therapist']\n",
    "RN_PA = duration_df[duration_df['Specialty'] == 'RN/PA']"
   ]
  },
  {
   "cell_type": "code",
   "execution_count": null,
   "metadata": {},
   "outputs": [],
   "source": [
    "doc_fig = doctors.groupby('AppointmentDate')['DurationHours'].sum().plot.area(figsize=(12,10), \\\n",
    "        fontsize=10)                      \n",
    "plt.title('Doctors', fontsize=15)\n",
    "plt.xlabel('Date')\n",
    "plt.ylabel('Time (hours)', fontsize=12)\n",
    "plt.show()"
   ]
  },
  {
   "cell_type": "code",
   "execution_count": null,
   "metadata": {},
   "outputs": [],
   "source": [
    "doc_duration = doctors.groupby(doctors.index.date)['DurationHours'].sum()\n",
    "RN_PA_duration = RN_PA.groupby(RN_PA.index.date)['DurationHours'].sum()\n",
    "therapist_duration = therapists.groupby(therapists.index.date)['DurationHours'].sum()"
   ]
  },
  {
   "cell_type": "code",
   "execution_count": null,
   "metadata": {
    "scrolled": false
   },
   "outputs": [],
   "source": [
    "ax = doc_duration.plot(figsize=(10,6), linewidth = 3, fontsize=10, grid=True)\n",
    "ax.set_title('Doctors Time Spent', fontsize=18)\n",
    "ax.set_xlabel('Date', fontsize=15)\n",
    "ax.set_ylabel('Time (hours)', fontsize=15)\n",
    "plt.show()"
   ]
  },
  {
   "cell_type": "code",
   "execution_count": null,
   "metadata": {},
   "outputs": [],
   "source": [
    "# take first difference\n",
    "params = {'figure.figsize': [16,6],'axes.labelsize': 'medium', 'font.size': 10.0, 'lines.linewidth': 2}\n",
    "plt.rcParams.update(params)\n",
    "plt.plot(doc_duration.diff())\n",
    "plt.show()"
   ]
  },
  {
   "cell_type": "code",
   "execution_count": null,
   "metadata": {},
   "outputs": [],
   "source": [
    "# adjust for seasonal effect by taking 4th difference\n",
    "params = {'figure.figsize': [16,6],'axes.labelsize': 'medium', 'font.size': 10.0, 'lines.linewidth': 2}\n",
    "plt.rcParams.update(params)\n",
    "plt.plot(doc_duration.diff(4))\n",
    "plt.show()"
   ]
  },
  {
   "cell_type": "code",
   "execution_count": null,
   "metadata": {},
   "outputs": [],
   "source": [
    "# downsample from daily to weekly & montly data\n",
    "weekly_doc_dur = doc_duration.resample(rule='W').last() # weekly time spent\n",
    "\n",
    "ax = weekly_doc_dur.plot(figsize=(10,6), linewidth = 3, fontsize=10, grid=True)\n",
    "ax.set_title('Doctors Time Spent Weekly', fontsize=18)\n",
    "ax.set_xlabel('Date', fontsize=15)\n",
    "ax.set_ylabel('Time (hours)', fontsize=15)\n",
    "plt.show()"
   ]
  },
  {
   "cell_type": "code",
   "execution_count": null,
   "metadata": {},
   "outputs": [],
   "source": [
    "# How should resampling be done: last, first, mean????\n",
    "monthly_doc_dur = doc_duration.resample(rule='M').last() # monthly time spent\n",
    "ax = monthly_doc_dur.plot(figsize=(10,6), linewidth = 3, fontsize=10, grid=True)\n",
    "ax.set_title('Doctors Time Spent Monthly', fontsize=18)\n",
    "ax.set_xlabel('Date', fontsize=15)\n",
    "ax.set_ylabel('Time (hours)', fontsize=15)\n",
    "plt.show()"
   ]
  },
  {
   "cell_type": "code",
   "execution_count": null,
   "metadata": {},
   "outputs": [],
   "source": [
    "ax = RN_PA_duration.plot(figsize=(10,6), linewidth = 3, fontsize=10, grid=True)\n",
    "ax.set_title('RN_PA Time Spent', fontsize=18)\n",
    "ax.set_xlabel('Date', fontsize=15)\n",
    "ax.set_ylabel('Time (hours)', fontsize=15)\n",
    "plt.show()"
   ]
  },
  {
   "cell_type": "code",
   "execution_count": null,
   "metadata": {},
   "outputs": [],
   "source": [
    "ax = therapist_duration.plot(figsize=(10,6), linewidth = 3, fontsize=10, grid=True)\n",
    "ax.set_title('Therapists Time Spent', fontsize=18)\n",
    "ax.set_xlabel('Date', fontsize=15)\n",
    "ax.set_ylabel('Time (hours)', fontsize=15)\n",
    "plt.show()"
   ]
  },
  {
   "cell_type": "code",
   "execution_count": null,
   "metadata": {
    "scrolled": false
   },
   "outputs": [],
   "source": [
    "# Plot moving average\n",
    "doc_mean = pd.rolling_mean(doc_duration, window=30)\n",
    "ax = doc_mean.plot(figsize=(10,6), linewidth=2, fontsize=12)\n",
    "ax.set_title('60 day rolling mean of doc duration', fontsize=18)\n",
    "ax.set_xlabel('Date', fontsize=15)\n",
    "plt.show()"
   ]
  },
  {
   "cell_type": "code",
   "execution_count": null,
   "metadata": {},
   "outputs": [],
   "source": [
    "plt.rcParams[\"figure.figsize\"] = [8,8]\n",
    "doc_acf = tsaplots.plot_acf(doc_duration, lags=31, alpha=0.05)\n",
    "plt.title('Doctors Autocorrelation', fontsize=20)\n",
    "plt.show()"
   ]
  },
  {
   "cell_type": "code",
   "execution_count": null,
   "metadata": {},
   "outputs": [],
   "source": [
    "plt.rcParams[\"figure.figsize\"] = [8,8]\n",
    "doc_pacf = tsaplots.plot_pacf(doc_duration, lags=31, alpha=0.05)\n",
    "plt.title('Doctors Partial Autocorrelation', fontsize=10)\n",
    "plt.show()"
   ]
  },
  {
   "cell_type": "code",
   "execution_count": null,
   "metadata": {},
   "outputs": [],
   "source": [
    "d_ts_index = pd.to_datetime(doc_duration.index)\n",
    "RN_ts_index = pd.to_datetime(RN_PA_duration.index)\n",
    "t_ts_index = pd.to_datetime(therapist_duration.index)"
   ]
  },
  {
   "cell_type": "code",
   "execution_count": null,
   "metadata": {
    "collapsed": true
   },
   "outputs": [],
   "source": [
    "doc_duration.index = d_ts_index\n",
    "RN_PA_duration.index = RN_ts_index\n",
    "therapist_duration.index = t_ts_index"
   ]
  },
  {
   "cell_type": "code",
   "execution_count": null,
   "metadata": {},
   "outputs": [],
   "source": [
    "params = {'figure.figsize': [20.0, 20.0],'axes.labelsize': 'large', 'font.size': 20.0, 'lines.linewidth': 3}\n",
    "plt.rcParams.update(params)\n",
    "doc_decomp = sm.tsa.seasonal_decompose(doc_duration, freq=30)\n",
    "fig = doc_decomp.plot()\n",
    "plt.title('Doctors')\n",
    "plt.show()"
   ]
  },
  {
   "cell_type": "code",
   "execution_count": null,
   "metadata": {},
   "outputs": [],
   "source": [
    "params = {'figure.figsize': [20.0, 20.0],'axes.labelsize': 'large', 'font.size': 20.0, 'lines.linewidth': 3}\n",
    "plt.rcParams.update(params)\n",
    "RN_PA_decomp = sm.tsa.seasonal_decompose(RN_PA_duration, freq=30)\n",
    "fig = RN_PA_decomp.plot()\n",
    "plt.title('RN_PA')\n",
    "plt.show()"
   ]
  },
  {
   "cell_type": "code",
   "execution_count": null,
   "metadata": {},
   "outputs": [],
   "source": [
    "params = {'figure.figsize': [20.0, 20.0],'axes.labelsize': 'large', 'font.size': 20.0, 'lines.linewidth': 3}\n",
    "plt.rcParams.update(params)\n",
    "therapist_decomp = sm.tsa.seasonal_decompose(therapist_duration, freq=30)\n",
    "fig = therapist_decomp.plot()\n",
    "plt.title('Therapists')\n",
    "plt.show()"
   ]
  },
  {
   "cell_type": "code",
   "execution_count": null,
   "metadata": {},
   "outputs": [],
   "source": [
    "plt.rcParams.keys()"
   ]
  },
  {
   "cell_type": "code",
   "execution_count": null,
   "metadata": {
    "collapsed": true
   },
   "outputs": [],
   "source": [
    "# index_year = df.index.year\n",
    "# df_by_year = df.groupby(index_year).mean()"
   ]
  },
  {
   "cell_type": "raw",
   "metadata": {},
   "source": [
    "possibly:\n",
    "-compute percent change?\n",
    "-compute and scatter plot correlation  and correlation of percentage change w/ the 3 series\n"
   ]
  },
  {
   "cell_type": "code",
   "execution_count": null,
   "metadata": {
    "collapsed": true
   },
   "outputs": [],
   "source": []
  },
  {
   "cell_type": "code",
   "execution_count": null,
   "metadata": {
    "collapsed": true
   },
   "outputs": [],
   "source": []
  },
  {
   "cell_type": "code",
   "execution_count": null,
   "metadata": {
    "collapsed": true
   },
   "outputs": [],
   "source": []
  },
  {
   "cell_type": "code",
   "execution_count": null,
   "metadata": {
    "collapsed": true
   },
   "outputs": [],
   "source": []
  },
  {
   "cell_type": "code",
   "execution_count": null,
   "metadata": {
    "collapsed": true
   },
   "outputs": [],
   "source": []
  },
  {
   "cell_type": "code",
   "execution_count": null,
   "metadata": {
    "collapsed": true
   },
   "outputs": [],
   "source": []
  },
  {
   "cell_type": "code",
   "execution_count": null,
   "metadata": {
    "collapsed": true
   },
   "outputs": [],
   "source": []
  }
 ],
 "metadata": {
  "kernelspec": {
   "display_name": "Python 3",
   "language": "python",
   "name": "python3"
  },
  "language_info": {
   "codemirror_mode": {
    "name": "ipython",
    "version": 3
   },
   "file_extension": ".py",
   "mimetype": "text/x-python",
   "name": "python",
   "nbconvert_exporter": "python",
   "pygments_lexer": "ipython3",
   "version": "3.6.3"
  }
 },
 "nbformat": 4,
 "nbformat_minor": 2
}
