{
 "cells": [
  {
   "cell_type": "code",
   "execution_count": 300,
   "metadata": {},
   "outputs": [],
   "source": [
    "import sys\n",
    "import numpy as np\n",
    "import pandas as pd\n",
    "from sklearn.metrics import mean_squared_error\n",
    "from fbprophet import Prophet"
   ]
  },
  {
   "cell_type": "code",
   "execution_count": 301,
   "metadata": {},
   "outputs": [],
   "source": [
    "def index_to_datetime(series):\n",
    "    \"\"\"Converts pandas dataframe or series index to datetime\"\"\"\n",
    "    series.index = pd.to_datetime(series.index, errors='coerce')\n",
    "\n",
    "# import data from csv files for a specific provider cateogry\n",
    "def get_cleaned_provider_data(csv_file, category_name):\n",
    "    appointment_df = pd.read_csv(csv_file, index_col=0)\n",
    "    # convert index to datetime if necessary\n",
    "    if type(appointment_df.index) != True:\n",
    "        index_to_datetime(appointment_df)\n",
    "    # group by specialty\n",
    "    provider = appointment_df[appointment_df['Specialty'] == category_name]\n",
    "    # convert appointment duration into hours\n",
    "    provider['Hours'] = provider['AppointmentDuration'] / 60.0\n",
    "    # return provider series\n",
    "    return provider"
   ]
  },
  {
   "cell_type": "code",
   "execution_count": 302,
   "metadata": {},
   "outputs": [],
   "source": [
    "def get_provider_weekly_hours(provider):\n",
    "    provider_hours = provider.copy()\n",
    "    provider_hours = provider.groupby(provider.index.date)['Hours'].sum()\n",
    "    index_to_datetime(provider)\n",
    "    provider = provider.resample('W-MON').sum()\n",
    "    provider_hours = provider[1:]\n",
    "    provider_hours = provider_hours['Hours']\n",
    "    return provider_hours"
   ]
  },
  {
   "cell_type": "code",
   "execution_count": 303,
   "metadata": {},
   "outputs": [],
   "source": [
    "def get_number_unique_providers(provider):\n",
    "    num_provider = provider.copy()\n",
    "    num_provider = provider['Provider'].resample('W-MON', lambda x: x.nunique())\n",
    "    # set index to to_datetime\n",
    "    index_to_datetime(num_provider)\n",
    "    # drop incomplete first column\n",
    "    num_provider = num_provider[1:]\n",
    "    return num_provider\n"
   ]
  },
  {
   "cell_type": "code",
   "execution_count": 304,
   "metadata": {},
   "outputs": [],
   "source": [
    "def merge_hours_and_providers(hours, num_providers):\n",
    "    hours = hours.to_frame()\n",
    "    num_providers = num_providers.to_frame()\n",
    "    df = pd.merge(left=num_providers, right=hours, how='inner', left_index=True, right_index=True)\n",
    "    return df\n"
   ]
  },
  {
   "cell_type": "code",
   "execution_count": 305,
   "metadata": {},
   "outputs": [],
   "source": [
    "def get_hours_per_provider(df):\n",
    "    df.columns = ['Number_Providers', 'Hours']\n",
    "    df['Hours_per_Provider'] = df['Hours'] / df['Number_Providers']\n",
    "    mean_hours_provider = df['Hours_per_Provider'].mean()\n",
    "    return df, mean_hours_provider"
   ]
  },
  {
   "cell_type": "code",
   "execution_count": 306,
   "metadata": {},
   "outputs": [],
   "source": [
    "def get_holidays():\n",
    "    # make dataframe for each holiday\n",
    "    christmas_dates = ['2015-12-25', '2016-12-25', '2017-12-25']\n",
    "    new_year_dates = ['2016-01-01', '2017-01-01', '2018-01-01']\n",
    "    thanksgiving_dates = ['2015-11-26', '2016-11-24', '2017-11-23']\n",
    "    thanksgiving = pd.DataFrame({'holiday':'Thanksgiving', 'ds': pd.to_datetime(thanksgiving_dates)})\n",
    "    christmas = pd.DataFrame({'holiday':'Christams', 'ds': pd.to_datetime(christmas_dates)})\n",
    "    new_years = pd.DataFrame({'holiday':'New Years', 'ds': pd.to_datetime(new_year_dates)})\n",
    "    # combine into single holidays DataFrame\n",
    "    holidays = pd.concat([christmas, thanksgiving, new_years])\n",
    "    return holidays"
   ]
  },
  {
   "cell_type": "code",
   "execution_count": 307,
   "metadata": {},
   "outputs": [],
   "source": [
    "# def get_prophet_forecast_w_holidays(df, date_hours_cols,\\\n",
    "#         pred_cols, periods, holidays, mean_hours_provider):\n",
    "#     \"\"\"\n",
    "#     Inputs:\n",
    "#         df: dataframe containing timeseries and weekly hours\n",
    "#         date_hours_cols: (list) names for columns containing the date and weekly hours data\n",
    "#         pred_cols: (list) name of columns containing estimated hours, upper and lower limits\n",
    "#         of estimates\n",
    "#         periods: (int) number of periods to forecast.\n",
    "#         holidays: (dataframe) of holidays with holiday names, dates (datetime\n",
    "#             format, upper and lower windows (ints, optional))\n",
    "#     Outputs:\n",
    "#         Prophet model\n",
    "#         forecast\n",
    "#         df with original data plus predictions and upper/lower predictions\n",
    "#     \"\"\"\n",
    "#     df['date'] = df.index\n",
    "#     df = df[date_hours_cols]\n",
    "#     df.columns = ['ds', 'y']\n",
    "#     model = Prophet(holidays=holidays)\n",
    "#     model.fit(df)\n",
    "#     future = model.make_future_dataframe(periods=periods)\n",
    "#     forecast = model.predict(future)\n",
    "#     forecast.index = forecast['ds']\n",
    "#     df_pred = pd.concat([df, forecast[pred_cols]], axis=1)\n",
    "#     # make num providers column\n",
    "#     df_pred['Predicted_num_Providers'] = round(df_pred['yhat'] / mean_hours_provider, 1)\n",
    "#     # predictions = forecast.iloc[-periods:]\n",
    "#     # get_prophet_training_mse(df_pred, df_name, periods)\n",
    "#     # get_prophet_test_mse(df_pred, df_name, periods)\n",
    "#     return model, forecast, df_pred"
   ]
  },
  {
   "cell_type": "code",
   "execution_count": 308,
   "metadata": {},
   "outputs": [],
   "source": [
    "# def prophet_forecast_to_csv(df_pred, file_name):\n",
    "#     \"\"\"Save prophet predictions in dataframe format to csv file\"\"\"\n",
    "# #     prediction_df.columns = ['Date', 'True_Hours', 'Predicted_Hours', 'Lower_Limit',\\\n",
    "# #      'Upper_Limit', 'Predicted_num_Providers']\n",
    "#     prediction_df.to_csv('{}_predictions.csv'.format(file_name))"
   ]
  },
  {
   "cell_type": "code",
   "execution_count": 309,
   "metadata": {},
   "outputs": [],
   "source": [
    "infile = './data/appointments_through_04-2018.csv'\n",
    "df_cols = ['Number_Providers', 'Hours', 'Hours_per_Provider']\n",
    "date_hours_cols = ['date', 'Hours']\n",
    "periods = 90\n",
    "pred_cols = ['yhat', 'yhat_lower', 'yhat_upper']\n",
    "outfile = '.data/dr_test_prophet_forecast.csv'\n"
   ]
  },
  {
   "cell_type": "code",
   "execution_count": 310,
   "metadata": {},
   "outputs": [
    {
     "name": "stderr",
     "output_type": "stream",
     "text": [
      "/home/nicole/anaconda3/lib/python3.6/site-packages/ipykernel_launcher.py:14: SettingWithCopyWarning: \n",
      "A value is trying to be set on a copy of a slice from a DataFrame.\n",
      "Try using .loc[row_indexer,col_indexer] = value instead\n",
      "\n",
      "See the caveats in the documentation: http://pandas.pydata.org/pandas-docs/stable/indexing.html#indexing-view-versus-copy\n",
      "  \n"
     ]
    }
   ],
   "source": [
    "provider = get_cleaned_provider_data(csv_file=infile, category_name='doctor')"
   ]
  },
  {
   "cell_type": "code",
   "execution_count": 311,
   "metadata": {},
   "outputs": [],
   "source": [
    "provider_hours = get_provider_weekly_hours(provider)"
   ]
  },
  {
   "cell_type": "code",
   "execution_count": 312,
   "metadata": {},
   "outputs": [],
   "source": [
    "# provider_hours"
   ]
  },
  {
   "cell_type": "code",
   "execution_count": 313,
   "metadata": {},
   "outputs": [
    {
     "name": "stderr",
     "output_type": "stream",
     "text": [
      "/home/nicole/anaconda3/lib/python3.6/site-packages/ipykernel_launcher.py:3: FutureWarning: how in .resample() is deprecated\n",
      "the new syntax is .resample(...)..apply(<func>)\n",
      "  This is separate from the ipykernel package so we can avoid doing imports until\n"
     ]
    }
   ],
   "source": [
    "num_provider = get_number_unique_providers(provider)"
   ]
  },
  {
   "cell_type": "code",
   "execution_count": 314,
   "metadata": {},
   "outputs": [
    {
     "data": {
      "text/plain": [
       "AppointmentDate\n",
       "2015-01-19    2.0\n",
       "2015-01-26    2.0\n",
       "2015-02-02    2.0\n",
       "2015-02-09    3.0\n",
       "2015-02-16    3.0\n",
       "Freq: W-MON, Name: Provider, dtype: float64"
      ]
     },
     "execution_count": 314,
     "metadata": {},
     "output_type": "execute_result"
    }
   ],
   "source": [
    "num_provider.head()"
   ]
  },
  {
   "cell_type": "code",
   "execution_count": 315,
   "metadata": {},
   "outputs": [],
   "source": [
    "providers = merge_hours_and_providers(provider_hours, num_provider)"
   ]
  },
  {
   "cell_type": "code",
   "execution_count": 316,
   "metadata": {
    "scrolled": false
   },
   "outputs": [
    {
     "data": {
      "text/html": [
       "<div>\n",
       "<style scoped>\n",
       "    .dataframe tbody tr th:only-of-type {\n",
       "        vertical-align: middle;\n",
       "    }\n",
       "\n",
       "    .dataframe tbody tr th {\n",
       "        vertical-align: top;\n",
       "    }\n",
       "\n",
       "    .dataframe thead th {\n",
       "        text-align: right;\n",
       "    }\n",
       "</style>\n",
       "<table border=\"1\" class=\"dataframe\">\n",
       "  <thead>\n",
       "    <tr style=\"text-align: right;\">\n",
       "      <th></th>\n",
       "      <th>Provider</th>\n",
       "      <th>Hours</th>\n",
       "    </tr>\n",
       "    <tr>\n",
       "      <th>AppointmentDate</th>\n",
       "      <th></th>\n",
       "      <th></th>\n",
       "    </tr>\n",
       "  </thead>\n",
       "  <tbody>\n",
       "    <tr>\n",
       "      <th>2015-01-19</th>\n",
       "      <td>2.0</td>\n",
       "      <td>60.5</td>\n",
       "    </tr>\n",
       "    <tr>\n",
       "      <th>2015-01-26</th>\n",
       "      <td>2.0</td>\n",
       "      <td>59.0</td>\n",
       "    </tr>\n",
       "    <tr>\n",
       "      <th>2015-02-02</th>\n",
       "      <td>2.0</td>\n",
       "      <td>52.5</td>\n",
       "    </tr>\n",
       "    <tr>\n",
       "      <th>2015-02-09</th>\n",
       "      <td>3.0</td>\n",
       "      <td>73.5</td>\n",
       "    </tr>\n",
       "    <tr>\n",
       "      <th>2015-02-16</th>\n",
       "      <td>3.0</td>\n",
       "      <td>74.0</td>\n",
       "    </tr>\n",
       "  </tbody>\n",
       "</table>\n",
       "</div>"
      ],
      "text/plain": [
       "                 Provider  Hours\n",
       "AppointmentDate                 \n",
       "2015-01-19            2.0   60.5\n",
       "2015-01-26            2.0   59.0\n",
       "2015-02-02            2.0   52.5\n",
       "2015-02-09            3.0   73.5\n",
       "2015-02-16            3.0   74.0"
      ]
     },
     "execution_count": 316,
     "metadata": {},
     "output_type": "execute_result"
    }
   ],
   "source": [
    "providers.head()"
   ]
  },
  {
   "cell_type": "code",
   "execution_count": 317,
   "metadata": {},
   "outputs": [],
   "source": [
    "provider_df, avg_provider_hours = get_hours_per_provider(providers)"
   ]
  },
  {
   "cell_type": "code",
   "execution_count": 318,
   "metadata": {
    "scrolled": false
   },
   "outputs": [
    {
     "data": {
      "text/plain": [
       "Index(['Number_Providers', 'Hours', 'Hours_per_Provider'], dtype='object')"
      ]
     },
     "execution_count": 318,
     "metadata": {},
     "output_type": "execute_result"
    }
   ],
   "source": [
    "provider_df.columns"
   ]
  },
  {
   "cell_type": "code",
   "execution_count": 319,
   "metadata": {},
   "outputs": [],
   "source": [
    "holidays = get_holidays()"
   ]
  },
  {
   "cell_type": "code",
   "execution_count": 321,
   "metadata": {},
   "outputs": [],
   "source": [
    "def get_prophet_forecast_w_holidays(df, date_hours_cols,\\\n",
    "        pred_cols, periods, holidays, mean_hours_provider):\n",
    "    \"\"\"\n",
    "    Inputs:\n",
    "        df: dataframe containing timeseries and weekly hours\n",
    "        date_hours_cols: (list) names for columns containing the date and weekly hours data\n",
    "        pred_cols: (list) name of columns containing estimated hours, upper and lower limits\n",
    "        of estimates\n",
    "        periods: (int) number of periods to forecast.\n",
    "        holidays: (dataframe) of holidays with holiday names, dates (datetime\n",
    "            format, upper and lower windows (ints, optional))\n",
    "    Outputs:\n",
    "        Prophet model\n",
    "        forecast\n",
    "        df with original data plus predictions and upper/lower predictions\n",
    "    \"\"\"\n",
    "#     df.columns = df_cols\n",
    "#     df = df[date_hours_cols]\n",
    "#     print(df)\n",
    "    df['ds'] = df.index\n",
    "    df['y'] = df['Hours']\n",
    "#     print(df)\n",
    "#     df = df['Number_Providers', 'Hours', 'Hours_per_Provider', 'date']\n",
    "    df = df[['ds', 'y']]\n",
    "#     print(df)\n",
    "    model = Prophet(holidays=holidays)\n",
    "    model.fit(df)\n",
    "    future = model.make_future_dataframe(periods=periods)\n",
    "    forecast = model.predict(future)\n",
    "    forecast.index = forecast['ds']\n",
    "    df_pred = pd.concat([df, forecast[pred_cols]], axis=1)\n",
    "    # make num providers column\n",
    "    df_pred['Predicted_num_Providers'] = round(df_pred['yhat'] / mean_hours_provider, 1)\n",
    "    predictions = forecast.iloc[-periods:]\n",
    "    # get_prophet_training_mse(df_pred, df_name, periods)\n",
    "    # get_prophet_test_mse(df_pred, df_name, periods)\n",
    "    return model, forecast, df_pred"
   ]
  },
  {
   "cell_type": "code",
   "execution_count": 322,
   "metadata": {},
   "outputs": [],
   "source": [
    "model, forecast, df_pred = get_prophet_forecast_w_holidays(df = provider_df, date_hours_cols=date_hours_cols,\\\n",
    "        pred_cols=pred_cols, periods=periods, holidays=holidays, mean_hours_provider= avg_provider_hours)"
   ]
  },
  {
   "cell_type": "code",
   "execution_count": 323,
   "metadata": {},
   "outputs": [],
   "source": [
    "def run_prophet_forecast(csv_file, category_name, date_hours_cols,\\\n",
    "        pred_cols, periods):\n",
    "    # import provider data\n",
    "    provider = get_cleaned_provider_data(csv_file, category_name)\n",
    "    # get weekly hours data\n",
    "    provider_hours = get_provider_weekly_hours(provider)\n",
    "    # get number of providers data\n",
    "    num_provider = get_number_unique_providers(provider)\n",
    "    # merge provider dataframes\n",
    "    providers = merge_hours_and_providers(provider_hours, num_provider)\n",
    "    # get hours per provider\n",
    "    provider_df, avg_provider_hours = get_hours_per_provider(providers)\n",
    "    holidays = get_holidays()\n",
    "#     get prophet model, forecast, predictions dataframe\n",
    "    model, forecast, df_pred = get_prophet_forecast_w_holidays(df = provider_df, date_hours_cols=date_hours_cols,\\\n",
    "        pred_cols=pred_cols, periods=periods, holidays=holidays, mean_hours_provider= avg_provider_hours)\n",
    "    return model, forecast, df_pred\n",
    "#     prophet_forecast_to_csv(df_pred, outfile)"
   ]
  },
  {
   "cell_type": "code",
   "execution_count": 324,
   "metadata": {},
   "outputs": [
    {
     "name": "stderr",
     "output_type": "stream",
     "text": [
      "/home/nicole/anaconda3/lib/python3.6/site-packages/ipykernel_launcher.py:3: FutureWarning: how in .resample() is deprecated\n",
      "the new syntax is .resample(...)..apply(<func>)\n",
      "  This is separate from the ipykernel package so we can avoid doing imports until\n"
     ]
    },
    {
     "ename": "ValueError",
     "evalue": "Dataframe has less than 2 non-NaN rows.",
     "output_type": "error",
     "traceback": [
      "\u001b[0;31m---------------------------------------------------------------------------\u001b[0m",
      "\u001b[0;31mValueError\u001b[0m                                Traceback (most recent call last)",
      "\u001b[0;32m<ipython-input-324-47046dc53efb>\u001b[0m in \u001b[0;36m<module>\u001b[0;34m()\u001b[0m\n\u001b[0;32m----> 1\u001b[0;31m \u001b[0mmodel\u001b[0m\u001b[0;34m,\u001b[0m \u001b[0mforecast\u001b[0m\u001b[0;34m,\u001b[0m \u001b[0mdf_pred\u001b[0m \u001b[0;34m=\u001b[0m \u001b[0mrun_prophet_forecast\u001b[0m\u001b[0;34m(\u001b[0m\u001b[0mcsv_file\u001b[0m\u001b[0;34m=\u001b[0m\u001b[0minfile\u001b[0m\u001b[0;34m,\u001b[0m \u001b[0mcategory_name\u001b[0m\u001b[0;34m=\u001b[0m\u001b[0;34m'doctors'\u001b[0m\u001b[0;34m,\u001b[0m \u001b[0mdate_hours_cols\u001b[0m\u001b[0;34m=\u001b[0m\u001b[0mdate_hours_cols\u001b[0m\u001b[0;34m,\u001b[0m            \u001b[0mpred_cols\u001b[0m\u001b[0;34m=\u001b[0m\u001b[0mpred_cols\u001b[0m\u001b[0;34m,\u001b[0m \u001b[0mperiods\u001b[0m\u001b[0;34m=\u001b[0m\u001b[0;36m90\u001b[0m\u001b[0;34m)\u001b[0m\u001b[0;34m\u001b[0m\u001b[0m\n\u001b[0m",
      "\u001b[0;32m<ipython-input-323-e3146fce4434>\u001b[0m in \u001b[0;36mrun_prophet_forecast\u001b[0;34m(csv_file, category_name, date_hours_cols, pred_cols, periods)\u001b[0m\n\u001b[1;32m     12\u001b[0m     \u001b[0mholidays\u001b[0m \u001b[0;34m=\u001b[0m \u001b[0mget_holidays\u001b[0m\u001b[0;34m(\u001b[0m\u001b[0;34m)\u001b[0m\u001b[0;34m\u001b[0m\u001b[0m\n\u001b[1;32m     13\u001b[0m \u001b[0;31m#     get prophet model, forecast, predictions dataframe\u001b[0m\u001b[0;34m\u001b[0m\u001b[0;34m\u001b[0m\u001b[0m\n\u001b[0;32m---> 14\u001b[0;31m     \u001b[0mmodel\u001b[0m\u001b[0;34m,\u001b[0m \u001b[0mforecast\u001b[0m\u001b[0;34m,\u001b[0m \u001b[0mdf_pred\u001b[0m \u001b[0;34m=\u001b[0m \u001b[0mget_prophet_forecast_w_holidays\u001b[0m\u001b[0;34m(\u001b[0m\u001b[0mprovider_df\u001b[0m\u001b[0;34m,\u001b[0m        \u001b[0mdate_hours_cols\u001b[0m\u001b[0;34m,\u001b[0m \u001b[0mpred_cols\u001b[0m\u001b[0;34m,\u001b[0m \u001b[0mperiods\u001b[0m\u001b[0;34m,\u001b[0m \u001b[0mholidays\u001b[0m\u001b[0;34m,\u001b[0m \u001b[0mavg_provider_hours\u001b[0m\u001b[0;34m)\u001b[0m\u001b[0;34m\u001b[0m\u001b[0m\n\u001b[0m\u001b[1;32m     15\u001b[0m     \u001b[0;32mreturn\u001b[0m \u001b[0mmodel\u001b[0m\u001b[0;34m,\u001b[0m \u001b[0mforecast\u001b[0m\u001b[0;34m,\u001b[0m \u001b[0mdf_pred\u001b[0m\u001b[0;34m\u001b[0m\u001b[0m\n\u001b[1;32m     16\u001b[0m \u001b[0;31m#     prophet_forecast_to_csv(df_pred, outfile)\u001b[0m\u001b[0;34m\u001b[0m\u001b[0;34m\u001b[0m\u001b[0m\n",
      "\u001b[0;32m<ipython-input-321-bbda90c05227>\u001b[0m in \u001b[0;36mget_prophet_forecast_w_holidays\u001b[0;34m(df, date_hours_cols, pred_cols, periods, holidays, mean_hours_provider)\u001b[0m\n\u001b[1;32m     24\u001b[0m \u001b[0;31m#     print(df)\u001b[0m\u001b[0;34m\u001b[0m\u001b[0;34m\u001b[0m\u001b[0m\n\u001b[1;32m     25\u001b[0m     \u001b[0mmodel\u001b[0m \u001b[0;34m=\u001b[0m \u001b[0mProphet\u001b[0m\u001b[0;34m(\u001b[0m\u001b[0mholidays\u001b[0m\u001b[0;34m=\u001b[0m\u001b[0mholidays\u001b[0m\u001b[0;34m)\u001b[0m\u001b[0;34m\u001b[0m\u001b[0m\n\u001b[0;32m---> 26\u001b[0;31m     \u001b[0mmodel\u001b[0m\u001b[0;34m.\u001b[0m\u001b[0mfit\u001b[0m\u001b[0;34m(\u001b[0m\u001b[0mdf\u001b[0m\u001b[0;34m)\u001b[0m\u001b[0;34m\u001b[0m\u001b[0m\n\u001b[0m\u001b[1;32m     27\u001b[0m     \u001b[0mfuture\u001b[0m \u001b[0;34m=\u001b[0m \u001b[0mmodel\u001b[0m\u001b[0;34m.\u001b[0m\u001b[0mmake_future_dataframe\u001b[0m\u001b[0;34m(\u001b[0m\u001b[0mperiods\u001b[0m\u001b[0;34m=\u001b[0m\u001b[0mperiods\u001b[0m\u001b[0;34m)\u001b[0m\u001b[0;34m\u001b[0m\u001b[0m\n\u001b[1;32m     28\u001b[0m     \u001b[0mforecast\u001b[0m \u001b[0;34m=\u001b[0m \u001b[0mmodel\u001b[0m\u001b[0;34m.\u001b[0m\u001b[0mpredict\u001b[0m\u001b[0;34m(\u001b[0m\u001b[0mfuture\u001b[0m\u001b[0;34m)\u001b[0m\u001b[0;34m\u001b[0m\u001b[0m\n",
      "\u001b[0;32m~/anaconda3/lib/python3.6/site-packages/fbprophet/forecaster.py\u001b[0m in \u001b[0;36mfit\u001b[0;34m(self, df, **kwargs)\u001b[0m\n\u001b[1;32m    773\u001b[0m         \u001b[0mhistory\u001b[0m \u001b[0;34m=\u001b[0m \u001b[0mdf\u001b[0m\u001b[0;34m[\u001b[0m\u001b[0mdf\u001b[0m\u001b[0;34m[\u001b[0m\u001b[0;34m'y'\u001b[0m\u001b[0;34m]\u001b[0m\u001b[0;34m.\u001b[0m\u001b[0mnotnull\u001b[0m\u001b[0;34m(\u001b[0m\u001b[0;34m)\u001b[0m\u001b[0;34m]\u001b[0m\u001b[0;34m.\u001b[0m\u001b[0mcopy\u001b[0m\u001b[0;34m(\u001b[0m\u001b[0;34m)\u001b[0m\u001b[0;34m\u001b[0m\u001b[0m\n\u001b[1;32m    774\u001b[0m         \u001b[0;32mif\u001b[0m \u001b[0mhistory\u001b[0m\u001b[0;34m.\u001b[0m\u001b[0mshape\u001b[0m\u001b[0;34m[\u001b[0m\u001b[0;36m0\u001b[0m\u001b[0;34m]\u001b[0m \u001b[0;34m<\u001b[0m \u001b[0;36m2\u001b[0m\u001b[0;34m:\u001b[0m\u001b[0;34m\u001b[0m\u001b[0m\n\u001b[0;32m--> 775\u001b[0;31m             \u001b[0;32mraise\u001b[0m \u001b[0mValueError\u001b[0m\u001b[0;34m(\u001b[0m\u001b[0;34m'Dataframe has less than 2 non-NaN rows.'\u001b[0m\u001b[0;34m)\u001b[0m\u001b[0;34m\u001b[0m\u001b[0m\n\u001b[0m\u001b[1;32m    776\u001b[0m         \u001b[0mself\u001b[0m\u001b[0;34m.\u001b[0m\u001b[0mhistory_dates\u001b[0m \u001b[0;34m=\u001b[0m \u001b[0mpd\u001b[0m\u001b[0;34m.\u001b[0m\u001b[0mto_datetime\u001b[0m\u001b[0;34m(\u001b[0m\u001b[0mdf\u001b[0m\u001b[0;34m[\u001b[0m\u001b[0;34m'ds'\u001b[0m\u001b[0;34m]\u001b[0m\u001b[0;34m)\u001b[0m\u001b[0;34m.\u001b[0m\u001b[0msort_values\u001b[0m\u001b[0;34m(\u001b[0m\u001b[0;34m)\u001b[0m\u001b[0;34m\u001b[0m\u001b[0m\n\u001b[1;32m    777\u001b[0m \u001b[0;34m\u001b[0m\u001b[0m\n",
      "\u001b[0;31mValueError\u001b[0m: Dataframe has less than 2 non-NaN rows."
     ]
    }
   ],
   "source": [
    "model, forecast, df_pred = run_prophet_forecast(csv_file=infile, category_name='doctors', date_hours_cols=date_hours_cols,\\\n",
    "            pred_cols=pred_cols, periods=90)"
   ]
  },
  {
   "cell_type": "code",
   "execution_count": 223,
   "metadata": {},
   "outputs": [],
   "source": [
    "# model, forecast, predictions, df_pred = get_prophet_forecast_holidays_date_index(provider_df, date_col, hours_col, pred_cols, periods, holidays)"
   ]
  },
  {
   "cell_type": "code",
   "execution_count": 261,
   "metadata": {},
   "outputs": [],
   "source": [
    "# def get_prophet_forecast_w_holidays(df, date_hours_cols,\\\n",
    "#         pred_cols, periods, holidays, mean_hours_provider):\n",
    "#     \"\"\"\n",
    "#     Inputs:\n",
    "#         df: dataframe containing timeseries and weekly hours\n",
    "#         date_hours_cols: (list) names for columns containing the date and weekly hours data\n",
    "#         pred_cols: (list) name of columns containing estimated hours, upper and lower limits\n",
    "#         of estimates\n",
    "#         periods: (int) number of periods to forecast.\n",
    "#         holidays: (dataframe) of holidays with holiday names, dates (datetime\n",
    "#             format, upper and lower windows (ints, optional))\n",
    "#     Outputs:\n",
    "#         Prophet model\n",
    "#         forecast\n",
    "#         df with original data plus predictions and upper/lower predictions\n",
    "#     \"\"\"\n",
    "# #     df.columns = df_cols\n",
    "# #     df = df[date_hours_cols]\n",
    "#     print(df)\n",
    "#     df['ds'] = df.index\n",
    "#     df['y'] = df['Hours']\n",
    "#     print(df)\n",
    "# #     df = df['Number_Providers', 'Hours', 'Hours_per_Provider', 'date']\n",
    "#     df = df['ds', 'y']\n",
    "#     model = Prophet(holidays=holidays)\n",
    "#     model.fit(df)\n",
    "#     future = model.make_future_dataframe(periods=periods)\n",
    "#     forecast = model.predict(future)\n",
    "#     df_pred = pd.concat([df, forecast[pred_cols]], axis=1)\n",
    "#     # make num providers column\n",
    "#     df_pred['Predicted_num_Providers'] = round(df_pred['yhat'] / mean_hours_provider, 1)\n",
    "#     predictions = forecast.iloc[-periods:]\n",
    "#     # get_prophet_training_mse(df_pred, df_name, periods)\n",
    "#     # get_prophet_test_mse(df_pred, df_name, periods)\n",
    "#     return model, forecast, df_pred"
   ]
  },
  {
   "cell_type": "code",
   "execution_count": 262,
   "metadata": {},
   "outputs": [
    {
     "data": {
      "text/plain": [
       "Index(['Number_Providers', 'Hours', 'Hours_per_Provider', 'date'], dtype='object')"
      ]
     },
     "execution_count": 262,
     "metadata": {},
     "output_type": "execute_result"
    }
   ],
   "source": [
    "provider_df.columns"
   ]
  },
  {
   "cell_type": "code",
   "execution_count": 263,
   "metadata": {},
   "outputs": [],
   "source": [
    "def run_prophet_forecast(csv_file, category_name, date_hours_cols,\\\n",
    "        pred_cols, periods):\n",
    "    # import provider data\n",
    "    provider = get_cleaned_provider_data(csv_file, category_name)\n",
    "    # get weekly hours data\n",
    "    provider_hours = get_provider_weekly_hours(provider)\n",
    "    # get number of providers data\n",
    "    num_provider = get_number_unique_providers(provider)\n",
    "    # merge provider dataframes\n",
    "    providers = merge_hours_and_providers(provider_hours, num_provider)\n",
    "    # get hours per provider\n",
    "    provider_df, avg_provider_hours = get_hours_per_provider(providers)\n",
    "    holidays = get_holidays()\n",
    "#     get prophet model, forecast, predictions dataframe\n",
    "    model, forecast, df_pred = get_prophet_forecast_w_holidays(provider_df,\\\n",
    "        date_hours_cols, pred_cols, periods, holidays, avg_provider_hours)\n",
    "    return model, forecast, df_pred\n",
    "#     prophet_forecast_to_csv(df_pred, outfile)"
   ]
  },
  {
   "cell_type": "code",
   "execution_count": 264,
   "metadata": {},
   "outputs": [
    {
     "name": "stdout",
     "output_type": "stream",
     "text": [
      "Empty DataFrame\n",
      "Columns: [Number_Providers, Hours, Hours_per_Provider]\n",
      "Index: []\n",
      "Empty DataFrame\n",
      "Columns: [Number_Providers, Hours, Hours_per_Provider, ds, y]\n",
      "Index: []\n"
     ]
    },
    {
     "name": "stderr",
     "output_type": "stream",
     "text": [
      "/home/nicole/anaconda3/lib/python3.6/site-packages/ipykernel_launcher.py:3: FutureWarning: how in .resample() is deprecated\n",
      "the new syntax is .resample(...)..apply(<func>)\n",
      "  This is separate from the ipykernel package so we can avoid doing imports until\n"
     ]
    },
    {
     "ename": "KeyError",
     "evalue": "('ds', 'y')",
     "output_type": "error",
     "traceback": [
      "\u001b[0;31m---------------------------------------------------------------------------\u001b[0m",
      "\u001b[0;31mKeyError\u001b[0m                                  Traceback (most recent call last)",
      "\u001b[0;32m~/anaconda3/lib/python3.6/site-packages/pandas/core/indexes/base.py\u001b[0m in \u001b[0;36mget_loc\u001b[0;34m(self, key, method, tolerance)\u001b[0m\n\u001b[1;32m   2524\u001b[0m             \u001b[0;32mtry\u001b[0m\u001b[0;34m:\u001b[0m\u001b[0;34m\u001b[0m\u001b[0m\n\u001b[0;32m-> 2525\u001b[0;31m                 \u001b[0;32mreturn\u001b[0m \u001b[0mself\u001b[0m\u001b[0;34m.\u001b[0m\u001b[0m_engine\u001b[0m\u001b[0;34m.\u001b[0m\u001b[0mget_loc\u001b[0m\u001b[0;34m(\u001b[0m\u001b[0mkey\u001b[0m\u001b[0;34m)\u001b[0m\u001b[0;34m\u001b[0m\u001b[0m\n\u001b[0m\u001b[1;32m   2526\u001b[0m             \u001b[0;32mexcept\u001b[0m \u001b[0mKeyError\u001b[0m\u001b[0;34m:\u001b[0m\u001b[0;34m\u001b[0m\u001b[0m\n",
      "\u001b[0;32mpandas/_libs/index.pyx\u001b[0m in \u001b[0;36mpandas._libs.index.IndexEngine.get_loc\u001b[0;34m()\u001b[0m\n",
      "\u001b[0;32mpandas/_libs/index.pyx\u001b[0m in \u001b[0;36mpandas._libs.index.IndexEngine.get_loc\u001b[0;34m()\u001b[0m\n",
      "\u001b[0;32mpandas/_libs/hashtable_class_helper.pxi\u001b[0m in \u001b[0;36mpandas._libs.hashtable.PyObjectHashTable.get_item\u001b[0;34m()\u001b[0m\n",
      "\u001b[0;32mpandas/_libs/hashtable_class_helper.pxi\u001b[0m in \u001b[0;36mpandas._libs.hashtable.PyObjectHashTable.get_item\u001b[0;34m()\u001b[0m\n",
      "\u001b[0;31mKeyError\u001b[0m: ('ds', 'y')",
      "\nDuring handling of the above exception, another exception occurred:\n",
      "\u001b[0;31mKeyError\u001b[0m                                  Traceback (most recent call last)",
      "\u001b[0;32m<ipython-input-264-47046dc53efb>\u001b[0m in \u001b[0;36m<module>\u001b[0;34m()\u001b[0m\n\u001b[0;32m----> 1\u001b[0;31m \u001b[0mmodel\u001b[0m\u001b[0;34m,\u001b[0m \u001b[0mforecast\u001b[0m\u001b[0;34m,\u001b[0m \u001b[0mdf_pred\u001b[0m \u001b[0;34m=\u001b[0m \u001b[0mrun_prophet_forecast\u001b[0m\u001b[0;34m(\u001b[0m\u001b[0mcsv_file\u001b[0m\u001b[0;34m=\u001b[0m\u001b[0minfile\u001b[0m\u001b[0;34m,\u001b[0m \u001b[0mcategory_name\u001b[0m\u001b[0;34m=\u001b[0m\u001b[0;34m'doctors'\u001b[0m\u001b[0;34m,\u001b[0m \u001b[0mdate_hours_cols\u001b[0m\u001b[0;34m=\u001b[0m\u001b[0mdate_hours_cols\u001b[0m\u001b[0;34m,\u001b[0m            \u001b[0mpred_cols\u001b[0m\u001b[0;34m=\u001b[0m\u001b[0mpred_cols\u001b[0m\u001b[0;34m,\u001b[0m \u001b[0mperiods\u001b[0m\u001b[0;34m=\u001b[0m\u001b[0;36m90\u001b[0m\u001b[0;34m)\u001b[0m\u001b[0;34m\u001b[0m\u001b[0m\n\u001b[0m",
      "\u001b[0;32m<ipython-input-263-e3146fce4434>\u001b[0m in \u001b[0;36mrun_prophet_forecast\u001b[0;34m(csv_file, category_name, date_hours_cols, pred_cols, periods)\u001b[0m\n\u001b[1;32m     12\u001b[0m     \u001b[0mholidays\u001b[0m \u001b[0;34m=\u001b[0m \u001b[0mget_holidays\u001b[0m\u001b[0;34m(\u001b[0m\u001b[0;34m)\u001b[0m\u001b[0;34m\u001b[0m\u001b[0m\n\u001b[1;32m     13\u001b[0m \u001b[0;31m#     get prophet model, forecast, predictions dataframe\u001b[0m\u001b[0;34m\u001b[0m\u001b[0;34m\u001b[0m\u001b[0m\n\u001b[0;32m---> 14\u001b[0;31m     \u001b[0mmodel\u001b[0m\u001b[0;34m,\u001b[0m \u001b[0mforecast\u001b[0m\u001b[0;34m,\u001b[0m \u001b[0mdf_pred\u001b[0m \u001b[0;34m=\u001b[0m \u001b[0mget_prophet_forecast_w_holidays\u001b[0m\u001b[0;34m(\u001b[0m\u001b[0mprovider_df\u001b[0m\u001b[0;34m,\u001b[0m        \u001b[0mdate_hours_cols\u001b[0m\u001b[0;34m,\u001b[0m \u001b[0mpred_cols\u001b[0m\u001b[0;34m,\u001b[0m \u001b[0mperiods\u001b[0m\u001b[0;34m,\u001b[0m \u001b[0mholidays\u001b[0m\u001b[0;34m,\u001b[0m \u001b[0mavg_provider_hours\u001b[0m\u001b[0;34m)\u001b[0m\u001b[0;34m\u001b[0m\u001b[0m\n\u001b[0m\u001b[1;32m     15\u001b[0m     \u001b[0;32mreturn\u001b[0m \u001b[0mmodel\u001b[0m\u001b[0;34m,\u001b[0m \u001b[0mforecast\u001b[0m\u001b[0;34m,\u001b[0m \u001b[0mdf_pred\u001b[0m\u001b[0;34m\u001b[0m\u001b[0m\n\u001b[1;32m     16\u001b[0m \u001b[0;31m#     prophet_forecast_to_csv(df_pred, outfile)\u001b[0m\u001b[0;34m\u001b[0m\u001b[0;34m\u001b[0m\u001b[0m\n",
      "\u001b[0;32m<ipython-input-261-a60b07b9cbde>\u001b[0m in \u001b[0;36mget_prophet_forecast_w_holidays\u001b[0;34m(df, date_hours_cols, pred_cols, periods, holidays, mean_hours_provider)\u001b[0m\n\u001b[1;32m     21\u001b[0m     \u001b[0mprint\u001b[0m\u001b[0;34m(\u001b[0m\u001b[0mdf\u001b[0m\u001b[0;34m)\u001b[0m\u001b[0;34m\u001b[0m\u001b[0m\n\u001b[1;32m     22\u001b[0m \u001b[0;31m#     df = df['Number_Providers', 'Hours', 'Hours_per_Provider', 'date']\u001b[0m\u001b[0;34m\u001b[0m\u001b[0;34m\u001b[0m\u001b[0m\n\u001b[0;32m---> 23\u001b[0;31m     \u001b[0mdf\u001b[0m \u001b[0;34m=\u001b[0m \u001b[0mdf\u001b[0m\u001b[0;34m[\u001b[0m\u001b[0;34m'ds'\u001b[0m\u001b[0;34m,\u001b[0m \u001b[0;34m'y'\u001b[0m\u001b[0;34m]\u001b[0m\u001b[0;34m\u001b[0m\u001b[0m\n\u001b[0m\u001b[1;32m     24\u001b[0m     \u001b[0mmodel\u001b[0m \u001b[0;34m=\u001b[0m \u001b[0mProphet\u001b[0m\u001b[0;34m(\u001b[0m\u001b[0mholidays\u001b[0m\u001b[0;34m=\u001b[0m\u001b[0mholidays\u001b[0m\u001b[0;34m)\u001b[0m\u001b[0;34m\u001b[0m\u001b[0m\n\u001b[1;32m     25\u001b[0m     \u001b[0mmodel\u001b[0m\u001b[0;34m.\u001b[0m\u001b[0mfit\u001b[0m\u001b[0;34m(\u001b[0m\u001b[0mdf\u001b[0m\u001b[0;34m)\u001b[0m\u001b[0;34m\u001b[0m\u001b[0m\n",
      "\u001b[0;32m~/anaconda3/lib/python3.6/site-packages/pandas/core/frame.py\u001b[0m in \u001b[0;36m__getitem__\u001b[0;34m(self, key)\u001b[0m\n\u001b[1;32m   2137\u001b[0m             \u001b[0;32mreturn\u001b[0m \u001b[0mself\u001b[0m\u001b[0;34m.\u001b[0m\u001b[0m_getitem_multilevel\u001b[0m\u001b[0;34m(\u001b[0m\u001b[0mkey\u001b[0m\u001b[0;34m)\u001b[0m\u001b[0;34m\u001b[0m\u001b[0m\n\u001b[1;32m   2138\u001b[0m         \u001b[0;32melse\u001b[0m\u001b[0;34m:\u001b[0m\u001b[0;34m\u001b[0m\u001b[0m\n\u001b[0;32m-> 2139\u001b[0;31m             \u001b[0;32mreturn\u001b[0m \u001b[0mself\u001b[0m\u001b[0;34m.\u001b[0m\u001b[0m_getitem_column\u001b[0m\u001b[0;34m(\u001b[0m\u001b[0mkey\u001b[0m\u001b[0;34m)\u001b[0m\u001b[0;34m\u001b[0m\u001b[0m\n\u001b[0m\u001b[1;32m   2140\u001b[0m \u001b[0;34m\u001b[0m\u001b[0m\n\u001b[1;32m   2141\u001b[0m     \u001b[0;32mdef\u001b[0m \u001b[0m_getitem_column\u001b[0m\u001b[0;34m(\u001b[0m\u001b[0mself\u001b[0m\u001b[0;34m,\u001b[0m \u001b[0mkey\u001b[0m\u001b[0;34m)\u001b[0m\u001b[0;34m:\u001b[0m\u001b[0;34m\u001b[0m\u001b[0m\n",
      "\u001b[0;32m~/anaconda3/lib/python3.6/site-packages/pandas/core/frame.py\u001b[0m in \u001b[0;36m_getitem_column\u001b[0;34m(self, key)\u001b[0m\n\u001b[1;32m   2144\u001b[0m         \u001b[0;31m# get column\u001b[0m\u001b[0;34m\u001b[0m\u001b[0;34m\u001b[0m\u001b[0m\n\u001b[1;32m   2145\u001b[0m         \u001b[0;32mif\u001b[0m \u001b[0mself\u001b[0m\u001b[0;34m.\u001b[0m\u001b[0mcolumns\u001b[0m\u001b[0;34m.\u001b[0m\u001b[0mis_unique\u001b[0m\u001b[0;34m:\u001b[0m\u001b[0;34m\u001b[0m\u001b[0m\n\u001b[0;32m-> 2146\u001b[0;31m             \u001b[0;32mreturn\u001b[0m \u001b[0mself\u001b[0m\u001b[0;34m.\u001b[0m\u001b[0m_get_item_cache\u001b[0m\u001b[0;34m(\u001b[0m\u001b[0mkey\u001b[0m\u001b[0;34m)\u001b[0m\u001b[0;34m\u001b[0m\u001b[0m\n\u001b[0m\u001b[1;32m   2147\u001b[0m \u001b[0;34m\u001b[0m\u001b[0m\n\u001b[1;32m   2148\u001b[0m         \u001b[0;31m# duplicate columns & possible reduce dimensionality\u001b[0m\u001b[0;34m\u001b[0m\u001b[0;34m\u001b[0m\u001b[0m\n",
      "\u001b[0;32m~/anaconda3/lib/python3.6/site-packages/pandas/core/generic.py\u001b[0m in \u001b[0;36m_get_item_cache\u001b[0;34m(self, item)\u001b[0m\n\u001b[1;32m   1840\u001b[0m         \u001b[0mres\u001b[0m \u001b[0;34m=\u001b[0m \u001b[0mcache\u001b[0m\u001b[0;34m.\u001b[0m\u001b[0mget\u001b[0m\u001b[0;34m(\u001b[0m\u001b[0mitem\u001b[0m\u001b[0;34m)\u001b[0m\u001b[0;34m\u001b[0m\u001b[0m\n\u001b[1;32m   1841\u001b[0m         \u001b[0;32mif\u001b[0m \u001b[0mres\u001b[0m \u001b[0;32mis\u001b[0m \u001b[0;32mNone\u001b[0m\u001b[0;34m:\u001b[0m\u001b[0;34m\u001b[0m\u001b[0m\n\u001b[0;32m-> 1842\u001b[0;31m             \u001b[0mvalues\u001b[0m \u001b[0;34m=\u001b[0m \u001b[0mself\u001b[0m\u001b[0;34m.\u001b[0m\u001b[0m_data\u001b[0m\u001b[0;34m.\u001b[0m\u001b[0mget\u001b[0m\u001b[0;34m(\u001b[0m\u001b[0mitem\u001b[0m\u001b[0;34m)\u001b[0m\u001b[0;34m\u001b[0m\u001b[0m\n\u001b[0m\u001b[1;32m   1843\u001b[0m             \u001b[0mres\u001b[0m \u001b[0;34m=\u001b[0m \u001b[0mself\u001b[0m\u001b[0;34m.\u001b[0m\u001b[0m_box_item_values\u001b[0m\u001b[0;34m(\u001b[0m\u001b[0mitem\u001b[0m\u001b[0;34m,\u001b[0m \u001b[0mvalues\u001b[0m\u001b[0;34m)\u001b[0m\u001b[0;34m\u001b[0m\u001b[0m\n\u001b[1;32m   1844\u001b[0m             \u001b[0mcache\u001b[0m\u001b[0;34m[\u001b[0m\u001b[0mitem\u001b[0m\u001b[0;34m]\u001b[0m \u001b[0;34m=\u001b[0m \u001b[0mres\u001b[0m\u001b[0;34m\u001b[0m\u001b[0m\n",
      "\u001b[0;32m~/anaconda3/lib/python3.6/site-packages/pandas/core/internals.py\u001b[0m in \u001b[0;36mget\u001b[0;34m(self, item, fastpath)\u001b[0m\n\u001b[1;32m   3841\u001b[0m \u001b[0;34m\u001b[0m\u001b[0m\n\u001b[1;32m   3842\u001b[0m             \u001b[0;32mif\u001b[0m \u001b[0;32mnot\u001b[0m \u001b[0misna\u001b[0m\u001b[0;34m(\u001b[0m\u001b[0mitem\u001b[0m\u001b[0;34m)\u001b[0m\u001b[0;34m:\u001b[0m\u001b[0;34m\u001b[0m\u001b[0m\n\u001b[0;32m-> 3843\u001b[0;31m                 \u001b[0mloc\u001b[0m \u001b[0;34m=\u001b[0m \u001b[0mself\u001b[0m\u001b[0;34m.\u001b[0m\u001b[0mitems\u001b[0m\u001b[0;34m.\u001b[0m\u001b[0mget_loc\u001b[0m\u001b[0;34m(\u001b[0m\u001b[0mitem\u001b[0m\u001b[0;34m)\u001b[0m\u001b[0;34m\u001b[0m\u001b[0m\n\u001b[0m\u001b[1;32m   3844\u001b[0m             \u001b[0;32melse\u001b[0m\u001b[0;34m:\u001b[0m\u001b[0;34m\u001b[0m\u001b[0m\n\u001b[1;32m   3845\u001b[0m                 \u001b[0mindexer\u001b[0m \u001b[0;34m=\u001b[0m \u001b[0mnp\u001b[0m\u001b[0;34m.\u001b[0m\u001b[0marange\u001b[0m\u001b[0;34m(\u001b[0m\u001b[0mlen\u001b[0m\u001b[0;34m(\u001b[0m\u001b[0mself\u001b[0m\u001b[0;34m.\u001b[0m\u001b[0mitems\u001b[0m\u001b[0;34m)\u001b[0m\u001b[0;34m)\u001b[0m\u001b[0;34m[\u001b[0m\u001b[0misna\u001b[0m\u001b[0;34m(\u001b[0m\u001b[0mself\u001b[0m\u001b[0;34m.\u001b[0m\u001b[0mitems\u001b[0m\u001b[0;34m)\u001b[0m\u001b[0;34m]\u001b[0m\u001b[0;34m\u001b[0m\u001b[0m\n",
      "\u001b[0;32m~/anaconda3/lib/python3.6/site-packages/pandas/core/indexes/base.py\u001b[0m in \u001b[0;36mget_loc\u001b[0;34m(self, key, method, tolerance)\u001b[0m\n\u001b[1;32m   2525\u001b[0m                 \u001b[0;32mreturn\u001b[0m \u001b[0mself\u001b[0m\u001b[0;34m.\u001b[0m\u001b[0m_engine\u001b[0m\u001b[0;34m.\u001b[0m\u001b[0mget_loc\u001b[0m\u001b[0;34m(\u001b[0m\u001b[0mkey\u001b[0m\u001b[0;34m)\u001b[0m\u001b[0;34m\u001b[0m\u001b[0m\n\u001b[1;32m   2526\u001b[0m             \u001b[0;32mexcept\u001b[0m \u001b[0mKeyError\u001b[0m\u001b[0;34m:\u001b[0m\u001b[0;34m\u001b[0m\u001b[0m\n\u001b[0;32m-> 2527\u001b[0;31m                 \u001b[0;32mreturn\u001b[0m \u001b[0mself\u001b[0m\u001b[0;34m.\u001b[0m\u001b[0m_engine\u001b[0m\u001b[0;34m.\u001b[0m\u001b[0mget_loc\u001b[0m\u001b[0;34m(\u001b[0m\u001b[0mself\u001b[0m\u001b[0;34m.\u001b[0m\u001b[0m_maybe_cast_indexer\u001b[0m\u001b[0;34m(\u001b[0m\u001b[0mkey\u001b[0m\u001b[0;34m)\u001b[0m\u001b[0;34m)\u001b[0m\u001b[0;34m\u001b[0m\u001b[0m\n\u001b[0m\u001b[1;32m   2528\u001b[0m \u001b[0;34m\u001b[0m\u001b[0m\n\u001b[1;32m   2529\u001b[0m         \u001b[0mindexer\u001b[0m \u001b[0;34m=\u001b[0m \u001b[0mself\u001b[0m\u001b[0;34m.\u001b[0m\u001b[0mget_indexer\u001b[0m\u001b[0;34m(\u001b[0m\u001b[0;34m[\u001b[0m\u001b[0mkey\u001b[0m\u001b[0;34m]\u001b[0m\u001b[0;34m,\u001b[0m \u001b[0mmethod\u001b[0m\u001b[0;34m=\u001b[0m\u001b[0mmethod\u001b[0m\u001b[0;34m,\u001b[0m \u001b[0mtolerance\u001b[0m\u001b[0;34m=\u001b[0m\u001b[0mtolerance\u001b[0m\u001b[0;34m)\u001b[0m\u001b[0;34m\u001b[0m\u001b[0m\n",
      "\u001b[0;32mpandas/_libs/index.pyx\u001b[0m in \u001b[0;36mpandas._libs.index.IndexEngine.get_loc\u001b[0;34m()\u001b[0m\n",
      "\u001b[0;32mpandas/_libs/index.pyx\u001b[0m in \u001b[0;36mpandas._libs.index.IndexEngine.get_loc\u001b[0;34m()\u001b[0m\n",
      "\u001b[0;32mpandas/_libs/hashtable_class_helper.pxi\u001b[0m in \u001b[0;36mpandas._libs.hashtable.PyObjectHashTable.get_item\u001b[0;34m()\u001b[0m\n",
      "\u001b[0;32mpandas/_libs/hashtable_class_helper.pxi\u001b[0m in \u001b[0;36mpandas._libs.hashtable.PyObjectHashTable.get_item\u001b[0;34m()\u001b[0m\n",
      "\u001b[0;31mKeyError\u001b[0m: ('ds', 'y')"
     ]
    }
   ],
   "source": [
    "model, forecast, df_pred = run_prophet_forecast(csv_file=infile, category_name='doctors', date_hours_cols=date_hours_cols,\\\n",
    "            pred_cols=pred_cols, periods=90)"
   ]
  },
  {
   "cell_type": "code",
   "execution_count": 265,
   "metadata": {},
   "outputs": [
    {
     "ename": "TypeError",
     "evalue": "run_prophet_forecast() got an unexpected keyword argument 'out_csv'",
     "output_type": "error",
     "traceback": [
      "\u001b[0;31m---------------------------------------------------------------------------\u001b[0m",
      "\u001b[0;31mTypeError\u001b[0m                                 Traceback (most recent call last)",
      "\u001b[0;32m<ipython-input-265-c1c01f07b63d>\u001b[0m in \u001b[0;36m<module>\u001b[0;34m()\u001b[0m\n\u001b[1;32m      8\u001b[0m     \u001b[0;31m# end_date = '2018-09-30'\u001b[0m\u001b[0;34m\u001b[0m\u001b[0;34m\u001b[0m\u001b[0m\n\u001b[1;32m      9\u001b[0m     \u001b[0moutfile\u001b[0m \u001b[0;34m=\u001b[0m \u001b[0;34m'dr_test_prophet_forecast.csv'\u001b[0m\u001b[0;34m\u001b[0m\u001b[0m\n\u001b[0;32m---> 10\u001b[0;31m     \u001b[0mrun_prophet_forecast\u001b[0m\u001b[0;34m(\u001b[0m\u001b[0mcsv_file\u001b[0m\u001b[0;34m=\u001b[0m\u001b[0minfile\u001b[0m\u001b[0;34m,\u001b[0m \u001b[0mcategory_name\u001b[0m\u001b[0;34m=\u001b[0m\u001b[0;34m'doctors'\u001b[0m\u001b[0;34m,\u001b[0m \u001b[0mdate_hours_cols\u001b[0m\u001b[0;34m=\u001b[0m\u001b[0mdate_hours_cols\u001b[0m\u001b[0;34m,\u001b[0m            \u001b[0mpred_cols\u001b[0m\u001b[0;34m=\u001b[0m\u001b[0mpred_cols\u001b[0m\u001b[0;34m,\u001b[0m \u001b[0mperiods\u001b[0m\u001b[0;34m=\u001b[0m\u001b[0;36m90\u001b[0m\u001b[0;34m,\u001b[0m \u001b[0mout_csv\u001b[0m\u001b[0;34m=\u001b[0m\u001b[0moutfile\u001b[0m\u001b[0;34m)\u001b[0m\u001b[0;34m\u001b[0m\u001b[0m\n\u001b[0m",
      "\u001b[0;31mTypeError\u001b[0m: run_prophet_forecast() got an unexpected keyword argument 'out_csv'"
     ]
    }
   ],
   "source": [
    "if __name__ == '__main__':\n",
    "    infile = './data/appointments_through_04-2018.csv'\n",
    "    df_cols = ['Number_Providers', 'Hours', 'Hours_per_Provider']\n",
    "    date_hours_cols = ['date', 'Hours']\n",
    "    periods = 90\n",
    "    pred_cols = ['yhat', 'yhat_lower', 'yhat_upper']\n",
    "    # start_date = '2015-01-12'\n",
    "    # end_date = '2018-09-30'\n",
    "    outfile = 'dr_test_prophet_forecast.csv'\n",
    "    run_prophet_forecast(csv_file=infile, category_name='doctors', date_hours_cols=date_hours_cols,\\\n",
    "            pred_cols=pred_cols, periods=90, out_csv=outfile)\n"
   ]
  },
  {
   "cell_type": "code",
   "execution_count": 266,
   "metadata": {},
   "outputs": [],
   "source": [
    "# provider_df['date'] = provider_df.index\n",
    "# provider_df = provider_df[date_hours_cols]\n",
    "# provider_df.columns = ['ds', 'y']"
   ]
  },
  {
   "cell_type": "code",
   "execution_count": 64,
   "metadata": {},
   "outputs": [
    {
     "data": {
      "text/html": [
       "<div>\n",
       "<style scoped>\n",
       "    .dataframe tbody tr th:only-of-type {\n",
       "        vertical-align: middle;\n",
       "    }\n",
       "\n",
       "    .dataframe tbody tr th {\n",
       "        vertical-align: top;\n",
       "    }\n",
       "\n",
       "    .dataframe thead th {\n",
       "        text-align: right;\n",
       "    }\n",
       "</style>\n",
       "<table border=\"1\" class=\"dataframe\">\n",
       "  <thead>\n",
       "    <tr style=\"text-align: right;\">\n",
       "      <th></th>\n",
       "      <th>ds</th>\n",
       "      <th>y</th>\n",
       "    </tr>\n",
       "    <tr>\n",
       "      <th>AppointmentDate</th>\n",
       "      <th></th>\n",
       "      <th></th>\n",
       "    </tr>\n",
       "  </thead>\n",
       "  <tbody>\n",
       "    <tr>\n",
       "      <th>2015-01-19</th>\n",
       "      <td>2015-01-19</td>\n",
       "      <td>60.5</td>\n",
       "    </tr>\n",
       "    <tr>\n",
       "      <th>2015-01-26</th>\n",
       "      <td>2015-01-26</td>\n",
       "      <td>59.0</td>\n",
       "    </tr>\n",
       "    <tr>\n",
       "      <th>2015-02-02</th>\n",
       "      <td>2015-02-02</td>\n",
       "      <td>52.5</td>\n",
       "    </tr>\n",
       "    <tr>\n",
       "      <th>2015-02-09</th>\n",
       "      <td>2015-02-09</td>\n",
       "      <td>73.5</td>\n",
       "    </tr>\n",
       "    <tr>\n",
       "      <th>2015-02-16</th>\n",
       "      <td>2015-02-16</td>\n",
       "      <td>74.0</td>\n",
       "    </tr>\n",
       "  </tbody>\n",
       "</table>\n",
       "</div>"
      ],
      "text/plain": [
       "                        ds     y\n",
       "AppointmentDate                 \n",
       "2015-01-19      2015-01-19  60.5\n",
       "2015-01-26      2015-01-26  59.0\n",
       "2015-02-02      2015-02-02  52.5\n",
       "2015-02-09      2015-02-09  73.5\n",
       "2015-02-16      2015-02-16  74.0"
      ]
     },
     "execution_count": 64,
     "metadata": {},
     "output_type": "execute_result"
    }
   ],
   "source": [
    "provider_df.head()"
   ]
  },
  {
   "cell_type": "code",
   "execution_count": 66,
   "metadata": {},
   "outputs": [
    {
     "name": "stderr",
     "output_type": "stream",
     "text": [
      "INFO:fbprophet.forecaster:Disabling weekly seasonality. Run prophet with weekly_seasonality=True to override this.\n",
      "INFO:fbprophet.forecaster:Disabling daily seasonality. Run prophet with daily_seasonality=True to override this.\n",
      "/home/nicole/anaconda3/lib/python3.6/site-packages/pystan/misc.py:399: FutureWarning: Conversion of the second argument of issubdtype from `float` to `np.floating` is deprecated. In future, it will be treated as `np.float64 == np.dtype(float).type`.\n",
      "  elif np.issubdtype(np.asarray(v).dtype, float):\n"
     ]
    },
    {
     "data": {
      "text/plain": [
       "<fbprophet.forecaster.Prophet at 0x7f43f01edf60>"
      ]
     },
     "execution_count": 66,
     "metadata": {},
     "output_type": "execute_result"
    }
   ],
   "source": [
    "model = Prophet(holidays=holidays)\n",
    "model.fit(provider_df)"
   ]
  },
  {
   "cell_type": "code",
   "execution_count": 67,
   "metadata": {},
   "outputs": [],
   "source": [
    "future = model.make_future_dataframe(periods=periods)"
   ]
  },
  {
   "cell_type": "code",
   "execution_count": 68,
   "metadata": {},
   "outputs": [],
   "source": [
    "forecast = model.predict(future)"
   ]
  },
  {
   "cell_type": "code",
   "execution_count": 74,
   "metadata": {},
   "outputs": [],
   "source": [
    "forecast.index = forecast['ds']"
   ]
  },
  {
   "cell_type": "code",
   "execution_count": 76,
   "metadata": {},
   "outputs": [
    {
     "data": {
      "text/plain": [
       "DatetimeIndex(['2015-01-19', '2015-01-26', '2015-02-02', '2015-02-09',\n",
       "               '2015-02-16', '2015-02-23', '2015-03-02', '2015-03-09',\n",
       "               '2015-03-16', '2015-03-23',\n",
       "               ...\n",
       "               '2018-07-20', '2018-07-21', '2018-07-22', '2018-07-23',\n",
       "               '2018-07-24', '2018-07-25', '2018-07-26', '2018-07-27',\n",
       "               '2018-07-28', '2018-07-29'],\n",
       "              dtype='datetime64[ns]', name='ds', length=262, freq=None)"
      ]
     },
     "execution_count": 76,
     "metadata": {},
     "output_type": "execute_result"
    }
   ],
   "source": [
    "forecast.index"
   ]
  },
  {
   "cell_type": "code",
   "execution_count": 75,
   "metadata": {},
   "outputs": [
    {
     "data": {
      "text/html": [
       "<div>\n",
       "<style scoped>\n",
       "    .dataframe tbody tr th:only-of-type {\n",
       "        vertical-align: middle;\n",
       "    }\n",
       "\n",
       "    .dataframe tbody tr th {\n",
       "        vertical-align: top;\n",
       "    }\n",
       "\n",
       "    .dataframe thead th {\n",
       "        text-align: right;\n",
       "    }\n",
       "</style>\n",
       "<table border=\"1\" class=\"dataframe\">\n",
       "  <thead>\n",
       "    <tr style=\"text-align: right;\">\n",
       "      <th></th>\n",
       "      <th>ds</th>\n",
       "      <th>trend</th>\n",
       "      <th>trend_lower</th>\n",
       "      <th>trend_upper</th>\n",
       "      <th>yhat_lower</th>\n",
       "      <th>yhat_upper</th>\n",
       "      <th>Christams</th>\n",
       "      <th>Christams_lower</th>\n",
       "      <th>Christams_upper</th>\n",
       "      <th>New Years</th>\n",
       "      <th>...</th>\n",
       "      <th>seasonal</th>\n",
       "      <th>seasonal_lower</th>\n",
       "      <th>seasonal_upper</th>\n",
       "      <th>seasonalities</th>\n",
       "      <th>seasonalities_lower</th>\n",
       "      <th>seasonalities_upper</th>\n",
       "      <th>yearly</th>\n",
       "      <th>yearly_lower</th>\n",
       "      <th>yearly_upper</th>\n",
       "      <th>yhat</th>\n",
       "    </tr>\n",
       "    <tr>\n",
       "      <th>ds</th>\n",
       "      <th></th>\n",
       "      <th></th>\n",
       "      <th></th>\n",
       "      <th></th>\n",
       "      <th></th>\n",
       "      <th></th>\n",
       "      <th></th>\n",
       "      <th></th>\n",
       "      <th></th>\n",
       "      <th></th>\n",
       "      <th></th>\n",
       "      <th></th>\n",
       "      <th></th>\n",
       "      <th></th>\n",
       "      <th></th>\n",
       "      <th></th>\n",
       "      <th></th>\n",
       "      <th></th>\n",
       "      <th></th>\n",
       "      <th></th>\n",
       "      <th></th>\n",
       "    </tr>\n",
       "  </thead>\n",
       "  <tbody>\n",
       "    <tr>\n",
       "      <th>2015-01-19</th>\n",
       "      <td>2015-01-19</td>\n",
       "      <td>77.883259</td>\n",
       "      <td>77.883259</td>\n",
       "      <td>77.883259</td>\n",
       "      <td>65.579152</td>\n",
       "      <td>101.664291</td>\n",
       "      <td>0.0</td>\n",
       "      <td>0.0</td>\n",
       "      <td>0.0</td>\n",
       "      <td>0.0</td>\n",
       "      <td>...</td>\n",
       "      <td>5.989663</td>\n",
       "      <td>5.989663</td>\n",
       "      <td>5.989663</td>\n",
       "      <td>5.989663</td>\n",
       "      <td>5.989663</td>\n",
       "      <td>5.989663</td>\n",
       "      <td>5.989663</td>\n",
       "      <td>5.989663</td>\n",
       "      <td>5.989663</td>\n",
       "      <td>83.872921</td>\n",
       "    </tr>\n",
       "    <tr>\n",
       "      <th>2015-01-26</th>\n",
       "      <td>2015-01-26</td>\n",
       "      <td>77.805506</td>\n",
       "      <td>77.805506</td>\n",
       "      <td>77.805506</td>\n",
       "      <td>67.899503</td>\n",
       "      <td>104.518241</td>\n",
       "      <td>0.0</td>\n",
       "      <td>0.0</td>\n",
       "      <td>0.0</td>\n",
       "      <td>0.0</td>\n",
       "      <td>...</td>\n",
       "      <td>7.932605</td>\n",
       "      <td>7.932605</td>\n",
       "      <td>7.932605</td>\n",
       "      <td>7.932605</td>\n",
       "      <td>7.932605</td>\n",
       "      <td>7.932605</td>\n",
       "      <td>7.932605</td>\n",
       "      <td>7.932605</td>\n",
       "      <td>7.932605</td>\n",
       "      <td>85.738111</td>\n",
       "    </tr>\n",
       "    <tr>\n",
       "      <th>2015-02-02</th>\n",
       "      <td>2015-02-02</td>\n",
       "      <td>77.727754</td>\n",
       "      <td>77.727754</td>\n",
       "      <td>77.727754</td>\n",
       "      <td>60.714758</td>\n",
       "      <td>98.630258</td>\n",
       "      <td>0.0</td>\n",
       "      <td>0.0</td>\n",
       "      <td>0.0</td>\n",
       "      <td>0.0</td>\n",
       "      <td>...</td>\n",
       "      <td>1.723631</td>\n",
       "      <td>1.723631</td>\n",
       "      <td>1.723631</td>\n",
       "      <td>1.723631</td>\n",
       "      <td>1.723631</td>\n",
       "      <td>1.723631</td>\n",
       "      <td>1.723631</td>\n",
       "      <td>1.723631</td>\n",
       "      <td>1.723631</td>\n",
       "      <td>79.451385</td>\n",
       "    </tr>\n",
       "    <tr>\n",
       "      <th>2015-02-09</th>\n",
       "      <td>2015-02-09</td>\n",
       "      <td>77.650002</td>\n",
       "      <td>77.650002</td>\n",
       "      <td>77.650002</td>\n",
       "      <td>55.288970</td>\n",
       "      <td>91.593579</td>\n",
       "      <td>0.0</td>\n",
       "      <td>0.0</td>\n",
       "      <td>0.0</td>\n",
       "      <td>0.0</td>\n",
       "      <td>...</td>\n",
       "      <td>-3.584283</td>\n",
       "      <td>-3.584283</td>\n",
       "      <td>-3.584283</td>\n",
       "      <td>-3.584283</td>\n",
       "      <td>-3.584283</td>\n",
       "      <td>-3.584283</td>\n",
       "      <td>-3.584283</td>\n",
       "      <td>-3.584283</td>\n",
       "      <td>-3.584283</td>\n",
       "      <td>74.065719</td>\n",
       "    </tr>\n",
       "    <tr>\n",
       "      <th>2015-02-16</th>\n",
       "      <td>2015-02-16</td>\n",
       "      <td>77.572250</td>\n",
       "      <td>77.572250</td>\n",
       "      <td>77.572250</td>\n",
       "      <td>56.296166</td>\n",
       "      <td>93.118961</td>\n",
       "      <td>0.0</td>\n",
       "      <td>0.0</td>\n",
       "      <td>0.0</td>\n",
       "      <td>0.0</td>\n",
       "      <td>...</td>\n",
       "      <td>-2.705088</td>\n",
       "      <td>-2.705088</td>\n",
       "      <td>-2.705088</td>\n",
       "      <td>-2.705088</td>\n",
       "      <td>-2.705088</td>\n",
       "      <td>-2.705088</td>\n",
       "      <td>-2.705088</td>\n",
       "      <td>-2.705088</td>\n",
       "      <td>-2.705088</td>\n",
       "      <td>74.867163</td>\n",
       "    </tr>\n",
       "  </tbody>\n",
       "</table>\n",
       "<p>5 rows × 28 columns</p>\n",
       "</div>"
      ],
      "text/plain": [
       "                   ds      trend  trend_lower  trend_upper  yhat_lower  \\\n",
       "ds                                                                       \n",
       "2015-01-19 2015-01-19  77.883259    77.883259    77.883259   65.579152   \n",
       "2015-01-26 2015-01-26  77.805506    77.805506    77.805506   67.899503   \n",
       "2015-02-02 2015-02-02  77.727754    77.727754    77.727754   60.714758   \n",
       "2015-02-09 2015-02-09  77.650002    77.650002    77.650002   55.288970   \n",
       "2015-02-16 2015-02-16  77.572250    77.572250    77.572250   56.296166   \n",
       "\n",
       "            yhat_upper  Christams  Christams_lower  Christams_upper  \\\n",
       "ds                                                                    \n",
       "2015-01-19  101.664291        0.0              0.0              0.0   \n",
       "2015-01-26  104.518241        0.0              0.0              0.0   \n",
       "2015-02-02   98.630258        0.0              0.0              0.0   \n",
       "2015-02-09   91.593579        0.0              0.0              0.0   \n",
       "2015-02-16   93.118961        0.0              0.0              0.0   \n",
       "\n",
       "            New Years    ...      seasonal  seasonal_lower  seasonal_upper  \\\n",
       "ds                       ...                                                 \n",
       "2015-01-19        0.0    ...      5.989663        5.989663        5.989663   \n",
       "2015-01-26        0.0    ...      7.932605        7.932605        7.932605   \n",
       "2015-02-02        0.0    ...      1.723631        1.723631        1.723631   \n",
       "2015-02-09        0.0    ...     -3.584283       -3.584283       -3.584283   \n",
       "2015-02-16        0.0    ...     -2.705088       -2.705088       -2.705088   \n",
       "\n",
       "            seasonalities  seasonalities_lower  seasonalities_upper    yearly  \\\n",
       "ds                                                                              \n",
       "2015-01-19       5.989663             5.989663             5.989663  5.989663   \n",
       "2015-01-26       7.932605             7.932605             7.932605  7.932605   \n",
       "2015-02-02       1.723631             1.723631             1.723631  1.723631   \n",
       "2015-02-09      -3.584283            -3.584283            -3.584283 -3.584283   \n",
       "2015-02-16      -2.705088            -2.705088            -2.705088 -2.705088   \n",
       "\n",
       "            yearly_lower  yearly_upper       yhat  \n",
       "ds                                                 \n",
       "2015-01-19      5.989663      5.989663  83.872921  \n",
       "2015-01-26      7.932605      7.932605  85.738111  \n",
       "2015-02-02      1.723631      1.723631  79.451385  \n",
       "2015-02-09     -3.584283     -3.584283  74.065719  \n",
       "2015-02-16     -2.705088     -2.705088  74.867163  \n",
       "\n",
       "[5 rows x 28 columns]"
      ]
     },
     "execution_count": 75,
     "metadata": {},
     "output_type": "execute_result"
    }
   ],
   "source": [
    "forecast.head()"
   ]
  },
  {
   "cell_type": "code",
   "execution_count": 77,
   "metadata": {},
   "outputs": [],
   "source": [
    "df_pred = pd.concat([provider_df, forecast[pred_cols]], axis=1)"
   ]
  },
  {
   "cell_type": "code",
   "execution_count": 79,
   "metadata": {},
   "outputs": [],
   "source": [
    "# make num providers column\n",
    "df_pred['Predicted_num_Providers'] = round(df_pred['yhat'] / avg_provider_hours, 1)"
   ]
  },
  {
   "cell_type": "code",
   "execution_count": 81,
   "metadata": {},
   "outputs": [],
   "source": [
    "# df_pred"
   ]
  },
  {
   "cell_type": "code",
   "execution_count": 128,
   "metadata": {
    "scrolled": true
   },
   "outputs": [
    {
     "name": "stderr",
     "output_type": "stream",
     "text": [
      "INFO:fbprophet.forecaster:Disabling weekly seasonality. Run prophet with weekly_seasonality=True to override this.\n",
      "INFO:fbprophet.forecaster:Disabling daily seasonality. Run prophet with daily_seasonality=True to override this.\n",
      "/home/nicole/anaconda3/lib/python3.6/site-packages/pystan/misc.py:399: FutureWarning: Conversion of the second argument of issubdtype from `float` to `np.floating` is deprecated. In future, it will be treated as `np.float64 == np.dtype(float).type`.\n",
      "  elif np.issubdtype(np.asarray(v).dtype, float):\n"
     ]
    }
   ],
   "source": [
    "model, forecast, df_pred = get_prophet_forecast_w_holidays(df = provider_df, date_hours_cols=date_hours_cols,\\\n",
    "        pred_cols=pred_cols, periods=periods, holidays=holidays, mean_hours_provider= avg_provider_hours)"
   ]
  },
  {
   "cell_type": "code",
   "execution_count": null,
   "metadata": {},
   "outputs": [],
   "source": []
  }
 ],
 "metadata": {
  "kernelspec": {
   "display_name": "Python 3",
   "language": "python",
   "name": "python3"
  },
  "language_info": {
   "codemirror_mode": {
    "name": "ipython",
    "version": 3
   },
   "file_extension": ".py",
   "mimetype": "text/x-python",
   "name": "python",
   "nbconvert_exporter": "python",
   "pygments_lexer": "ipython3",
   "version": "3.6.5"
  }
 },
 "nbformat": 4,
 "nbformat_minor": 2
}
