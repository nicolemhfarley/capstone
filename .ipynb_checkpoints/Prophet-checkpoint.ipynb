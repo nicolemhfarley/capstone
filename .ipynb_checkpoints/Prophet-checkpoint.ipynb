{
 "cells": [
  {
   "cell_type": "code",
   "execution_count": null,
   "metadata": {},
   "outputs": [],
   "source": [
    "import numpy as np\n",
    "import pandas as pd\n",
    "import matplotlib.pyplot as plt\n",
    "%matplotlib inline\n",
    "from sklearn.metrics import mean_squared_error"
   ]
  },
  {
   "cell_type": "code",
   "execution_count": null,
   "metadata": {},
   "outputs": [],
   "source": [
    "from timeseries_functions import index_to_datetime, downsample_data_week, plot_series,\\\n",
    "plot_series_save_fig, plot_series_and_differences, run_augmented_Dickey_Fuller_test, \\\n",
    "plot_autocorrelation, plot_partial_autocorrelation, plot_decomposition,\\\n",
    "get_seasonal_decomposition, plot_2_series_double_yaxis"
   ]
  },
  {
   "cell_type": "code",
   "execution_count": null,
   "metadata": {},
   "outputs": [],
   "source": [
    "# prophet uses an  additive regression model\n",
    "from fbprophet import Prophet"
   ]
  },
  {
   "cell_type": "code",
   "execution_count": null,
   "metadata": {},
   "outputs": [],
   "source": [
    "from prophet_functions import get_prophet_training_mse, get_prophet_test_mse,\\\n",
    "get_prophet_forecast, plot_prophet_forecast"
   ]
  },
  {
   "cell_type": "markdown",
   "metadata": {},
   "source": [
    "### using weekly data"
   ]
  },
  {
   "cell_type": "code",
   "execution_count": null,
   "metadata": {},
   "outputs": [],
   "source": [
    "dr_df = pd.read_csv('doctors_hours_per_provider.csv')\n",
    "RNPA_df = pd.read_csv('RNPA_hours_per_provider.csv')\n",
    "ther_df = pd.read_csv('therapists_hours_per_provider.csv')"
   ]
  },
  {
   "cell_type": "code",
   "execution_count": null,
   "metadata": {},
   "outputs": [],
   "source": [
    "train_start = '2015-01-18'\n",
    "train_end = '2018-02-25'\n",
    "test_start = '2018-03-04'\n",
    "test_end = '2018-04-29'"
   ]
  },
  {
   "cell_type": "code",
   "execution_count": null,
   "metadata": {},
   "outputs": [],
   "source": [
    "dr_df.loc[test_start:test_end]"
   ]
  },
  {
   "cell_type": "code",
   "execution_count": null,
   "metadata": {},
   "outputs": [],
   "source": [
    "dr_train = dr_df.loc[train_start:train_end]\n",
    "dr_test = dr_df.loc[test_start:]"
   ]
  },
  {
   "cell_type": "code",
   "execution_count": null,
   "metadata": {},
   "outputs": [],
   "source": [
    "len(dr_test)"
   ]
  },
  {
   "cell_type": "code",
   "execution_count": null,
   "metadata": {},
   "outputs": [],
   "source": [
    "def get_prophet_training_mse(forecast, df_name, periods):\n",
    "    \"\"\"compute error over all known dates, actual vs yhat\"\"\"\n",
    "    predictions = forecast.iloc[0:-periods]\n",
    "    mse = mean_squared_error(predictions['y'], predictions['yhat'])\n",
    "    print('MSE for {name} training set is {error}'.format(name=df_name, error=mse))"
   ]
  },
  {
   "cell_type": "code",
   "execution_count": null,
   "metadata": {},
   "outputs": [],
   "source": [
    "def get_prophet_test_mse(forecast, df_name, periods):\n",
    "    \"\"\"compute error over all known dates, actual vs yhat\"\"\"\n",
    "    predictions = forecast.iloc[-152:-periods]\n",
    "    predictions.dropna(inplace=True, axis=0)\n",
    "    mse = mean_squared_error(predictions['y'], predictions['yhat'])\n",
    "    print('MSE for {name} test set is {error}'.format(name=df_name, error=mse))"
   ]
  },
  {
   "cell_type": "code",
   "execution_count": null,
   "metadata": {},
   "outputs": [],
   "source": [
    "def test_prophet_forecast(test_df, df_name, df_cols, date_hours_cols, pred_cols, periods):\n",
    "    test_df.columns = df_cols\n",
    "    test_df = df[date_hours_cols]\n",
    "    test_df.columns = ['ds', 'y']\n",
    "    model = Prophet()\n",
    "    model.fit(test_df)\n",
    "    future = model.make_future_dataframe(periods=periods)\n",
    "    forecast = model.predict(future)\n",
    "    df_pred = pd.concat([test_df, forecast[pred_cols]], axis=1)\n",
    "    predictions = forecast.iloc[-periods:]\n",
    "    get_training_mse(df_pred, df_name, periods)\n",
    "    get_test_mse(df_pred, df_name, periods)\n",
    "    return model, forecast, df_pred"
   ]
  },
  {
   "cell_type": "code",
   "execution_count": null,
   "metadata": {},
   "outputs": [],
   "source": [
    "def get_prophet_forecast(df, df_name, df_cols, date_hours_cols, pred_cols, periods):\n",
    "    df.columns = df_cols\n",
    "    df = df[date_hours_cols]\n",
    "    df.columns = ['ds', 'y']\n",
    "    model = Prophet()\n",
    "    model.fit(df)\n",
    "    future = model.make_future_dataframe(periods=periods)\n",
    "    forecast = model.predict(future)\n",
    "    df_pred = pd.concat([df, forecast[pred_cols]], axis=1)\n",
    "    predictions = forecast.iloc[-periods:]\n",
    "    get_prophet_training_mse(df_pred, df_name, periods)\n",
    "    get_prophet_test_mse(df_pred, df_name, periods)\n",
    "    return model, forecast, df_pred"
   ]
  },
  {
   "cell_type": "code",
   "execution_count": null,
   "metadata": {},
   "outputs": [],
   "source": [
    "def plot_prophet_forecast(model, forecast, df_name):\n",
    "    model.plot(forecast, xlabel='Date', ylabel='{n} Hours'.format(n=df_name))\n",
    "    model.plot_components(forecast)"
   ]
  },
  {
   "cell_type": "code",
   "execution_count": null,
   "metadata": {},
   "outputs": [],
   "source": [
    "df_cols = ['date', 'Number_Providers', 'Hours', 'Hours_per_Provider']\n",
    "date_hours_cols = ['date', 'Hours']\n",
    "periods = 90\n",
    "pred_cols = ['yhat', 'yhat_lower', 'yhat_upper']"
   ]
  },
  {
   "cell_type": "code",
   "execution_count": null,
   "metadata": {},
   "outputs": [],
   "source": [
    "weekly_data = [dr_df, RNPA_df, ther_df]\n",
    "df_names = ['Doctors', 'RN/PAs', 'therapists']"
   ]
  },
  {
   "cell_type": "code",
   "execution_count": null,
   "metadata": {
    "scrolled": false
   },
   "outputs": [],
   "source": [
    "# Run for all 3 categories\n",
    "for i in range(len(weekly_data)):\n",
    "    model, forecast, predictions_df = get_prophet_forecast(df=weekly_data[i], df_name=df_names[i], df_cols=df_cols,\\\n",
    "                     date_hours_cols=date_hours_cols, pred_cols=pred_cols, periods=periods)\n",
    "    plot_prophet_forecast(model, forecast, df_name=df_names[i])"
   ]
  },
  {
   "cell_type": "code",
   "execution_count": null,
   "metadata": {},
   "outputs": [],
   "source": [
    "# predictions_df"
   ]
  },
  {
   "cell_type": "code",
   "execution_count": null,
   "metadata": {},
   "outputs": [],
   "source": []
  },
  {
   "cell_type": "markdown",
   "metadata": {},
   "source": [
    "#### import daily data for each category"
   ]
  },
  {
   "cell_type": "code",
   "execution_count": null,
   "metadata": {},
   "outputs": [],
   "source": [
    "# appointments = pd.read_csv('appointments_through_04-2018.csv', index_col='AppointmentDate')"
   ]
  },
  {
   "cell_type": "code",
   "execution_count": null,
   "metadata": {},
   "outputs": [],
   "source": [
    "# # group by specialty\n",
    "# doctors = appointments[appointments['Specialty'] == 'doctor']\n",
    "# RN_PA = appointments[appointments['Specialty'] == 'RN/PA']\n",
    "# therapists = appointments[appointments['Specialty'] == 'therapist']"
   ]
  },
  {
   "cell_type": "code",
   "execution_count": null,
   "metadata": {},
   "outputs": [],
   "source": [
    "# specialties = [doctors, RN_PA, therapists]"
   ]
  },
  {
   "cell_type": "code",
   "execution_count": null,
   "metadata": {},
   "outputs": [],
   "source": [
    "# for s in specialties:\n",
    "#     s.index = pd.to_datetime(s.index)"
   ]
  },
  {
   "cell_type": "code",
   "execution_count": null,
   "metadata": {},
   "outputs": [],
   "source": [
    "# doc_hours = doctors.groupby(doctors.index.date)['AppointmentDuration'].sum()/60\n",
    "# RN_PA_hours = RN_PA.groupby(RN_PA.index.date)['AppointmentDuration'].sum()/60\n",
    "# therapist_hours = therapists.groupby(therapists.index.date)['AppointmentDuration'].sum()/60"
   ]
  },
  {
   "cell_type": "code",
   "execution_count": null,
   "metadata": {},
   "outputs": [],
   "source": [
    "# doc_hours = doc_hours.to_frame()\n",
    "# doc_hours['DS'] = doc_hours.index"
   ]
  },
  {
   "cell_type": "code",
   "execution_count": null,
   "metadata": {},
   "outputs": [],
   "source": []
  },
  {
   "cell_type": "code",
   "execution_count": null,
   "metadata": {},
   "outputs": [],
   "source": []
  }
 ],
 "metadata": {
  "kernelspec": {
   "display_name": "Python 3",
   "language": "python",
   "name": "python3"
  },
  "language_info": {
   "codemirror_mode": {
    "name": "ipython",
    "version": 3
   },
   "file_extension": ".py",
   "mimetype": "text/x-python",
   "name": "python",
   "nbconvert_exporter": "python",
   "pygments_lexer": "ipython3",
   "version": "3.6.5"
  }
 },
 "nbformat": 4,
 "nbformat_minor": 2
}
