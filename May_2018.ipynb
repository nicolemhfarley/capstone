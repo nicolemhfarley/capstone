{
 "cells": [
  {
   "cell_type": "code",
   "execution_count": null,
   "metadata": {},
   "outputs": [],
   "source": [
    "import numpy as np\n",
    "import pandas as pd\n",
    "import matplotlib.pyplot as plt\n",
    "%matplotlib inline\n",
    "from statsmodels.graphics import tsaplots\n",
    "import statsmodels.api as sm\n",
    "from statsmodels.tsa.arima_model import ARIMA, ARIMAResults, ARMA\n",
    "from statsmodels.tsa.arima_process import ArmaProcess\n",
    "from sklearn.metrics import mean_squared_error\n",
    "%load_ext autoreload\n",
    "%autoreload 2\n",
    "import warnings\n",
    "warnings.filterwarnings(\"ignore\")"
   ]
  },
  {
   "cell_type": "code",
   "execution_count": null,
   "metadata": {},
   "outputs": [],
   "source": [
    "from functions.timeseries_functions import index_to_datetime, plot_all_df_columns, weekly_resample, plot_series,\\\n",
    "plot_series_save_fig, plot_series_and_differences, run_augmented_Dickey_Fuller_test, \\\n",
    "plot_autocorrelation, plot_partial_autocorrelation, plot_decomposition"
   ]
  },
  {
   "cell_type": "code",
   "execution_count": null,
   "metadata": {},
   "outputs": [],
   "source": [
    "# import data for 2018\n",
    "df_2018 = pd.read_csv('./data/AppointmentsSince2018.csv')"
   ]
  },
  {
   "cell_type": "code",
   "execution_count": null,
   "metadata": {},
   "outputs": [],
   "source": [
    "df_2018.head().T"
   ]
  },
  {
   "cell_type": "code",
   "execution_count": null,
   "metadata": {},
   "outputs": [],
   "source": [
    "df_2018['Provider'].value_counts(), len(df_2018['Provider'].value_counts())"
   ]
  },
  {
   "cell_type": "code",
   "execution_count": null,
   "metadata": {},
   "outputs": [],
   "source": [
    "df_2018['Specialty'].value_counts()"
   ]
  },
  {
   "cell_type": "code",
   "execution_count": null,
   "metadata": {},
   "outputs": [],
   "source": [
    "df_2018.columns"
   ]
  },
  {
   "cell_type": "code",
   "execution_count": null,
   "metadata": {},
   "outputs": [],
   "source": [
    "# keep only relevant columns\n",
    "df_2018 = df_2018[['Specialty', 'AppointmentDate', 'AppointmentDuration', 'Provider']]"
   ]
  },
  {
   "cell_type": "code",
   "execution_count": null,
   "metadata": {},
   "outputs": [],
   "source": [
    "df_2018['AppointmentDuration'].value_counts()"
   ]
  },
  {
   "cell_type": "code",
   "execution_count": null,
   "metadata": {},
   "outputs": [],
   "source": [
    "# drop appointments > 90 minutes = outliers\n",
    "df_2018 = df_2018[df_2018['AppointmentDuration'] <= 90]"
   ]
  },
  {
   "cell_type": "code",
   "execution_count": null,
   "metadata": {},
   "outputs": [],
   "source": [
    "# set appoinmtemnt duration column to hours\n",
    "df_2018['AppointmentHours'] = df_2018['AppointmentDuration'] / 60.0"
   ]
  },
  {
   "cell_type": "code",
   "execution_count": null,
   "metadata": {},
   "outputs": [],
   "source": [
    "df_2018.head()"
   ]
  },
  {
   "cell_type": "code",
   "execution_count": null,
   "metadata": {},
   "outputs": [],
   "source": [
    "df_2018.drop('AppointmentDuration', axis=1, inplace=True)"
   ]
  },
  {
   "cell_type": "code",
   "execution_count": null,
   "metadata": {},
   "outputs": [],
   "source": [
    "# break down specialty category by provider ID number - from initial_EDA_new.ipynb\n",
    "dr_ID = [7.0, 10.0, 16.0]\n",
    "RNPA_ID = [3.0, 9.0, 12.0, 13.0, 14.0, 15.0, 19.0, 25.0, 27.0, 30.0]\n",
    "ther_ID = [11.0, 17.0, 18.0, 23.0, 24.0, 26.0, 28.0, 29.0]"
   ]
  },
  {
   "cell_type": "code",
   "execution_count": null,
   "metadata": {},
   "outputs": [],
   "source": [
    "df_2018['Specialty'].loc[df_2018['Provider'].isin(dr_ID)]= 'doctor'\n",
    "df_2018['Specialty'].loc[df_2018['Provider'].isin(RNPA_ID)] = 'RN/PA'\n",
    "df_2018['Specialty'].loc[df_2018['Provider'].isin(ther_ID)] = 'therapist'"
   ]
  },
  {
   "cell_type": "code",
   "execution_count": null,
   "metadata": {},
   "outputs": [],
   "source": [
    "df_2018['Specialty'].value_counts()"
   ]
  },
  {
   "cell_type": "code",
   "execution_count": null,
   "metadata": {},
   "outputs": [],
   "source": [
    "df_2018.info()"
   ]
  },
  {
   "cell_type": "code",
   "execution_count": null,
   "metadata": {},
   "outputs": [],
   "source": [
    "# convert Appointmentdate column to datetime then set as index\n",
    "df_2018['AppointmentDate'] = pd.to_datetime(df_2018['AppointmentDate'], format='%Y-%m-%d', errors='coerce')"
   ]
  },
  {
   "cell_type": "code",
   "execution_count": null,
   "metadata": {},
   "outputs": [],
   "source": [
    "df_2018.index = df_2018['AppointmentDate']"
   ]
  },
  {
   "cell_type": "code",
   "execution_count": null,
   "metadata": {},
   "outputs": [],
   "source": [
    "# df_2018.index"
   ]
  },
  {
   "cell_type": "code",
   "execution_count": null,
   "metadata": {},
   "outputs": [],
   "source": [
    "dr = df_2018[df_2018['Specialty'] == 'doctor']\n",
    "RNPA = df_2018[df_2018['Specialty'] == 'RN/PA']\n",
    "ther = df_2018[df_2018['Specialty'] == 'therapist']"
   ]
  },
  {
   "cell_type": "code",
   "execution_count": null,
   "metadata": {},
   "outputs": [],
   "source": [
    "dr_num.head(), RNPA_num.head(), ther_num.head()"
   ]
  },
  {
   "cell_type": "code",
   "execution_count": null,
   "metadata": {},
   "outputs": [],
   "source": [
    "dr_hours = dr[['AppointmentHours']]\n",
    "RNPA_hours = RNPA[['AppointmentHours']]\n",
    "ther_hours = ther[['AppointmentHours']]"
   ]
  },
  {
   "cell_type": "code",
   "execution_count": null,
   "metadata": {},
   "outputs": [],
   "source": [
    "# resample to weekly hours data\n",
    "dr_hours = dr_hours.resample('W-MON').sum()\n",
    "RNPA_hours = RNPA_hours.resample('W-MON').sum()\n",
    "ther_hours = ther_hours.resample('W-MON').sum()"
   ]
  },
  {
   "cell_type": "code",
   "execution_count": null,
   "metadata": {},
   "outputs": [],
   "source": [
    "dr_hours.head(), RNPA_hours.head(), ther_hours.head()"
   ]
  },
  {
   "cell_type": "code",
   "execution_count": null,
   "metadata": {},
   "outputs": [],
   "source": [
    "# get data for May 2018, each specialty\n",
    "dr_may_hours_2018 = dr_hours['2018-05-07':'2018-05-28']\n",
    "RNPA_may_hours_2018 = RNPA_hours['2018-05-07':'2018-05-28']\n",
    "ther_may_hours_2018 = ther_hours['2018-05-07':'2018-05-28']"
   ]
  },
  {
   "cell_type": "code",
   "execution_count": null,
   "metadata": {},
   "outputs": [],
   "source": [
    "dr_may_hours_2018, RNPA_may_hours_2018, ther_may_hours_2018"
   ]
  },
  {
   "cell_type": "code",
   "execution_count": null,
   "metadata": {},
   "outputs": [],
   "source": [
    "# get unique number of providers for each week\n",
    "dr_num = dr['Provider'].resample('W-MON', lambda x: x.nunique())\n",
    "RNPA_num = RNPA['Provider'].resample('W-MON', lambda x: x.nunique())\n",
    "ther_num = ther['Provider'].resample('W-MON', lambda x: x.nunique())"
   ]
  },
  {
   "cell_type": "code",
   "execution_count": null,
   "metadata": {},
   "outputs": [],
   "source": [
    "dr_num_may = dr_num['2018-05-07':'2018-05-28']\n",
    "RNPA_num_may = RNPA_num['2018-05-07':'2018-05-28']\n",
    "ther_num_may = ther_num['2018-05-07':'2018-05-28']"
   ]
  },
  {
   "cell_type": "code",
   "execution_count": null,
   "metadata": {},
   "outputs": [],
   "source": [
    "dr_num_may.head(), RNPA_num_may.head(), ther_num_may.head()"
   ]
  },
  {
   "cell_type": "code",
   "execution_count": null,
   "metadata": {},
   "outputs": [],
   "source": [
    "dr_may_hours_2018.index"
   ]
  },
  {
   "cell_type": "code",
   "execution_count": null,
   "metadata": {},
   "outputs": [],
   "source": [
    "dr_num_may.index"
   ]
  },
  {
   "cell_type": "code",
   "execution_count": null,
   "metadata": {},
   "outputs": [],
   "source": [
    "# join hours and numbers into single dataframe for may\n",
    "dr_may = pd.concat([dr_may_hours_2018, dr_num_may], axis=1)\n",
    "RNPA_may = pd.concat([RNPA_may_hours_2018, RNPA_num_may], axis=1)\n",
    "ther_may = pd.concat([ther_may_hours_2018, ther_num_may], axis=1)"
   ]
  },
  {
   "cell_type": "code",
   "execution_count": null,
   "metadata": {},
   "outputs": [],
   "source": [
    "dr_may, RNPA_may, ther_may"
   ]
  },
  {
   "cell_type": "code",
   "execution_count": null,
   "metadata": {},
   "outputs": [],
   "source": [
    "# rename Providers column\n",
    "dr_may.columns = ['Appointment Hours', 'Number of Providers']\n",
    "RNPA_may.columns = ['Appointment Hours', 'Number of Providers']\n",
    "ther_may.columns = ['Appointment Hours', 'Number of Providers']"
   ]
  },
  {
   "cell_type": "code",
   "execution_count": null,
   "metadata": {},
   "outputs": [],
   "source": [
    "# export May data to csv\n",
    "dr_may.to_csv('./data/May2018_data_doctors.csv')\n",
    "RNPA_may.to_csv('./data/May2018_data_RNPAs.csv')\n",
    "ther_may.to_csv('./data/May2018_data_therapists.csv')"
   ]
  },
  {
   "cell_type": "code",
   "execution_count": null,
   "metadata": {},
   "outputs": [],
   "source": []
  }
 ],
 "metadata": {
  "kernelspec": {
   "display_name": "Python 3",
   "language": "python",
   "name": "python3"
  },
  "language_info": {
   "codemirror_mode": {
    "name": "ipython",
    "version": 3
   },
   "file_extension": ".py",
   "mimetype": "text/x-python",
   "name": "python",
   "nbconvert_exporter": "python",
   "pygments_lexer": "ipython3",
   "version": "3.6.5"
  }
 },
 "nbformat": 4,
 "nbformat_minor": 2
}
