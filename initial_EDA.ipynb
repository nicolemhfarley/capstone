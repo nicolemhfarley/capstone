{
 "cells": [
  {
   "cell_type": "code",
   "execution_count": null,
   "metadata": {
    "collapsed": true
   },
   "outputs": [],
   "source": [
    "import numpy as np\n",
    "import pandas as pd\n",
    "import matplotlib.pyplot as plt\n",
    "%matplotlib inline\n",
    "from statsmodels.graphics import tsaplots\n",
    "import statsmodels.api as sm\n",
    "from statsmodels.tsa.arima_model import ARIMA, ARIMAResults\n",
    "from statsmodels.tsa.arima_process import ArmaProcess\n",
    "from statsmodels.stats.diagnostic import acorr_ljungbox\n",
    "from scipy import signal\n",
    "\n",
    "import os\n",
    "import itertools"
   ]
  },
  {
   "cell_type": "code",
   "execution_count": null,
   "metadata": {
    "collapsed": true,
    "scrolled": true
   },
   "outputs": [],
   "source": [
    "# plt.style.available"
   ]
  },
  {
   "cell_type": "code",
   "execution_count": null,
   "metadata": {
    "collapsed": true
   },
   "outputs": [],
   "source": [
    "# plt.rcParams.keys()"
   ]
  },
  {
   "cell_type": "raw",
   "metadata": {},
   "source": [
    "import data from folowing csv files: Appointments, CallsRingCentral, MettingReasonForVisits, MeetingStatus, Offices, ProvidersSchedules"
   ]
  },
  {
   "cell_type": "code",
   "execution_count": null,
   "metadata": {
    "collapsed": true
   },
   "outputs": [],
   "source": [
    "# sns.heatmap(correlation_matrix,\n",
    "#             annot=True,\n",
    "#             linewidths=0.4,\n",
    "#             annot_kws={\"size\": 10})"
   ]
  },
  {
   "cell_type": "markdown",
   "metadata": {},
   "source": [
    "### import data"
   ]
  },
  {
   "cell_type": "code",
   "execution_count": null,
   "metadata": {
    "collapsed": true
   },
   "outputs": [],
   "source": [
    "# appointments = pd.read_csv('Appointments.csv')\n",
    "appointments = pd.read_csv('AppointmentsSince2015.csv')"
   ]
  },
  {
   "cell_type": "code",
   "execution_count": null,
   "metadata": {
    "collapsed": true
   },
   "outputs": [],
   "source": [
    "calls = pd.read_csv('CallsRingCentral.csv')"
   ]
  },
  {
   "cell_type": "code",
   "execution_count": null,
   "metadata": {
    "collapsed": true
   },
   "outputs": [],
   "source": [
    "reason_for_visit = pd.read_csv('MeetingReasonForVisits.csv')"
   ]
  },
  {
   "cell_type": "code",
   "execution_count": null,
   "metadata": {
    "collapsed": true
   },
   "outputs": [],
   "source": [
    "meeting_status = pd.read_csv('MeetingStatus.csv')"
   ]
  },
  {
   "cell_type": "code",
   "execution_count": null,
   "metadata": {
    "collapsed": true
   },
   "outputs": [],
   "source": [
    "offices = pd.read_csv('Offices.csv')"
   ]
  },
  {
   "cell_type": "code",
   "execution_count": null,
   "metadata": {
    "collapsed": true
   },
   "outputs": [],
   "source": [
    "providers_schedules = pd.read_csv('ProvidersSchedulesLastest.csv')"
   ]
  },
  {
   "cell_type": "markdown",
   "metadata": {},
   "source": [
    "### explore data"
   ]
  },
  {
   "cell_type": "code",
   "execution_count": null,
   "metadata": {},
   "outputs": [],
   "source": [
    "appointments.info()"
   ]
  },
  {
   "cell_type": "code",
   "execution_count": null,
   "metadata": {},
   "outputs": [],
   "source": [
    "appointments.head().T"
   ]
  },
  {
   "cell_type": "code",
   "execution_count": null,
   "metadata": {},
   "outputs": [],
   "source": [
    "reason_for_visit.head()"
   ]
  },
  {
   "cell_type": "code",
   "execution_count": null,
   "metadata": {},
   "outputs": [],
   "source": [
    "reason_for_visit.info()"
   ]
  },
  {
   "cell_type": "raw",
   "metadata": {},
   "source": [
    "reason_for_visit lists the 100 diff possibilities --> need fill in appointments df"
   ]
  },
  {
   "cell_type": "code",
   "execution_count": null,
   "metadata": {},
   "outputs": [],
   "source": [
    "len(reason_for_visit['Name'].unique())"
   ]
  },
  {
   "cell_type": "code",
   "execution_count": null,
   "metadata": {},
   "outputs": [],
   "source": [
    "meeting_status.head()"
   ]
  },
  {
   "cell_type": "code",
   "execution_count": null,
   "metadata": {},
   "outputs": [],
   "source": [
    "meeting_status.info()"
   ]
  },
  {
   "cell_type": "code",
   "execution_count": null,
   "metadata": {},
   "outputs": [],
   "source": [
    "offices.head()"
   ]
  },
  {
   "cell_type": "code",
   "execution_count": null,
   "metadata": {},
   "outputs": [],
   "source": [
    "offices.info()"
   ]
  },
  {
   "cell_type": "code",
   "execution_count": null,
   "metadata": {},
   "outputs": [],
   "source": [
    "providers_schedules.head()"
   ]
  },
  {
   "cell_type": "code",
   "execution_count": null,
   "metadata": {},
   "outputs": [],
   "source": [
    "providers_schedules.info()"
   ]
  },
  {
   "cell_type": "code",
   "execution_count": null,
   "metadata": {},
   "outputs": [],
   "source": [
    "calls.head().T"
   ]
  },
  {
   "cell_type": "raw",
   "metadata": {},
   "source": [
    "calls df may not be too useful.  Need to consider further."
   ]
  },
  {
   "cell_type": "code",
   "execution_count": null,
   "metadata": {},
   "outputs": [],
   "source": [
    "calls.info()"
   ]
  },
  {
   "cell_type": "markdown",
   "metadata": {},
   "source": [
    "### combine/merge dataframes"
   ]
  },
  {
   "cell_type": "raw",
   "metadata": {},
   "source": [
    "- regroup provider specialty into following categories: doctor, RN/PA, therapist\n",
    "- Fill in id columns in Appointments df: reason for visit id, status id, office id with names/descriptions from the other dataframes"
   ]
  },
  {
   "cell_type": "code",
   "execution_count": null,
   "metadata": {},
   "outputs": [],
   "source": [
    "appointments['Specialty'].unique()"
   ]
  },
  {
   "cell_type": "code",
   "execution_count": null,
   "metadata": {},
   "outputs": [],
   "source": [
    "appointments.columns"
   ]
  },
  {
   "cell_type": "code",
   "execution_count": null,
   "metadata": {},
   "outputs": [],
   "source": [
    "pd.value_counts(appointments['Specialty'])"
   ]
  },
  {
   "cell_type": "code",
   "execution_count": null,
   "metadata": {
    "collapsed": true
   },
   "outputs": [],
   "source": [
    "doctors = ['Psychiatry', 'Child & Adolescent Psychiatry', ]\n",
    "RN_PAs = ['Medical', 'Psych/Mental Health, Child & Adolescent', 'Psych/Mental Health', 'Physician Assistant']\n",
    "therapists = ['Marriage & Family Therapist', 'Psychologist', 'Specialist/Technologist, Other', 'Clinical' ]"
   ]
  },
  {
   "cell_type": "code",
   "execution_count": null,
   "metadata": {},
   "outputs": [],
   "source": [
    "appointments['Specialty'].loc[appointments['Specialty'].isin(doctors)]= 'doctor'\n",
    "appointments['Specialty'].loc[appointments['Specialty'].isin(RN_PAs)] = 'RN/PA'\n",
    "appointments['Specialty'].loc[appointments['Specialty'].isin(therapists)] = 'therapist'"
   ]
  },
  {
   "cell_type": "code",
   "execution_count": null,
   "metadata": {},
   "outputs": [],
   "source": [
    "pd.value_counts(appointments['Specialty'])"
   ]
  },
  {
   "cell_type": "code",
   "execution_count": null,
   "metadata": {},
   "outputs": [],
   "source": [
    "appointments['Specialty'].isnull().sum()"
   ]
  },
  {
   "cell_type": "code",
   "execution_count": null,
   "metadata": {
    "collapsed": true
   },
   "outputs": [],
   "source": [
    "merged1 = pd.merge(left=appointments, right=reason_for_visit, how='left', left_on='MeetingReasonForVisitId',\\\n",
    "                  right_on='Id')"
   ]
  },
  {
   "cell_type": "code",
   "execution_count": null,
   "metadata": {
    "collapsed": true
   },
   "outputs": [],
   "source": [
    "merged1 = merged1.rename(columns={'MeetingReasonForVisitId': 'ReasonForVisitId', 'Name':'ReasonForVisitName', 'Description':'ReasonForVisitDescription'})"
   ]
  },
  {
   "cell_type": "code",
   "execution_count": null,
   "metadata": {},
   "outputs": [],
   "source": [
    "merged1.columns"
   ]
  },
  {
   "cell_type": "code",
   "execution_count": null,
   "metadata": {
    "collapsed": true
   },
   "outputs": [],
   "source": [
    "merged1.drop('Id', axis=1, inplace=True)"
   ]
  },
  {
   "cell_type": "code",
   "execution_count": null,
   "metadata": {
    "collapsed": true
   },
   "outputs": [],
   "source": [
    "# merge in office name from offices df\n",
    "merged1 = pd.merge(left=merged1, right=offices, how='left', left_on='OfficeId', right_on='id')"
   ]
  },
  {
   "cell_type": "code",
   "execution_count": null,
   "metadata": {
    "collapsed": true
   },
   "outputs": [],
   "source": [
    "merged1 = merged1.rename(columns={'Name':'OfficeName', 'id_x':'id'})"
   ]
  },
  {
   "cell_type": "code",
   "execution_count": null,
   "metadata": {
    "collapsed": true
   },
   "outputs": [],
   "source": [
    "merged1.drop('id_y', axis=1, inplace=True)"
   ]
  },
  {
   "cell_type": "code",
   "execution_count": null,
   "metadata": {
    "collapsed": true
   },
   "outputs": [],
   "source": [
    "merged1 = pd.merge(left=merged1, right=meeting_status, how='left', left_on='MeetingStatusId', right_on='Id')"
   ]
  },
  {
   "cell_type": "code",
   "execution_count": null,
   "metadata": {
    "collapsed": true
   },
   "outputs": [],
   "source": [
    "merged1 = merged1.rename(columns={'Name':'MeetingStatusName', 'Description':'MeetingStatusDescription'})"
   ]
  },
  {
   "cell_type": "code",
   "execution_count": null,
   "metadata": {
    "collapsed": true
   },
   "outputs": [],
   "source": [
    "merged1.drop('Id', axis=1, inplace=True)"
   ]
  },
  {
   "cell_type": "code",
   "execution_count": null,
   "metadata": {},
   "outputs": [],
   "source": [
    "merged1.info()"
   ]
  },
  {
   "cell_type": "code",
   "execution_count": null,
   "metadata": {
    "collapsed": true,
    "scrolled": true
   },
   "outputs": [],
   "source": [
    "# merged1.head().T"
   ]
  },
  {
   "cell_type": "code",
   "execution_count": null,
   "metadata": {},
   "outputs": [],
   "source": [
    "# rearrange column order to group releveant columns together\n",
    "merged1.columns"
   ]
  },
  {
   "cell_type": "code",
   "execution_count": null,
   "metadata": {
    "collapsed": true
   },
   "outputs": [],
   "source": [
    "# reorder columns within the df\n",
    "ordered_columns = ['id', 'Patient', 'PatientAgeMeetingDate', 'PatientGender',\n",
    "       'PatientState', 'PatientCity', 'PatientInsurance', 'Provider',\n",
    "       'Specialty', 'AppointmentDate', 'AppointmentCreated', 'AppointmentDuration', 'ReasonForVisitId', 'ReasonForVisitName',\n",
    "       'ReasonForVisitDescription','MeetingStatusId', 'MeetingStatusName',\n",
    "       'MeetingStatusDescription', 'OfficeId',  'OfficeName', 'CreatedBy']"
   ]
  },
  {
   "cell_type": "code",
   "execution_count": null,
   "metadata": {
    "collapsed": true
   },
   "outputs": [],
   "source": [
    "merged1 = merged1[ordered_columns]"
   ]
  },
  {
   "cell_type": "code",
   "execution_count": null,
   "metadata": {},
   "outputs": [],
   "source": [
    "# id any missing specialties\n",
    "merged1['Specialty'].isnull().sum(), merged1['Specialty'].notnull().sum()"
   ]
  },
  {
   "cell_type": "markdown",
   "metadata": {},
   "source": [
    "### Data Cleaning: \n",
    "#### filling NaN values"
   ]
  },
  {
   "cell_type": "raw",
   "metadata": {},
   "source": [
    "- Is it possible to infer specialty from other column values?  Use ReasonForVisitName"
   ]
  },
  {
   "cell_type": "code",
   "execution_count": null,
   "metadata": {
    "collapsed": true
   },
   "outputs": [],
   "source": [
    "no_specialty = merged1[appointments['Specialty'].isnull()] "
   ]
  },
  {
   "cell_type": "code",
   "execution_count": null,
   "metadata": {
    "collapsed": true
   },
   "outputs": [],
   "source": [
    "no_specialty = no_specialty[['Provider', 'Specialty', 'AppointmentDate', 'AppointmentCreated',\\\n",
    "        'AppointmentDuration', 'ReasonForVisitId', 'ReasonForVisitName',\n",
    "       'ReasonForVisitDescription','MeetingStatusId', 'MeetingStatusName', 'MeetingStatusDescription', \\\n",
    "    'OfficeId',  'OfficeName']]"
   ]
  },
  {
   "cell_type": "code",
   "execution_count": null,
   "metadata": {
    "collapsed": true
   },
   "outputs": [],
   "source": [
    "# no_specialty.head().T"
   ]
  },
  {
   "cell_type": "code",
   "execution_count": null,
   "metadata": {},
   "outputs": [],
   "source": [
    "pd.value_counts(no_specialty['ReasonForVisitName'])"
   ]
  },
  {
   "cell_type": "raw",
   "metadata": {
    "collapsed": true
   },
   "source": [
    "Some specialties are implied by ReasonForVisitName"
   ]
  },
  {
   "cell_type": "code",
   "execution_count": null,
   "metadata": {},
   "outputs": [],
   "source": [
    "# filling NaN values in Specialty\n",
    "implied_therapy = ['Therapy', 'New Patient Therapy', ]\n",
    "implied_doctor = ['Therapy Telepsychiatry','Follow up Telepsychiatry', 'New Patient Therapy Telepsychiatry',\\\n",
    "                  'New Patient MD Adult', 'New Patient MD Adult Telepsychiatry']\n",
    "merged1['Specialty'].loc[merged1['ReasonForVisitName'].isin(implied_therapy)] = 'therapist'\n",
    "merged1['Specialty'].loc[merged1['ReasonForVisitName'].isin(implied_doctor)] = 'doctor'"
   ]
  },
  {
   "cell_type": "code",
   "execution_count": null,
   "metadata": {},
   "outputs": [],
   "source": [
    "# most missing values in Specialty are now filled\n",
    "merged1['Specialty'].isnull().sum(), merged1['Specialty'].notnull().sum()"
   ]
  },
  {
   "cell_type": "code",
   "execution_count": null,
   "metadata": {
    "collapsed": true
   },
   "outputs": [],
   "source": [
    "# # remove time component from AppointmentDate and AppointmentCreated columns\n",
    "# merged1['AppointmentCreated'] = merged1['AppointmentCreated'].str.slice(start=0, stop=10)\n",
    "# merged1['AppointmentDate'] = merged1['AppointmentDate'].str.slice(start=0, stop=10)"
   ]
  },
  {
   "cell_type": "code",
   "execution_count": null,
   "metadata": {
    "collapsed": true
   },
   "outputs": [],
   "source": [
    "# pd.value_counts(merged1['PatientState']), pd.value_counts(merged1['PatientCity'])"
   ]
  },
  {
   "cell_type": "code",
   "execution_count": null,
   "metadata": {
    "collapsed": true
   },
   "outputs": [],
   "source": [
    "# pd.value_counts(merged1['PatientGender']), # pd.value_counts(merged1['MeetingStatusName'])"
   ]
  },
  {
   "cell_type": "code",
   "execution_count": null,
   "metadata": {},
   "outputs": [],
   "source": [
    "pd.value_counts(merged1['AppointmentDuration'])"
   ]
  },
  {
   "cell_type": "raw",
   "metadata": {},
   "source": [
    "Need to remove outliers for visit Duration --> QME testing (workers comp) & initial child appointments"
   ]
  },
  {
   "cell_type": "code",
   "execution_count": null,
   "metadata": {},
   "outputs": [],
   "source": [
    "pd.value_counts(merged1[merged1['AppointmentDuration'] > 90]['ReasonForVisitName'])"
   ]
  },
  {
   "cell_type": "code",
   "execution_count": null,
   "metadata": {
    "collapsed": true
   },
   "outputs": [],
   "source": [
    "# convert date columns to datetime \n",
    "merged1['AppointmentCreated'] = pd.to_datetime(merged1['AppointmentCreated'], errors='coerce')#.apply(lambda x: x.date()) #, format='%Y-%m-%d')\n",
    "merged1['AppointmentDate'] = pd.to_datetime(merged1['AppointmentDate'], errors='coerce')#.apply(lambda x: x.date()) #, format='%Y-%m-%d')"
   ]
  },
  {
   "cell_type": "code",
   "execution_count": null,
   "metadata": {
    "collapsed": true
   },
   "outputs": [],
   "source": [
    "# calculate time between AppointmentCreated and AppointmentDate\n",
    "merged1['DaysFromAppointmentCreatedToVisit'] = (merged1['AppointmentDate'] - merged1['AppointmentCreated']).dt.days"
   ]
  },
  {
   "cell_type": "code",
   "execution_count": null,
   "metadata": {
    "collapsed": true,
    "scrolled": true
   },
   "outputs": [],
   "source": [
    "# merged1.info()"
   ]
  },
  {
   "cell_type": "code",
   "execution_count": null,
   "metadata": {},
   "outputs": [],
   "source": [
    "# merged1['Specialty'].isnull()\n",
    "merged1.isnull().sum()"
   ]
  },
  {
   "cell_type": "code",
   "execution_count": null,
   "metadata": {
    "collapsed": true
   },
   "outputs": [],
   "source": [
    "# pd.value_counts(merged1['DaysFromAppointmentCreatedToVisit'])"
   ]
  },
  {
   "cell_type": "code",
   "execution_count": null,
   "metadata": {
    "collapsed": true
   },
   "outputs": [],
   "source": [
    "# columns where time between when appointment was created and appointment was negative\n",
    "# merged1[merged1['DaysFromAppointmentCreatedToVisit'] < 0][['DaysFromAppointmentCreatedToVisit', 'AppointmentCreated', 'AppointmentDate']]"
   ]
  },
  {
   "cell_type": "code",
   "execution_count": null,
   "metadata": {
    "collapsed": true
   },
   "outputs": [],
   "source": [
    "# merged1.dtypes"
   ]
  },
  {
   "cell_type": "raw",
   "metadata": {},
   "source": [
    "merged1 df:\n",
    "- a few missing values in Patient column, may not be necessary to keep this column given additional info\n",
    "- similarly, a few missing from AppointmentCreated.  May drop these rows\n",
    "- missing ~ 5000 entries under CreatedBy.  May just drop this column also\n",
    "- what is the id column? Possibly unneccessary \n",
    "- Patient Insurance may not be neccessary and many missing values. \n",
    "- missing about 2500 from Specialty.  May be fewer if I end up focusing on one specialty for this project.  Deal with this if it becomes an issue.  May have to drop these unless there is some addition info that can be used instead like OfficeId/Name\n",
    "- What is the provider?  Numerical code translates into???  Is this necessary?  Potential substitue for Specialty?\n",
    "- Missing significant portion of PatientState and PatientCity values.  May be able to us OfficeId/Name to get info on location instead\n",
    "- DaysFromAppointmentCreatedToVisit has some negative values for some reason.  Will need to fix those before proceeding: Either simply change the sign, drop those values, or set them to 0?"
   ]
  },
  {
   "cell_type": "raw",
   "metadata": {},
   "source": [
    "- plot number of visits for each reason over time using AppointmentDate"
   ]
  },
  {
   "cell_type": "code",
   "execution_count": null,
   "metadata": {
    "scrolled": false
   },
   "outputs": [],
   "source": [
    "pd.value_counts(merged1['Specialty'])"
   ]
  },
  {
   "cell_type": "raw",
   "metadata": {},
   "source": [
    "Data contain some future appointments.  Need to remove these.\n",
    "Set merged2 df to have all data through Feb 2018"
   ]
  },
  {
   "cell_type": "code",
   "execution_count": null,
   "metadata": {
    "collapsed": true
   },
   "outputs": [],
   "source": [
    "merged1 = merged1.set_index('AppointmentDate')"
   ]
  },
  {
   "cell_type": "code",
   "execution_count": null,
   "metadata": {
    "collapsed": true
   },
   "outputs": [],
   "source": [
    "merged2 = merged1.copy()"
   ]
  },
  {
   "cell_type": "code",
   "execution_count": null,
   "metadata": {},
   "outputs": [],
   "source": [
    "merged2.index"
   ]
  },
  {
   "cell_type": "code",
   "execution_count": null,
   "metadata": {
    "collapsed": true
   },
   "outputs": [],
   "source": [
    "merged2 = merged2['2018-02-28':]"
   ]
  },
  {
   "cell_type": "code",
   "execution_count": null,
   "metadata": {
    "collapsed": true
   },
   "outputs": [],
   "source": [
    "test_data = merged1['2018-04-30':'2018-02-28']"
   ]
  },
  {
   "cell_type": "code",
   "execution_count": null,
   "metadata": {
    "collapsed": true
   },
   "outputs": [],
   "source": [
    "# merged2.info()"
   ]
  },
  {
   "cell_type": "code",
   "execution_count": null,
   "metadata": {
    "collapsed": true
   },
   "outputs": [],
   "source": [
    "# drop rows with missing specialty\n",
    "merged2.dropna(subset=['Specialty'], how='all', inplace=True)"
   ]
  },
  {
   "cell_type": "code",
   "execution_count": null,
   "metadata": {
    "collapsed": true
   },
   "outputs": [],
   "source": [
    "merged_index_month = merged2.index.month"
   ]
  },
  {
   "cell_type": "code",
   "execution_count": null,
   "metadata": {
    "collapsed": true
   },
   "outputs": [],
   "source": [
    "merged_index_year = merged2.index.year"
   ]
  },
  {
   "cell_type": "code",
   "execution_count": null,
   "metadata": {},
   "outputs": [],
   "source": [
    "merged2.index.date"
   ]
  },
  {
   "cell_type": "code",
   "execution_count": null,
   "metadata": {
    "collapsed": true
   },
   "outputs": [],
   "source": [
    "def plot_num_appointments_by_month(df, group_col, plot_name, colormap='Dark2'):\n",
    "    \"\"\" Plot duration data grouped by month\"\"\"\n",
    "    ax = df.groupby([df.index.year, df.index.month, group_col])[group_col]\\\n",
    "    .count().unstack().plot(figsize=(10,8),colormap=colormap, linewidth=3, fontsize=12, rot=30)\n",
    "    ax.set_title(plot_name)\n",
    "    ax.set_xlabel('Date')\n",
    "    ax.set_ylabel('Number of Appointments')\n",
    "    ax.legend(loc='center left', bbox_to_anchor=(1.0, 0.5), fontsize=12)\n",
    "    plt.show()"
   ]
  },
  {
   "cell_type": "code",
   "execution_count": null,
   "metadata": {},
   "outputs": [],
   "source": [
    "# plot number of appoints by specialty for each month through February 2018, adding multiple years\n",
    "plot_num_appointments_by_month(df=merged2, group_col='Specialty', plot_name=\\\n",
    "        'Number of Appointments per Month by Specialty', colormap='Dark2')"
   ]
  },
  {
   "cell_type": "raw",
   "metadata": {
    "collapsed": true
   },
   "source": [
    "Instead of looking at number of appointments, look at number of hours per day per provider/provider specialty"
   ]
  },
  {
   "cell_type": "code",
   "execution_count": null,
   "metadata": {
    "collapsed": true
   },
   "outputs": [],
   "source": [
    "merged2['DurationHours'] = merged2['AppointmentDuration'] /60"
   ]
  },
  {
   "cell_type": "code",
   "execution_count": null,
   "metadata": {
    "collapsed": true
   },
   "outputs": [],
   "source": [
    "time_spent_by_month = merged2.groupby([merged_index_year, merged_index_month, 'Specialty'])['DurationHours'].sum()"
   ]
  },
  {
   "cell_type": "code",
   "execution_count": null,
   "metadata": {},
   "outputs": [],
   "source": [
    "time_spent_by_month.head()"
   ]
  },
  {
   "cell_type": "code",
   "execution_count": null,
   "metadata": {
    "collapsed": true
   },
   "outputs": [],
   "source": [
    "def plot_time_spent_by_month(df, group_col, duration_col, plot_name, colormap='Dark2'):\n",
    "    \"\"\" Plot duration data grouped by month\"\"\"\n",
    "    ax = df.groupby([df.index.year, df.index.month, group_col])[duration_col]\\\n",
    "    .sum().unstack().plot(figsize=(10,8),colormap=colormap, linewidth=3, fontsize=12, rot=30)\n",
    "    ax.set_title(plot_name)\n",
    "    ax.set_xlabel('Date')\n",
    "    ax.set_ylabel('Time')\n",
    "    ax.legend(loc='center left', bbox_to_anchor=(1.0, 0.5), fontsize=12)\n",
    "    plt.show()"
   ]
  },
  {
   "cell_type": "code",
   "execution_count": null,
   "metadata": {},
   "outputs": [],
   "source": [
    "plot_time_spent_by_month(df=merged2, group_col='Specialty', duration_col='DurationHours', \\\n",
    "            plot_name='Time Spent by Specialty (hours)', colormap='Dark2')"
   ]
  },
  {
   "cell_type": "code",
   "execution_count": null,
   "metadata": {
    "collapsed": true,
    "scrolled": true
   },
   "outputs": [],
   "source": [
    "# date = merged2.index\n",
    "# merged2.groupby([date,'Specialty'])['DurationHours'].sum()"
   ]
  },
  {
   "cell_type": "code",
   "execution_count": null,
   "metadata": {
    "collapsed": true
   },
   "outputs": [],
   "source": [
    "date = pd.to_datetime(merged2.index,format='%Y-%m-%d')"
   ]
  },
  {
   "cell_type": "code",
   "execution_count": null,
   "metadata": {
    "collapsed": true
   },
   "outputs": [],
   "source": [
    "merged2['AppointmentDate'] = date"
   ]
  },
  {
   "cell_type": "code",
   "execution_count": null,
   "metadata": {
    "collapsed": true
   },
   "outputs": [],
   "source": [
    "def plot_time_spent(df, date_col, group_col, duration_col, plot_name, colormap='Dark2'):\n",
    "    \"\"\" Plot duration data grouped by month\"\"\"\n",
    "    ax = df.groupby([date_col, group_col])[duration_col]\\\n",
    "    .sum().unstack().plot(figsize=(10,8),colormap=colormap, linewidth=3, fontsize=12, rot=30)\n",
    "    ax.set_title(plot_name)\n",
    "    ax.set_xlabel('Date')\n",
    "#     ax.set_ylabel('Time')\n",
    "    ax.legend(loc='center left', bbox_to_anchor=(1.0, 0.5), fontsize=12)\n",
    "    plt.show()"
   ]
  },
  {
   "cell_type": "code",
   "execution_count": null,
   "metadata": {},
   "outputs": [],
   "source": [
    "plot_time_spent(df=merged2, date_col='AppointmentDate', group_col='Specialty', duration_col='DurationHours',\\\n",
    "            plot_name='Time per Month by Specialty (hours)', colormap='Dark2')"
   ]
  },
  {
   "cell_type": "code",
   "execution_count": null,
   "metadata": {
    "collapsed": true,
    "scrolled": false
   },
   "outputs": [],
   "source": [
    "# params = {'legend.fontsize': 20, 'legend.handlelength': 2, 'axes.labelsize': 'medium'}\n",
    "# plt.rcParams.update(params)\n",
    "# fig = merged2.groupby(['AppointmentDate', 'Specialty'])['DurationHours'].sum().unstack().plot.area(subplots=True,\\\n",
    "#     colormap='Dark2', figsize=(20,50), layout=(10,1), sharex=True, sharey=True, linewidth=3, fontsize=20)\n",
    "# plt.xlabel('Date')\n",
    "# plt.ylabel('Time (hours)', fontsize=20)\n",
    "# plt.tight_layout()\n",
    "# plt.show()"
   ]
  },
  {
   "cell_type": "code",
   "execution_count": null,
   "metadata": {
    "collapsed": true
   },
   "outputs": [],
   "source": [
    "merged2['AppointmentDate'] = merged2.index"
   ]
  },
  {
   "cell_type": "code",
   "execution_count": null,
   "metadata": {
    "collapsed": true
   },
   "outputs": [],
   "source": [
    "duration_df = merged2[['Provider', 'Specialty', 'AppointmentCreated', 'AppointmentDate', 'AppointmentDuration',\n",
    "       'ReasonForVisitName', 'DurationHours', 'ReasonForVisitDescription','MeetingStatusName', 'MeetingStatusDescription',\n",
    "       'OfficeId']]"
   ]
  },
  {
   "cell_type": "code",
   "execution_count": null,
   "metadata": {},
   "outputs": [],
   "source": [
    "duration_df.info()"
   ]
  },
  {
   "cell_type": "code",
   "execution_count": null,
   "metadata": {},
   "outputs": [],
   "source": [
    "duration_df.isnull().sum()"
   ]
  },
  {
   "cell_type": "code",
   "execution_count": null,
   "metadata": {
    "collapsed": true
   },
   "outputs": [],
   "source": [
    "# drop appointments that are longer than 90 minutes\n",
    "duration_df = duration_df[duration_df['AppointmentDuration'] <= 90]"
   ]
  },
  {
   "cell_type": "code",
   "execution_count": null,
   "metadata": {
    "collapsed": true
   },
   "outputs": [],
   "source": [
    "# drop remaining columns with missing values\n",
    "duration_df.dropna(axis=0, inplace=True)"
   ]
  },
  {
   "cell_type": "code",
   "execution_count": null,
   "metadata": {
    "collapsed": true
   },
   "outputs": [],
   "source": [
    "# params = {'legend.fontsize': 20, 'legend.handlelength': 2, 'axes.labelsize': 'medium'}\n",
    "# plt.rcParams.update(params)\n",
    "# fig2 = duration_df.groupby(['AppointmentDate', 'Specialty'])['AppointmentDuration'].sum().unstack().plot.area(\\\n",
    "#     colormap='Dark2', figsize=(40,20), linewidth=3, fontsize=20)\n",
    "# plt.xlabel('Date')\n",
    "# plt.ylabel('Time (minutes)', fontsize=20)\n",
    "# plt.tight_layout()\n",
    "# plt.show()"
   ]
  },
  {
   "cell_type": "code",
   "execution_count": null,
   "metadata": {
    "collapsed": true,
    "scrolled": true
   },
   "outputs": [],
   "source": [
    "# params = {'legend.fontsize': 20, 'legend.handlelength': 2, 'axes.labelsize': 'medium'}\n",
    "# plt.rcParams.update(params)\n",
    "# fig2 = duration_df.groupby(['AppointmentDate', 'Specialty'])['DurationHours'].sum().unstack().plot.area(subplots=True,\\\n",
    "#     colormap='Dark2', figsize=(20,60), layout=(10,1), sharex=True, sharey=True, linewidth=3, fontsize=20)\n",
    "# plt.xlabel('Date')\n",
    "# plt.ylabel('Time (minutes)', fontsize=20)\n",
    "# plt.tight_layout()\n",
    "# plt.show()"
   ]
  },
  {
   "cell_type": "code",
   "execution_count": null,
   "metadata": {
    "collapsed": true
   },
   "outputs": [],
   "source": [
    "doctors = duration_df[duration_df['Specialty'] == 'doctor']\n",
    "therapists = duration_df[duration_df['Specialty'] == 'therapist']\n",
    "RN_PA = duration_df[duration_df['Specialty'] == 'RN/PA']"
   ]
  },
  {
   "cell_type": "code",
   "execution_count": null,
   "metadata": {},
   "outputs": [],
   "source": [
    "doc_fig = doctors.groupby([doctors.index.year, doctors.index.month])['DurationHours'].sum().plot(\\\n",
    "        figsize=(8,8), fontsize=10, rot=30)\n",
    "                              \n",
    "plt.title('Doctors', fontsize=15)\n",
    "plt.xlabel('Date')\n",
    "plt.ylabel('Time (hours)', fontsize=12)\n",
    "plt.show()"
   ]
  },
  {
   "cell_type": "code",
   "execution_count": null,
   "metadata": {
    "collapsed": true
   },
   "outputs": [],
   "source": [
    "doc_duration = doctors.groupby(doctors.index.date)['DurationHours'].sum()\n",
    "RN_PA_duration = RN_PA.groupby(RN_PA.index.date)['DurationHours'].sum()\n",
    "therapist_duration = therapists.groupby(therapists.index.date)['DurationHours'].sum()"
   ]
  },
  {
   "cell_type": "code",
   "execution_count": null,
   "metadata": {
    "collapsed": true
   },
   "outputs": [],
   "source": [
    "def plot_series(series, xlabel, ylabel, plot_name):\n",
    "    \"Plots simple time series from Pandas Series\"\n",
    "    ax = series.plot(figsize=(8,3), linewidth = 3, fontsize=10, grid=True, rot=30)\n",
    "    ax.set_title(plot_name, fontsize=18)\n",
    "    ax.set_xlabel(xlabel, fontsize=15)\n",
    "    ax.set_ylabel(ylabel, fontsize=15)\n",
    "    plt.show()"
   ]
  },
  {
   "cell_type": "code",
   "execution_count": null,
   "metadata": {
    "collapsed": true
   },
   "outputs": [],
   "source": [
    "# plot_series(series=doc_duration, xlabel='Date', ylabel='Time Spent (hours)', plot_name='Doctors Series')"
   ]
  },
  {
   "cell_type": "code",
   "execution_count": null,
   "metadata": {
    "collapsed": true
   },
   "outputs": [],
   "source": [
    "def plot_series_and_differences(series, ax, num_diff, title):\n",
    "    \"Plot raw data and specified number of differences\"\n",
    "    ax[0].plot(series.index, series)\n",
    "    ax[0].set_title('Raw series: {}'.format(title))\n",
    "    for i in range(1, num_diff+1):\n",
    "        diff = series.diff(i)\n",
    "        ax[i].plot(series.index, diff)\n",
    "        ax[i].set_title('Difference # {}'.format(str(i)))   "
   ]
  },
  {
   "cell_type": "code",
   "execution_count": null,
   "metadata": {},
   "outputs": [],
   "source": [
    "fig, axes = plt.subplots(3, figsize=(10, 8))\n",
    "plot_series_and_differences(series=doc_duration, ax=axes, num_diff=2, title='Doctors')\n",
    "fig.tight_layout()"
   ]
  },
  {
   "cell_type": "code",
   "execution_count": null,
   "metadata": {
    "collapsed": true
   },
   "outputs": [],
   "source": [
    "def run_augmented_Dickey_Fuller_test(series, num_diffs=None):\n",
    "    test = sm.tsa.stattools.adfuller(series)\n",
    "    if test[1] >= 0.05:\n",
    "        print('The p-value for the series is: {p}, which is not significant'.format(p=test[1]))\n",
    "    else:\n",
    "        print('The p-value for the series is: {p}, which is significant'.format(p=test[1]))  \n",
    "    if num_diffs:\n",
    "        for i in range(1, num_diffs +1):\n",
    "            test = sm.tsa.stattools.adfuller(series.diff(i)[i:])\n",
    "            if test[1] >= 0.05:\n",
    "                print('The p-value for difference {diff} is: {p}, which is not significant'.format(diff=str(i), p=test[1]))\n",
    "            else:\n",
    "                print('The p-value for difference {diff} is: {p}, which is significant'.format(diff=str(i), p=test[1]))   "
   ]
  },
  {
   "cell_type": "code",
   "execution_count": null,
   "metadata": {},
   "outputs": [],
   "source": [
    "# test for stationarity of doctors data, 1st and 2nd diff\n",
    "run_augmented_Dickey_Fuller_test(doc_duration, num_diffs=2)"
   ]
  },
  {
   "cell_type": "code",
   "execution_count": null,
   "metadata": {},
   "outputs": [],
   "source": [
    "fig, axes = plt.subplots(3, figsize=(10, 8))\n",
    "plot_series_and_differences(series=RN_PA_duration, ax=axes, num_diff=2, title='RN/PA')\n",
    "fig.tight_layout()"
   ]
  },
  {
   "cell_type": "code",
   "execution_count": null,
   "metadata": {},
   "outputs": [],
   "source": [
    "# test for stationarity of RN/PA data, 1st and 2nd diff\n",
    "run_augmented_Dickey_Fuller_test(RN_PA_duration, num_diffs=2)"
   ]
  },
  {
   "cell_type": "code",
   "execution_count": null,
   "metadata": {},
   "outputs": [],
   "source": [
    "fig, axes = plt.subplots(3, figsize=(10, 8))\n",
    "plot_series_and_differences(series=therapist_duration, ax=axes, num_diff=2, title='Therapists')\n",
    "fig.tight_layout()"
   ]
  },
  {
   "cell_type": "code",
   "execution_count": null,
   "metadata": {
    "scrolled": true
   },
   "outputs": [],
   "source": [
    "# test for stationarity of therapist data, 1st and 2nd diff\n",
    "run_augmented_Dickey_Fuller_test(therapist_duration, num_diffs=2)"
   ]
  },
  {
   "cell_type": "code",
   "execution_count": null,
   "metadata": {
    "collapsed": true
   },
   "outputs": [],
   "source": []
  },
  {
   "cell_type": "code",
   "execution_count": null,
   "metadata": {
    "collapsed": true
   },
   "outputs": [],
   "source": [
    "## plot detrended doc_dur using functions from matt drury tine series lecture w/ some \n",
    "# modifications\n",
    "def make_col_vector(array):\n",
    "    \"\"\"Convert a one dimensional numpy array to a column vector.\"\"\"\n",
    "    return array.reshape(-1, 1)\n",
    "\n",
    "def make_design_matrix(array):\n",
    "    \"\"\"Construct a design matrix from a numpy array, including an intercept term.\"\"\"\n",
    "    return sm.add_constant(make_col_vector(array), prepend=False)"
   ]
  },
  {
   "cell_type": "code",
   "execution_count": null,
   "metadata": {
    "collapsed": true
   },
   "outputs": [],
   "source": [
    "def fit_linear_trend(series):\n",
    "    \"\"\"Fit a linear trend to a time series.  Return the fit trend as a numpy array.\"\"\"\n",
    "    X = make_design_matrix(np.arange(len(series)) + 1)\n",
    "    linear_trend_ols = sm.OLS(series.values, X).fit()\n",
    "    linear_trend = linear_trend_ols.predict(X)\n",
    "    return linear_trend"
   ]
  },
  {
   "cell_type": "code",
   "execution_count": null,
   "metadata": {
    "collapsed": true
   },
   "outputs": [],
   "source": [
    "def plot_trend_data(ax, name, series):\n",
    "    ax.plot(series.index, series)\n",
    "    \n",
    "def plot_linear_trend(ax, name, series):\n",
    "    linear_trend = fit_linear_trend(series)\n",
    "    plot_trend_data(ax, name, series)\n",
    "    ax.plot(series.index, linear_trend)\n",
    "    ax.set_title(name)"
   ]
  },
  {
   "cell_type": "code",
   "execution_count": null,
   "metadata": {},
   "outputs": [],
   "source": [
    "# plot linear model for doctors data\n",
    "fig, ax = plt.subplots(1, figsize=(10,3))\n",
    "plot_linear_trend(ax, 'Linear Trend Doctors', doc_duration)\n",
    "plt.tight_layout()"
   ]
  },
  {
   "cell_type": "code",
   "execution_count": null,
   "metadata": {
    "collapsed": true
   },
   "outputs": [],
   "source": [
    "# get detrended series by subtracting the linear fit trend from original data\n",
    "doctors_trend = fit_linear_trend(doc_duration)\n",
    "doctors_detrended = doc_duration - doctors_trend"
   ]
  },
  {
   "cell_type": "code",
   "execution_count": null,
   "metadata": {},
   "outputs": [],
   "source": [
    "# plot detrended data\n",
    "fig, ax = plt.subplots(1, figsize=(10,3))\n",
    "plot_linear_trend(ax, 'Doctors', doctors_detrended)\n",
    "plt.title('Doctors data, linearly detrended')\n",
    "plt.tight_layout()"
   ]
  },
  {
   "cell_type": "code",
   "execution_count": null,
   "metadata": {
    "collapsed": true
   },
   "outputs": [],
   "source": [
    "# Calculate and plot moving average\n",
    "def fit_moving_average_trend(series, window=14):\n",
    "    return series.rolling(window, center=True).mean()\n",
    "\n",
    "def plot_with_moving_average(ax, name, series, window=6):\n",
    "    moving_average_trend = fit_moving_average_trend(series, window)\n",
    "    plot_trend_data(ax, name, series)\n",
    "    ax.plot(series.index, moving_average_trend)\n",
    "    ax.set_title('{title}, window={w}'.format(title=name, w=str(window)))"
   ]
  },
  {
   "cell_type": "code",
   "execution_count": null,
   "metadata": {
    "scrolled": true
   },
   "outputs": [],
   "source": [
    "fig, ax = plt.subplots(1, figsize=(10,3))\n",
    "plot_with_moving_average(ax, 'Moving AVG Doctors', doc_duration)"
   ]
  },
  {
   "cell_type": "code",
   "execution_count": null,
   "metadata": {},
   "outputs": [],
   "source": [
    "fig, ax = plt.subplots(1, figsize=(10,3))\n",
    "plot_with_moving_average(ax, 'Moving AVG Doctors', doc_duration, window=31)"
   ]
  },
  {
   "cell_type": "code",
   "execution_count": null,
   "metadata": {},
   "outputs": [],
   "source": [
    "# look for seasonal patterns using window=52\n",
    "fig, ax = plt.subplots(1, figsize=(10,3))\n",
    "plot_with_moving_average(ax, 'Seasonal AVG Doctors', doc_duration, window=52)"
   ]
  },
  {
   "cell_type": "code",
   "execution_count": null,
   "metadata": {
    "collapsed": true,
    "scrolled": false
   },
   "outputs": [],
   "source": [
    "# # Plot moving average\n",
    "# doc_mean = pd.rolling_mean(doc_duration, window=30)\n",
    "# ax = doc_mean.plot(figsize=(10,6), linewidth=2, fontsize=12)\n",
    "# ax.set_title('30 day rolling mean of doc duration', fontsize=18)\n",
    "# ax.set_xlabel('Date', fontsize=15)\n",
    "# plt.show()"
   ]
  },
  {
   "cell_type": "code",
   "execution_count": null,
   "metadata": {
    "collapsed": true
   },
   "outputs": [],
   "source": [
    "def plot_autocorrelation(series, params, lags, alpha, title):\n",
    "    plt.rcParams.update(params)\n",
    "    acf_plot = tsaplots.plot_acf(series, lags=lags, alpha=alpha)\n",
    "    plt.title(title)\n",
    "    plt.show()\n",
    "\n",
    "def plot_partial_autocorrelation(series, params, lags, alpha, title):\n",
    "    plt.rcParams.update(params)\n",
    "    acf_plot = tsaplots.plot_pacf(series, lags=lags, alpha=alpha)\n",
    "    plt.title(title)\n",
    "    plt.show()"
   ]
  },
  {
   "cell_type": "code",
   "execution_count": null,
   "metadata": {},
   "outputs": [],
   "source": [
    "params = {'figure.figsize': [6,6],'axes.labelsize': 'large', 'font.size': 10.0, 'lines.linewidth': 3}\n",
    "plot_autocorrelation(doc_duration, params=params, lags=31, alpha=0.05, title='Doctors Time Spent Autocorrelation')"
   ]
  },
  {
   "cell_type": "code",
   "execution_count": null,
   "metadata": {},
   "outputs": [],
   "source": [
    "params = {'figure.figsize': [6,6],'axes.labelsize': 'large', 'font.size': 10.0, 'lines.linewidth': 3}\n",
    "plot_partial_autocorrelation(doc_duration, params=params, lags=31, alpha=0.05, \\\n",
    "                             title='Doctors Time Spent Partial Autocorrelation')"
   ]
  },
  {
   "cell_type": "code",
   "execution_count": null,
   "metadata": {
    "collapsed": true
   },
   "outputs": [],
   "source": [
    "d_ts_index = pd.to_datetime(doc_duration.index)\n",
    "RN_ts_index = pd.to_datetime(RN_PA_duration.index)\n",
    "t_ts_index = pd.to_datetime(therapist_duration.index)"
   ]
  },
  {
   "cell_type": "code",
   "execution_count": null,
   "metadata": {
    "collapsed": true
   },
   "outputs": [],
   "source": [
    "doc_duration.index = d_ts_index\n",
    "RN_PA_duration.index = RN_ts_index\n",
    "therapist_duration.index = t_ts_index"
   ]
  },
  {
   "cell_type": "code",
   "execution_count": null,
   "metadata": {
    "collapsed": true
   },
   "outputs": [],
   "source": [
    "def plot_decomposition(series, params, freq, title):\n",
    "    \"Plots observed, trend, seasonal, residual\"\n",
    "    plt.rcParams.update(params)\n",
    "    decomp = sm.tsa.seasonal_decompose(series, freq=freq)\n",
    "    fig = decomp.plot()\n",
    "    plt.title(title)\n",
    "    plt.show()"
   ]
  },
  {
   "cell_type": "code",
   "execution_count": null,
   "metadata": {
    "scrolled": false
   },
   "outputs": [],
   "source": [
    "params = {'figure.figsize': [8, 8],'axes.labelsize': 'Medium', 'font.size': 12.0, 'lines.linewidth': 2}\n",
    "plot_decomposition(doc_duration, params=params, freq=31, title='Doctors Decomposition')"
   ]
  },
  {
   "cell_type": "code",
   "execution_count": null,
   "metadata": {},
   "outputs": [],
   "source": [
    "params = {'figure.figsize': [8,8],'axes.labelsize': 'Medium', 'font.size': 12.0, 'lines.linewidth': 2}\n",
    "plot_decomposition(RN_PA_duration, params=params, freq=31, title='RN/PA Decomposition')"
   ]
  },
  {
   "cell_type": "code",
   "execution_count": null,
   "metadata": {},
   "outputs": [],
   "source": [
    "params = {'figure.figsize': [8,8],'axes.labelsize': 'Medium', 'font.size': 12.0, 'lines.linewidth': 2}\n",
    "plot_decomposition(therapist_duration, params=params, freq=31, title='Therapist Decomposition')"
   ]
  },
  {
   "cell_type": "code",
   "execution_count": null,
   "metadata": {},
   "outputs": [],
   "source": [
    "plt.rcParams.keys()"
   ]
  },
  {
   "cell_type": "code",
   "execution_count": null,
   "metadata": {
    "collapsed": true
   },
   "outputs": [],
   "source": [
    "# index_year = df.index.year\n",
    "# df_by_year = df.groupby(index_year).mean()"
   ]
  },
  {
   "cell_type": "raw",
   "metadata": {},
   "source": [
    "possibly:\n",
    "-compute percent change?\n",
    "-compute and scatter plot correlation  and correlation of percentage change w/ the 3 series\n"
   ]
  },
  {
   "cell_type": "code",
   "execution_count": null,
   "metadata": {
    "collapsed": true
   },
   "outputs": [],
   "source": [
    "# # downsample from daily to weekly & montly data\n",
    "# weekly_doc_dur = doc_duration.resample(rule='W').last() # weekly time spent\n",
    "\n",
    "# ax = weekly_doc_dur.plot(figsize=(10,6), linewidth = 3, fontsize=10, grid=True)\n",
    "# ax.set_title('Doctors Time Spent Weekly', fontsize=18)\n",
    "# ax.set_xlabel('Date', fontsize=15)\n",
    "# ax.set_ylabel('Time (hours)', fontsize=15)\n",
    "# plt.show()"
   ]
  },
  {
   "cell_type": "code",
   "execution_count": null,
   "metadata": {
    "collapsed": true
   },
   "outputs": [],
   "source": []
  },
  {
   "cell_type": "code",
   "execution_count": null,
   "metadata": {
    "collapsed": true
   },
   "outputs": [],
   "source": []
  },
  {
   "cell_type": "code",
   "execution_count": null,
   "metadata": {
    "collapsed": true
   },
   "outputs": [],
   "source": []
  },
  {
   "cell_type": "code",
   "execution_count": null,
   "metadata": {
    "collapsed": true
   },
   "outputs": [],
   "source": []
  },
  {
   "cell_type": "code",
   "execution_count": null,
   "metadata": {
    "collapsed": true
   },
   "outputs": [],
   "source": []
  },
  {
   "cell_type": "code",
   "execution_count": null,
   "metadata": {
    "collapsed": true
   },
   "outputs": [],
   "source": []
  },
  {
   "cell_type": "code",
   "execution_count": null,
   "metadata": {
    "collapsed": true
   },
   "outputs": [],
   "source": []
  }
 ],
 "metadata": {
  "kernelspec": {
   "display_name": "Python 3",
   "language": "python",
   "name": "python3"
  },
  "language_info": {
   "codemirror_mode": {
    "name": "ipython",
    "version": 3
   },
   "file_extension": ".py",
   "mimetype": "text/x-python",
   "name": "python",
   "nbconvert_exporter": "python",
   "pygments_lexer": "ipython3",
   "version": "3.6.3"
  }
 },
 "nbformat": 4,
 "nbformat_minor": 2
}
