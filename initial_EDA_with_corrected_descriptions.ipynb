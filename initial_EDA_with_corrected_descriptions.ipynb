{
 "cells": [
  {
   "cell_type": "raw",
   "metadata": {},
   "source": [
    "*** fixed mislabeled provider, "
   ]
  },
  {
   "cell_type": "code",
   "execution_count": 69,
   "metadata": {},
   "outputs": [],
   "source": [
    "import numpy as np\n",
    "import pandas as pd\n",
    "import matplotlib.pyplot as plt\n",
    "%matplotlib inline\n",
    "from statsmodels.graphics import tsaplots\n",
    "import statsmodels.api as sm\n",
    "from statsmodels.tsa.arima_model import ARIMA, ARIMAResults, ARMA\n",
    "from statsmodels.tsa.arima_process import ArmaProcess\n",
    "from sklearn.metrics import mean_squared_error\n",
    "import warnings\n",
    "warnings.filterwarnings(\"ignore\")"
   ]
  },
  {
   "cell_type": "code",
   "execution_count": 70,
   "metadata": {},
   "outputs": [],
   "source": [
    "from timeseries_functions import index_to_datetime, plot_all_df_columns, weekly_resample, plot_series,\\\n",
    "plot_series_save_fig, plot_series_and_differences, run_augmented_Dickey_Fuller_test, \\\n",
    "plot_autocorrelation, plot_partial_autocorrelation, plot_decomposition"
   ]
  },
  {
   "cell_type": "markdown",
   "metadata": {},
   "source": [
    "### import all csv"
   ]
  },
  {
   "cell_type": "raw",
   "metadata": {},
   "source": [
    "import data from folowing csv files: Appointments, CallsRingCentral, MettingReasonForVisits, MeetingStatus, Offices, ProvidersSchedules"
   ]
  },
  {
   "cell_type": "code",
   "execution_count": 71,
   "metadata": {},
   "outputs": [],
   "source": [
    "# appointments = pd.read_csv('Appointments.csv')\n",
    "appointments = pd.read_csv('./data/AppointmentsSince2015.csv')"
   ]
  },
  {
   "cell_type": "code",
   "execution_count": 72,
   "metadata": {},
   "outputs": [],
   "source": [
    "calls = pd.read_csv('./data/CallsRingCentral.csv')"
   ]
  },
  {
   "cell_type": "code",
   "execution_count": 73,
   "metadata": {},
   "outputs": [],
   "source": [
    "reason_for_visit = pd.read_csv('./data/MeetingReasonForVisits.csv')"
   ]
  },
  {
   "cell_type": "code",
   "execution_count": 74,
   "metadata": {},
   "outputs": [],
   "source": [
    "meeting_status = pd.read_csv('./data/MeetingStatus.csv')"
   ]
  },
  {
   "cell_type": "code",
   "execution_count": 75,
   "metadata": {},
   "outputs": [],
   "source": [
    "offices = pd.read_csv('./data/Offices.csv')"
   ]
  },
  {
   "cell_type": "code",
   "execution_count": 76,
   "metadata": {},
   "outputs": [],
   "source": [
    "providers_schedules = pd.read_csv('./data/ProvidersSchedulesLastest.csv')"
   ]
  },
  {
   "cell_type": "markdown",
   "metadata": {},
   "source": [
    "### explore data"
   ]
  },
  {
   "cell_type": "code",
   "execution_count": 77,
   "metadata": {},
   "outputs": [
    {
     "name": "stdout",
     "output_type": "stream",
     "text": [
      "<class 'pandas.core.frame.DataFrame'>\n",
      "RangeIndex: 62020 entries, 0 to 62019\n",
      "Data columns (total 16 columns):\n",
      "id                         62020 non-null int64\n",
      "Patient                    61990 non-null float64\n",
      "PatientAgeMeetingDate      62020 non-null int64\n",
      "PatientGender              47315 non-null object\n",
      "PatientState               47215 non-null object\n",
      "PatientCity                47315 non-null float64\n",
      "PatientInsurance           33286 non-null object\n",
      "Provider                   60384 non-null float64\n",
      "Specialty                  56579 non-null object\n",
      "AppointmentDate            62020 non-null object\n",
      "AppointmentDuration        62020 non-null int64\n",
      "AppointmentCreated         61996 non-null object\n",
      "MeetingReasonForVisitId    62020 non-null int64\n",
      "MeetingStatusId            62020 non-null int64\n",
      "OfficeId                   62020 non-null int64\n",
      "CreatedBy                  51951 non-null float64\n",
      "dtypes: float64(4), int64(6), object(6)\n",
      "memory usage: 7.6+ MB\n"
     ]
    }
   ],
   "source": [
    "appointments.info()"
   ]
  },
  {
   "cell_type": "code",
   "execution_count": 78,
   "metadata": {},
   "outputs": [
    {
     "data": {
      "text/html": [
       "<div>\n",
       "<style scoped>\n",
       "    .dataframe tbody tr th:only-of-type {\n",
       "        vertical-align: middle;\n",
       "    }\n",
       "\n",
       "    .dataframe tbody tr th {\n",
       "        vertical-align: top;\n",
       "    }\n",
       "\n",
       "    .dataframe thead th {\n",
       "        text-align: right;\n",
       "    }\n",
       "</style>\n",
       "<table border=\"1\" class=\"dataframe\">\n",
       "  <thead>\n",
       "    <tr style=\"text-align: right;\">\n",
       "      <th></th>\n",
       "      <th>id</th>\n",
       "      <th>Patient</th>\n",
       "      <th>PatientAgeMeetingDate</th>\n",
       "      <th>PatientGender</th>\n",
       "      <th>PatientState</th>\n",
       "      <th>PatientCity</th>\n",
       "      <th>PatientInsurance</th>\n",
       "      <th>Provider</th>\n",
       "      <th>Specialty</th>\n",
       "      <th>AppointmentDate</th>\n",
       "      <th>AppointmentDuration</th>\n",
       "      <th>AppointmentCreated</th>\n",
       "      <th>MeetingReasonForVisitId</th>\n",
       "      <th>MeetingStatusId</th>\n",
       "      <th>OfficeId</th>\n",
       "      <th>CreatedBy</th>\n",
       "    </tr>\n",
       "  </thead>\n",
       "  <tbody>\n",
       "    <tr>\n",
       "      <th>0</th>\n",
       "      <td>1480804</td>\n",
       "      <td>306978501.0</td>\n",
       "      <td>14</td>\n",
       "      <td>F</td>\n",
       "      <td>CA</td>\n",
       "      <td>928.0</td>\n",
       "      <td>Anthem Blue Cross - California</td>\n",
       "      <td>10.0</td>\n",
       "      <td>Psychiatry</td>\n",
       "      <td>2018-07-31 16:00:00</td>\n",
       "      <td>60</td>\n",
       "      <td>2018-04-17 15:18:00</td>\n",
       "      <td>9</td>\n",
       "      <td>1</td>\n",
       "      <td>3</td>\n",
       "      <td>25.0</td>\n",
       "    </tr>\n",
       "    <tr>\n",
       "      <th>1</th>\n",
       "      <td>1482847</td>\n",
       "      <td>308625612.0</td>\n",
       "      <td>63</td>\n",
       "      <td>M</td>\n",
       "      <td>CA</td>\n",
       "      <td>916.0</td>\n",
       "      <td>Blue Shield of CA - MHSA</td>\n",
       "      <td>25.0</td>\n",
       "      <td>Psych/Mental Health</td>\n",
       "      <td>2018-07-31 11:00:00</td>\n",
       "      <td>45</td>\n",
       "      <td>2018-05-02 12:41:00</td>\n",
       "      <td>6</td>\n",
       "      <td>1</td>\n",
       "      <td>7</td>\n",
       "      <td>48.0</td>\n",
       "    </tr>\n",
       "    <tr>\n",
       "      <th>2</th>\n",
       "      <td>1482460</td>\n",
       "      <td>308880639.0</td>\n",
       "      <td>16</td>\n",
       "      <td>M</td>\n",
       "      <td>CA</td>\n",
       "      <td>902.0</td>\n",
       "      <td>Anthem Blue Cross - California</td>\n",
       "      <td>29.0</td>\n",
       "      <td>Marriage &amp; Family Therapist</td>\n",
       "      <td>2018-07-26 19:00:00</td>\n",
       "      <td>60</td>\n",
       "      <td>2018-05-04 10:13:00</td>\n",
       "      <td>22</td>\n",
       "      <td>1</td>\n",
       "      <td>6</td>\n",
       "      <td>8.0</td>\n",
       "    </tr>\n",
       "    <tr>\n",
       "      <th>3</th>\n",
       "      <td>1481202</td>\n",
       "      <td>308925859.0</td>\n",
       "      <td>47</td>\n",
       "      <td>F</td>\n",
       "      <td>CA</td>\n",
       "      <td>900.0</td>\n",
       "      <td>Anthem Blue Cross - California</td>\n",
       "      <td>7.0</td>\n",
       "      <td>Child &amp; Adolescent Psychiatry</td>\n",
       "      <td>2018-07-26 16:00:00</td>\n",
       "      <td>45</td>\n",
       "      <td>2018-05-04 13:36:00</td>\n",
       "      <td>6</td>\n",
       "      <td>7</td>\n",
       "      <td>4</td>\n",
       "      <td>7.0</td>\n",
       "    </tr>\n",
       "    <tr>\n",
       "      <th>4</th>\n",
       "      <td>1480803</td>\n",
       "      <td>308057964.0</td>\n",
       "      <td>15</td>\n",
       "      <td>F</td>\n",
       "      <td>CA</td>\n",
       "      <td>928.0</td>\n",
       "      <td>Blue Cross - California</td>\n",
       "      <td>10.0</td>\n",
       "      <td>Psychiatry</td>\n",
       "      <td>2018-07-25 16:00:00</td>\n",
       "      <td>60</td>\n",
       "      <td>2018-04-26 17:25:00</td>\n",
       "      <td>9</td>\n",
       "      <td>1</td>\n",
       "      <td>3</td>\n",
       "      <td>8.0</td>\n",
       "    </tr>\n",
       "  </tbody>\n",
       "</table>\n",
       "</div>"
      ],
      "text/plain": [
       "        id      Patient  PatientAgeMeetingDate PatientGender PatientState  \\\n",
       "0  1480804  306978501.0                     14             F           CA   \n",
       "1  1482847  308625612.0                     63             M           CA   \n",
       "2  1482460  308880639.0                     16             M           CA   \n",
       "3  1481202  308925859.0                     47             F           CA   \n",
       "4  1480803  308057964.0                     15             F           CA   \n",
       "\n",
       "   PatientCity                PatientInsurance  Provider  \\\n",
       "0        928.0  Anthem Blue Cross - California      10.0   \n",
       "1        916.0        Blue Shield of CA - MHSA      25.0   \n",
       "2        902.0  Anthem Blue Cross - California      29.0   \n",
       "3        900.0  Anthem Blue Cross - California       7.0   \n",
       "4        928.0         Blue Cross - California      10.0   \n",
       "\n",
       "                       Specialty      AppointmentDate  AppointmentDuration  \\\n",
       "0                     Psychiatry  2018-07-31 16:00:00                   60   \n",
       "1            Psych/Mental Health  2018-07-31 11:00:00                   45   \n",
       "2    Marriage & Family Therapist  2018-07-26 19:00:00                   60   \n",
       "3  Child & Adolescent Psychiatry  2018-07-26 16:00:00                   45   \n",
       "4                     Psychiatry  2018-07-25 16:00:00                   60   \n",
       "\n",
       "    AppointmentCreated  MeetingReasonForVisitId  MeetingStatusId  OfficeId  \\\n",
       "0  2018-04-17 15:18:00                        9                1         3   \n",
       "1  2018-05-02 12:41:00                        6                1         7   \n",
       "2  2018-05-04 10:13:00                       22                1         6   \n",
       "3  2018-05-04 13:36:00                        6                7         4   \n",
       "4  2018-04-26 17:25:00                        9                1         3   \n",
       "\n",
       "   CreatedBy  \n",
       "0       25.0  \n",
       "1       48.0  \n",
       "2        8.0  \n",
       "3        7.0  \n",
       "4        8.0  "
      ]
     },
     "execution_count": 78,
     "metadata": {},
     "output_type": "execute_result"
    }
   ],
   "source": [
    "appointments.head()"
   ]
  },
  {
   "cell_type": "code",
   "execution_count": 79,
   "metadata": {},
   "outputs": [
    {
     "data": {
      "text/html": [
       "<div>\n",
       "<style scoped>\n",
       "    .dataframe tbody tr th:only-of-type {\n",
       "        vertical-align: middle;\n",
       "    }\n",
       "\n",
       "    .dataframe tbody tr th {\n",
       "        vertical-align: top;\n",
       "    }\n",
       "\n",
       "    .dataframe thead th {\n",
       "        text-align: right;\n",
       "    }\n",
       "</style>\n",
       "<table border=\"1\" class=\"dataframe\">\n",
       "  <thead>\n",
       "    <tr style=\"text-align: right;\">\n",
       "      <th></th>\n",
       "      <th>Id</th>\n",
       "      <th>Name</th>\n",
       "      <th>Description</th>\n",
       "    </tr>\n",
       "  </thead>\n",
       "  <tbody>\n",
       "    <tr>\n",
       "      <th>0</th>\n",
       "      <td>3</td>\n",
       "      <td>QME Testing</td>\n",
       "      <td>QME Testing</td>\n",
       "    </tr>\n",
       "    <tr>\n",
       "      <th>1</th>\n",
       "      <td>4</td>\n",
       "      <td>Follow up</td>\n",
       "      <td>Follow up</td>\n",
       "    </tr>\n",
       "    <tr>\n",
       "      <th>2</th>\n",
       "      <td>5</td>\n",
       "      <td>New Patient MD Adult</td>\n",
       "      <td>New Patient MD Adult</td>\n",
       "    </tr>\n",
       "    <tr>\n",
       "      <th>3</th>\n",
       "      <td>6</td>\n",
       "      <td>Follow up Telepsychiatry</td>\n",
       "      <td>Follow up Telepsychiatry</td>\n",
       "    </tr>\n",
       "    <tr>\n",
       "      <th>4</th>\n",
       "      <td>7</td>\n",
       "      <td>New Patient MD Adult Telepsychiatry</td>\n",
       "      <td>New Patient MD Adult Telepsychiatry</td>\n",
       "    </tr>\n",
       "  </tbody>\n",
       "</table>\n",
       "</div>"
      ],
      "text/plain": [
       "   Id                                 Name  \\\n",
       "0   3                          QME Testing   \n",
       "1   4                            Follow up   \n",
       "2   5                 New Patient MD Adult   \n",
       "3   6             Follow up Telepsychiatry   \n",
       "4   7  New Patient MD Adult Telepsychiatry   \n",
       "\n",
       "                           Description  \n",
       "0                          QME Testing  \n",
       "1                            Follow up  \n",
       "2                 New Patient MD Adult  \n",
       "3             Follow up Telepsychiatry  \n",
       "4  New Patient MD Adult Telepsychiatry  "
      ]
     },
     "execution_count": 79,
     "metadata": {},
     "output_type": "execute_result"
    }
   ],
   "source": [
    "reason_for_visit.head()"
   ]
  },
  {
   "cell_type": "code",
   "execution_count": 80,
   "metadata": {},
   "outputs": [
    {
     "name": "stdout",
     "output_type": "stream",
     "text": [
      "<class 'pandas.core.frame.DataFrame'>\n",
      "RangeIndex: 100 entries, 0 to 99\n",
      "Data columns (total 3 columns):\n",
      "Id             100 non-null int64\n",
      "Name           100 non-null object\n",
      "Description    100 non-null object\n",
      "dtypes: int64(1), object(2)\n",
      "memory usage: 2.4+ KB\n"
     ]
    }
   ],
   "source": [
    "reason_for_visit.info()"
   ]
  },
  {
   "cell_type": "raw",
   "metadata": {},
   "source": [
    "reason_for_visit lists the 100 diff possibilities --> need fill in appointments df"
   ]
  },
  {
   "cell_type": "code",
   "execution_count": 81,
   "metadata": {},
   "outputs": [
    {
     "data": {
      "text/plain": [
       "100"
      ]
     },
     "execution_count": 81,
     "metadata": {},
     "output_type": "execute_result"
    }
   ],
   "source": [
    "len(reason_for_visit['Name'].unique())"
   ]
  },
  {
   "cell_type": "code",
   "execution_count": 82,
   "metadata": {},
   "outputs": [
    {
     "data": {
      "text/html": [
       "<div>\n",
       "<style scoped>\n",
       "    .dataframe tbody tr th:only-of-type {\n",
       "        vertical-align: middle;\n",
       "    }\n",
       "\n",
       "    .dataframe tbody tr th {\n",
       "        vertical-align: top;\n",
       "    }\n",
       "\n",
       "    .dataframe thead th {\n",
       "        text-align: right;\n",
       "    }\n",
       "</style>\n",
       "<table border=\"1\" class=\"dataframe\">\n",
       "  <thead>\n",
       "    <tr style=\"text-align: right;\">\n",
       "      <th></th>\n",
       "      <th>Id</th>\n",
       "      <th>Name</th>\n",
       "      <th>Description</th>\n",
       "    </tr>\n",
       "  </thead>\n",
       "  <tbody>\n",
       "    <tr>\n",
       "      <th>0</th>\n",
       "      <td>1</td>\n",
       "      <td>Active</td>\n",
       "      <td>The visit has not yet occurred</td>\n",
       "    </tr>\n",
       "    <tr>\n",
       "      <th>1</th>\n",
       "      <td>2</td>\n",
       "      <td>Left Message</td>\n",
       "      <td>the staff has left a reminder message for the ...</td>\n",
       "    </tr>\n",
       "    <tr>\n",
       "      <th>2</th>\n",
       "      <td>3</td>\n",
       "      <td>Confirmed</td>\n",
       "      <td>the staff confirmed with the patient that they...</td>\n",
       "    </tr>\n",
       "    <tr>\n",
       "      <th>3</th>\n",
       "      <td>4</td>\n",
       "      <td>Visit Created</td>\n",
       "      <td>the staff has given the patient a tentative ap...</td>\n",
       "    </tr>\n",
       "    <tr>\n",
       "      <th>4</th>\n",
       "      <td>5</td>\n",
       "      <td>Checked In</td>\n",
       "      <td>the patient has shown up to for the visit</td>\n",
       "    </tr>\n",
       "  </tbody>\n",
       "</table>\n",
       "</div>"
      ],
      "text/plain": [
       "   Id           Name                                        Description\n",
       "0   1         Active                     The visit has not yet occurred\n",
       "1   2   Left Message  the staff has left a reminder message for the ...\n",
       "2   3     Confirmed   the staff confirmed with the patient that they...\n",
       "3   4  Visit Created  the staff has given the patient a tentative ap...\n",
       "4   5    Checked In           the patient has shown up to for the visit"
      ]
     },
     "execution_count": 82,
     "metadata": {},
     "output_type": "execute_result"
    }
   ],
   "source": [
    "meeting_status.head()"
   ]
  },
  {
   "cell_type": "code",
   "execution_count": 83,
   "metadata": {},
   "outputs": [
    {
     "name": "stdout",
     "output_type": "stream",
     "text": [
      "<class 'pandas.core.frame.DataFrame'>\n",
      "RangeIndex: 15 entries, 0 to 14\n",
      "Data columns (total 3 columns):\n",
      "Id             15 non-null int64\n",
      "Name           15 non-null object\n",
      "Description    15 non-null object\n",
      "dtypes: int64(1), object(2)\n",
      "memory usage: 440.0+ bytes\n"
     ]
    }
   ],
   "source": [
    "meeting_status.info()"
   ]
  },
  {
   "cell_type": "code",
   "execution_count": 84,
   "metadata": {},
   "outputs": [
    {
     "data": {
      "text/html": [
       "<div>\n",
       "<style scoped>\n",
       "    .dataframe tbody tr th:only-of-type {\n",
       "        vertical-align: middle;\n",
       "    }\n",
       "\n",
       "    .dataframe tbody tr th {\n",
       "        vertical-align: top;\n",
       "    }\n",
       "\n",
       "    .dataframe thead th {\n",
       "        text-align: right;\n",
       "    }\n",
       "</style>\n",
       "<table border=\"1\" class=\"dataframe\">\n",
       "  <thead>\n",
       "    <tr style=\"text-align: right;\">\n",
       "      <th></th>\n",
       "      <th>id</th>\n",
       "      <th>Name</th>\n",
       "    </tr>\n",
       "  </thead>\n",
       "  <tbody>\n",
       "    <tr>\n",
       "      <th>0</th>\n",
       "      <td>1</td>\n",
       "      <td>Downtown</td>\n",
       "    </tr>\n",
       "    <tr>\n",
       "      <th>1</th>\n",
       "      <td>2</td>\n",
       "      <td>Hermosa Beach</td>\n",
       "    </tr>\n",
       "    <tr>\n",
       "      <th>2</th>\n",
       "      <td>3</td>\n",
       "      <td>Ontario</td>\n",
       "    </tr>\n",
       "    <tr>\n",
       "      <th>3</th>\n",
       "      <td>4</td>\n",
       "      <td>Palm Springs</td>\n",
       "    </tr>\n",
       "    <tr>\n",
       "      <th>4</th>\n",
       "      <td>5</td>\n",
       "      <td>San Diego</td>\n",
       "    </tr>\n",
       "  </tbody>\n",
       "</table>\n",
       "</div>"
      ],
      "text/plain": [
       "   id           Name\n",
       "0   1       Downtown\n",
       "1   2  Hermosa Beach\n",
       "2   3        Ontario\n",
       "3   4   Palm Springs\n",
       "4   5      San Diego"
      ]
     },
     "execution_count": 84,
     "metadata": {},
     "output_type": "execute_result"
    }
   ],
   "source": [
    "offices.head()"
   ]
  },
  {
   "cell_type": "code",
   "execution_count": 85,
   "metadata": {},
   "outputs": [
    {
     "name": "stdout",
     "output_type": "stream",
     "text": [
      "<class 'pandas.core.frame.DataFrame'>\n",
      "RangeIndex: 12 entries, 0 to 11\n",
      "Data columns (total 2 columns):\n",
      "id      12 non-null int64\n",
      "Name    12 non-null object\n",
      "dtypes: int64(1), object(1)\n",
      "memory usage: 272.0+ bytes\n"
     ]
    }
   ],
   "source": [
    "offices.info()"
   ]
  },
  {
   "cell_type": "code",
   "execution_count": 86,
   "metadata": {},
   "outputs": [
    {
     "data": {
      "text/html": [
       "<div>\n",
       "<style scoped>\n",
       "    .dataframe tbody tr th:only-of-type {\n",
       "        vertical-align: middle;\n",
       "    }\n",
       "\n",
       "    .dataframe tbody tr th {\n",
       "        vertical-align: top;\n",
       "    }\n",
       "\n",
       "    .dataframe thead th {\n",
       "        text-align: right;\n",
       "    }\n",
       "</style>\n",
       "<table border=\"1\" class=\"dataframe\">\n",
       "  <thead>\n",
       "    <tr style=\"text-align: right;\">\n",
       "      <th></th>\n",
       "      <th>ProviderId</th>\n",
       "      <th>OfficeId</th>\n",
       "      <th>DayOfWeek</th>\n",
       "      <th>Session1_Start</th>\n",
       "      <th>Session1_End</th>\n",
       "      <th>Session2_Start</th>\n",
       "      <th>Session2_End</th>\n",
       "    </tr>\n",
       "  </thead>\n",
       "  <tbody>\n",
       "    <tr>\n",
       "      <th>0</th>\n",
       "      <td>7</td>\n",
       "      <td>4</td>\n",
       "      <td>2</td>\n",
       "      <td>10:00 a. m.</td>\n",
       "      <td>06:00 p. m.</td>\n",
       "      <td>NaN</td>\n",
       "      <td>NaN</td>\n",
       "    </tr>\n",
       "    <tr>\n",
       "      <th>1</th>\n",
       "      <td>7</td>\n",
       "      <td>4</td>\n",
       "      <td>3</td>\n",
       "      <td>10:00 a. m.</td>\n",
       "      <td>06:00 p. m.</td>\n",
       "      <td>NaN</td>\n",
       "      <td>NaN</td>\n",
       "    </tr>\n",
       "    <tr>\n",
       "      <th>2</th>\n",
       "      <td>7</td>\n",
       "      <td>4</td>\n",
       "      <td>4</td>\n",
       "      <td>10:00 a. m.</td>\n",
       "      <td>06:00 p. m.</td>\n",
       "      <td>NaN</td>\n",
       "      <td>NaN</td>\n",
       "    </tr>\n",
       "    <tr>\n",
       "      <th>3</th>\n",
       "      <td>7</td>\n",
       "      <td>4</td>\n",
       "      <td>5</td>\n",
       "      <td>10:00 a. m.</td>\n",
       "      <td>06:00 p. m.</td>\n",
       "      <td>NaN</td>\n",
       "      <td>NaN</td>\n",
       "    </tr>\n",
       "    <tr>\n",
       "      <th>4</th>\n",
       "      <td>9</td>\n",
       "      <td>2</td>\n",
       "      <td>3</td>\n",
       "      <td>09:30 a. m.</td>\n",
       "      <td>06:30 p. m.</td>\n",
       "      <td>NaN</td>\n",
       "      <td>NaN</td>\n",
       "    </tr>\n",
       "  </tbody>\n",
       "</table>\n",
       "</div>"
      ],
      "text/plain": [
       "   ProviderId  OfficeId  DayOfWeek Session1_Start Session1_End Session2_Start  \\\n",
       "0           7         4          2    10:00 a. m.  06:00 p. m.            NaN   \n",
       "1           7         4          3    10:00 a. m.  06:00 p. m.            NaN   \n",
       "2           7         4          4    10:00 a. m.  06:00 p. m.            NaN   \n",
       "3           7         4          5    10:00 a. m.  06:00 p. m.            NaN   \n",
       "4           9         2          3    09:30 a. m.  06:30 p. m.            NaN   \n",
       "\n",
       "  Session2_End  \n",
       "0          NaN  \n",
       "1          NaN  \n",
       "2          NaN  \n",
       "3          NaN  \n",
       "4          NaN  "
      ]
     },
     "execution_count": 86,
     "metadata": {},
     "output_type": "execute_result"
    }
   ],
   "source": [
    "providers_schedules.head()"
   ]
  },
  {
   "cell_type": "code",
   "execution_count": 87,
   "metadata": {},
   "outputs": [
    {
     "data": {
      "text/plain": [
       "(array([ 7,  9, 10, 12, 13, 14, 15, 17, 24, 25, 26, 27, 28, 29, 30]), 15)"
      ]
     },
     "execution_count": 87,
     "metadata": {},
     "output_type": "execute_result"
    }
   ],
   "source": [
    "providers_schedules['ProviderId'].unique(), len(providers_schedules['ProviderId'].unique())"
   ]
  },
  {
   "cell_type": "code",
   "execution_count": 88,
   "metadata": {},
   "outputs": [
    {
     "data": {
      "text/plain": [
       "(array([10., 25., 29.,  7., 24.,  9., 12., 19., 15., 30., 13., 14., 17.,\n",
       "        16., 28., 27., 26., nan, 23., 18.,  3., 11.]), 22)"
      ]
     },
     "execution_count": 88,
     "metadata": {},
     "output_type": "execute_result"
    }
   ],
   "source": [
    "appointments['Provider'].unique(), len(appointments['Provider'].unique())"
   ]
  },
  {
   "cell_type": "code",
   "execution_count": 89,
   "metadata": {},
   "outputs": [
    {
     "name": "stdout",
     "output_type": "stream",
     "text": [
      "<class 'pandas.core.frame.DataFrame'>\n",
      "RangeIndex: 55 entries, 0 to 54\n",
      "Data columns (total 7 columns):\n",
      "ProviderId        55 non-null int64\n",
      "OfficeId          55 non-null int64\n",
      "DayOfWeek         55 non-null int64\n",
      "Session1_Start    55 non-null object\n",
      "Session1_End      55 non-null object\n",
      "Session2_Start    1 non-null object\n",
      "Session2_End      1 non-null object\n",
      "dtypes: int64(3), object(4)\n",
      "memory usage: 3.1+ KB\n"
     ]
    }
   ],
   "source": [
    "providers_schedules.info()"
   ]
  },
  {
   "cell_type": "code",
   "execution_count": 90,
   "metadata": {},
   "outputs": [
    {
     "data": {
      "text/html": [
       "<div>\n",
       "<style scoped>\n",
       "    .dataframe tbody tr th:only-of-type {\n",
       "        vertical-align: middle;\n",
       "    }\n",
       "\n",
       "    .dataframe tbody tr th {\n",
       "        vertical-align: top;\n",
       "    }\n",
       "\n",
       "    .dataframe thead th {\n",
       "        text-align: right;\n",
       "    }\n",
       "</style>\n",
       "<table border=\"1\" class=\"dataframe\">\n",
       "  <thead>\n",
       "    <tr style=\"text-align: right;\">\n",
       "      <th></th>\n",
       "      <th>0</th>\n",
       "      <th>1</th>\n",
       "      <th>2</th>\n",
       "      <th>3</th>\n",
       "      <th>4</th>\n",
       "    </tr>\n",
       "  </thead>\n",
       "  <tbody>\n",
       "    <tr>\n",
       "      <th>id</th>\n",
       "      <td>266086</td>\n",
       "      <td>266087</td>\n",
       "      <td>266088</td>\n",
       "      <td>266089</td>\n",
       "      <td>266090</td>\n",
       "    </tr>\n",
       "    <tr>\n",
       "      <th>startTime</th>\n",
       "      <td>2018-04-18 10:35:28</td>\n",
       "      <td>2018-04-18 08:42:04</td>\n",
       "      <td>2018-04-18 08:22:02</td>\n",
       "      <td>2018-04-18 08:19:57</td>\n",
       "      <td>2018-04-18 08:02:47</td>\n",
       "    </tr>\n",
       "    <tr>\n",
       "      <th>duration</th>\n",
       "      <td>47</td>\n",
       "      <td>54</td>\n",
       "      <td>7</td>\n",
       "      <td>9</td>\n",
       "      <td>53</td>\n",
       "    </tr>\n",
       "    <tr>\n",
       "      <th>type</th>\n",
       "      <td>Fax</td>\n",
       "      <td>Fax</td>\n",
       "      <td>Voice</td>\n",
       "      <td>Voice</td>\n",
       "      <td>Fax</td>\n",
       "    </tr>\n",
       "    <tr>\n",
       "      <th>direction</th>\n",
       "      <td>Inbound</td>\n",
       "      <td>Inbound</td>\n",
       "      <td>Inbound</td>\n",
       "      <td>Inbound</td>\n",
       "      <td>Inbound</td>\n",
       "    </tr>\n",
       "    <tr>\n",
       "      <th>action</th>\n",
       "      <td>Incoming Fax</td>\n",
       "      <td>Incoming Fax</td>\n",
       "      <td>Phone Call</td>\n",
       "      <td>Phone Call</td>\n",
       "      <td>Incoming Fax</td>\n",
       "    </tr>\n",
       "    <tr>\n",
       "      <th>result</th>\n",
       "      <td>Received</td>\n",
       "      <td>Received</td>\n",
       "      <td>Missed</td>\n",
       "      <td>Missed</td>\n",
       "      <td>Received</td>\n",
       "    </tr>\n",
       "    <tr>\n",
       "      <th>From_extension</th>\n",
       "      <td>NaN</td>\n",
       "      <td>NaN</td>\n",
       "      <td>NaN</td>\n",
       "      <td>NaN</td>\n",
       "      <td>NaN</td>\n",
       "    </tr>\n",
       "    <tr>\n",
       "      <th>From_location</th>\n",
       "      <td>Orange, CA</td>\n",
       "      <td>Elk Grove, IL</td>\n",
       "      <td>San Diego, CA</td>\n",
       "      <td>San Diego, CA</td>\n",
       "      <td>NaN</td>\n",
       "    </tr>\n",
       "    <tr>\n",
       "      <th>From_usertype</th>\n",
       "      <td>NaN</td>\n",
       "      <td>NaN</td>\n",
       "      <td>NaN</td>\n",
       "      <td>NaN</td>\n",
       "      <td>NaN</td>\n",
       "    </tr>\n",
       "    <tr>\n",
       "      <th>From_userid</th>\n",
       "      <td>NaN</td>\n",
       "      <td>NaN</td>\n",
       "      <td>NaN</td>\n",
       "      <td>NaN</td>\n",
       "      <td>NaN</td>\n",
       "    </tr>\n",
       "    <tr>\n",
       "      <th>To_extension</th>\n",
       "      <td>NaN</td>\n",
       "      <td>NaN</td>\n",
       "      <td>NaN</td>\n",
       "      <td>NaN</td>\n",
       "      <td>NaN</td>\n",
       "    </tr>\n",
       "    <tr>\n",
       "      <th>To_location</th>\n",
       "      <td>NaN</td>\n",
       "      <td>NaN</td>\n",
       "      <td>NaN</td>\n",
       "      <td>NaN</td>\n",
       "      <td>NaN</td>\n",
       "    </tr>\n",
       "    <tr>\n",
       "      <th>To_usertype</th>\n",
       "      <td>NaN</td>\n",
       "      <td>NaN</td>\n",
       "      <td>NaN</td>\n",
       "      <td>NaN</td>\n",
       "      <td>NaN</td>\n",
       "    </tr>\n",
       "    <tr>\n",
       "      <th>To_userid</th>\n",
       "      <td>NaN</td>\n",
       "      <td>NaN</td>\n",
       "      <td>NaN</td>\n",
       "      <td>NaN</td>\n",
       "      <td>NaN</td>\n",
       "    </tr>\n",
       "  </tbody>\n",
       "</table>\n",
       "</div>"
      ],
      "text/plain": [
       "                                  0                    1                    2  \\\n",
       "id                           266086               266087               266088   \n",
       "startTime       2018-04-18 10:35:28  2018-04-18 08:42:04  2018-04-18 08:22:02   \n",
       "duration                         47                   54                    7   \n",
       "type                            Fax                  Fax                Voice   \n",
       "direction                   Inbound              Inbound              Inbound   \n",
       "action                 Incoming Fax         Incoming Fax           Phone Call   \n",
       "result                     Received             Received               Missed   \n",
       "From_extension                  NaN                  NaN                  NaN   \n",
       "From_location            Orange, CA        Elk Grove, IL        San Diego, CA   \n",
       "From_usertype                   NaN                  NaN                  NaN   \n",
       "From_userid                     NaN                  NaN                  NaN   \n",
       "To_extension                    NaN                  NaN                  NaN   \n",
       "To_location                     NaN                  NaN                  NaN   \n",
       "To_usertype                     NaN                  NaN                  NaN   \n",
       "To_userid                       NaN                  NaN                  NaN   \n",
       "\n",
       "                                  3                    4  \n",
       "id                           266089               266090  \n",
       "startTime       2018-04-18 08:19:57  2018-04-18 08:02:47  \n",
       "duration                          9                   53  \n",
       "type                          Voice                  Fax  \n",
       "direction                   Inbound              Inbound  \n",
       "action                   Phone Call         Incoming Fax  \n",
       "result                       Missed             Received  \n",
       "From_extension                  NaN                  NaN  \n",
       "From_location         San Diego, CA                  NaN  \n",
       "From_usertype                   NaN                  NaN  \n",
       "From_userid                     NaN                  NaN  \n",
       "To_extension                    NaN                  NaN  \n",
       "To_location                     NaN                  NaN  \n",
       "To_usertype                     NaN                  NaN  \n",
       "To_userid                       NaN                  NaN  "
      ]
     },
     "execution_count": 90,
     "metadata": {},
     "output_type": "execute_result"
    }
   ],
   "source": [
    "calls.head().T"
   ]
  },
  {
   "cell_type": "raw",
   "metadata": {},
   "source": [
    "calls df may not be too useful.  Need to consider further."
   ]
  },
  {
   "cell_type": "code",
   "execution_count": 91,
   "metadata": {},
   "outputs": [
    {
     "name": "stdout",
     "output_type": "stream",
     "text": [
      "<class 'pandas.core.frame.DataFrame'>\n",
      "RangeIndex: 236880 entries, 0 to 236879\n",
      "Data columns (total 15 columns):\n",
      "id                236880 non-null int64\n",
      "startTime         236880 non-null object\n",
      "duration          236880 non-null int64\n",
      "type              236880 non-null object\n",
      "direction         236880 non-null object\n",
      "action            236880 non-null object\n",
      "result            236880 non-null object\n",
      "From_extension    20635 non-null float64\n",
      "From_location     101998 non-null object\n",
      "From_usertype     93758 non-null object\n",
      "From_userid       93212 non-null float64\n",
      "To_extension      19735 non-null float64\n",
      "To_location       92414 non-null object\n",
      "To_usertype       6118 non-null object\n",
      "To_userid         4957 non-null float64\n",
      "dtypes: float64(4), int64(2), object(9)\n",
      "memory usage: 27.1+ MB\n"
     ]
    }
   ],
   "source": [
    "calls.info()"
   ]
  },
  {
   "cell_type": "markdown",
   "metadata": {},
   "source": [
    "### combine/merge dataframes"
   ]
  },
  {
   "cell_type": "raw",
   "metadata": {},
   "source": [
    "- regroup provider specialty into following categories: doctor, RN/PA, therapist\n",
    "- Fill in id columns in Appointments df: reason for visit id, status id, office id with names/descriptions from the other dataframes"
   ]
  },
  {
   "cell_type": "code",
   "execution_count": 93,
   "metadata": {},
   "outputs": [
    {
     "data": {
      "text/plain": [
       "array(['Psychiatry', 'Psych/Mental Health', 'Marriage & Family Therapist',\n",
       "       'Child & Adolescent Psychiatry',\n",
       "       'Psych/Mental Health, Child & Adolescent', 'Medical',\n",
       "       'Physician Assistant', 'Specialist/Technologist, Other',\n",
       "       'Psychologist', nan, 'Clinical'], dtype=object)"
      ]
     },
     "execution_count": 93,
     "metadata": {},
     "output_type": "execute_result"
    }
   ],
   "source": [
    "appointments['Specialty'].unique()"
   ]
  },
  {
   "cell_type": "code",
   "execution_count": 94,
   "metadata": {},
   "outputs": [
    {
     "data": {
      "text/plain": [
       "Psych/Mental Health                        14807\n",
       "Medical                                    11579\n",
       "Child & Adolescent Psychiatry               8272\n",
       "Physician Assistant                         7033\n",
       "Psychiatry                                  6986\n",
       "Psych/Mental Health, Child & Adolescent     3173\n",
       "Marriage & Family Therapist                 2119\n",
       "Clinical                                    1271\n",
       "Psychologist                                 904\n",
       "Specialist/Technologist, Other               435\n",
       "Name: Specialty, dtype: int64"
      ]
     },
     "execution_count": 94,
     "metadata": {},
     "output_type": "execute_result"
    }
   ],
   "source": [
    "pd.value_counts(appointments['Specialty'])"
   ]
  },
  {
   "cell_type": "code",
   "execution_count": 95,
   "metadata": {},
   "outputs": [
    {
     "data": {
      "text/plain": [
       "(9.0     8708\n",
       " 7.0     8272\n",
       " 19.0    6779\n",
       " 14.0    4800\n",
       " 13.0    4378\n",
       " 16.0    3806\n",
       " 18.0    3805\n",
       " 3.0     3408\n",
       " 10.0    3180\n",
       " 12.0    3173\n",
       " 15.0    2360\n",
       " 25.0    1814\n",
       " 11.0    1271\n",
       " 17.0    1199\n",
       " 27.0     877\n",
       " 26.0     610\n",
       " 24.0     535\n",
       " 28.0     435\n",
       " 29.0     385\n",
       " 30.0     295\n",
       " 23.0     294\n",
       " Name: Provider, dtype: int64, 21)"
      ]
     },
     "execution_count": 95,
     "metadata": {},
     "output_type": "execute_result"
    }
   ],
   "source": [
    "pd.value_counts(appointments['Provider']), len(pd.value_counts(appointments['Provider']))"
   ]
  },
  {
   "cell_type": "code",
   "execution_count": 96,
   "metadata": {},
   "outputs": [],
   "source": [
    "doctors = ['Psychiatry', 'Child & Adolescent Psychiatry']\n",
    "RN_PAs = ['Medical', 'Psych/Mental Health, Child & Adolescent', 'Psych/Mental Health', 'Physician Assistant']\n",
    "therapists = ['Marriage & Family Therapist', 'Psychologist', 'Specialist/Technologist, Other', 'Clinical' ]"
   ]
  },
  {
   "cell_type": "code",
   "execution_count": 97,
   "metadata": {},
   "outputs": [],
   "source": [
    "appointments['Specialty'].loc[appointments['Specialty'].isin(doctors)]= 'doctor'\n",
    "appointments['Specialty'].loc[appointments['Specialty'].isin(RN_PAs)] = 'RN/PA'\n",
    "appointments['Specialty'].loc[appointments['Specialty'].isin(therapists)] = 'therapist'"
   ]
  },
  {
   "cell_type": "code",
   "execution_count": 98,
   "metadata": {},
   "outputs": [
    {
     "data": {
      "text/plain": [
       "RN/PA        36592\n",
       "doctor       15258\n",
       "therapist     4729\n",
       "Name: Specialty, dtype: int64"
      ]
     },
     "execution_count": 98,
     "metadata": {},
     "output_type": "execute_result"
    }
   ],
   "source": [
    "pd.value_counts(appointments['Specialty'])"
   ]
  },
  {
   "cell_type": "code",
   "execution_count": 99,
   "metadata": {},
   "outputs": [
    {
     "data": {
      "text/plain": [
       "Index(['id', 'Patient', 'PatientAgeMeetingDate', 'PatientGender',\n",
       "       'PatientState', 'PatientCity', 'PatientInsurance', 'Provider',\n",
       "       'Specialty', 'AppointmentDate', 'AppointmentDuration',\n",
       "       'AppointmentCreated', 'MeetingReasonForVisitId', 'MeetingStatusId',\n",
       "       'OfficeId', 'CreatedBy'],\n",
       "      dtype='object')"
      ]
     },
     "execution_count": 99,
     "metadata": {},
     "output_type": "execute_result"
    }
   ],
   "source": [
    "appointments.columns"
   ]
  },
  {
   "cell_type": "code",
   "execution_count": 100,
   "metadata": {},
   "outputs": [
    {
     "data": {
      "text/plain": [
       "(9.0     8708\n",
       " 7.0     8272\n",
       " 19.0    6779\n",
       " 14.0    4800\n",
       " 13.0    4378\n",
       " 16.0    3806\n",
       " 18.0    3805\n",
       " 3.0     3408\n",
       " 10.0    3180\n",
       " 12.0    3173\n",
       " 15.0    2360\n",
       " 25.0    1814\n",
       " 11.0    1271\n",
       " 17.0    1199\n",
       " 27.0     877\n",
       " 26.0     610\n",
       " 24.0     535\n",
       " 28.0     435\n",
       " 29.0     385\n",
       " 30.0     295\n",
       " 23.0     294\n",
       " Name: Provider, dtype: int64, 21)"
      ]
     },
     "execution_count": 100,
     "metadata": {},
     "output_type": "execute_result"
    }
   ],
   "source": [
    "pd.value_counts(appointments['Provider']), len(pd.value_counts(appointments['Provider']))"
   ]
  },
  {
   "cell_type": "code",
   "execution_count": 64,
   "metadata": {},
   "outputs": [
    {
     "data": {
      "text/plain": [
       "7.0     8272\n",
       "16.0    3806\n",
       "10.0    3180\n",
       "Name: Provider, dtype: int64"
      ]
     },
     "execution_count": 64,
     "metadata": {},
     "output_type": "execute_result"
    }
   ],
   "source": [
    "pd.value_counts(appointments[appointments['Specialty'] == 'doctor']['Provider'])"
   ]
  },
  {
   "cell_type": "code",
   "execution_count": 65,
   "metadata": {},
   "outputs": [
    {
     "data": {
      "text/plain": [
       "9.0     8708\n",
       "19.0    6779\n",
       "14.0    4800\n",
       "13.0    4378\n",
       "3.0     3408\n",
       "12.0    3173\n",
       "15.0    2360\n",
       "25.0    1814\n",
       "27.0     877\n",
       "30.0     295\n",
       "Name: Provider, dtype: int64"
      ]
     },
     "execution_count": 65,
     "metadata": {},
     "output_type": "execute_result"
    }
   ],
   "source": [
    "pd.value_counts(appointments[appointments['Specialty'] == 'RN/PA']['Provider'])"
   ]
  },
  {
   "cell_type": "code",
   "execution_count": 66,
   "metadata": {},
   "outputs": [
    {
     "data": {
      "text/plain": [
       "11.0    1271\n",
       "17.0    1199\n",
       "26.0     610\n",
       "24.0     535\n",
       "28.0     435\n",
       "29.0     385\n",
       "23.0     294\n",
       "Name: Provider, dtype: int64"
      ]
     },
     "execution_count": 66,
     "metadata": {},
     "output_type": "execute_result"
    }
   ],
   "source": [
    "pd.value_counts(appointments[appointments['Specialty'] == 'therapist']['Provider'])"
   ]
  },
  {
   "cell_type": "code",
   "execution_count": null,
   "metadata": {},
   "outputs": [],
   "source": [
    "appointments['Specialty'].isnull().sum()"
   ]
  },
  {
   "cell_type": "code",
   "execution_count": null,
   "metadata": {},
   "outputs": [],
   "source": [
    "merged1 = pd.merge(left=appointments, right=reason_for_visit, how='left', left_on='MeetingReasonForVisitId',\\\n",
    "                  right_on='Id')"
   ]
  },
  {
   "cell_type": "code",
   "execution_count": null,
   "metadata": {},
   "outputs": [],
   "source": [
    "merged1 = merged1.rename(columns={'MeetingReasonForVisitId': 'ReasonForVisitId', 'Name':'ReasonForVisitName', 'Description':'ReasonForVisitDescription'})"
   ]
  },
  {
   "cell_type": "code",
   "execution_count": null,
   "metadata": {},
   "outputs": [],
   "source": [
    "merged1.columns"
   ]
  },
  {
   "cell_type": "code",
   "execution_count": null,
   "metadata": {},
   "outputs": [],
   "source": [
    "merged1.drop('Id', axis=1, inplace=True)"
   ]
  },
  {
   "cell_type": "markdown",
   "metadata": {},
   "source": [
    "#### don't need to merge other csv files for this analysis"
   ]
  },
  {
   "cell_type": "code",
   "execution_count": null,
   "metadata": {},
   "outputs": [],
   "source": [
    "# id any missing specialties\n",
    "merged1['Specialty'].isnull().sum(), merged1['Specialty'].notnull().sum()"
   ]
  },
  {
   "cell_type": "markdown",
   "metadata": {},
   "source": [
    "### Data Cleaning: \n",
    "#### filling NaN values, further provider categorization"
   ]
  },
  {
   "cell_type": "raw",
   "metadata": {},
   "source": [
    "- Is it possible to infer specialty from other column values?\n",
    "- look at other columns for rows where Specialty is blank\n",
    "Can use ReasonForVisitName to categorize specialties"
   ]
  },
  {
   "cell_type": "code",
   "execution_count": null,
   "metadata": {},
   "outputs": [],
   "source": [
    "no_specialty = merged1[appointments['Specialty'].isnull()] "
   ]
  },
  {
   "cell_type": "code",
   "execution_count": null,
   "metadata": {},
   "outputs": [],
   "source": [
    "no_specialty.shape"
   ]
  },
  {
   "cell_type": "code",
   "execution_count": null,
   "metadata": {},
   "outputs": [],
   "source": [
    "no_specialty.columns"
   ]
  },
  {
   "cell_type": "code",
   "execution_count": null,
   "metadata": {},
   "outputs": [],
   "source": [
    "pd.value_counts(no_specialty['ReasonForVisitName'])"
   ]
  },
  {
   "cell_type": "raw",
   "metadata": {
    "collapsed": true
   },
   "source": [
    "Some specialties are implied by ReasonForVisitName"
   ]
  },
  {
   "cell_type": "raw",
   "metadata": {},
   "source": [
    "****correction / clarification from Mike: Therapy Telepsychiatry is associated with Therapists, not doctors"
   ]
  },
  {
   "cell_type": "code",
   "execution_count": null,
   "metadata": {},
   "outputs": [],
   "source": [
    "merged1['Specialty'].value_counts()"
   ]
  },
  {
   "cell_type": "code",
   "execution_count": null,
   "metadata": {},
   "outputs": [],
   "source": [
    "# infer specialty based on ReasonForVisitName and fill NaN values in Specialty column\n",
    "implied_therapy = ['Therapy', 'New Patient Therapy', 'Therapy Telepsychiatry']\n",
    "implied_doctor = ['Follow up Telepsychiatry', 'New Patient Therapy Telepsychiatry',\\\n",
    "                  'New Patient MD Adult', 'New Patient MD Adult Telepsychiatry']\n",
    "merged1['Specialty'].loc[merged1['ReasonForVisitName'].isin(implied_therapy)] = 'therapist'\n",
    "merged1['Specialty'].loc[merged1['ReasonForVisitName'].isin(implied_doctor)] = 'doctor'"
   ]
  },
  {
   "cell_type": "code",
   "execution_count": null,
   "metadata": {},
   "outputs": [],
   "source": [
    "merged1['Specialty'].value_counts()"
   ]
  },
  {
   "cell_type": "code",
   "execution_count": null,
   "metadata": {},
   "outputs": [],
   "source": [
    "# most missing values in Specialty are now filled\n",
    "merged1['Specialty'].isnull().sum(), merged1['Specialty'].notnull().sum()"
   ]
  },
  {
   "cell_type": "code",
   "execution_count": null,
   "metadata": {},
   "outputs": [],
   "source": [
    "pd.value_counts(merged1['AppointmentDuration'])"
   ]
  },
  {
   "cell_type": "raw",
   "metadata": {},
   "source": [
    "Need to remove outliers for visit Duration --> QME testing (workers comp) & initial child appointments"
   ]
  },
  {
   "cell_type": "code",
   "execution_count": null,
   "metadata": {},
   "outputs": [],
   "source": [
    "pd.value_counts(merged1[merged1['AppointmentDuration'] > 90]['ReasonForVisitName'])"
   ]
  },
  {
   "cell_type": "code",
   "execution_count": null,
   "metadata": {},
   "outputs": [],
   "source": [
    "# convert date columns to datetime \n",
    "merged1['AppointmentCreated'] = pd.to_datetime(merged1['AppointmentCreated'], errors='coerce')#.apply(lambda x: x.date()) #, format='%Y-%m-%d')\n",
    "merged1['AppointmentDate'] = pd.to_datetime(merged1['AppointmentDate'], errors='coerce')#.apply(lambda x: x.date()) #, format='%Y-%m-%d')"
   ]
  },
  {
   "cell_type": "code",
   "execution_count": null,
   "metadata": {},
   "outputs": [],
   "source": [
    "# calculate time between AppointmentCreated and AppointmentDate\n",
    "merged1['DaysFromAppointmentCreatedToVisit'] = (merged1['AppointmentDate'] - merged1['AppointmentCreated']).dt.days"
   ]
  },
  {
   "cell_type": "code",
   "execution_count": null,
   "metadata": {},
   "outputs": [],
   "source": [
    "merged1.isnull().sum()"
   ]
  },
  {
   "cell_type": "code",
   "execution_count": null,
   "metadata": {},
   "outputs": [],
   "source": [
    "merged1['Specialty'].isnull().sum(), merged1['Specialty'].notnull().sum()"
   ]
  },
  {
   "cell_type": "code",
   "execution_count": null,
   "metadata": {},
   "outputs": [],
   "source": [
    "# columns where time between when appointment was created and appointment was negative\n",
    "# merged1[merged1['DaysFromAppointmentCreatedToVisit'] < 0][['DaysFromAppointmentCreatedToVisit', 'AppointmentCreated', 'AppointmentDate']]"
   ]
  },
  {
   "cell_type": "raw",
   "metadata": {},
   "source": [
    "merged1 df:\n",
    "- a few missing values in Patient column, may not be necessary to keep this column given additional info\n",
    "- similarly, a few missing from AppointmentCreated.  May drop these rows\n",
    "- missing ~ 5000 entries under CreatedBy.  May just drop this column also\n",
    "- what is the id column? Possibly unneccessary \n",
    "- Patient Insurance may not be neccessary and many missing values. \n",
    "- missing about 2500 from Specialty.  May be fewer if I end up focusing on one specialty for this project.  Deal with this if it becomes an issue.  May have to drop these unless there is some addition info that can be used instead like OfficeId/Name\n",
    "- What is the provider?  Numerical code translates into???  Is this necessary?  Potential substitue for Specialty?\n",
    "- Missing significant portion of PatientState and PatientCity values.  May be able to us OfficeId/Name to get info on location instead\n",
    "- DaysFromAppointmentCreatedToVisit has some negative values for some reason.  Will need to fix those before proceeding: Either simply change the sign, drop those values, or set them to 0?"
   ]
  },
  {
   "cell_type": "raw",
   "metadata": {},
   "source": [
    "- plot number of visits for each reason over time using AppointmentDate"
   ]
  },
  {
   "cell_type": "code",
   "execution_count": null,
   "metadata": {
    "scrolled": false
   },
   "outputs": [],
   "source": [
    "pd.value_counts(merged1['Specialty'])"
   ]
  },
  {
   "cell_type": "code",
   "execution_count": null,
   "metadata": {},
   "outputs": [],
   "source": [
    "merged1['Specialty'].isnull().sum(), merged1['Specialty'].notnull().sum()"
   ]
  },
  {
   "cell_type": "raw",
   "metadata": {},
   "source": [
    "Data contain some future appointments.  Need to remove these.\n",
    "Set merged2 df to have all data through Feb 2018"
   ]
  },
  {
   "cell_type": "code",
   "execution_count": null,
   "metadata": {},
   "outputs": [],
   "source": [
    "merged1.columns"
   ]
  },
  {
   "cell_type": "code",
   "execution_count": null,
   "metadata": {},
   "outputs": [],
   "source": [
    "merged1.index"
   ]
  },
  {
   "cell_type": "code",
   "execution_count": null,
   "metadata": {},
   "outputs": [],
   "source": [
    "merged1 = merged1.set_index('AppointmentDate')"
   ]
  },
  {
   "cell_type": "code",
   "execution_count": null,
   "metadata": {},
   "outputs": [],
   "source": [
    "merged2 = merged1.copy()"
   ]
  },
  {
   "cell_type": "code",
   "execution_count": null,
   "metadata": {},
   "outputs": [],
   "source": [
    "merged2['Specialty'].isnull().sum(), merged2['Specialty'].notnull().sum()"
   ]
  },
  {
   "cell_type": "code",
   "execution_count": null,
   "metadata": {},
   "outputs": [],
   "source": [
    "merged2.shape"
   ]
  },
  {
   "cell_type": "code",
   "execution_count": null,
   "metadata": {},
   "outputs": [],
   "source": [
    "merged2.index"
   ]
  },
  {
   "cell_type": "code",
   "execution_count": null,
   "metadata": {},
   "outputs": [],
   "source": [
    "merged2 = merged2['2018-02-28':]"
   ]
  },
  {
   "cell_type": "code",
   "execution_count": null,
   "metadata": {},
   "outputs": [],
   "source": [
    "merged2['Specialty'].value_counts()"
   ]
  },
  {
   "cell_type": "code",
   "execution_count": null,
   "metadata": {},
   "outputs": [],
   "source": [
    "merged2['Specialty'].isnull().sum(), merged2['Specialty'].notnull().sum(), merged2.shape"
   ]
  },
  {
   "cell_type": "code",
   "execution_count": null,
   "metadata": {},
   "outputs": [],
   "source": [
    "merged2.head()"
   ]
  },
  {
   "cell_type": "code",
   "execution_count": null,
   "metadata": {},
   "outputs": [],
   "source": [
    "test_data = merged1['2018-05-01':'2018-02-28']"
   ]
  },
  {
   "cell_type": "code",
   "execution_count": null,
   "metadata": {},
   "outputs": [],
   "source": [
    "test_data.tail()"
   ]
  },
  {
   "cell_type": "code",
   "execution_count": null,
   "metadata": {},
   "outputs": [],
   "source": [
    "# drop rows with missing value in specialty column\n",
    "merged2.dropna(subset=['Specialty'], how='all', inplace=True)"
   ]
  },
  {
   "cell_type": "code",
   "execution_count": null,
   "metadata": {},
   "outputs": [],
   "source": [
    "merged1['Specialty'].value_counts()"
   ]
  },
  {
   "cell_type": "code",
   "execution_count": null,
   "metadata": {},
   "outputs": [],
   "source": [
    "merged1['Specialty']['2018-05-01':].value_counts()"
   ]
  },
  {
   "cell_type": "code",
   "execution_count": null,
   "metadata": {},
   "outputs": [],
   "source": [
    "merged2.shape"
   ]
  },
  {
   "cell_type": "code",
   "execution_count": null,
   "metadata": {},
   "outputs": [],
   "source": [
    "merged_index_month = merged2.index.month"
   ]
  },
  {
   "cell_type": "code",
   "execution_count": null,
   "metadata": {},
   "outputs": [],
   "source": [
    "merged_index_year = merged2.index.year"
   ]
  },
  {
   "cell_type": "code",
   "execution_count": null,
   "metadata": {},
   "outputs": [],
   "source": [
    "merged2.index.date"
   ]
  },
  {
   "cell_type": "code",
   "execution_count": null,
   "metadata": {},
   "outputs": [],
   "source": [
    "def plot_num_appointments_by_month(df, group_col, plot_name, colormap='Dark2'):\n",
    "    \"\"\" Plot duration data grouped by month\"\"\"\n",
    "    ax = df.groupby([df.index.year, df.index.month, group_col])[group_col]\\\n",
    "    .count().unstack().plot(figsize=(10,8),colormap=colormap, linewidth=3, fontsize=12, rot=30)\n",
    "    ax.set_title(plot_name)\n",
    "    ax.set_xlabel('Month')\n",
    "    ax.set_ylabel('Number of Appointments')\n",
    "    ax.legend(loc='center left', bbox_to_anchor=(1.0, 0.5), fontsize=12)\n",
    "    plt.show()"
   ]
  },
  {
   "cell_type": "code",
   "execution_count": null,
   "metadata": {},
   "outputs": [],
   "source": [
    "def plot_num_appointments(df, group_col, count_col, plot_name, colormap='Dark2'):\n",
    "    \"\"\" Plot duration data grouped by month\"\"\"\n",
    "    ax = df.groupby([df.index.date, group_col])[count_col]\\\n",
    "    .count().unstack().plot(figsize=(10,8),colormap=colormap, linewidth=3, fontsize=12, rot=30)\n",
    "    ax.set_title(plot_name)\n",
    "    ax.set_xlabel('Date')\n",
    "    ax.set_ylabel('Number of Appointments')\n",
    "    ax.legend(loc='center left', bbox_to_anchor=(1.0, 0.5), fontsize=12)\n",
    "    plt.show()"
   ]
  },
  {
   "cell_type": "code",
   "execution_count": null,
   "metadata": {},
   "outputs": [],
   "source": [
    "merged2.columns"
   ]
  },
  {
   "cell_type": "code",
   "execution_count": null,
   "metadata": {},
   "outputs": [],
   "source": [
    "plot_num_appointments(df=merged2, group_col='Specialty', count_col='Provider', plot_name='Number of Appointments', colormap='Dark2')"
   ]
  },
  {
   "cell_type": "raw",
   "metadata": {
    "collapsed": true
   },
   "source": [
    "Instead of looking at number of appointments, look at number of hours per day per provider/provider for each specialty"
   ]
  },
  {
   "cell_type": "code",
   "execution_count": null,
   "metadata": {},
   "outputs": [],
   "source": [
    "merged2['DurationHours'] = merged2['AppointmentDuration'] /60"
   ]
  },
  {
   "cell_type": "code",
   "execution_count": null,
   "metadata": {},
   "outputs": [],
   "source": [
    "time_spent_by_date = merged2.groupby([merged2.index.date, 'Specialty'])['DurationHours'].sum()"
   ]
  },
  {
   "cell_type": "code",
   "execution_count": null,
   "metadata": {},
   "outputs": [],
   "source": [
    "time_spent_by_date"
   ]
  },
  {
   "cell_type": "code",
   "execution_count": null,
   "metadata": {},
   "outputs": [],
   "source": [
    "# merged2.groupby([merged2.index.date, 'Specialty'])['DurationHours'].sum()"
   ]
  },
  {
   "cell_type": "code",
   "execution_count": null,
   "metadata": {},
   "outputs": [],
   "source": [
    "date = pd.to_datetime(merged2.index,format='%Y-%m-%d')"
   ]
  },
  {
   "cell_type": "code",
   "execution_count": null,
   "metadata": {},
   "outputs": [],
   "source": [
    "merged2['AppointmentDate'] = date"
   ]
  },
  {
   "cell_type": "code",
   "execution_count": null,
   "metadata": {},
   "outputs": [],
   "source": [
    "def plot_time_spent(df, date_col, group_col, duration_col, plot_name, colormap='Dark2'):\n",
    "    \"\"\" Plot duration data grouped by month\"\"\"\n",
    "    ax = df.groupby([df.index.date, group_col])[duration_col]\\\n",
    "    .sum().unstack().plot(figsize=(10,8),colormap=colormap, linewidth=3, fontsize=12, rot=30)\n",
    "    ax.set_title(plot_name)\n",
    "    ax.set_xlabel('Date')\n",
    "    ax.set_ylabel('Time')\n",
    "    ax.legend(loc='center left', bbox_to_anchor=(1.0, 0.5), fontsize=12)\n",
    "    plt.show()"
   ]
  },
  {
   "cell_type": "code",
   "execution_count": null,
   "metadata": {},
   "outputs": [],
   "source": [
    "plot_time_spent(df=merged2, date_col='AppointmentDate', group_col='Specialty', duration_col='DurationHours',\\\n",
    "            plot_name='Time per Month by Specialty (hours)', colormap='Dark2')"
   ]
  },
  {
   "cell_type": "code",
   "execution_count": null,
   "metadata": {},
   "outputs": [],
   "source": []
  },
  {
   "cell_type": "code",
   "execution_count": null,
   "metadata": {
    "scrolled": false
   },
   "outputs": [],
   "source": [
    "params = {'legend.fontsize': 20, 'legend.handlelength': 2, 'axes.labelsize': 'medium'}\n",
    "plt.rcParams.update(params)\n",
    "fig = merged2.groupby([merged2.index.date, 'Specialty'])['DurationHours'].sum().unstack().plot.area(subplots=True,\\\n",
    "    colormap='Dark2', figsize=(20,50), layout=(10,1), sharex=True, sharey=True, linewidth=3, fontsize=20)\n",
    "plt.xlabel('Date')\n",
    "plt.ylabel('Time (hours)', fontsize=20)\n",
    "plt.tight_layout()\n",
    "plt.show()"
   ]
  },
  {
   "cell_type": "code",
   "execution_count": null,
   "metadata": {},
   "outputs": [],
   "source": [
    "merged2['AppointmentDate'] = merged2.index"
   ]
  },
  {
   "cell_type": "code",
   "execution_count": null,
   "metadata": {},
   "outputs": [],
   "source": [
    "duration_df = merged2[['Provider', 'Specialty', 'AppointmentCreated', 'AppointmentDate', 'AppointmentDuration',\n",
    "       'ReasonForVisitName', 'DurationHours', 'ReasonForVisitDescription']]"
   ]
  },
  {
   "cell_type": "code",
   "execution_count": null,
   "metadata": {},
   "outputs": [],
   "source": [
    "duration_df.info()"
   ]
  },
  {
   "cell_type": "code",
   "execution_count": null,
   "metadata": {},
   "outputs": [],
   "source": [
    "duration_df.isnull().sum()"
   ]
  },
  {
   "cell_type": "code",
   "execution_count": null,
   "metadata": {},
   "outputs": [],
   "source": [
    "# drop appointments that are longer than 90 minutes\n",
    "duration_df = duration_df[duration_df['AppointmentDuration'] <= 90]"
   ]
  },
  {
   "cell_type": "code",
   "execution_count": null,
   "metadata": {},
   "outputs": [],
   "source": [
    "# drop remaining columns with missing values\n",
    "duration_df.dropna(axis=0, inplace=True)"
   ]
  },
  {
   "cell_type": "markdown",
   "metadata": {},
   "source": [
    "#### get appointment time by week for data through February"
   ]
  },
  {
   "cell_type": "code",
   "execution_count": null,
   "metadata": {},
   "outputs": [],
   "source": [
    "doctors = duration_df[duration_df['Specialty'] == 'doctor']\n",
    "therapists = duration_df[duration_df['Specialty'] == 'therapist']\n",
    "RN_PA = duration_df[duration_df['Specialty'] == 'RN/PA']"
   ]
  },
  {
   "cell_type": "code",
   "execution_count": null,
   "metadata": {},
   "outputs": [],
   "source": [
    "doc_duration = doctors.groupby(doctors.index.date)['DurationHours'].sum()\n",
    "RN_PA_duration = RN_PA.groupby(RN_PA.index.date)['DurationHours'].sum()\n",
    "therapist_duration = therapists.groupby(therapists.index.date)['DurationHours'].sum()"
   ]
  },
  {
   "cell_type": "code",
   "execution_count": null,
   "metadata": {},
   "outputs": [],
   "source": [
    "index_to_datetime(doc_duration)\n",
    "index_to_datetime(RN_PA_duration)\n",
    "index_to_datetime(therapist_duration)"
   ]
  },
  {
   "cell_type": "code",
   "execution_count": null,
   "metadata": {},
   "outputs": [],
   "source": [
    "# resample to weekly data\n",
    "doc_duration = doc_duration.resample('W-MON').sum()\n",
    "RN_PA_duration = RN_PA_duration.resample('W-MON').sum()\n",
    "therapist_duration = therapist_duration.resample('W-MON').sum()"
   ]
  },
  {
   "cell_type": "code",
   "execution_count": null,
   "metadata": {},
   "outputs": [],
   "source": [
    "# remove first row --> partial week\n",
    "# cut off last row --> March 5th for all categories that was introduced during resampling b/c it represents\n",
    "# a partial week's data\n",
    "doc_duration = doc_duration[1:-1]\n",
    "RN_PA_duration = RN_PA_duration[1:-1]\n",
    "therapist_duration = therapist_duration[1:-1]"
   ]
  },
  {
   "cell_type": "code",
   "execution_count": null,
   "metadata": {},
   "outputs": [],
   "source": [
    "def plot_series(series, xlabel, ylabel, plot_name):\n",
    "    \"Plots simple time series from Pandas Series\"\n",
    "    ax = series.plot(figsize=(8,3), linewidth = 3, fontsize=10, grid=True, rot=30)\n",
    "    ax.set_title(plot_name, fontsize=18)\n",
    "    ax.set_xlabel(xlabel, fontsize=15)\n",
    "    ax.set_ylabel(ylabel, fontsize=15)\n",
    "    plt.show()"
   ]
  },
  {
   "cell_type": "code",
   "execution_count": null,
   "metadata": {},
   "outputs": [],
   "source": [
    "doc_duration.tail()"
   ]
  },
  {
   "cell_type": "code",
   "execution_count": null,
   "metadata": {},
   "outputs": [],
   "source": [
    "# Plot time series doctors\n",
    "plot_series_save_fig(series=doc_duration, figsize=(12,6), xlabel='Date', ylabel='Appointment Time (hours)',\\\n",
    "                     plot_name='Doctors', figname='./images/doctors_weekly_time_series.png')"
   ]
  },
  {
   "cell_type": "code",
   "execution_count": null,
   "metadata": {},
   "outputs": [],
   "source": [
    "def plot_series_and_differences(series, ax, num_diff, title):\n",
    "    \"Plot raw data and specified number of differences\"\n",
    "    ax[0].plot(series.index, series)\n",
    "    ax[0].set_title('Raw series: {}'.format(title))\n",
    "    for i in range(1, num_diff+1):\n",
    "        diff = series.diff(i)\n",
    "        ax[i].plot(series.index, diff)\n",
    "        ax[i].set_title('Difference # {}'.format(str(i)))   "
   ]
  },
  {
   "cell_type": "code",
   "execution_count": null,
   "metadata": {},
   "outputs": [],
   "source": [
    "fig, axes = plt.subplots(3, figsize=(10, 8))\n",
    "plot_series_and_differences(series=doc_duration, ax=axes, num_diff=2, title='Doctors')\n",
    "fig.tight_layout()"
   ]
  },
  {
   "cell_type": "code",
   "execution_count": null,
   "metadata": {},
   "outputs": [],
   "source": [
    "def run_augmented_Dickey_Fuller_test(series, num_diffs=None):\n",
    "    test = sm.tsa.stattools.adfuller(series)\n",
    "    if test[1] >= 0.05:\n",
    "        print('The p-value for the series is: {p}, which is not significant'.format(p=test[1]))\n",
    "    else:\n",
    "        print('The p-value for the series is: {p}, which is significant'.format(p=test[1]))  \n",
    "    if num_diffs:\n",
    "        for i in range(1, num_diffs +1):\n",
    "            test = sm.tsa.stattools.adfuller(series.diff(i)[i:])\n",
    "            if test[1] >= 0.05:\n",
    "                print('The p-value for difference {diff} is: {p}, which is not significant'.format(diff=str(i), p=test[1]))\n",
    "            else:\n",
    "                print('The p-value for difference {diff} is: {p}, which is significant'.format(diff=str(i), p=test[1]))   "
   ]
  },
  {
   "cell_type": "code",
   "execution_count": null,
   "metadata": {},
   "outputs": [],
   "source": [
    "# test for stationarity of doctors data, 1st and 2nd diff\n",
    "run_augmented_Dickey_Fuller_test(doc_duration, num_diffs=2)"
   ]
  },
  {
   "cell_type": "code",
   "execution_count": null,
   "metadata": {},
   "outputs": [],
   "source": [
    "fig, axes = plt.subplots(3, figsize=(10, 8))\n",
    "plot_series_and_differences(series=RN_PA_duration, ax=axes, num_diff=2, title='RN/PA')\n",
    "fig.tight_layout()"
   ]
  },
  {
   "cell_type": "code",
   "execution_count": null,
   "metadata": {},
   "outputs": [],
   "source": [
    "# test for stationarity of RN/PA data, 1st and 2nd diff\n",
    "run_augmented_Dickey_Fuller_test(RN_PA_duration, num_diffs=2)"
   ]
  },
  {
   "cell_type": "code",
   "execution_count": null,
   "metadata": {},
   "outputs": [],
   "source": [
    "fig, axes = plt.subplots(3, figsize=(10, 8))\n",
    "plot_series_and_differences(series=therapist_duration, ax=axes, num_diff=2, title='Therapists')\n",
    "fig.tight_layout()"
   ]
  },
  {
   "cell_type": "code",
   "execution_count": null,
   "metadata": {
    "scrolled": true
   },
   "outputs": [],
   "source": [
    "# test for stationarity of therapist data, 1st and 2nd diff\n",
    "run_augmented_Dickey_Fuller_test(therapist_duration, num_diffs=2)"
   ]
  },
  {
   "cell_type": "markdown",
   "metadata": {},
   "source": [
    "#### plot detrended series"
   ]
  },
  {
   "cell_type": "code",
   "execution_count": null,
   "metadata": {},
   "outputs": [],
   "source": [
    "## plot detrended doc_dur using functions from matt drury tine series lecture w/ some \n",
    "# modifications\n",
    "def make_col_vector(array):\n",
    "    \"\"\"Convert a one dimensional numpy array to a column vector.\"\"\"\n",
    "    return array.reshape(-1, 1)\n",
    "\n",
    "def make_design_matrix(array):\n",
    "    \"\"\"Construct a design matrix from a numpy array, including an intercept term.\"\"\"\n",
    "    return sm.add_constant(make_col_vector(array), prepend=False)"
   ]
  },
  {
   "cell_type": "code",
   "execution_count": null,
   "metadata": {},
   "outputs": [],
   "source": [
    "def fit_linear_trend(series):\n",
    "    \"\"\"Fit a linear trend to a time series.  Return the fit trend as a numpy array.\"\"\"\n",
    "    X = make_design_matrix(np.arange(len(series)) + 1)\n",
    "    linear_trend_ols = sm.OLS(series.values, X).fit()\n",
    "    linear_trend = linear_trend_ols.predict(X)\n",
    "    return linear_trend"
   ]
  },
  {
   "cell_type": "code",
   "execution_count": null,
   "metadata": {},
   "outputs": [],
   "source": [
    "def plot_trend_data(ax, series):\n",
    "    ax.plot(series.index, series)\n",
    "\n",
    "def plot_linear_trend(ax, series, title='', xlabel='', ylabel=''):\n",
    "    linear_trend = fit_linear_trend(series)\n",
    "    plot_trend_data(ax, series)\n",
    "    ax.plot(series.index, linear_trend)\n",
    "    ax.set_title(title)\n",
    "    ax.set_xlabel(xlabel)\n",
    "    ax.set_ylabel(ylabel)"
   ]
  },
  {
   "cell_type": "code",
   "execution_count": null,
   "metadata": {},
   "outputs": [],
   "source": [
    "# plot linear model for doctors data\n",
    "params = {'figure.figsize': [8,8],'axes.grid.axis': 'both', 'axes.grid': True, 'axes.labelsize': 'Medium', 'font.size': 12.0, \\\n",
    "'lines.linewidth': 2}\n",
    "plt.rcParams.update(params)\n",
    "fig, ax = plt.subplots(1, figsize=(10,6))\n",
    "plot_linear_trend(ax, title='Linear Trend: Doctors', series=doc_duration, xlabel='Date',\\\n",
    "                  ylabel='Appointment Hours')\n",
    "plt.tight_layout()\n",
    "plt.savefig('./images/dr_linear_trend.png')"
   ]
  },
  {
   "cell_type": "code",
   "execution_count": null,
   "metadata": {},
   "outputs": [],
   "source": [
    "# get detrended series by subtracting the linear fit trend from original data\n",
    "doctors_trend = fit_linear_trend(doc_duration)\n",
    "doctors_detrended = doc_duration - doctors_trend"
   ]
  },
  {
   "cell_type": "code",
   "execution_count": null,
   "metadata": {},
   "outputs": [],
   "source": [
    "# plot detrended data\n",
    "fig, ax = plt.subplots(1, figsize=(10,3))\n",
    "plot_linear_trend(ax, title='Doctors', series= doctors_detrended)\n",
    "plt.title('Doctors data, linearly detrended')\n",
    "plt.tight_layout()"
   ]
  },
  {
   "cell_type": "code",
   "execution_count": null,
   "metadata": {},
   "outputs": [],
   "source": [
    "# Calculate and plot moving average\n",
    "def fit_moving_average_trend(series, window=14):\n",
    "    return series.rolling(window, center=True).mean()\n",
    "\n",
    "def plot_with_moving_average(ax, name, series, window=6):\n",
    "    moving_average_trend = fit_moving_average_trend(series, window)\n",
    "    plot_trend_data(ax, series)\n",
    "    ax.plot(series.index, moving_average_trend)\n",
    "    ax.set_title('{title}, window={w}'.format(title=name, w=str(window)))"
   ]
  },
  {
   "cell_type": "code",
   "execution_count": null,
   "metadata": {
    "scrolled": true
   },
   "outputs": [],
   "source": [
    "fig, ax = plt.subplots(1, figsize=(12,4))\n",
    "plot_with_moving_average(ax, 'MA Doctors', doc_duration)\n",
    "fig.savefig('./images/dr_MA6.png')"
   ]
  },
  {
   "cell_type": "code",
   "execution_count": null,
   "metadata": {},
   "outputs": [],
   "source": [
    "fig, ax = plt.subplots(1, figsize=(12,4))\n",
    "plot_with_moving_average(ax, 'MA Doctors', doc_duration, window=16)\n",
    "fig.savefig('./images/dr_MA16.png')"
   ]
  },
  {
   "cell_type": "code",
   "execution_count": null,
   "metadata": {},
   "outputs": [],
   "source": [
    "# look for seasonal patterns using window=52\n",
    "fig, ax = plt.subplots(1, figsize=(12,4))\n",
    "plot_with_moving_average(ax, 'Seasonal AVG Doctors', doc_duration, window=52)"
   ]
  },
  {
   "cell_type": "code",
   "execution_count": null,
   "metadata": {},
   "outputs": [],
   "source": [
    "def plot_autocorrelation(series, params, lags, alpha, title):\n",
    "    plt.rcParams.update(params)\n",
    "    acf_plot = tsaplots.plot_acf(series, lags=lags, alpha=alpha)\n",
    "    plt.title(title)\n",
    "    plt.xlabel('Number of Lags')\n",
    "    plt.show()\n",
    "\n",
    "def plot_partial_autocorrelation(series, params, lags, alpha, title):\n",
    "    plt.rcParams.update(params)\n",
    "    acf_plot = tsaplots.plot_pacf(series, lags=lags, alpha=alpha)\n",
    "    plt.xlabel('Number of Lags')\n",
    "    plt.title(title)\n",
    "    plt.show()"
   ]
  },
  {
   "cell_type": "markdown",
   "metadata": {},
   "source": [
    "#### plot decomposition for each specialty"
   ]
  },
  {
   "cell_type": "code",
   "execution_count": null,
   "metadata": {},
   "outputs": [],
   "source": [
    "def plot_decomposition(series, params, freq, title):\n",
    "    \"Plots observed, trend, seasonal, residual\"\n",
    "    plt.rcParams.update(params)\n",
    "    decomp = sm.tsa.seasonal_decompose(series, freq=freq)\n",
    "    fig = decomp.plot()\n",
    "    plt.title(title)\n",
    "    plt.show()"
   ]
  },
  {
   "cell_type": "code",
   "execution_count": null,
   "metadata": {},
   "outputs": [],
   "source": [
    "params = {'figure.figsize': [10,6],'axes.grid.axis': 'both', 'axes.grid': True,'axes.labelsize': 'Medium', 'font.size': 12.0, 'lines.linewidth': 2}\n",
    "\n",
    "dr_decomp = sm.tsa.seasonal_decompose(doc_duration, freq=12)\n",
    "plt.rcParams.update(params)\n",
    "fig = dr_decomp.observed.plot()\n",
    "fig = dr_decomp.trend.plot()\n",
    "plt.title('Doctors')\n",
    "plt.ylabel('Appointment Hours')\n",
    "plt.savefig('./images/doctors_hours_with_trend.png')\n",
    "plt.show()"
   ]
  },
  {
   "cell_type": "code",
   "execution_count": null,
   "metadata": {
    "scrolled": false
   },
   "outputs": [],
   "source": [
    "# Doctors Decomposition\n",
    "params = {'figure.figsize': [8, 8],'axes.grid.axis': 'both', 'axes.grid': True,'axes.labelsize': 'Medium', 'font.size': 12.0, 'lines.linewidth': 2}\n",
    "plot_decomposition(doc_duration, params=params, freq=12, title='Doctors Decomposition')"
   ]
  },
  {
   "cell_type": "code",
   "execution_count": null,
   "metadata": {},
   "outputs": [],
   "source": [
    "# RN/PA decomposition\n",
    "params = {'figure.figsize': [8, 8],'axes.grid.axis': 'both', 'axes.grid': True,'axes.labelsize': 'Medium', 'font.size': 12.0, 'lines.linewidth': 2}\n",
    "plot_decomposition(RN_PA_duration, params=params, freq=31, title='RN/PA Decomposition')"
   ]
  },
  {
   "cell_type": "code",
   "execution_count": null,
   "metadata": {},
   "outputs": [],
   "source": [
    "# Therapists decomposition\n",
    "params = {'figure.figsize': [8, 8],'axes.grid.axis': 'both', 'axes.grid': True,'axes.labelsize': 'Medium', 'font.size': 12.0, 'lines.linewidth': 2}\n",
    "plot_decomposition(therapist_duration, params=params, freq=31, title='Therapist Decomposition')"
   ]
  },
  {
   "cell_type": "code",
   "execution_count": null,
   "metadata": {},
   "outputs": [],
   "source": []
  },
  {
   "cell_type": "code",
   "execution_count": null,
   "metadata": {},
   "outputs": [],
   "source": []
  },
  {
   "cell_type": "code",
   "execution_count": null,
   "metadata": {},
   "outputs": [],
   "source": []
  }
 ],
 "metadata": {
  "kernelspec": {
   "display_name": "Python 3",
   "language": "python",
   "name": "python3"
  },
  "language_info": {
   "codemirror_mode": {
    "name": "ipython",
    "version": 3
   },
   "file_extension": ".py",
   "mimetype": "text/x-python",
   "name": "python",
   "nbconvert_exporter": "python",
   "pygments_lexer": "ipython3",
   "version": "3.6.5"
  }
 },
 "nbformat": 4,
 "nbformat_minor": 2
}
