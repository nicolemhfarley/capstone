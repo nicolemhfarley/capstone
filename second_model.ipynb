{
 "cells": [
  {
   "cell_type": "code",
   "execution_count": null,
   "metadata": {},
   "outputs": [],
   "source": [
    "import numpy as np\n",
    "import pandas as pd\n",
    "import matplotlib.pyplot as plt\n",
    "%matplotlib inline\n",
    "from statsmodels.graphics import tsaplots\n",
    "import statsmodels.api as sm\n",
    "from statsmodels.tsa.arima_model import ARIMA, ARIMAResults, ARMA\n",
    "from statsmodels.tsa.arima_process import ArmaProcess\n",
    "from statsmodels.stats.diagnostic import acorr_ljungbox\n",
    "from scipy import signal\n",
    "from sklearn.metrics import mean_squared_error\n",
    "\n",
    "# from .ARIMA_functions import get_ARIMA_model\n",
    "# , plot_ARIMA_model, plot_ARIMA_resids, get_ARIMA_forecast\n",
    "\n",
    "# ,\\\n",
    "# plot_data_plus_ARIMA_predictions, plot_data_plus_ARIMA_predictions, test_rolling_ARIMA_forecast,\\\n",
    "# plot_rolling_ARIMA_forecast, get_predictions_df_and_plot_rolling_ARIMA_forecast"
   ]
  },
  {
   "cell_type": "code",
   "execution_count": null,
   "metadata": {
    "collapsed": true
   },
   "outputs": [],
   "source": [
    "# from ./capstoneARIMA_functions import get_ARIMA_model\n"
   ]
  },
  {
   "cell_type": "markdown",
   "metadata": {},
   "source": [
    "### import data"
   ]
  },
  {
   "cell_type": "code",
   "execution_count": null,
   "metadata": {
    "collapsed": true
   },
   "outputs": [],
   "source": [
    "duration_train_df = pd.read_csv('hours_training_data.csv', parse_dates=True, index_col='AppointmentDate')"
   ]
  },
  {
   "cell_type": "code",
   "execution_count": null,
   "metadata": {
    "collapsed": true
   },
   "outputs": [],
   "source": [
    "duration_test_df = pd.read_csv('hours_test_data.csv', parse_dates=True, index_col='AppointmentDate')"
   ]
  },
  {
   "cell_type": "code",
   "execution_count": null,
   "metadata": {
    "collapsed": true
   },
   "outputs": [],
   "source": [
    "all_data_df = pd.concat([duration_train_df, duration_test_df], axis=0)"
   ]
  },
  {
   "cell_type": "code",
   "execution_count": null,
   "metadata": {},
   "outputs": [],
   "source": [
    "all_data_df.isnull().sum()"
   ]
  },
  {
   "cell_type": "markdown",
   "metadata": {},
   "source": [
    "### Separate training and test df by specialty, then downsample to get hours/week"
   ]
  },
  {
   "cell_type": "markdown",
   "metadata": {},
   "source": [
    "#### training data"
   ]
  },
  {
   "cell_type": "code",
   "execution_count": null,
   "metadata": {
    "collapsed": true
   },
   "outputs": [],
   "source": [
    "doctors = duration_train_df[duration_train_df['Specialty'] == 'doctor']\n",
    "therapists = duration_train_df[duration_train_df['Specialty'] == 'therapist']\n",
    "RN_PA = duration_train_df[duration_train_df['Specialty'] == 'RN/PA']"
   ]
  },
  {
   "cell_type": "code",
   "execution_count": null,
   "metadata": {
    "collapsed": true
   },
   "outputs": [],
   "source": [
    "# Group by hours per day\n",
    "doc_duration = doctors.groupby(doctors.index.date)['Hours_Spent'].sum()\n",
    "RN_PA_duration = RN_PA.groupby(RN_PA.index.date)['Hours_Spent'].sum()\n",
    "therapist_duration = therapists.groupby(therapists.index.date)['Hours_Spent'].sum()"
   ]
  },
  {
   "cell_type": "code",
   "execution_count": null,
   "metadata": {
    "collapsed": true
   },
   "outputs": [],
   "source": [
    "def index_to_datetime(series):\n",
    "    \"Converts series object indext to datetime\"\n",
    "    series.index = pd.to_datetime(series.index, errors='coerce')"
   ]
  },
  {
   "cell_type": "code",
   "execution_count": null,
   "metadata": {
    "collapsed": true
   },
   "outputs": [],
   "source": [
    "training_duration = [doc_duration, RN_PA_duration, therapist_duration]"
   ]
  },
  {
   "cell_type": "code",
   "execution_count": null,
   "metadata": {
    "collapsed": true
   },
   "outputs": [],
   "source": [
    "# convert training data index to datetime\n",
    "for item in training_duration:\n",
    "    index_to_datetime(item)"
   ]
  },
  {
   "cell_type": "code",
   "execution_count": null,
   "metadata": {
    "collapsed": true
   },
   "outputs": [],
   "source": [
    "# downsample from daily to weekly data, filling missing data w/ the mean\n",
    "def downsample_data_week(data, fill_method='bfill'):\n",
    "    downsampled = data.resample(rule='W').mean() \n",
    "    downsampled.fillna(method=fill_method, inplace=True)\n",
    "    return downsampled"
   ]
  },
  {
   "cell_type": "code",
   "execution_count": null,
   "metadata": {
    "collapsed": true
   },
   "outputs": [],
   "source": [
    "dr_train_data = downsample_data_week(doc_duration, fill_method='bfill')\n",
    "RN_PA_train_data = downsample_data_week(RN_PA_duration, fill_method='bfill')\n",
    "therapist_train_data = downsample_data_week(therapist_duration, fill_method='bfill')"
   ]
  },
  {
   "cell_type": "markdown",
   "metadata": {},
   "source": [
    "#### all data"
   ]
  },
  {
   "cell_type": "code",
   "execution_count": null,
   "metadata": {
    "collapsed": true
   },
   "outputs": [],
   "source": [
    "all_doctors = all_data_df[all_data_df['Specialty'] == 'doctor']\n",
    "all_therapists = all_data_df[all_data_df['Specialty'] == 'therapist']\n",
    "all_RN_PA = all_data_df[all_data_df['Specialty'] == 'RN/PA']"
   ]
  },
  {
   "cell_type": "code",
   "execution_count": null,
   "metadata": {
    "collapsed": true
   },
   "outputs": [],
   "source": [
    "# Group by hours per day\n",
    "all_doc_duration = all_doctors.groupby(all_doctors.index.date)['Hours_Spent'].sum()\n",
    "all_RN_PA_duration = all_RN_PA.groupby(all_RN_PA.index.date)['Hours_Spent'].sum()\n",
    "all_therapist_duration = all_therapists.groupby(all_therapists.index.date)['Hours_Spent'].sum()"
   ]
  },
  {
   "cell_type": "code",
   "execution_count": null,
   "metadata": {
    "collapsed": true
   },
   "outputs": [],
   "source": [
    "all_data = [all_doc_duration, all_RN_PA_duration, all_therapist_duration]"
   ]
  },
  {
   "cell_type": "code",
   "execution_count": null,
   "metadata": {
    "collapsed": true
   },
   "outputs": [],
   "source": [
    "for item in all_data:\n",
    "    index_to_datetime(item)"
   ]
  },
  {
   "cell_type": "code",
   "execution_count": null,
   "metadata": {
    "collapsed": true
   },
   "outputs": [],
   "source": [
    "all_dr = downsample_data_week(all_doc_duration, fill_method='bfill')\n",
    "all_RN_PA = downsample_data_week(all_RN_PA_duration, fill_method='bfill')\n",
    "all_therapist = downsample_data_week(all_therapist_duration, fill_method='bfill')"
   ]
  },
  {
   "cell_type": "code",
   "execution_count": null,
   "metadata": {
    "collapsed": true
   },
   "outputs": [],
   "source": [
    "all_data_sets = [all_dr, all_RN_PA, all_therapist]"
   ]
  },
  {
   "cell_type": "markdown",
   "metadata": {},
   "source": [
    "#### test data"
   ]
  },
  {
   "cell_type": "code",
   "execution_count": null,
   "metadata": {
    "collapsed": true
   },
   "outputs": [],
   "source": [
    "dr_test_data = duration_test_df[duration_test_df['Specialty'] == 'doctor']\n",
    "RN_PA_test_data = duration_test_df[duration_test_df['Specialty'] == 'RN/PA']\n",
    "therapist_test_data = duration_test_df[duration_test_df['Specialty'] == 'therapist']"
   ]
  },
  {
   "cell_type": "code",
   "execution_count": null,
   "metadata": {
    "collapsed": true
   },
   "outputs": [],
   "source": [
    "# dr_test_data = duration_test_data[duration_test_data['Specialty'] == 'doctor']\n",
    "# RN_PA_test_data = duration_test_data[duration_test_data['Specialty'] == 'RN/PA']\n",
    "# therapist_test_data = duration_test_data[duration_test_data['Specialty'] == 'therapist']"
   ]
  },
  {
   "cell_type": "code",
   "execution_count": null,
   "metadata": {
    "collapsed": true
   },
   "outputs": [],
   "source": [
    "dr_test_data = dr_test_data.groupby(dr_test_data.index.date)['Hours_Spent'].sum()\n",
    "RN_PA_test_data = RN_PA_test_data.groupby(RN_PA_test_data.index.date)['Hours_Spent'].sum()\n",
    "therapist_test_data = therapist_test_data.groupby(therapist_test_data.index.date)['Hours_Spent'].sum()"
   ]
  },
  {
   "cell_type": "code",
   "execution_count": null,
   "metadata": {
    "collapsed": true
   },
   "outputs": [],
   "source": [
    "test_data = [dr_test_data, RN_PA_test_data, therapist_test_data]"
   ]
  },
  {
   "cell_type": "code",
   "execution_count": null,
   "metadata": {
    "collapsed": true
   },
   "outputs": [],
   "source": [
    "# convert test data index to datetime\n",
    "for item in test_data:\n",
    "    index_to_datetime(item)"
   ]
  },
  {
   "cell_type": "code",
   "execution_count": null,
   "metadata": {
    "collapsed": true
   },
   "outputs": [],
   "source": [
    "# def get_test_data(data):\n",
    "#     data = data['AppointmentDuration']\n",
    "#     data = data.resample(rule='W').mean()\n",
    "#     data.fillna(method='bfill', inplace=True)\n",
    "#     return data"
   ]
  },
  {
   "cell_type": "code",
   "execution_count": null,
   "metadata": {
    "collapsed": true
   },
   "outputs": [],
   "source": [
    "dr_test_set = downsample_data_week(dr_test_data)\n",
    "RN_PA_test_set = downsample_data_week(RN_PA_test_data)\n",
    "therapist_test_set = downsample_data_week(therapist_test_data)"
   ]
  },
  {
   "cell_type": "code",
   "execution_count": null,
   "metadata": {
    "collapsed": true
   },
   "outputs": [],
   "source": [
    "def plot_series(series, xlabel, ylabel, plot_name):\n",
    "    \"Plots simple time series from Pandas Series\"\n",
    "    ax = series.plot(figsize=(8,3), linewidth = 3, fontsize=10, grid=True, rot=30)\n",
    "    ax.set_title(plot_name, fontsize=18)\n",
    "    ax.set_xlabel(xlabel, fontsize=15)\n",
    "    ax.set_ylabel(ylabel, fontsize=15)\n",
    "    plt.show()"
   ]
  },
  {
   "cell_type": "code",
   "execution_count": null,
   "metadata": {
    "collapsed": true
   },
   "outputs": [],
   "source": [
    "def plot_series_and_differences(series, ax, num_diff, title):\n",
    "    \"Plot raw data and specified number of differences\"\n",
    "    ax[0].plot(series.index, series)\n",
    "    ax[0].set_title('Raw series: {}'.format(title))\n",
    "    for i in range(1, num_diff+1):\n",
    "        diff = series.diff(i)\n",
    "        ax[i].plot(series.index, diff)\n",
    "        ax[i].set_title('Difference # {}'.format(str(i)))   "
   ]
  },
  {
   "cell_type": "code",
   "execution_count": null,
   "metadata": {},
   "outputs": [],
   "source": [
    "plot_series(series=dr_train_data, xlabel='', ylabel='', plot_name='Doctors')"
   ]
  },
  {
   "cell_type": "code",
   "execution_count": null,
   "metadata": {
    "scrolled": false
   },
   "outputs": [],
   "source": [
    "# plot raw data and first and second differences for doctors\n",
    "fig, axes = plt.subplots(3, figsize=(10, 8))\n",
    "plot_series_and_differences(series=dr_train_data, ax=axes, num_diff=2, title='Doctors')\n",
    "fig.tight_layout()"
   ]
  },
  {
   "cell_type": "code",
   "execution_count": null,
   "metadata": {
    "collapsed": true
   },
   "outputs": [],
   "source": [
    "def run_augmented_Dickey_Fuller_test(series, num_diffs=None):\n",
    "    test = sm.tsa.stattools.adfuller(series)\n",
    "    if test[1] >= 0.05:\n",
    "        print('The p-value for the series is: {p}, which is not significant'.format(p=test[1]))\n",
    "    else:\n",
    "        print('The p-value for the series is: {p}, which is significant'.format(p=test[1]))  \n",
    "    if num_diffs:\n",
    "        for i in range(1, num_diffs +1):\n",
    "            test = sm.tsa.stattools.adfuller(series.diff(i)[i:])\n",
    "            if test[1] >= 0.05:\n",
    "                print('The p-value for difference {diff} is: {p}, which is not significant'.format(diff=str(i), p=test[1]))\n",
    "            else:\n",
    "                print('The p-value for difference {diff} is: {p}, which is significant'.format(diff=str(i), p=test[1]))   "
   ]
  },
  {
   "cell_type": "code",
   "execution_count": null,
   "metadata": {},
   "outputs": [],
   "source": [
    "# test for stationarity of doctors data, 1st and 2nd diff\n",
    "run_augmented_Dickey_Fuller_test(doc_duration, num_diffs=2)"
   ]
  },
  {
   "cell_type": "code",
   "execution_count": null,
   "metadata": {},
   "outputs": [],
   "source": [
    "# plot raw data and first and second differences for RN/PA\n",
    "fig, axes = plt.subplots(3, figsize=(10, 8))\n",
    "plot_series_and_differences(series=RN_PA_train_data, ax=axes, num_diff=2, title='RN/PA')\n",
    "fig.tight_layout()"
   ]
  },
  {
   "cell_type": "code",
   "execution_count": null,
   "metadata": {},
   "outputs": [],
   "source": [
    "# test for stationarity of RN/PA data, 1st and 2nd diff\n",
    "run_augmented_Dickey_Fuller_test(RN_PA_duration, num_diffs=2)"
   ]
  },
  {
   "cell_type": "code",
   "execution_count": null,
   "metadata": {},
   "outputs": [],
   "source": [
    "# plot raw data and first and second differences for therapists\n",
    "fig, axes = plt.subplots(3, figsize=(10, 8))\n",
    "plot_series_and_differences(series=therapist_train_data, ax=axes, num_diff=2, title='Therapists')\n",
    "fig.tight_layout()"
   ]
  },
  {
   "cell_type": "code",
   "execution_count": null,
   "metadata": {
    "scrolled": true
   },
   "outputs": [],
   "source": [
    "# test for stationarity of therapist data, 1st and 2nd diff\n",
    "run_augmented_Dickey_Fuller_test(therapist_duration, num_diffs=2)"
   ]
  },
  {
   "cell_type": "code",
   "execution_count": null,
   "metadata": {
    "collapsed": true
   },
   "outputs": [],
   "source": [
    "def plot_autocorrelation(series, params, lags, alpha, title):\n",
    "    plt.rcParams.update(params)\n",
    "    acf_plot = tsaplots.plot_acf(series, lags=lags, alpha=alpha)\n",
    "    plt.title(title)\n",
    "    plt.xlabel('Number of Lags')\n",
    "    plt.show()\n",
    "\n",
    "def plot_partial_autocorrelation(series, params, lags, alpha, title):\n",
    "    plt.rcParams.update(params)\n",
    "    acf_plot = tsaplots.plot_pacf(series, lags=lags, alpha=alpha)\n",
    "    plt.xlabel('Number of Lags')\n",
    "    plt.title(title)\n",
    "    plt.show()"
   ]
  },
  {
   "cell_type": "markdown",
   "metadata": {},
   "source": [
    "#### plot decomposition for all categories weekly data"
   ]
  },
  {
   "cell_type": "code",
   "execution_count": null,
   "metadata": {
    "collapsed": true
   },
   "outputs": [],
   "source": [
    "def plot_decomposition(series, params, freq, title=''):\n",
    "    \"Plots observed, trend, seasonal, residual\"\n",
    "    plt.rcParams.update(params)\n",
    "    decomp = sm.tsa.seasonal_decompose(series, freq=freq)\n",
    "    fig = decomp.plot()\n",
    "    plt.title(title)\n",
    "    plt.show()"
   ]
  },
  {
   "cell_type": "code",
   "execution_count": null,
   "metadata": {
    "collapsed": true,
    "scrolled": false
   },
   "outputs": [],
   "source": [
    "# series_list = training_datasets\n",
    "# for i in range(3):\n",
    "#     params = {'figure.figsize': [12, 8], 'axes.labelsize': 'Medium', 'font.size': 12.0, 'lines.linewidth': 2}\n",
    "#     axes[i] = plot_decomposition(series=series_list[i], params=params, freq=31)"
   ]
  },
  {
   "cell_type": "code",
   "execution_count": null,
   "metadata": {
    "scrolled": false
   },
   "outputs": [],
   "source": [
    "# doctors\n",
    "params = {'figure.figsize': [8, 8],'axes.labelsize': 'Medium', 'font.size': 12.0, 'lines.linewidth': 2}\n",
    "plot_decomposition(dr_train_data, params=params, freq=31, title='Doctors Decomposition')"
   ]
  },
  {
   "cell_type": "code",
   "execution_count": null,
   "metadata": {},
   "outputs": [],
   "source": [
    "# RN/PA\n",
    "params = {'figure.figsize': [8,8],'axes.labelsize': 'Medium', 'font.size': 12.0, 'lines.linewidth': 2}\n",
    "plot_decomposition(RN_PA_train_data, params=params, freq=31, title='RN/PA Decomposition')"
   ]
  },
  {
   "cell_type": "code",
   "execution_count": null,
   "metadata": {
    "collapsed": true,
    "scrolled": true
   },
   "outputs": [],
   "source": [
    "# plot_series(weekly_doc_dur, xlabel='Date', ylabel='Hours', plot_name='Doctor Hours per Week')"
   ]
  },
  {
   "cell_type": "code",
   "execution_count": null,
   "metadata": {},
   "outputs": [],
   "source": [
    "# therapists\n",
    "params = {'figure.figsize': [8,8],'axes.labelsize': 'Medium', 'font.size': 12.0, 'lines.linewidth': 2}\n",
    "plot_decomposition(therapist_train_data, params=params, freq=31, title='Therapist Decomposition')"
   ]
  },
  {
   "cell_type": "code",
   "execution_count": null,
   "metadata": {
    "collapsed": true
   },
   "outputs": [],
   "source": []
  },
  {
   "cell_type": "code",
   "execution_count": null,
   "metadata": {
    "collapsed": true
   },
   "outputs": [],
   "source": []
  },
  {
   "cell_type": "code",
   "execution_count": null,
   "metadata": {
    "collapsed": true
   },
   "outputs": [],
   "source": []
  }
 ],
 "metadata": {
  "kernelspec": {
   "display_name": "Python 3",
   "language": "python",
   "name": "python3"
  },
  "language_info": {
   "codemirror_mode": {
    "name": "ipython",
    "version": 3
   },
   "file_extension": ".py",
   "mimetype": "text/x-python",
   "name": "python",
   "nbconvert_exporter": "python",
   "pygments_lexer": "ipython3",
   "version": "3.6.3"
  }
 },
 "nbformat": 4,
 "nbformat_minor": 2
}
