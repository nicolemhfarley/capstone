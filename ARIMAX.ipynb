{
 "cells": [
  {
   "cell_type": "code",
   "execution_count": null,
   "metadata": {},
   "outputs": [],
   "source": [
    "import numpy as np\n",
    "import pandas as pd\n",
    "import matplotlib.pyplot as plt\n",
    "%matplotlib inline\n",
    "from statsmodels.graphics import tsaplots\n",
    "import statsmodels.api as sm\n",
    "from statsmodels.tsa.arima_model import ARIMA, ARIMAResults, ARMA\n",
    "from statsmodels.tsa.arima_process import ArmaProcess\n",
    "from sklearn.metrics import mean_squared_error\n",
    "%load_ext autoreload\n",
    "%autoreload 2\n",
    "import warnings\n",
    "warnings.filterwarnings(\"ignore\")"
   ]
  },
  {
   "cell_type": "code",
   "execution_count": null,
   "metadata": {},
   "outputs": [],
   "source": [
    "from timeseries_functions import index_to_datetime, plot_all_df_columns, weekly_resample, plot_series,\\\n",
    "plot_series_save_fig, plot_series_and_differences, run_augmented_Dickey_Fuller_test, \\\n",
    "plot_autocorrelation, plot_partial_autocorrelation, plot_decomposition"
   ]
  },
  {
   "cell_type": "code",
   "execution_count": null,
   "metadata": {},
   "outputs": [],
   "source": [
    "from timeseries_functions import make_col_vector, make_design_matrix, fit_linear_trend,\\\n",
    "plot_trend_data, plot_linear_trend"
   ]
  },
  {
   "cell_type": "code",
   "execution_count": null,
   "metadata": {},
   "outputs": [],
   "source": [
    "from AR_MA_functions import get_AR_model, plot_AR_model, get_AR_model_order_BIC,\\\n",
    "plot_BIC_AR_model, get_MA_model, plot_MA_model"
   ]
  },
  {
   "cell_type": "code",
   "execution_count": null,
   "metadata": {},
   "outputs": [],
   "source": [
    "from ARIMA_functions import get_ARIMA_model, plot_ARIMA_model, plot_ARIMA_resids,\\\n",
    "get_ARIMA_forecast, plot_ARIMA_forecast_and_CI, plot_data_plus_ARIMA_predictions, \\\n",
    "test_rolling_ARIMA_forecast,get_predictions_df_and_plot_rolling_ARIMA_forecast"
   ]
  },
  {
   "cell_type": "code",
   "execution_count": null,
   "metadata": {},
   "outputs": [],
   "source": [
    "from ARIMA_functions import get_ARIMAX_model, plot_ARIMAX_model, plot_ARIMAX_model_save_fig, \\\n",
    "plot_data_plus_ARIMAX_predictions, get_ARIMAX_predictions, get_ARIMAX_training_MSE,\\\n",
    "get_ARIMAX_train_test_predictions, get_ARIMAX_train_test_MSE"
   ]
  },
  {
   "cell_type": "markdown",
   "metadata": {},
   "source": [
    "#### import data"
   ]
  },
  {
   "cell_type": "code",
   "execution_count": null,
   "metadata": {},
   "outputs": [],
   "source": [
    "appointments = pd.read_csv('./data/appointments_through_04-2018.csv', index_col=0)"
   ]
  },
  {
   "cell_type": "code",
   "execution_count": null,
   "metadata": {},
   "outputs": [],
   "source": [
    "appointments.index = pd.to_datetime(appointments.index)"
   ]
  },
  {
   "cell_type": "code",
   "execution_count": null,
   "metadata": {},
   "outputs": [],
   "source": [
    "appointments['Hours_Spent'] = appointments['AppointmentDuration'] / 60"
   ]
  },
  {
   "cell_type": "code",
   "execution_count": null,
   "metadata": {},
   "outputs": [],
   "source": [
    "appointments.head()"
   ]
  },
  {
   "cell_type": "code",
   "execution_count": null,
   "metadata": {},
   "outputs": [],
   "source": [
    "# group by specialty\n",
    "doctor = appointments[appointments['Specialty'] == 'doctor']\n",
    "RN_PA = appointments[appointments['Specialty'] == 'RN/PA']\n",
    "therapist = appointments[appointments['Specialty'] == 'therapist']"
   ]
  },
  {
   "cell_type": "code",
   "execution_count": null,
   "metadata": {},
   "outputs": [],
   "source": [
    "doctor.columns"
   ]
  },
  {
   "cell_type": "code",
   "execution_count": null,
   "metadata": {},
   "outputs": [],
   "source": [
    "# Sum Appointment hours by date\n",
    "dr_hours = doctor.groupby(doctor.index.date)['Hours_Spent'].sum()\n",
    "RNPA_hours = RN_PA.groupby(RN_PA.index.date)['Hours_Spent'].sum()\n",
    "therapist_hours = therapist.groupby(therapist.index.date)['Hours_Spent'].sum()"
   ]
  },
  {
   "cell_type": "code",
   "execution_count": null,
   "metadata": {},
   "outputs": [],
   "source": [
    "dr_hours.head(), dr_hours.tail()"
   ]
  },
  {
   "cell_type": "code",
   "execution_count": null,
   "metadata": {},
   "outputs": [],
   "source": [
    "# import weekly numbers data\n",
    "num_dr = pd.read_csv('./data/doctors_hours_per_provider.csv', index_col=0)\n",
    "num_RNPA = pd.read_csv('./data/RNPA_hours_per_provider.csv',  index_col=0)\n",
    "num_therapists = pd.read_csv('./data/therapists_hours_per_provider.csv',  index_col=0)"
   ]
  },
  {
   "cell_type": "code",
   "execution_count": null,
   "metadata": {},
   "outputs": [],
   "source": [
    "providers = [num_dr, num_RNPA, num_therapists]\n",
    "hours = [dr_hours, RNPA_hours, therapist_hours]"
   ]
  },
  {
   "cell_type": "markdown",
   "metadata": {},
   "source": [
    "#### convert index to datetime and downsample hours data for each series to weekly freq"
   ]
  },
  {
   "cell_type": "code",
   "execution_count": null,
   "metadata": {},
   "outputs": [],
   "source": [
    "for p in providers:\n",
    "    p.index = pd.to_datetime(p.index)\n",
    "for h in hours:\n",
    "    h.index = pd.to_datetime(h.index)"
   ]
  },
  {
   "cell_type": "code",
   "execution_count": null,
   "metadata": {},
   "outputs": [],
   "source": [
    "# resample to weekly data\n",
    "dr_hours = weekly_resample(dr_hours)\n",
    "RNPA_hours = weekly_resample(RNPA_hours)\n",
    "therapist_hours = weekly_resample(therapist_hours)"
   ]
  },
  {
   "cell_type": "code",
   "execution_count": null,
   "metadata": {},
   "outputs": [],
   "source": [
    "# drop first row --> partial week \n",
    "dr_hours = dr_hours[1:]\n",
    "RNPA_hours = RNPA_hours[1:]\n",
    "therapist_hours = therapist_hours[1:]"
   ]
  },
  {
   "cell_type": "code",
   "execution_count": null,
   "metadata": {},
   "outputs": [],
   "source": [
    "dr_hours.tail()"
   ]
  },
  {
   "cell_type": "code",
   "execution_count": null,
   "metadata": {},
   "outputs": [],
   "source": [
    "providers = [num_dr, num_RNPA, num_therapists]\n",
    "hours = [dr_hours, RNPA_hours, therapist_hours]"
   ]
  },
  {
   "cell_type": "code",
   "execution_count": null,
   "metadata": {},
   "outputs": [],
   "source": [
    "# name each series\n",
    "num_dr.name = 'Number of Doctors'\n",
    "num_RNPA.name = 'Number of RN/PAs'\n",
    "num_therapists.name = 'Number of Therapists'"
   ]
  },
  {
   "cell_type": "code",
   "execution_count": null,
   "metadata": {},
   "outputs": [],
   "source": [
    "dr_hours.name = 'Doctors Hours'\n",
    "RNPA_hours.name = 'RN/PAs Hours'\n",
    "therapist_hours.name = 'Therapists Hours'"
   ]
  },
  {
   "cell_type": "markdown",
   "metadata": {},
   "source": [
    "#### test for stationarity in all time series"
   ]
  },
  {
   "cell_type": "code",
   "execution_count": null,
   "metadata": {},
   "outputs": [],
   "source": [
    "providers = [num_dr, num_RNPA, num_therapists]\n",
    "hours = [dr_hours, RNPA_hours, therapist_hours]"
   ]
  },
  {
   "cell_type": "code",
   "execution_count": null,
   "metadata": {},
   "outputs": [],
   "source": [
    "for p in providers:  \n",
    "    print(p.name)\n",
    "    run_augmented_Dickey_Fuller_test(series=p['Number_Providers'], num_diffs=2)"
   ]
  },
  {
   "cell_type": "code",
   "execution_count": null,
   "metadata": {},
   "outputs": [],
   "source": [
    "for h in hours:\n",
    "    print(h.name)\n",
    "    run_augmented_Dickey_Fuller_test(series=h, num_diffs=2)"
   ]
  },
  {
   "cell_type": "raw",
   "metadata": {},
   "source": [
    "None of these series are stationary, must take the first differnece"
   ]
  },
  {
   "cell_type": "markdown",
   "metadata": {},
   "source": [
    "#### determine number of AR and MA terms to add for each time series"
   ]
  },
  {
   "cell_type": "code",
   "execution_count": null,
   "metadata": {},
   "outputs": [],
   "source": [
    "# Plot ACF and PACF of first difference of each series\n",
    "for p in providers:\n",
    "    params = {'figure.figsize': [4,3],'axes.grid.axis': 'both', 'axes.grid': True, 'axes.labelsize': 'Medium', 'font.size': 12.0, \\\n",
    "'lines.linewidth': 2}\n",
    "    plot_partial_autocorrelation(series=p['Number_Providers'], params=params, lags=30, alpha=0.05, title='PACF {}'.format(p.name))\n",
    "    plot_autocorrelation(series=p['Number_Providers'], params=params, lags=30, alpha=0.05, title='ACF {}'.format(p.name))"
   ]
  },
  {
   "cell_type": "code",
   "execution_count": null,
   "metadata": {},
   "outputs": [],
   "source": [
    "for h in hours:\n",
    "    params = {'figure.figsize': [4,3],'axes.grid.axis': 'both', 'axes.grid': True, 'axes.labelsize': 'Medium', 'font.size': 12.0, \\\n",
    "'lines.linewidth': 2}\n",
    "    plot_partial_autocorrelation(series=h, params=params, lags=30, alpha=0.05, title='PACF {}'.format(h.name))\n",
    "    plot_autocorrelation(series=h, params=params, lags=30, alpha=0.05, title='ACF {}'.format(h.name))"
   ]
  },
  {
   "cell_type": "raw",
   "metadata": {
    "collapsed": true
   },
   "source": [
    "Based on the PACF/ACF plots and Augmented Dickey-Fuller of weekly data:\n",
    "- use first diff for all series\n",
    "- num_dr: use AR(2)\n",
    "- num_RN/PA: use AR(2)\n",
    "- num_therapists: use AR(2)\n",
    "- dr_hours: use AR(5)\n",
    "- RNPA_hours: AR(4)\n",
    "- therapist_hours: AR(5)"
   ]
  },
  {
   "cell_type": "markdown",
   "metadata": {
    "collapsed": true
   },
   "source": [
    "#### get ARIMAX model using num_provider as exogenous variable and plot"
   ]
  },
  {
   "cell_type": "markdown",
   "metadata": {},
   "source": [
    "#### Doctors"
   ]
  },
  {
   "cell_type": "code",
   "execution_count": null,
   "metadata": {},
   "outputs": [],
   "source": [
    "start_date = '2015-01-19' # b/c start data differenced away\n",
    "end_date = '2018-04-30'\n",
    "end_pred = '2018-09-30'"
   ]
  },
  {
   "cell_type": "code",
   "execution_count": null,
   "metadata": {},
   "outputs": [],
   "source": [
    "dr_results, dr_summary, dr_params, dr_residuals = get_ARIMAX_model(data=dr_hours,\\\n",
    "                    exog_var=num_dr, order=(5,1,0))"
   ]
  },
  {
   "cell_type": "code",
   "execution_count": null,
   "metadata": {
    "scrolled": true
   },
   "outputs": [],
   "source": [
    "num_dr"
   ]
  },
  {
   "cell_type": "code",
   "execution_count": null,
   "metadata": {},
   "outputs": [],
   "source": [
    "def plot_ARIMAX_model_save_fig(data, order, exog_var, start, end, title='', xlabel='', ylabel='',\n",
    "                              figname='figure.png'):\n",
    "    \"\"\"Plots ARIMAX model\n",
    "    data: pandas Series\n",
    "    order: (p,d,q) format\n",
    "    exog_var = exogenous variable as pandas Series\n",
    "    start/end: starting/ending dates for plot (x_axis)\n",
    "    \"\"\"\n",
    "    results = ARIMA(endog=data, order=order, exog=exog_var).fit()\n",
    "    fig = results.plot_predict(start=start, end=end,exog=exog_var)\n",
    "    plt.title(title)\n",
    "    plt.ylabel(ylabel)\n",
    "    plt.xlabel(xlabel)\n",
    "    plt.show()\n",
    "    fig.savefig(figname)"
   ]
  },
  {
   "cell_type": "code",
   "execution_count": null,
   "metadata": {
    "scrolled": true
   },
   "outputs": [],
   "source": [
    "# plot and save doctors figure using 3 MA components\n",
    "params = {'figure.figsize': [12,6],'axes.grid.axis': 'both', 'axes.grid': True, 'axes.labelsize': 'Medium', 'font.size': 12.0, \\\n",
    "'lines.linewidth': 2}\n",
    "plt.rcParams.update(params)\n",
    "\n",
    "plot_ARIMAX_model_save_fig(data=dr_hours, order=(5,1,3), exog_var=num_dr, start=start_date,\\\n",
    "                end=end_pred, title='Doctors', xlabel='Time', ylabel='Appointment Hours',\n",
    "                              figname='./images/dr_AR[5]IMA[3]X.png')"
   ]
  },
  {
   "cell_type": "code",
   "execution_count": null,
   "metadata": {},
   "outputs": [],
   "source": [
    "# plot and save doctors figure using 2 MA components\n",
    "params = {'figure.figsize': [12,6],'axes.grid.axis': 'both', 'axes.grid': True, 'axes.labelsize': 'Medium', 'font.size': 12.0, \\\n",
    "'lines.linewidth': 2}\n",
    "plt.rcParams.update(params)\n",
    "\n",
    "plot_ARIMAX_model_save_fig(data=dr_hours, order=(5,1,0), exog_var=num_dr, start=start_date,\\\n",
    "                end=end_pred, title='Doctors', xlabel='Time', ylabel='Appointment Hours',\n",
    "                              figname='./images/dr_AR[5]IMA[0]X.png')"
   ]
  },
  {
   "cell_type": "code",
   "execution_count": null,
   "metadata": {
    "scrolled": false
   },
   "outputs": [],
   "source": [
    "# using 5 AR components test 0-3 MA components\n",
    "params = {'figure.figsize': [12,6],'axes.grid.axis': 'both', 'axes.grid': True, 'axes.labelsize': 'Medium', 'font.size': 12.0, \\\n",
    "'lines.linewidth': 2}\n",
    "plt.rcParams.update(params)\n",
    "\n",
    "for i in range(4):\n",
    "    fig = plot_ARIMAX_model(data=dr_hours, order=(5,1,i), exog_var=num_dr, start=start_date,\\\n",
    "                         end=end_pred, title='AR5/MA{i}'.format(i=i))"
   ]
  },
  {
   "cell_type": "code",
   "execution_count": null,
   "metadata": {},
   "outputs": [],
   "source": [
    "# getARIMAX predictions and data+predictions dataframe for doctors\n",
    "start_date = '2015-01-19'\n",
    "end_pred = '2018-09-30'\n",
    "dr_forecast, dr_data_plus_forecast = get_ARIMAX_predictions(data=dr_hours, order=(5,1,0), start=start_date,\\\n",
    "                    end=end_pred, exog=num_dr, typ='levels')"
   ]
  },
  {
   "cell_type": "code",
   "execution_count": null,
   "metadata": {},
   "outputs": [],
   "source": [
    "dr_forecast, dr_data_plus_forecast = get_ARIMAX_predictions(data=dr_hours, order=(5,1,3), start=start_date,\\\n",
    "                    end=end_pred, exog=num_dr, typ='levels')"
   ]
  },
  {
   "cell_type": "code",
   "execution_count": null,
   "metadata": {},
   "outputs": [],
   "source": [
    "dr_forecast"
   ]
  },
  {
   "cell_type": "code",
   "execution_count": null,
   "metadata": {},
   "outputs": [],
   "source": [
    "dr_data_plus_forecast"
   ]
  },
  {
   "cell_type": "code",
   "execution_count": null,
   "metadata": {},
   "outputs": [],
   "source": [
    "dr_data_plus_forecast.columns"
   ]
  },
  {
   "cell_type": "code",
   "execution_count": null,
   "metadata": {},
   "outputs": [],
   "source": [
    "# rename columns in forecast df\n",
    "dr_data_plus_forecast.columns = ['Appointment_Hours', 'Predicted_Hours']"
   ]
  },
  {
   "cell_type": "code",
   "execution_count": null,
   "metadata": {},
   "outputs": [],
   "source": [
    "dr_data_plus_forecast"
   ]
  },
  {
   "cell_type": "code",
   "execution_count": null,
   "metadata": {},
   "outputs": [],
   "source": [
    "num_dr.columns"
   ]
  },
  {
   "cell_type": "code",
   "execution_count": null,
   "metadata": {},
   "outputs": [],
   "source": [
    "# Round Predicted Hours values\n",
    "dr_data_plus_forecast['Predicted_Hours'] = round(dr_data_plus_forecast['Predicted_Hours'], 2)"
   ]
  },
  {
   "cell_type": "code",
   "execution_count": null,
   "metadata": {},
   "outputs": [],
   "source": [
    "dr_data_plus_forecast"
   ]
  },
  {
   "cell_type": "code",
   "execution_count": null,
   "metadata": {},
   "outputs": [],
   "source": [
    "dr_data_plus_forecast['Number_Providers'] = num_dr['Number_Providers']"
   ]
  },
  {
   "cell_type": "code",
   "execution_count": null,
   "metadata": {},
   "outputs": [],
   "source": [
    "# add number of providers and hours/provider columns\n",
    "dr_data_plus_forecast['Pred_Hours_per_Provider'] = round(dr_data_plus_forecast['Predicted_Hours']/dr_data_plus_forecast['Number_Providers'], 2)"
   ]
  },
  {
   "cell_type": "code",
   "execution_count": null,
   "metadata": {},
   "outputs": [],
   "source": [
    "dr_data_plus_forecast"
   ]
  },
  {
   "cell_type": "code",
   "execution_count": null,
   "metadata": {},
   "outputs": [],
   "source": [
    "dr_data = dr_data_plus_forecast['2015-01-12':'2018-04-30']"
   ]
  },
  {
   "cell_type": "code",
   "execution_count": null,
   "metadata": {},
   "outputs": [],
   "source": [
    "dr_data_plus_forecast['Hours_per_Provider'] = dr_data_plus_forecast['Appointment_Hours'] / dr_data_plus_forecast['Number_Providers']"
   ]
  },
  {
   "cell_type": "code",
   "execution_count": null,
   "metadata": {},
   "outputs": [],
   "source": [
    "avg_dr_hours = dr_data_plus_forecast['Hours_per_Provider'].mean()"
   ]
  },
  {
   "cell_type": "code",
   "execution_count": null,
   "metadata": {},
   "outputs": [],
   "source": [
    "avg_dr_hours"
   ]
  },
  {
   "cell_type": "code",
   "execution_count": null,
   "metadata": {},
   "outputs": [],
   "source": [
    "# get predicted number of providers rounded up\n",
    "dr_data_plus_forecast['Predicted_Num_Providers'] = round(dr_data_plus_forecast['Predicted_Hours'] / avg_dr_hours, 1)"
   ]
  },
  {
   "cell_type": "code",
   "execution_count": null,
   "metadata": {},
   "outputs": [],
   "source": [
    "dr_data_plus_forecast"
   ]
  },
  {
   "cell_type": "code",
   "execution_count": null,
   "metadata": {},
   "outputs": [],
   "source": [
    "# output full forecast dataframe to csv\n",
    "dr_data_plus_forecast.to_csv('./data/dr_arimax_forecast.csv')"
   ]
  },
  {
   "cell_type": "code",
   "execution_count": null,
   "metadata": {},
   "outputs": [],
   "source": [
    "# get 12 week forecast\n",
    "dr_12wk_arimax = dr_data_plus_forecast['2018-05-07':'2018-07-30'][['Predicted_Hours', 'Predicted_Num_Providers']]\n",
    "# keep only date in index, drop time\n",
    "dr_12wk_arimax.index = dr_12wk_arimax.index.date"
   ]
  },
  {
   "cell_type": "code",
   "execution_count": null,
   "metadata": {},
   "outputs": [],
   "source": [
    "# get 8-16 week forecast\n",
    "dr_8_to_16wk_arimax = dr_data_plus_forecast['2018-06-25':'2018-08-26'][['Predicted_Hours', 'Predicted_Num_Providers']]\n",
    "# keep only date in index, drop time\n",
    "dr_8_to_16wk_arimax.index = dr_8_to_16wk_arimax.index.date"
   ]
  },
  {
   "cell_type": "code",
   "execution_count": null,
   "metadata": {},
   "outputs": [],
   "source": [
    "dr_8_to_16wk_arimax"
   ]
  },
  {
   "cell_type": "code",
   "execution_count": null,
   "metadata": {},
   "outputs": [],
   "source": [
    "from pandas.tools.plotting import table\n",
    "fig, ax = plt.subplots(figsize=(10,10)) # set size frame\n",
    "ax.xaxis.set_visible(False)  # hide axes\n",
    "ax.yaxis.set_visible(False)  \n",
    "ax.set_frame_on(False)  \n",
    "tabla = table(ax, dr_8_to_16wk_arimax, loc='center', colWidths=[0.3]*len(dr_8_to_16wk_arimax.columns))\n",
    "tabla.auto_set_font_size(False) \n",
    "tabla.set_fontsize(20)\n",
    "tabla.scale(1.5, 2) \n",
    "plt.savefig('./images/dr_8_to_16wk_arimax.png', transparent=True)"
   ]
  },
  {
   "cell_type": "code",
   "execution_count": null,
   "metadata": {},
   "outputs": [],
   "source": [
    "dr_12wk_arimax"
   ]
  },
  {
   "cell_type": "code",
   "execution_count": null,
   "metadata": {},
   "outputs": [],
   "source": [
    "# plot acf/pacf of Dr ARIMAX residuals\n",
    "params = {'figure.figsize': [4,4],'axes.grid.axis': 'both', 'axes.grid': True, 'axes.labelsize': 'Medium', 'font.size': 12.0, \\\n",
    "'lines.linewidth': 2}\n",
    "plot_partial_autocorrelation(series=dr_residuals, params=params, lags=30, alpha=0.05, title='PACF {}'.format('Dr ARIMAX residuals'))\n",
    "plot_autocorrelation(series=dr_residuals, params=params, lags=30, alpha=0.05, title='ACF {}'.format('Dr ARIMAX residuals'))"
   ]
  },
  {
   "cell_type": "markdown",
   "metadata": {},
   "source": [
    "#### RN/PAs"
   ]
  },
  {
   "cell_type": "code",
   "execution_count": null,
   "metadata": {},
   "outputs": [],
   "source": [
    "start_date = '2015-01-19' # b/c start data differenced away\n",
    "end_date = '2018-04-30'\n",
    "end_pred = '2018-09-30'\n",
    "RNPA_order = (4,1,0)"
   ]
  },
  {
   "cell_type": "code",
   "execution_count": null,
   "metadata": {},
   "outputs": [],
   "source": [
    "RNPA_results, RNPA_summary, RNPA_params, RNPA_residuals = get_ARIMAX_model(data=dr_hours,\\\n",
    "                    exog_var=num_dr, order=RNPA_order)"
   ]
  },
  {
   "cell_type": "code",
   "execution_count": null,
   "metadata": {},
   "outputs": [],
   "source": [
    "# plot and save RN/PA figure \n",
    "# using 4 AR components and 0 MA components\n",
    "params = {'figure.figsize': [12,6],'axes.grid.axis': 'both', 'axes.grid': True, 'axes.labelsize': 'Medium', 'font.size': 12.0, \\\n",
    "'lines.linewidth': 2}\n",
    "plt.rcParams.update(params)\n",
    "\n",
    "plot_ARIMAX_model_save_fig(data=dr_hours, order=(4,1,0), exog_var=num_RNPA, start=start_date,\\\n",
    "                end=end_pred, title='Doctors', xlabel='Time', ylabel='Appointment Hours',\n",
    "                              figname='./images/RNPA_ARIMAX.png')"
   ]
  },
  {
   "cell_type": "code",
   "execution_count": null,
   "metadata": {},
   "outputs": [],
   "source": [
    "# using 4 AR components test 0-3 MA components\n",
    "params = {'figure.figsize': [12,6],'axes.grid.axis': 'both', 'axes.grid': True, 'axes.labelsize': 'Medium', 'font.size': 12.0, \\\n",
    "'lines.linewidth': 2}\n",
    "plt.rcParams.update(params)\n",
    "\n",
    "for i in range(4):\n",
    "    fig = plot_ARIMAX_model(data=RNPA_hours, order=(4,1,i), exog_var=num_RNPA, start=start_date,\\\n",
    "                         end=end_pred, title='AR4/MA{i}'.format(i=i))"
   ]
  },
  {
   "cell_type": "code",
   "execution_count": null,
   "metadata": {},
   "outputs": [],
   "source": [
    "# getARIMAX predictions and data+predictions dataframe for RN/PAs\n",
    "start_date = '2015-01-19'\n",
    "end_pred = '2018-09-30'\n",
    "RNPA_forecast, RNPA_data_plus_forecast = get_ARIMAX_predictions(data=RNPA_hours, order=(4,1,0), start=start_date,\\\n",
    "                    end=end_pred, exog=num_RNPA, typ='levels')"
   ]
  },
  {
   "cell_type": "code",
   "execution_count": null,
   "metadata": {},
   "outputs": [],
   "source": [
    "RNPA_forecast"
   ]
  },
  {
   "cell_type": "code",
   "execution_count": null,
   "metadata": {},
   "outputs": [],
   "source": [
    "# rename columns in forecast df\n",
    "RNPA_data_plus_forecast.columns = ['Appointment_Hours', 'Predicted_Hours']\n",
    "\n",
    "# Round Predicted Hours values\n",
    "RNPA_data_plus_forecast['Predicted_Hours'] = round(RNPA_data_plus_forecast['Predicted_Hours'], 2)\n",
    "\n",
    "# add number of providers and hours/provider columns\n",
    "RNPA_data_plus_forecast['Number_Providers'] = num_RNPA['Number_Providers']\n",
    "RNPA_data_plus_forecast['Pred_Hours_per_Provider'] = round(RNPA_data_plus_forecast['Predicted_Hours']/RNPA_data_plus_forecast['Number_Providers'], 2)"
   ]
  },
  {
   "cell_type": "code",
   "execution_count": null,
   "metadata": {},
   "outputs": [],
   "source": [
    "avg_RNPA_hours = RNPA_data_plus_forecast['Pred_Hours_per_Provider'].mean()"
   ]
  },
  {
   "cell_type": "code",
   "execution_count": null,
   "metadata": {},
   "outputs": [],
   "source": [
    "avg_RNPA_hours"
   ]
  },
  {
   "cell_type": "code",
   "execution_count": null,
   "metadata": {},
   "outputs": [],
   "source": [
    "# get predicted number of providers rounded up\n",
    "RNPA_data_plus_forecast['Predicted_Num_Providers'] = round(RNPA_data_plus_forecast['Predicted_Hours'] / avg_RNPA_hours, 2)"
   ]
  },
  {
   "cell_type": "code",
   "execution_count": null,
   "metadata": {},
   "outputs": [],
   "source": [
    "RNPA_data_plus_forecast"
   ]
  },
  {
   "cell_type": "code",
   "execution_count": null,
   "metadata": {},
   "outputs": [],
   "source": [
    "# output full forecast dataframe to csv\n",
    "# RNPA_data_plus_forecast.to_csv('./data/RNPA_arimax_forecast.csv')"
   ]
  },
  {
   "cell_type": "code",
   "execution_count": null,
   "metadata": {},
   "outputs": [],
   "source": [
    "# get 12 week forecast\n",
    "RNPA_12wk_arimax = RNPA_data_plus_forecast['2018-05-07':'2018-07-30'][['Predicted_Hours', 'Predicted_Num_Providers']]\n",
    "# keep only date in index, drop time\n",
    "RNPA_12wk_arimax.index = RNPA_12wk_arimax.index.date"
   ]
  },
  {
   "cell_type": "code",
   "execution_count": null,
   "metadata": {},
   "outputs": [],
   "source": [
    "# get 8-16 week forecast\n",
    "RNPA_8_to_16wk_arimax = RNPA_data_plus_forecast['2018-06-25':'2018-08-26'][['Predicted_Hours', 'Predicted_Num_Providers']]\n",
    "# keep only date in index, drop time\n",
    "RNPA_8_to_16wk_arimax.index = RNPA_8_to_16wk_arimax.index.date"
   ]
  },
  {
   "cell_type": "code",
   "execution_count": null,
   "metadata": {},
   "outputs": [],
   "source": [
    "from pandas.tools.plotting import table\n",
    "fig, ax = plt.subplots(figsize=(10,10)) # set size frame\n",
    "ax.xaxis.set_visible(False)  # hide axes\n",
    "ax.yaxis.set_visible(False)  \n",
    "ax.set_frame_on(False)  \n",
    "tabla = table(ax, RNPA_8_to_16wk_arimax, loc='center', colWidths=[0.25]*len(RNPA_8_to_16wk_arimax.columns))\n",
    "tabla.auto_set_font_size(False) \n",
    "tabla.set_fontsize(16)\n",
    "tabla.scale(1.5, 2) \n",
    "plt.savefig('./images/RNPA_8_to_16wk_arimax.png', transparent=True)"
   ]
  },
  {
   "cell_type": "code",
   "execution_count": null,
   "metadata": {},
   "outputs": [],
   "source": [
    "# plot acf/pacf of RN/PA ARIMAX residuals\n",
    "params = {'figure.figsize': [4,4],'axes.grid.axis': 'both', 'axes.grid': True, 'axes.labelsize': 'Medium', 'font.size': 12.0, \\\n",
    "'lines.linewidth': 2}\n",
    "plot_partial_autocorrelation(series=RNPA_residuals, params=params, lags=30, alpha=0.05, title='PACF {}'.format('RN/PA ARIMAX residuals'))\n",
    "plot_autocorrelation(series=RNPA_residuals, params=params, lags=30, alpha=0.05, title='ACF {}'.format('RN/PA ARIMAX residuals'))"
   ]
  },
  {
   "cell_type": "markdown",
   "metadata": {},
   "source": [
    "#### therapists"
   ]
  },
  {
   "cell_type": "code",
   "execution_count": null,
   "metadata": {},
   "outputs": [],
   "source": [
    "start_date = '2015-01-19' # b/c start data differenced away\n",
    "end_date = '2018-04-30'\n",
    "end_pred = '2018-09-30'\n",
    "therapist_order = (5,1,0)"
   ]
  },
  {
   "cell_type": "code",
   "execution_count": null,
   "metadata": {},
   "outputs": [],
   "source": [
    "therapist_results, therapist_summary, therapist_params, therapist_residuals = get_ARIMAX_model(data=therapist_hours,\\\n",
    "                    exog_var=num_therapists, order=therapist_order)"
   ]
  },
  {
   "cell_type": "code",
   "execution_count": null,
   "metadata": {},
   "outputs": [],
   "source": [
    "# plot and save therapist figure \n",
    "# using 5 AR components and 0 MA components\n",
    "params = {'figure.figsize': [12,6],'axes.grid.axis': 'both', 'axes.grid': True, 'axes.labelsize': 'Medium', 'font.size': 12.0, \\\n",
    "'lines.linewidth': 2}\n",
    "plt.rcParams.update(params)\n",
    "\n",
    "plot_ARIMAX_model_save_fig(data=therapist_hours, order=(5,1,0), exog_var=num_therapists, start=start_date,\\\n",
    "                end=end_pred, title='Doctors', xlabel='Time', ylabel='Appointment Hours',\n",
    "                              figname='./images/therapist_ARIMAX.png')"
   ]
  },
  {
   "cell_type": "code",
   "execution_count": null,
   "metadata": {},
   "outputs": [],
   "source": [
    "# getARIMAX predictions and data+predictions dataframe for therapists\n",
    "start_date = '2015-01-19'\n",
    "end_pred = '2018-09-30'\n",
    "ther_forecast, ther_data_plus_forecast = get_ARIMAX_predictions(data=therapist_hours, order=(5,1,0), start=start_date,\\\n",
    "                    end=end_pred, exog=num_therapists, typ='levels')"
   ]
  },
  {
   "cell_type": "code",
   "execution_count": null,
   "metadata": {},
   "outputs": [],
   "source": [
    "# rename columns in forecast df\n",
    "ther_data_plus_forecast.columns = ['Appointment_Hours', 'Predicted_Hours']\n",
    "\n",
    "# Round Predicted Hours values\n",
    "ther_data_plus_forecast['Predicted_Hours'] = round(ther_data_plus_forecast['Predicted_Hours'])\n",
    "\n",
    "# add number of providers and hours/provider columns\n",
    "ther_data_plus_forecast['Number_Providers'] = num_therapists['Number_Providers']\n",
    "ther_data_plus_forecast['Pred_Hours_per_Provider'] = round(ther_data_plus_forecast['Predicted_Hours']/ther_data_plus_forecast['Number_Providers'])"
   ]
  },
  {
   "cell_type": "code",
   "execution_count": null,
   "metadata": {},
   "outputs": [],
   "source": [
    "avg_ther_hours = ther_data_plus_forecast['Pred_Hours_per_Provider'].mean()"
   ]
  },
  {
   "cell_type": "code",
   "execution_count": null,
   "metadata": {},
   "outputs": [],
   "source": [
    "# get predicted number of providers rounded up\n",
    "ther_data_plus_forecast['Predicted_Num_Providers'] = round(ther_data_plus_forecast['Predicted_Hours'] / avg_ther_hours)"
   ]
  },
  {
   "cell_type": "code",
   "execution_count": null,
   "metadata": {},
   "outputs": [],
   "source": [
    "# output full forecast dataframe to csv\n",
    "ther_data_plus_forecast.to_csv('./data/therapist_arimax_forecast.csv')"
   ]
  },
  {
   "cell_type": "code",
   "execution_count": null,
   "metadata": {},
   "outputs": [],
   "source": [
    "# get 12 week forecast\n",
    "ther_12wk_arimax = ther_data_plus_forecast['2018-05-07':'2018-07-30'][['Predicted_Hours', 'Predicted_Num_Providers']]\n",
    "# keep only date in index, drop time\n",
    "ther_12wk_arimax.index = ther_12wk_arimax.index.date"
   ]
  },
  {
   "cell_type": "code",
   "execution_count": null,
   "metadata": {},
   "outputs": [],
   "source": [
    "# get 8-16 week forecast\n",
    "ther_8_to_16wk_arimax = ther_data_plus_forecast['2018-06-25':'2018-08-26'][['Predicted_Hours', 'Predicted_Num_Providers']]\n",
    "# keep only date in index, drop time\n",
    "ther_8_to_16wk_arimax.index = ther_8_to_16wk_arimax.index.date"
   ]
  },
  {
   "cell_type": "code",
   "execution_count": null,
   "metadata": {},
   "outputs": [],
   "source": [
    "from pandas.tools.plotting import table\n",
    "fig, ax = plt.subplots(figsize=(10,10)) # set size frame\n",
    "ax.xaxis.set_visible(False)  # hide axes\n",
    "ax.yaxis.set_visible(False)  \n",
    "ax.set_frame_on(False)  \n",
    "tabla = table(ax, ther_8_to_16wk_arimax, loc='center', colWidths=[0.25]*len(ther_8_to_16wk_arimax.columns))\n",
    "tabla.auto_set_font_size(False) \n",
    "tabla.set_fontsize(16)\n",
    "tabla.scale(1.5, 2) \n",
    "plt.savefig('./images/ther_8_to_16wk_arimax.png', transparent=True)"
   ]
  },
  {
   "cell_type": "code",
   "execution_count": null,
   "metadata": {},
   "outputs": [],
   "source": [
    "# plot acf/pacf of therapist ARIMAX residuals\n",
    "params = {'figure.figsize': [4,4],'axes.grid.axis': 'both', 'axes.grid': True, 'axes.labelsize': 'Medium', 'font.size': 12.0, \\\n",
    "'lines.linewidth': 2}\n",
    "plot_partial_autocorrelation(series=therapist_residuals, params=params, lags=30, alpha=0.05, title='PACF {}'.format('Therapist ARIMAX residuals'))\n",
    "plot_autocorrelation(series=therapist_residuals, params=params, lags=30, alpha=0.05, title='ACF {}'.format('Therapist ARIMAX residuals'))"
   ]
  },
  {
   "cell_type": "markdown",
   "metadata": {},
   "source": [
    "#### get data and forecast, save predictions to csv"
   ]
  },
  {
   "cell_type": "markdown",
   "metadata": {},
   "source": [
    "#### doctors"
   ]
  },
  {
   "cell_type": "code",
   "execution_count": null,
   "metadata": {},
   "outputs": [],
   "source": [
    "dr_forecast, dr_predictions = get_ARIMAX_predictions(data=dr_hours, order=(5,1,3),\\\n",
    "        start=start_date, end=end_pred, exog=num_dr, typ='levels')"
   ]
  },
  {
   "cell_type": "code",
   "execution_count": null,
   "metadata": {},
   "outputs": [],
   "source": [
    "dr_predictions.columns = ['Number of Hours', 'Predicted Hours']"
   ]
  },
  {
   "cell_type": "code",
   "execution_count": null,
   "metadata": {},
   "outputs": [],
   "source": [
    "dr_predictions['Hours per Provider'] = dr_predictions['Predicted Hours'] / num_dr['Number_Providers']"
   ]
  },
  {
   "cell_type": "code",
   "execution_count": null,
   "metadata": {},
   "outputs": [],
   "source": [
    "avg_hours_per_dr = dr_predictions['Hours per Provider'].mean()"
   ]
  },
  {
   "cell_type": "code",
   "execution_count": null,
   "metadata": {},
   "outputs": [],
   "source": [
    "dr_predictions['Predicted # of Providers'] = np.ceil(dr_predictions['Predicted Hours'] / avg_hours_per_dr)"
   ]
  },
  {
   "cell_type": "code",
   "execution_count": null,
   "metadata": {},
   "outputs": [],
   "source": [
    "# save to csv file\n",
    "dr_predictions.to_csv('./data/dr_arimax_predictions.csv')"
   ]
  },
  {
   "cell_type": "markdown",
   "metadata": {},
   "source": [
    "#### RN/PAs"
   ]
  },
  {
   "cell_type": "code",
   "execution_count": null,
   "metadata": {},
   "outputs": [],
   "source": [
    "RNPA_forecast, RNPA_predictions = get_ARIMAX_predictions(data=RNPA_hours, order=(4,1,0),\\\n",
    "        start=start_date, end=end_pred, exog=num_RNPA, typ='levels')"
   ]
  },
  {
   "cell_type": "code",
   "execution_count": null,
   "metadata": {},
   "outputs": [],
   "source": [
    "RNPA_predictions.columns = ['Number of Hours', 'Predicted Hours']"
   ]
  },
  {
   "cell_type": "code",
   "execution_count": null,
   "metadata": {},
   "outputs": [],
   "source": [
    "RNPA_predictions['Hours per Provider'] = RNPA_predictions['Predicted Hours'] / num_RNPA['Number_Providers']"
   ]
  },
  {
   "cell_type": "code",
   "execution_count": null,
   "metadata": {},
   "outputs": [],
   "source": [
    "avg_hours_per_RNPA = RNPA_predictions['Hours per Provider'].mean()"
   ]
  },
  {
   "cell_type": "code",
   "execution_count": null,
   "metadata": {},
   "outputs": [],
   "source": [
    "RNPA_predictions['Predicted # of Providers'] = np.ceil(RNPA_predictions['Predicted Hours'] / avg_hours_per_RNPA)"
   ]
  },
  {
   "cell_type": "code",
   "execution_count": null,
   "metadata": {},
   "outputs": [],
   "source": [
    "# save to csv file\n",
    "RNPA_predictions.to_csv('./data/RNPA_arimax_predictions.csv')"
   ]
  },
  {
   "cell_type": "markdown",
   "metadata": {},
   "source": [
    "#### therapists"
   ]
  },
  {
   "cell_type": "code",
   "execution_count": null,
   "metadata": {},
   "outputs": [],
   "source": [
    "ther_forecast, ther_predictions = get_ARIMAX_predictions(data=therapist_hours, order=(5,1,0),\\\n",
    "        start=start_date, end=end_pred, exog=num_therapists, typ='levels')"
   ]
  },
  {
   "cell_type": "code",
   "execution_count": null,
   "metadata": {},
   "outputs": [],
   "source": [
    "ther_predictions.columns = ['Number of Hours', 'Predicted Hours']"
   ]
  },
  {
   "cell_type": "code",
   "execution_count": null,
   "metadata": {},
   "outputs": [],
   "source": [
    "ther_predictions['Hours per Provider'] = ther_predictions['Predicted Hours'] / num_therapists['Number_Providers']"
   ]
  },
  {
   "cell_type": "code",
   "execution_count": null,
   "metadata": {},
   "outputs": [],
   "source": [
    "avg_hours_per_therapist = ther_predictions['Hours per Provider'].mean()"
   ]
  },
  {
   "cell_type": "code",
   "execution_count": null,
   "metadata": {},
   "outputs": [],
   "source": [
    "ther_predictions['Predicted # of Providers'] = np.ceil(ther_predictions['Predicted Hours'] / avg_hours_per_therapist)"
   ]
  },
  {
   "cell_type": "code",
   "execution_count": null,
   "metadata": {},
   "outputs": [],
   "source": [
    "# save to csv file\n",
    "ther_predictions.to_csv('./data/therapist_arimax_predictions.csv')"
   ]
  },
  {
   "cell_type": "markdown",
   "metadata": {},
   "source": [
    "#### import hours per provider dataframes and split into training and test data"
   ]
  },
  {
   "cell_type": "code",
   "execution_count": null,
   "metadata": {},
   "outputs": [],
   "source": [
    "dr_df = pd.read_csv('./data/doctors_hours_per_provider.csv', index_col=0)\n",
    "RNPA_df = pd.read_csv('./data/RNPA_hours_per_provider.csv', index_col=0)\n",
    "ther_df = pd.read_csv('./data/therapists_hours_per_provider.csv', index_col=0)"
   ]
  },
  {
   "cell_type": "code",
   "execution_count": null,
   "metadata": {},
   "outputs": [],
   "source": [
    "train_start = '2015-01-12'\n",
    "train_end = '2018-02-26'\n",
    "test_start = '2018-03-05'"
   ]
  },
  {
   "cell_type": "code",
   "execution_count": null,
   "metadata": {},
   "outputs": [],
   "source": [
    "dr_train = dr_df.loc[train_start:train_end]\n",
    "dr_test = dr_df.loc[test_start:]"
   ]
  },
  {
   "cell_type": "code",
   "execution_count": null,
   "metadata": {},
   "outputs": [],
   "source": [
    "RNPA_train = RNPA_df.loc[train_start:train_end]\n",
    "RNPA_test = RNPA_df.loc[test_start:]"
   ]
  },
  {
   "cell_type": "code",
   "execution_count": null,
   "metadata": {},
   "outputs": [],
   "source": [
    "ther_train = ther_df.loc[train_start:train_end]\n",
    "ther_test = ther_df.loc[test_start:]"
   ]
  },
  {
   "cell_type": "markdown",
   "metadata": {},
   "source": [
    "#### get MSE (train and test data) for each category to compare with other models"
   ]
  },
  {
   "cell_type": "code",
   "execution_count": null,
   "metadata": {},
   "outputs": [],
   "source": [
    "train_dfs = [dr_train, RNPA_train, ther_train]\n",
    "test_dfs = [dr_test, RNPA_test, ther_test]\n",
    "orders = [(5,1,3), (4,1,0), (6,1,0)]\n",
    "endog_col = 'Hours'\n",
    "exog_col = 'Number_Providers'\n",
    "names = ['Doctors', 'RN/PAs', 'Therapists']\n",
    "test_start='2018-03-05'\n",
    "train_start = '2015-01-12'\n",
    "train_end = '2018-02-26'"
   ]
  },
  {
   "cell_type": "code",
   "execution_count": null,
   "metadata": {
    "scrolled": false
   },
   "outputs": [],
   "source": [
    "# get train/test predictions and MSE for all 3 categories for MA=0\n",
    "train_mse = []\n",
    "test_mse = []\n",
    "category = []\n",
    "\n",
    "for i in range(len(train_dfs)):\n",
    "    forecast, full_df = get_ARIMAX_train_test_predictions(training_data=train_dfs[i][endog_col],\\\n",
    "            test_data=test_dfs[i][endog_col], order=orders[i], start='2015-01-19',\\\n",
    "            end='2018-04-30', exog=train_dfs[i][exog_col], typ='levels')\n",
    "    train_error, test_error = get_ARIMAX_train_test_MSE(full_df, data_col='data', pred_col='forecast',\\\n",
    "                        train_end='2018-02-26', test_start='2018-03-05', data_name=names[i])   \n",
    "    train_mse.append('training set: {}'.format(train_error))\n",
    "    test_mse.append('test set: {}'.format(test_error))\n",
    "    category.append('{} MSE'.format(names[i]))\n",
    "mse = zip(train_mse, test_mse)\n",
    "print(list(zip(category,mse)))"
   ]
  },
  {
   "cell_type": "code",
   "execution_count": null,
   "metadata": {},
   "outputs": [],
   "source": []
  },
  {
   "cell_type": "code",
   "execution_count": null,
   "metadata": {},
   "outputs": [],
   "source": []
  },
  {
   "cell_type": "code",
   "execution_count": null,
   "metadata": {},
   "outputs": [],
   "source": []
  },
  {
   "cell_type": "code",
   "execution_count": null,
   "metadata": {},
   "outputs": [],
   "source": []
  }
 ],
 "metadata": {
  "kernelspec": {
   "display_name": "Python 3",
   "language": "python",
   "name": "python3"
  },
  "language_info": {
   "codemirror_mode": {
    "name": "ipython",
    "version": 3
   },
   "file_extension": ".py",
   "mimetype": "text/x-python",
   "name": "python",
   "nbconvert_exporter": "python",
   "pygments_lexer": "ipython3",
   "version": "3.6.5"
  }
 },
 "nbformat": 4,
 "nbformat_minor": 2
}
