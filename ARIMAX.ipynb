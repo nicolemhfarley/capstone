{
 "cells": [
  {
   "cell_type": "code",
   "execution_count": null,
   "metadata": {},
   "outputs": [],
   "source": [
    "import numpy as np\n",
    "import pandas as pd\n",
    "import matplotlib.pyplot as plt\n",
    "%matplotlib inline\n",
    "from statsmodels.graphics import tsaplots\n",
    "import statsmodels.api as sm\n",
    "from statsmodels.tsa.arima_model import ARIMA, ARIMAResults, ARMA\n",
    "from statsmodels.tsa.arima_process import ArmaProcess\n",
    "from sklearn.metrics import mean_squared_error\n",
    "%load_ext autoreload\n",
    "%autoreload 2\n",
    "import warnings\n",
    "warnings.filterwarnings(\"ignore\")"
   ]
  },
  {
   "cell_type": "code",
   "execution_count": null,
   "metadata": {},
   "outputs": [],
   "source": [
    "from timeseries_functions import index_to_datetime, plot_all_df_columns, weekly_resample, plot_series,\\\n",
    "plot_series_save_fig, plot_series_and_differences, run_augmented_Dickey_Fuller_test, \\\n",
    "plot_autocorrelation, plot_partial_autocorrelation, plot_decomposition"
   ]
  },
  {
   "cell_type": "code",
   "execution_count": null,
   "metadata": {},
   "outputs": [],
   "source": [
    "from timeseries_functions import make_col_vector, make_design_matrix, fit_linear_trend,\\\n",
    "plot_trend_data, plot_linear_trend"
   ]
  },
  {
   "cell_type": "code",
   "execution_count": null,
   "metadata": {},
   "outputs": [],
   "source": [
    "from AR_MA_functions import get_AR_model, plot_AR_model, get_AR_model_order_BIC,\\\n",
    "plot_BIC_AR_model, get_MA_model, plot_MA_model"
   ]
  },
  {
   "cell_type": "code",
   "execution_count": null,
   "metadata": {},
   "outputs": [],
   "source": [
    "from ARIMA_functions import get_ARIMA_model, plot_ARIMA_model, plot_ARIMA_resids,\\\n",
    "get_ARIMA_forecast, plot_ARIMA_forecast_and_CI, plot_data_plus_ARIMA_predictions, \\\n",
    "test_rolling_ARIMA_forecast,get_predictions_df_and_plot_rolling_ARIMA_forecast"
   ]
  },
  {
   "cell_type": "code",
   "execution_count": null,
   "metadata": {},
   "outputs": [],
   "source": [
    "from ARIMA_functions import get_ARIMAX_model, plot_ARIMAX_model,\\\n",
    "plot_data_plus_ARIMAX_predictions, get_ARIMAX_predictions, get_ARIMAX_training_MSE,\\\n",
    "get_ARIMAX_train_test_predictions, get_ARIMAX_train_test_MSE"
   ]
  },
  {
   "cell_type": "markdown",
   "metadata": {},
   "source": [
    "#### import data"
   ]
  },
  {
   "cell_type": "code",
   "execution_count": null,
   "metadata": {},
   "outputs": [],
   "source": [
    "appointments = pd.read_csv('appointments_through_04-2018.csv', index_col=0)"
   ]
  },
  {
   "cell_type": "code",
   "execution_count": null,
   "metadata": {},
   "outputs": [],
   "source": [
    "appointments.index = pd.to_datetime(appointments.index)"
   ]
  },
  {
   "cell_type": "code",
   "execution_count": null,
   "metadata": {},
   "outputs": [],
   "source": [
    "appointments['Hours_Spent'] = appointments['AppointmentDuration'] / 60"
   ]
  },
  {
   "cell_type": "code",
   "execution_count": null,
   "metadata": {},
   "outputs": [],
   "source": [
    "# group by specialty\n",
    "doctor = appointments[appointments['Specialty'] == 'doctor']\n",
    "RN_PA = appointments[appointments['Specialty'] == 'RN/PA']\n",
    "therapist = appointments[appointments['Specialty'] == 'therapist']"
   ]
  },
  {
   "cell_type": "code",
   "execution_count": null,
   "metadata": {},
   "outputs": [],
   "source": [
    "dr_hours = doctor.groupby(doctor.index.date)['Hours_Spent'].sum()\n",
    "RNPA_hours = RN_PA.groupby(RN_PA.index.date)['Hours_Spent'].sum()\n",
    "therapist_hours = therapist.groupby(therapist.index.date)['Hours_Spent'].sum()"
   ]
  },
  {
   "cell_type": "code",
   "execution_count": null,
   "metadata": {},
   "outputs": [],
   "source": [
    "num_dr = doctor.groupby([doctor.index.date])['Provider'].nunique()\n",
    "num_RNPA = RN_PA.groupby([RN_PA.index.date])['Provider'].nunique()\n",
    "num_therapists = therapist.groupby([therapist.index.date])['Provider'].nunique()"
   ]
  },
  {
   "cell_type": "code",
   "execution_count": null,
   "metadata": {},
   "outputs": [],
   "source": [
    "providers = [num_dr, num_RNPA, num_therapists]\n",
    "hours = [dr_hours, RNPA_hours, therapist_hours]"
   ]
  },
  {
   "cell_type": "markdown",
   "metadata": {},
   "source": [
    "Name each series"
   ]
  },
  {
   "cell_type": "code",
   "execution_count": null,
   "metadata": {},
   "outputs": [],
   "source": [
    "num_dr.name = 'Number of Doctors'\n",
    "num_RNPA.name = 'Number of RN/PAs'\n",
    "num_therapists.name = 'Number of Therapists'"
   ]
  },
  {
   "cell_type": "code",
   "execution_count": null,
   "metadata": {},
   "outputs": [],
   "source": [
    "dr_hours.name = 'Doctors Hours'\n",
    "RNPA_hours.name = 'RN/PAs Hours'\n",
    "therapist_hours.name = 'Therapists Hours'"
   ]
  },
  {
   "cell_type": "markdown",
   "metadata": {},
   "source": [
    "#### convert index to datetime and downsample each series to weekly freq"
   ]
  },
  {
   "cell_type": "code",
   "execution_count": null,
   "metadata": {},
   "outputs": [],
   "source": [
    "for p in providers:\n",
    "    p.index = pd.to_datetime(p.index)\n",
    "for h in hours:\n",
    "    h.index = pd.to_datetime(h.index)"
   ]
  },
  {
   "cell_type": "code",
   "execution_count": null,
   "metadata": {},
   "outputs": [],
   "source": [
    "providers = [num_dr, num_RNPA, num_therapists]\n",
    "hours = [dr_hours, RNPA_hours, therapist_hours]"
   ]
  },
  {
   "cell_type": "code",
   "execution_count": null,
   "metadata": {},
   "outputs": [],
   "source": [
    "num_dr = weekly_resample(num_dr)\n",
    "num_RNPA = weekly_resample(num_RNPA)\n",
    "num_therapists = weekly_resample(num_therapists)"
   ]
  },
  {
   "cell_type": "code",
   "execution_count": null,
   "metadata": {},
   "outputs": [],
   "source": [
    "dr_hours = weekly_resample(dr_hours)\n",
    "RNPA_hours = weekly_resample(RNPA_hours)\n",
    "therapist_hours = weekly_resample(therapist_hours)"
   ]
  },
  {
   "cell_type": "markdown",
   "metadata": {},
   "source": [
    "#### test for stationarity in all time series"
   ]
  },
  {
   "cell_type": "code",
   "execution_count": null,
   "metadata": {},
   "outputs": [],
   "source": [
    "providers = [num_dr, num_RNPA, num_therapists]\n",
    "hours = [dr_hours, RNPA_hours, therapist_hours]"
   ]
  },
  {
   "cell_type": "code",
   "execution_count": null,
   "metadata": {},
   "outputs": [],
   "source": [
    "# for p in providers:  \n",
    "#     print(p.name)\n",
    "#     run_augmented_Dickey_Fuller_test(series=p, num_diffs=2)"
   ]
  },
  {
   "cell_type": "code",
   "execution_count": null,
   "metadata": {},
   "outputs": [],
   "source": [
    "# for h in hours:\n",
    "#     print(h.name)\n",
    "#     run_augmented_Dickey_Fuller_test(series=h, num_diffs=2)"
   ]
  },
  {
   "cell_type": "raw",
   "metadata": {},
   "source": [
    "None of these series are stationary, must take the first differnece"
   ]
  },
  {
   "cell_type": "markdown",
   "metadata": {},
   "source": [
    "#### determine number of AR and MA terms to add for each time series"
   ]
  },
  {
   "cell_type": "code",
   "execution_count": null,
   "metadata": {},
   "outputs": [],
   "source": [
    "# Plot ACF and PACF of first difference of each series\n",
    "for p in providers:\n",
    "    params = {'figure.figsize': [6,4],'axes.grid.axis': 'both', 'axes.grid': True, 'axes.labelsize': 'Medium', 'font.size': 12.0, \\\n",
    "'lines.linewidth': 2}\n",
    "    plot_partial_autocorrelation(series=p, params=params, lags=30, alpha=0.05, title='PACF {}'.format(p.name))\n",
    "    plot_autocorrelation(series=p, params=params, lags=30, alpha=0.05, title='ACF {}'.format(p.name))"
   ]
  },
  {
   "cell_type": "code",
   "execution_count": null,
   "metadata": {},
   "outputs": [],
   "source": [
    "for h in hours:\n",
    "    params = {'figure.figsize': [6,4],'axes.grid.axis': 'both', 'axes.grid': True, 'axes.labelsize': 'Medium', 'font.size': 12.0, \\\n",
    "'lines.linewidth': 2}\n",
    "    plot_partial_autocorrelation(series=h, params=params, lags=30, alpha=0.05, title='PACF {}'.format(h.name))\n",
    "    plot_autocorrelation(series=h, params=params, lags=30, alpha=0.05, title='ACF {}'.format(h.name))"
   ]
  },
  {
   "cell_type": "raw",
   "metadata": {
    "collapsed": true
   },
   "source": [
    "Based on the PACF/ACF plots and Augmented Dickey-Fuller of weekly data:\n",
    "- use first diff for all series\n",
    "- num_dr: use AR(3), MA(?)\n",
    "- num_RN/PA: use AR(3), MA(?)\n",
    "- num_therapists: use AR(2), MA(?)\n",
    "- dr_hours: use AR(3), MA(?)\n",
    "- RNPA_hours: AR(4), MA(?)\n",
    "- therapist_hours: AR(4), MA(?)"
   ]
  },
  {
   "cell_type": "markdown",
   "metadata": {
    "collapsed": true
   },
   "source": [
    "#### get ARIMAX model using num_provider as exogenous variable and plot"
   ]
  },
  {
   "cell_type": "markdown",
   "metadata": {},
   "source": [
    "#### Doctors"
   ]
  },
  {
   "cell_type": "code",
   "execution_count": null,
   "metadata": {},
   "outputs": [],
   "source": [
    "start_date = '2015-01-12' # b/c start data differenced away\n",
    "end_date = '2018-04-30'\n",
    "end_pred = '2018-07-30'"
   ]
  },
  {
   "cell_type": "code",
   "execution_count": null,
   "metadata": {},
   "outputs": [],
   "source": [
    "dr_results, dr_summary, dr_params, dr_residuals = get_ARIMAX_model(data=dr_hours,\\\n",
    "                    exog_var=num_dr, order=(5, 1,0))"
   ]
  },
  {
   "cell_type": "code",
   "execution_count": null,
   "metadata": {},
   "outputs": [],
   "source": [
    "params = {'figure.figsize': [12,6],'axes.grid.axis': 'both', 'axes.grid': True, 'axes.labelsize': 'Medium', 'font.size': 12.0, \\\n",
    "'lines.linewidth': 2}\n",
    "plot_ARIMAX_model(data=dr_hours, order=(5,1,0), exog_var=num_dr, params=params, start=start_date,\\\n",
    "                 end=end_pred)"
   ]
  },
  {
   "cell_type": "code",
   "execution_count": null,
   "metadata": {},
   "outputs": [],
   "source": [
    "# getARIMAX predictions for doctors\n",
    "start_date = '2015-01-12'\n",
    "end_pred = '2018-07-30'\n",
    "dr_forecast = dr_results.predict(start=start_date, end=end_pred, exog=num_dr)"
   ]
  },
  {
   "cell_type": "code",
   "execution_count": null,
   "metadata": {},
   "outputs": [],
   "source": [
    "# plot_data_plus_ARIMAX_predictions(data=dr_hours, order=(5, 1,0), start=start_date,\\\n",
    "#     end=end_pred, exog=num_dr, typ='levels', figsize=(8,6), title='Doctors', ylabel='', xlabel='')"
   ]
  },
  {
   "cell_type": "code",
   "execution_count": null,
   "metadata": {},
   "outputs": [],
   "source": [
    "# plot acf/pacf of Dr ARIMAX residuals\n",
    "params = {'figure.figsize': [8,4],'axes.grid.axis': 'both', 'axes.grid': True, 'axes.labelsize': 'Medium', 'font.size': 12.0, \\\n",
    "'lines.linewidth': 2}\n",
    "plot_partial_autocorrelation(series=dr_residuals, params=params, lags=30, alpha=0.05, title='PACF {}'.format('Dr ARIMAX residuals'))\n",
    "plot_autocorrelation(series=dr_residuals, params=params, lags=30, alpha=0.05, title='ACF {}'.format('Dr ARIMAX residuals'))"
   ]
  },
  {
   "cell_type": "markdown",
   "metadata": {},
   "source": [
    "#### RN/PA"
   ]
  },
  {
   "cell_type": "code",
   "execution_count": null,
   "metadata": {},
   "outputs": [],
   "source": [
    "start_date = '2015-01-12' # b/c start data differenced away\n",
    "end_date = '2018-04-30'\n",
    "end_pred = '2018-07-30'\n",
    "RNPA_order = (4,1,0)"
   ]
  },
  {
   "cell_type": "code",
   "execution_count": null,
   "metadata": {},
   "outputs": [],
   "source": [
    "RNPA_results, RNPA_summary, RNPA_params, RNPA_residuals = get_ARIMAX_model(data=dr_hours,\\\n",
    "                    exog_var=num_dr, order=RNPA_order)"
   ]
  },
  {
   "cell_type": "code",
   "execution_count": null,
   "metadata": {
    "scrolled": false
   },
   "outputs": [],
   "source": [
    "params = {'figure.figsize': [12,6],'axes.grid.axis': 'both', 'axes.grid': True, 'axes.labelsize': 'Medium', 'font.size': 12.0, \\\n",
    "'lines.linewidth': 2}\n",
    "plot_ARIMAX_model(data=RNPA_hours, order=(5, 1,0), exog_var=num_dr, params=params, start=start_date,\\\n",
    "                 end=end_pred)"
   ]
  },
  {
   "cell_type": "code",
   "execution_count": null,
   "metadata": {},
   "outputs": [],
   "source": [
    "# getARIMAX predictions for doctors\n",
    "RNPA_forecast = RNPA_results.predict(start=start_date, end=end_pred, exog=num_RNPA)"
   ]
  },
  {
   "cell_type": "code",
   "execution_count": null,
   "metadata": {
    "scrolled": false
   },
   "outputs": [],
   "source": [
    "# plot_data_plus_ARIMAX_predictions(data=RNPA_hours, order=(5, 1,0), start=start_date,\\\n",
    "#     end=end_pred, exog=num_RNPA, typ='levels', figsize=(8,6), title='RN/PA', ylabel='', xlabel='')"
   ]
  },
  {
   "cell_type": "code",
   "execution_count": null,
   "metadata": {},
   "outputs": [],
   "source": [
    "# plot acf/pacf of RN/PA ARIMAX residuals\n",
    "params = {'figure.figsize': [8,4],'axes.grid.axis': 'both', 'axes.grid': True, 'axes.labelsize': 'Medium', 'font.size': 12.0, \\\n",
    "'lines.linewidth': 2}\n",
    "plot_partial_autocorrelation(series=RNPA_residuals, params=params, lags=30, alpha=0.05, title='PACF {}'.format('RN/PA ARIMAX residuals'))\n",
    "plot_autocorrelation(series=RNPA_residuals, params=params, lags=30, alpha=0.05, title='ACF {}'.format('RN/PA ARIMAX residuals'))"
   ]
  },
  {
   "cell_type": "markdown",
   "metadata": {},
   "source": [
    "#### therapists"
   ]
  },
  {
   "cell_type": "code",
   "execution_count": null,
   "metadata": {},
   "outputs": [],
   "source": [
    "start_date = '2015-01-12' # b/c start data differenced away\n",
    "end_date = '2018-04-30'\n",
    "end_pred = '2018-07-30'\n",
    "therapist_order = (4,1,0)"
   ]
  },
  {
   "cell_type": "code",
   "execution_count": null,
   "metadata": {},
   "outputs": [],
   "source": [
    "therapist_results, therapist_summary, therapist_params, therapist_residuals = get_ARIMAX_model(data=therapist_hours,\\\n",
    "                    exog_var=num_therapists, order=therapist_order)"
   ]
  },
  {
   "cell_type": "markdown",
   "metadata": {},
   "source": [
    "#### get data and forecast, save predictions to csv"
   ]
  },
  {
   "cell_type": "code",
   "execution_count": null,
   "metadata": {},
   "outputs": [],
   "source": [
    "ther_forecast, ther_predictions = get_ARIMAX_predictions(data=therapist_hours, order=therapist_order,\\\n",
    "        start=start_date, end=end_pred, exog=num_therapists, typ='levels')"
   ]
  },
  {
   "cell_type": "code",
   "execution_count": null,
   "metadata": {},
   "outputs": [],
   "source": [
    "ther_predictions.columns = ['Number of Hours', 'Predicted Hours']"
   ]
  },
  {
   "cell_type": "code",
   "execution_count": null,
   "metadata": {},
   "outputs": [],
   "source": [
    "ther_predictions['Hours per Provider'] = ther_predictions['Number of Hours'] / num_therapists"
   ]
  },
  {
   "cell_type": "code",
   "execution_count": null,
   "metadata": {},
   "outputs": [],
   "source": [
    "avg_hours_per_therapist = ther_predictions['Hours per Provider'].mean()"
   ]
  },
  {
   "cell_type": "code",
   "execution_count": null,
   "metadata": {},
   "outputs": [],
   "source": [
    "ther_predictions['Predicted # of Providers'] = np.ceil(ther_predictions['Predicted Hours'] / avg_hours_per_therapist)"
   ]
  },
  {
   "cell_type": "code",
   "execution_count": null,
   "metadata": {},
   "outputs": [],
   "source": [
    "# ther_predictions"
   ]
  },
  {
   "cell_type": "code",
   "execution_count": null,
   "metadata": {},
   "outputs": [],
   "source": [
    "def ARIMAX_forecast_df_to_csv(prediction_df, num_providers, file_name):\n",
    "    \"\"\"Save ARIMAX predictions to csv file\n",
    "    prediction_df: forecast output with datetime index, raw data column, predicted hours column\n",
    "    num_providers: pandas series w/ corresponding datetime index and number of providers\n",
    "    filename: name for output file\n",
    "    \"\"\"\n",
    "    prediction_df.columns = ['Number of Hours', 'Predicted Hours']\n",
    "    prediction_df['Hours per Provider'] = prediction_df['Number of Hours'] / num_providers\n",
    "    avg_hours_per_provider = prediction_df['Hours per Provider'].mean()\n",
    "    prediction_df['Predicted # of Providers'] = np.ceil(prediction_df['Predicted Hours'] / avg_hours_per_provider)\n",
    "    prediction_df.to_csv('{}_ARIMAX_predictions.csv'.format(file_name))"
   ]
  },
  {
   "cell_type": "code",
   "execution_count": null,
   "metadata": {},
   "outputs": [],
   "source": []
  },
  {
   "cell_type": "code",
   "execution_count": null,
   "metadata": {
    "scrolled": false
   },
   "outputs": [],
   "source": [
    "params = {'figure.figsize': [12,6],'axes.grid.axis': 'both', 'axes.grid': True, 'axes.labelsize': 'Medium', 'font.size': 12.0, \\\n",
    "'lines.linewidth': 2}\n",
    "plot_ARIMAX_model(data=therapist_hours, order=therapist_order, exog_var=num_therapists, params=params, start=start_date,\\\n",
    "                 end=end_pred)"
   ]
  },
  {
   "cell_type": "code",
   "execution_count": null,
   "metadata": {},
   "outputs": [],
   "source": [
    "# plot acf/pacf of RN/PA ARIMAX residuals\n",
    "params = {'figure.figsize': [8,4],'axes.grid.axis': 'both', 'axes.grid': True, 'axes.labelsize': 'Medium', 'font.size': 12.0, \\\n",
    "'lines.linewidth': 2}\n",
    "plot_partial_autocorrelation(series=therapist_residuals, params=params, lags=30, alpha=0.05, title='PACF {}'.format('Therapist ARIMAX residuals'))\n",
    "plot_autocorrelation(series=therapist_residuals, params=params, lags=30, alpha=0.05, title='ACF {}'.format('Therapist ARIMAX residuals'))"
   ]
  },
  {
   "cell_type": "markdown",
   "metadata": {},
   "source": [
    "#### import hours per provider dataframes and split into training and test data"
   ]
  },
  {
   "cell_type": "code",
   "execution_count": null,
   "metadata": {},
   "outputs": [],
   "source": [
    "dr_df = pd.read_csv('doctors_hours_per_provider.csv', index_col=0)\n",
    "RNPA_df = pd.read_csv('RNPA_hours_per_provider.csv', index_col=0)\n",
    "ther_df = pd.read_csv('therapists_hours_per_provider.csv', index_col=0)"
   ]
  },
  {
   "cell_type": "code",
   "execution_count": null,
   "metadata": {},
   "outputs": [],
   "source": [
    "train_start = '2015-01-12'\n",
    "train_end = '2018-02-26'\n",
    "test_start = '2018-03-05'"
   ]
  },
  {
   "cell_type": "code",
   "execution_count": null,
   "metadata": {},
   "outputs": [],
   "source": [
    "dr_train = dr_df.loc[train_start:train_end]\n",
    "dr_test = dr_df.loc[test_start:]"
   ]
  },
  {
   "cell_type": "code",
   "execution_count": null,
   "metadata": {},
   "outputs": [],
   "source": [
    "RNPA_train = RNPA_df.loc[train_start:train_end]\n",
    "RNPA_test = RNPA_df.loc[test_start:]"
   ]
  },
  {
   "cell_type": "code",
   "execution_count": null,
   "metadata": {},
   "outputs": [],
   "source": [
    "ther_train = ther_df.loc[train_start:train_end]\n",
    "ther_test = ther_df.loc[test_start:]"
   ]
  },
  {
   "cell_type": "markdown",
   "metadata": {},
   "source": [
    "#### get MSE (train and test data) for each category to compare with other models"
   ]
  },
  {
   "cell_type": "code",
   "execution_count": null,
   "metadata": {},
   "outputs": [],
   "source": [
    "train_dfs = [dr_train, RNPA_train, ther_train]\n",
    "test_dfs = [dr_test, RNPA_test, ther_test]\n",
    "orders = [(5,1,0), (4,1,0), (4,1,0)]\n",
    "endog_col = 'Hours'\n",
    "exog_col = 'Number_Providers'\n",
    "names = ['Doctors', 'RN/PAs', 'Therapists']\n",
    "test_start='2018-03-05'\n",
    "train_start = '2015-01-12'\n",
    "train_end = '2018-02-26'"
   ]
  },
  {
   "cell_type": "code",
   "execution_count": null,
   "metadata": {
    "scrolled": false
   },
   "outputs": [],
   "source": [
    "# get train/test predictions and MSE for all 3 categories\n",
    "train_mse = []\n",
    "test_mse = []\n",
    "category = []\n",
    "# full_dfs = []\n",
    "for i in range(len(train_dfs)):\n",
    "    forecast, full_df = get_ARIMAX_train_test_predictions(training_data=train_dfs[i][endog_col],\\\n",
    "            test_data=test_dfs[i][endog_col], order=orders[i], start='2015-01-19',\\\n",
    "            end='2018-04-30', exog=train_dfs[i][exog_col], typ='levels')\n",
    "    train_error, test_error = get_ARIMAX_train_test_MSE(full_df, data_col='data', pred_col='forecast',\\\n",
    "                        train_end='2018-02-26', test_start='2018-03-05', data_name=names[i])   \n",
    "    train_mse.append('training set: {}'.format(train_error))\n",
    "    test_mse.append('test set: {}'.format(test_error))\n",
    "    category.append('{} MSE'.format(names[i]))\n",
    "mse = zip(train_mse, test_mse)\n",
    "print(list(zip(category,mse)))"
   ]
  },
  {
   "cell_type": "code",
   "execution_count": null,
   "metadata": {},
   "outputs": [],
   "source": []
  },
  {
   "cell_type": "code",
   "execution_count": null,
   "metadata": {},
   "outputs": [],
   "source": []
  },
  {
   "cell_type": "code",
   "execution_count": null,
   "metadata": {},
   "outputs": [],
   "source": []
  }
 ],
 "metadata": {
  "kernelspec": {
   "display_name": "Python 3",
   "language": "python",
   "name": "python3"
  },
  "language_info": {
   "codemirror_mode": {
    "name": "ipython",
    "version": 3
   },
   "file_extension": ".py",
   "mimetype": "text/x-python",
   "name": "python",
   "nbconvert_exporter": "python",
   "pygments_lexer": "ipython3",
   "version": "3.6.5"
  }
 },
 "nbformat": 4,
 "nbformat_minor": 2
}
